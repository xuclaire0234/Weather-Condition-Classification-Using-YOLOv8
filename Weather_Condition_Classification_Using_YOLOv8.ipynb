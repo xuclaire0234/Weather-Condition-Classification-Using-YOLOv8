{
  "cells": [
    {
      "cell_type": "markdown",
      "metadata": {},
      "source": [
        "# Weather Condition Classification Using YOLOv8\n",
        "\n",
        "### 1. Introduction\n",
        "This project involves building a weather condition classification model using a pre-trained YOLOv8 network and a custom image dataset. The goal is to classify images into categories such as \"snowy,\" \"rainy,\" and \"foggy\" by leveraging YOLOv8's lightweight and efficient architecture.\n",
        "\n",
        "---\n",
        "\n",
        "### 2. Dataset Preparation\n",
        "\n",
        "#### Dataset Organization\n",
        "The dataset is structured into three subsets: training, validation, and testing. The split ratios are:\n",
        "- **Training:** 50%\n",
        "- **Validation:** 30%\n",
        "- **Testing:** 20%\n",
        "\n",
        "Each subset is organized into subdirectories corresponding to their respective categories.\n",
        "\n",
        "#### Process Overview\n",
        "- **Data Extraction:** Extract image files from the root directory.\n",
        "- **Splitting:** Divide the data into training, validation, and testing sets using `train_test_split`.\n",
        "- **File Organization:** Copy images into their respective subdirectories for seamless integration with YOLO's training pipeline.\n"
      ]
    },
    {
      "cell_type": "code",
      "execution_count": null,
      "metadata": {
        "id": "tmJo-chym_wl"
      },
      "outputs": [],
      "source": [
        "# # Reqirements:\n",
        "# ultralytics==8.0.58\n",
        "# numpy==1.24.2\n",
        "# pandas\n",
        "# matplotlib"
      ]
    },
    {
      "cell_type": "code",
      "execution_count": null,
      "metadata": {
        "colab": {
          "base_uri": "https://localhost:8080/"
        },
        "id": "CMPpVTDr8y_P",
        "outputId": "745fb16e-646f-4ab3-b606-aa94722f278b"
      },
      "outputs": [
        {
          "name": "stdout",
          "output_type": "stream",
          "text": [
            "Mounted at /content/gdrive\n"
          ]
        }
      ],
      "source": [
        "from google.colab import drive\n",
        "drive.mount('/content/gdrive')"
      ]
    },
    {
      "cell_type": "code",
      "execution_count": null,
      "metadata": {
        "id": "yGTbQqdyDhbw"
      },
      "outputs": [],
      "source": [
        "# !wget https://data.mendeley.com/public-files/datasets/4drtyfjtfy/files/a03e6097-f7fb-4e1a-9c6a-8923c6a0d3e0/file_downloaded"
      ]
    },
    {
      "cell_type": "code",
      "execution_count": null,
      "metadata": {
        "colab": {
          "base_uri": "https://localhost:8080/"
        },
        "id": "mT5KDjh_GWkN",
        "outputId": "9f7085b6-ee1a-49c4-c9fd-de1ec85e65bf"
      },
      "outputs": [
        {
          "name": "stdout",
          "output_type": "stream",
          "text": [
            "\u001b[1;30;43mStreaming output truncated to the last 5000 lines.\u001b[0m\n",
            "  inflating: data/sunny/s029.jpg     \n",
            "  inflating: data/sunny/s0290.jpg    \n",
            "  inflating: data/sunny/s0291.jpg    \n",
            "  inflating: data/sunny/s0292.jpg    \n",
            "  inflating: data/sunny/s0293.jpg    \n",
            "  inflating: data/sunny/s0294.jpg    \n",
            "  inflating: data/sunny/s0295.jpg    \n",
            "  inflating: data/sunny/s0296.jpg    \n",
            "  inflating: data/sunny/s0297.jpg    \n",
            "  inflating: data/sunny/s0298.jpg    \n",
            "  inflating: data/sunny/s0299.jpg    \n",
            "  inflating: data/sunny/s030.jpg     \n",
            "  inflating: data/sunny/s0300.jpg    \n",
            "  inflating: data/sunny/s0301.jpg    \n",
            "  inflating: data/sunny/s0302.jpg    \n",
            "  inflating: data/sunny/s0303.jpg    \n",
            "  inflating: data/sunny/s0304.jpg    \n",
            "  inflating: data/sunny/s0305.jpg    \n",
            "  inflating: data/sunny/s0306.jpg    \n",
            "  inflating: data/sunny/s0307.jpg    \n",
            "  inflating: data/sunny/s0308.jpg    \n",
            "  inflating: data/sunny/s0309.jpg    \n",
            "  inflating: data/sunny/s031.jpg     \n",
            "  inflating: data/sunny/s0310.jpg    \n",
            "  inflating: data/sunny/s0311.jpg    \n",
            "  inflating: data/sunny/s0312.jpg    \n",
            "  inflating: data/sunny/s0313.jpg    \n",
            "  inflating: data/sunny/s0314.jpg    \n",
            "  inflating: data/sunny/s0315.jpg    \n",
            "  inflating: data/sunny/s0316.jpg    \n",
            "  inflating: data/sunny/s0317.jpg    \n",
            "  inflating: data/sunny/s0318.jpg    \n",
            "  inflating: data/sunny/s0319.jpg    \n",
            "  inflating: data/sunny/s032.jpg     \n",
            "  inflating: data/sunny/s0320.jpg    \n",
            "  inflating: data/sunny/s0321.jpg    \n",
            "  inflating: data/sunny/s0322.jpg    \n",
            "  inflating: data/sunny/s0323.jpg    \n",
            "  inflating: data/sunny/s0324.jpg    \n",
            "  inflating: data/sunny/s0325.jpg    \n",
            "  inflating: data/sunny/s0326.jpg    \n",
            "  inflating: data/sunny/s0327.jpg    \n",
            "  inflating: data/sunny/s0328.jpg    \n",
            "  inflating: data/sunny/s0329.jpg    \n",
            "  inflating: data/sunny/s033.jpg     \n",
            "  inflating: data/sunny/s0330.jpg    \n",
            "  inflating: data/sunny/s0331.jpg    \n",
            "  inflating: data/sunny/s0332.jpg    \n",
            "  inflating: data/sunny/s0333.jpg    \n",
            "  inflating: data/sunny/s0334.jpg    \n",
            "  inflating: data/sunny/s0335.jpg    \n",
            "  inflating: data/sunny/s0336.jpg    \n",
            "  inflating: data/sunny/s0337.jpg    \n",
            "  inflating: data/sunny/s0338.jpg    \n",
            "  inflating: data/sunny/s0339.jpg    \n",
            "  inflating: data/sunny/s034.jpg     \n",
            "  inflating: data/sunny/s0340.jpg    \n",
            "  inflating: data/sunny/s0341.jpg    \n",
            "  inflating: data/sunny/s0342.jpg    \n",
            "  inflating: data/sunny/s0343.jpg    \n",
            "  inflating: data/sunny/s0344.jpg    \n",
            "  inflating: data/sunny/s0345.jpg    \n",
            "  inflating: data/sunny/s0346.jpg    \n",
            "  inflating: data/sunny/s0347.jpg    \n",
            "  inflating: data/sunny/s0348.jpg    \n",
            "  inflating: data/sunny/s0349.jpg    \n",
            "  inflating: data/sunny/s035.jpg     \n",
            "  inflating: data/sunny/s0350.jpg    \n",
            "  inflating: data/sunny/s0351.jpg    \n",
            "  inflating: data/sunny/s0352.jpg    \n",
            "  inflating: data/sunny/s0353.jpg    \n",
            "  inflating: data/sunny/s0354.jpg    \n",
            "  inflating: data/sunny/s0355.jpg    \n",
            "  inflating: data/sunny/s0356.jpg    \n",
            "  inflating: data/sunny/s0357.jpg    \n",
            "  inflating: data/sunny/s0358.jpg    \n",
            "  inflating: data/sunny/s0359.jpg    \n",
            "  inflating: data/sunny/s036.jpg     \n",
            "  inflating: data/sunny/s0360.jpg    \n",
            "  inflating: data/sunny/s0361.jpg    \n",
            "  inflating: data/sunny/s0362.jpg    \n",
            "  inflating: data/sunny/s0363.jpg    \n",
            "  inflating: data/sunny/s0364.jpg    \n",
            "  inflating: data/sunny/s0365.jpg    \n",
            "  inflating: data/sunny/s0366.jpg    \n",
            "  inflating: data/sunny/s0367.jpg    \n",
            "  inflating: data/sunny/s0368.jpg    \n",
            "  inflating: data/sunny/s0369.jpg    \n",
            "  inflating: data/sunny/s0370.jpg    \n",
            "  inflating: data/sunny/s0371.jpg    \n",
            "  inflating: data/sunny/s0372.jpg    \n",
            "  inflating: data/sunny/s0373.jpg    \n",
            "  inflating: data/sunny/s0374.jpg    \n",
            "  inflating: data/sunny/s0375.jpg    \n",
            "  inflating: data/sunny/s0376.jpg    \n",
            "  inflating: data/sunny/s0377.jpg    \n",
            "  inflating: data/sunny/s0378.jpg    \n",
            "  inflating: data/sunny/s0379.jpg    \n",
            "  inflating: data/sunny/s038.jpg     \n",
            "  inflating: data/sunny/s0380.jpg    \n",
            "  inflating: data/sunny/s0381.jpg    \n",
            "  inflating: data/sunny/s0382.jpg    \n",
            "  inflating: data/sunny/s0383.jpg    \n",
            "  inflating: data/sunny/s0384.jpg    \n",
            "  inflating: data/sunny/s0385.jpg    \n",
            "  inflating: data/sunny/s0386.jpg    \n",
            "  inflating: data/sunny/s0387.jpg    \n",
            "  inflating: data/sunny/s0388.jpg    \n",
            "  inflating: data/sunny/s0389.jpg    \n",
            "  inflating: data/sunny/s039.jpg     \n",
            "  inflating: data/sunny/s0390.jpg    \n",
            "  inflating: data/sunny/s0391.jpg    \n",
            "  inflating: data/sunny/s0392.jpg    \n",
            "  inflating: data/sunny/s0393.jpg    \n",
            "  inflating: data/sunny/s0394.jpg    \n",
            "  inflating: data/sunny/s0395.jpg    \n",
            "  inflating: data/sunny/s0396.jpg    \n",
            "  inflating: data/sunny/s0397.jpg    \n",
            "  inflating: data/sunny/s0398.jpg    \n",
            "  inflating: data/sunny/s0399.jpg    \n",
            "  inflating: data/sunny/s040.jpg     \n",
            "  inflating: data/sunny/s0400.jpg    \n",
            "  inflating: data/sunny/s0401.jpg    \n",
            "  inflating: data/sunny/s0402.jpg    \n",
            "  inflating: data/sunny/s0403.jpg    \n",
            "  inflating: data/sunny/s0404.jpg    \n",
            "  inflating: data/sunny/s0405.jpg    \n",
            "  inflating: data/sunny/s0406.jpg    \n",
            "  inflating: data/sunny/s0407.jpg    \n",
            "  inflating: data/sunny/s0408.jpg    \n",
            "  inflating: data/sunny/s0409.jpg    \n",
            "  inflating: data/sunny/s041.jpg     \n",
            "  inflating: data/sunny/s0410.jpg    \n",
            "  inflating: data/sunny/s0411.jpg    \n",
            "  inflating: data/sunny/s0412.jpg    \n",
            "  inflating: data/sunny/s0413.jpg    \n",
            "  inflating: data/sunny/s0414.jpg    \n",
            "  inflating: data/sunny/s0415.jpg    \n",
            "  inflating: data/sunny/s0416.jpg    \n",
            "  inflating: data/sunny/s0417.jpg    \n",
            "  inflating: data/sunny/s0418.jpg    \n",
            "  inflating: data/sunny/s0419.jpg    \n",
            "  inflating: data/sunny/s042.jpg     \n",
            "  inflating: data/sunny/s0420.jpg    \n",
            "  inflating: data/sunny/s0421.jpg    \n",
            "  inflating: data/sunny/s0422.jpg    \n",
            "  inflating: data/sunny/s0423.jpg    \n",
            "  inflating: data/sunny/s0424.jpg    \n",
            "  inflating: data/sunny/s0425.jpg    \n",
            "  inflating: data/sunny/s0426.jpg    \n",
            "  inflating: data/sunny/s0427.jpg    \n",
            "  inflating: data/sunny/s0428.jpg    \n",
            "  inflating: data/sunny/s0429.jpg    \n",
            "  inflating: data/sunny/s043.jpg     \n",
            "  inflating: data/sunny/s0430.jpg    \n",
            "  inflating: data/sunny/s0431.jpg    \n",
            "  inflating: data/sunny/s0432.jpg    \n",
            "  inflating: data/sunny/s0433.jpg    \n",
            "  inflating: data/sunny/s0434.jpg    \n",
            "  inflating: data/sunny/s0435.jpg    \n",
            "  inflating: data/sunny/s0436.jpg    \n",
            "  inflating: data/sunny/s0437.jpg    \n",
            "  inflating: data/sunny/s0438.jpg    \n",
            "  inflating: data/sunny/s0439.jpg    \n",
            "  inflating: data/sunny/s044.jpg     \n",
            "  inflating: data/sunny/s0440.jpg    \n",
            "  inflating: data/sunny/s0441.jpg    \n",
            "  inflating: data/sunny/s0442.jpg    \n",
            "  inflating: data/sunny/s0443.jpg    \n",
            "  inflating: data/sunny/s0444.jpg    \n",
            "  inflating: data/sunny/s0445.jpg    \n",
            "  inflating: data/sunny/s0446.jpg    \n",
            "  inflating: data/sunny/s0447.jpg    \n",
            "  inflating: data/sunny/s0448.jpg    \n",
            "  inflating: data/sunny/s0449.jpg    \n",
            "  inflating: data/sunny/s045.jpg     \n",
            "  inflating: data/sunny/s0450.jpg    \n",
            "  inflating: data/sunny/s0451.jpg    \n",
            "  inflating: data/sunny/s0452.jpg    \n",
            "  inflating: data/sunny/s0453.jpg    \n",
            "  inflating: data/sunny/s0454.jpg    \n",
            "  inflating: data/sunny/s0455.jpg    \n",
            "  inflating: data/sunny/s0456.jpg    \n",
            "  inflating: data/sunny/s0457.jpg    \n",
            "  inflating: data/sunny/s0458.jpg    \n",
            "  inflating: data/sunny/s0459.jpg    \n",
            "  inflating: data/sunny/s046.jpg     \n",
            "  inflating: data/sunny/s0460.jpg    \n",
            "  inflating: data/sunny/s0461.jpg    \n",
            "  inflating: data/sunny/s0462.jpg    \n",
            "  inflating: data/sunny/s0463.jpg    \n",
            "  inflating: data/sunny/s0464.jpg    \n",
            "  inflating: data/sunny/s0465.jpg    \n",
            "  inflating: data/sunny/s0466.jpg    \n",
            "  inflating: data/sunny/s0467.jpg    \n",
            "  inflating: data/sunny/s0468.jpg    \n",
            "  inflating: data/sunny/s0469.jpg    \n",
            "  inflating: data/sunny/s047.jpg     \n",
            "  inflating: data/sunny/s0470.jpg    \n",
            "  inflating: data/sunny/s0472.jpg    \n",
            "  inflating: data/sunny/s0473.jpg    \n",
            "  inflating: data/sunny/s0474.jpg    \n",
            "  inflating: data/sunny/s0475.jpg    \n",
            "  inflating: data/sunny/s0476.jpg    \n",
            "  inflating: data/sunny/s0477.jpg    \n",
            "  inflating: data/sunny/s0478.jpg    \n",
            "  inflating: data/sunny/s0479.jpg    \n",
            "  inflating: data/sunny/s048.jpg     \n",
            "  inflating: data/sunny/s0480.jpg    \n",
            "  inflating: data/sunny/s0481.jpg    \n",
            "  inflating: data/sunny/s0482.jpg    \n",
            "  inflating: data/sunny/s0483.jpg    \n",
            "  inflating: data/sunny/s0484.jpg    \n",
            "  inflating: data/sunny/s0485.jpg    \n",
            "  inflating: data/sunny/s0486.jpg    \n",
            "  inflating: data/sunny/s0487.jpg    \n",
            "  inflating: data/sunny/s0488.jpg    \n",
            "  inflating: data/sunny/s0489.jpg    \n",
            "  inflating: data/sunny/s049.jpg     \n",
            "  inflating: data/sunny/s0490.jpg    \n",
            "  inflating: data/sunny/s0491.jpg    \n",
            "  inflating: data/sunny/s0492.jpg    \n",
            "  inflating: data/sunny/s0493.jpg    \n",
            "  inflating: data/sunny/s0494.jpg    \n",
            "  inflating: data/sunny/s0495.jpg    \n",
            "  inflating: data/sunny/s0496.jpg    \n",
            "  inflating: data/sunny/s0497.jpg    \n",
            "  inflating: data/sunny/s0498.jpg    \n",
            "  inflating: data/sunny/s0499.jpg    \n",
            "  inflating: data/sunny/s050.jpg     \n",
            "  inflating: data/sunny/s0500.jpg    \n",
            "  inflating: data/sunny/s0501.jpg    \n",
            "  inflating: data/sunny/s0502.jpg    \n",
            "  inflating: data/sunny/s0503.jpg    \n",
            "  inflating: data/sunny/s0504.jpg    \n",
            "  inflating: data/sunny/s0505.jpg    \n",
            "  inflating: data/sunny/s0506.jpg    \n",
            "  inflating: data/sunny/s0507.jpg    \n",
            "  inflating: data/sunny/s0508.jpg    \n",
            "  inflating: data/sunny/s0509.jpg    \n",
            "  inflating: data/sunny/s051.jpg     \n",
            "  inflating: data/sunny/s0510.jpg    \n",
            "  inflating: data/sunny/s0511.jpg    \n",
            "  inflating: data/sunny/s0512.jpg    \n",
            "  inflating: data/sunny/s0513.jpg    \n",
            "  inflating: data/sunny/s0514.jpg    \n",
            "  inflating: data/sunny/s0515.jpg    \n",
            "  inflating: data/sunny/s0516.jpg    \n",
            "  inflating: data/sunny/s0517.jpg    \n",
            "  inflating: data/sunny/s0518.jpg    \n",
            "  inflating: data/sunny/s0519.jpg    \n",
            "  inflating: data/sunny/s052.jpg     \n",
            "  inflating: data/sunny/s0520.jpg    \n",
            "  inflating: data/sunny/s0521.jpg    \n",
            "  inflating: data/sunny/s0522.jpg    \n",
            "  inflating: data/sunny/s0523.jpg    \n",
            "  inflating: data/sunny/s0524.jpg    \n",
            "  inflating: data/sunny/s0525.jpg    \n",
            "  inflating: data/sunny/s0526.jpg    \n",
            "  inflating: data/sunny/s0527.jpg    \n",
            "  inflating: data/sunny/s0528.jpg    \n",
            "  inflating: data/sunny/s0529.jpg    \n",
            "  inflating: data/sunny/s053.jpg     \n",
            "  inflating: data/sunny/s0530.jpg    \n",
            "  inflating: data/sunny/s0532.jpg    \n",
            "  inflating: data/sunny/s0533.jpg    \n",
            "  inflating: data/sunny/s0534.jpg    \n",
            "  inflating: data/sunny/s0535.jpg    \n",
            "  inflating: data/sunny/s0536.jpg    \n",
            "  inflating: data/sunny/s0537.jpg    \n",
            "  inflating: data/sunny/s0538.jpg    \n",
            "  inflating: data/sunny/s0539.jpg    \n",
            "  inflating: data/sunny/s054.jpg     \n",
            "  inflating: data/sunny/s0540.jpg    \n",
            "  inflating: data/sunny/s0541.jpg    \n",
            "  inflating: data/sunny/s0542.jpg    \n",
            "  inflating: data/sunny/s0543.jpg    \n",
            "  inflating: data/sunny/s0544.jpg    \n",
            "  inflating: data/sunny/s0545.jpg    \n",
            "  inflating: data/sunny/s0546.jpg    \n",
            "  inflating: data/sunny/s0547.jpg    \n",
            "  inflating: data/sunny/s0548.jpg    \n",
            "  inflating: data/sunny/s0549.jpg    \n",
            "  inflating: data/sunny/s055.jpg     \n",
            "  inflating: data/sunny/s0550.jpg    \n",
            "  inflating: data/sunny/s0551.jpg    \n",
            "  inflating: data/sunny/s0552.jpg    \n",
            "  inflating: data/sunny/s0553.jpg    \n",
            "  inflating: data/sunny/s0554.jpg    \n",
            "  inflating: data/sunny/s0555.jpg    \n",
            "  inflating: data/sunny/s0556.jpg    \n",
            "  inflating: data/sunny/s0557.jpg    \n",
            "  inflating: data/sunny/s0558.jpg    \n",
            "  inflating: data/sunny/s0559.jpg    \n",
            "  inflating: data/sunny/s056.jpg     \n",
            "  inflating: data/sunny/s0560.jpg    \n",
            "  inflating: data/sunny/s0561.jpg    \n",
            "  inflating: data/sunny/s0562.jpg    \n",
            "  inflating: data/sunny/s0563.jpg    \n",
            "  inflating: data/sunny/s0564.jpg    \n",
            "  inflating: data/sunny/s0565.jpg    \n",
            "  inflating: data/sunny/s0566.jpg    \n",
            "  inflating: data/sunny/s0567.jpg    \n",
            "  inflating: data/sunny/s0568.jpg    \n",
            "  inflating: data/sunny/s0569.jpg    \n",
            "  inflating: data/sunny/s057.jpg     \n",
            "  inflating: data/sunny/s0570.jpg    \n",
            "  inflating: data/sunny/s0571.jpg    \n",
            "  inflating: data/sunny/s0572.jpg    \n",
            "  inflating: data/sunny/s0573.jpg    \n",
            "  inflating: data/sunny/s0574.jpg    \n",
            "  inflating: data/sunny/s0575.jpg    \n",
            "  inflating: data/sunny/s0576.jpg    \n",
            "  inflating: data/sunny/s0577.jpg    \n",
            "  inflating: data/sunny/s0578.jpg    \n",
            "  inflating: data/sunny/s0579.jpg    \n",
            "  inflating: data/sunny/s058.jpg     \n",
            "  inflating: data/sunny/s0580.jpg    \n",
            "  inflating: data/sunny/s0581.jpg    \n",
            "  inflating: data/sunny/s0582.jpg    \n",
            "  inflating: data/sunny/s0583.jpg    \n",
            "  inflating: data/sunny/s0584.jpg    \n",
            "  inflating: data/sunny/s0585.jpg    \n",
            "  inflating: data/sunny/s0586.jpg    \n",
            "  inflating: data/sunny/s0587.jpg    \n",
            "  inflating: data/sunny/s0588.jpg    \n",
            "  inflating: data/sunny/s0589.jpg    \n",
            "  inflating: data/sunny/s059.jpg     \n",
            "  inflating: data/sunny/s0590.jpg    \n",
            "  inflating: data/sunny/s0591.jpg    \n",
            "  inflating: data/sunny/s0592.jpg    \n",
            "  inflating: data/sunny/s0593.jpg    \n",
            "  inflating: data/sunny/s0594.jpg    \n",
            "  inflating: data/sunny/s0595.jpg    \n",
            "  inflating: data/sunny/s0596.jpg    \n",
            "  inflating: data/sunny/s0597.jpg    \n",
            "  inflating: data/sunny/s0598.jpg    \n",
            "  inflating: data/sunny/s0599.jpg    \n",
            "  inflating: data/sunny/s060.jpg     \n",
            "  inflating: data/sunny/s0600.jpg    \n",
            "  inflating: data/sunny/s0601.jpg    \n",
            "  inflating: data/sunny/s0602.jpg    \n",
            "  inflating: data/sunny/s0603.jpg    \n",
            "  inflating: data/sunny/s0604.jpg    \n",
            "  inflating: data/sunny/s0605.jpg    \n",
            "  inflating: data/sunny/s0606.jpg    \n",
            "  inflating: data/sunny/s0607.jpg    \n",
            "  inflating: data/sunny/s0608.jpg    \n",
            "  inflating: data/sunny/s0609.jpg    \n",
            "  inflating: data/sunny/s061.jpg     \n",
            "  inflating: data/sunny/s0610.jpg    \n",
            "  inflating: data/sunny/s0611.jpg    \n",
            "  inflating: data/sunny/s0612.jpg    \n",
            "  inflating: data/sunny/s0613.jpg    \n",
            "  inflating: data/sunny/s0614.jpg    \n",
            "  inflating: data/sunny/s0615.jpg    \n",
            "  inflating: data/sunny/s0616.jpg    \n",
            "  inflating: data/sunny/s0617.jpg    \n",
            "  inflating: data/sunny/s0618.jpg    \n",
            "  inflating: data/sunny/s0619.jpg    \n",
            "  inflating: data/sunny/s062.jpg     \n",
            "  inflating: data/sunny/s0620.jpg    \n",
            "  inflating: data/sunny/s0621.jpg    \n",
            "  inflating: data/sunny/s0622.jpg    \n",
            "  inflating: data/sunny/s0623.jpg    \n",
            "  inflating: data/sunny/s0624.jpg    \n",
            "  inflating: data/sunny/s0625.jpg    \n",
            "  inflating: data/sunny/s0626.jpg    \n",
            "  inflating: data/sunny/s0627.jpg    \n",
            "  inflating: data/sunny/s0628.jpg    \n",
            "  inflating: data/sunny/s0629.jpg    \n",
            "  inflating: data/sunny/s063.jpg     \n",
            "  inflating: data/sunny/s0630.jpg    \n",
            "  inflating: data/sunny/s0631.jpg    \n",
            "  inflating: data/sunny/s0632.jpg    \n",
            "  inflating: data/sunny/s0633.jpg    \n",
            "  inflating: data/sunny/s0634.jpg    \n",
            "  inflating: data/sunny/s0635.jpg    \n",
            "  inflating: data/sunny/s0636.jpg    \n",
            "  inflating: data/sunny/s0637.jpg    \n",
            "  inflating: data/sunny/s0638.jpg    \n",
            "  inflating: data/sunny/s0639.jpg    \n",
            "  inflating: data/sunny/s064.jpg     \n",
            "  inflating: data/sunny/s0641.jpg    \n",
            "  inflating: data/sunny/s0642.jpg    \n",
            "  inflating: data/sunny/s0643.jpg    \n",
            "  inflating: data/sunny/s0644.jpg    \n",
            "  inflating: data/sunny/s0645.jpg    \n",
            "  inflating: data/sunny/s0646.jpg    \n",
            "  inflating: data/sunny/s0647.jpg    \n",
            "  inflating: data/sunny/s0649.jpg    \n",
            "  inflating: data/sunny/s065.jpg     \n",
            "  inflating: data/sunny/s0651.jpg    \n",
            "  inflating: data/sunny/s0652.jpg    \n",
            "  inflating: data/sunny/s0653.jpg    \n",
            "  inflating: data/sunny/s0654.jpg    \n",
            "  inflating: data/sunny/s0655.jpg    \n",
            "  inflating: data/sunny/s0656.jpg    \n",
            "  inflating: data/sunny/s0657.jpg    \n",
            "  inflating: data/sunny/s0658.jpg    \n",
            "  inflating: data/sunny/s0659.jpg    \n",
            "  inflating: data/sunny/s066.jpg     \n",
            "  inflating: data/sunny/s0660.jpg    \n",
            "  inflating: data/sunny/s0661.jpg    \n",
            "  inflating: data/sunny/s0662.jpg    \n",
            "  inflating: data/sunny/s0663.jpg    \n",
            "  inflating: data/sunny/s0664.jpg    \n",
            "  inflating: data/sunny/s0665.jpg    \n",
            "  inflating: data/sunny/s0666.jpg    \n",
            "  inflating: data/sunny/s0667.jpg    \n",
            "  inflating: data/sunny/s0668.jpg    \n",
            "  inflating: data/sunny/s0669.jpg    \n",
            "  inflating: data/sunny/s067.jpg     \n",
            "  inflating: data/sunny/s0670.jpg    \n",
            "  inflating: data/sunny/s0671.jpg    \n",
            "  inflating: data/sunny/s0672.jpg    \n",
            "  inflating: data/sunny/s0673.jpg    \n",
            "  inflating: data/sunny/s0674.jpg    \n",
            "  inflating: data/sunny/s0675.jpg    \n",
            "  inflating: data/sunny/s0676.jpg    \n",
            "  inflating: data/sunny/s0677.jpg    \n",
            "  inflating: data/sunny/s0678.jpg    \n",
            "  inflating: data/sunny/s0679.jpg    \n",
            "  inflating: data/sunny/s068.jpg     \n",
            "  inflating: data/sunny/s0680.jpg    \n",
            "  inflating: data/sunny/s0681.jpg    \n",
            "  inflating: data/sunny/s0682.jpg    \n",
            "  inflating: data/sunny/s0683.jpg    \n",
            "  inflating: data/sunny/s0684.jpg    \n",
            "  inflating: data/sunny/s0685.jpg    \n",
            "  inflating: data/sunny/s0686.jpg    \n",
            "  inflating: data/sunny/s0687.jpg    \n",
            "  inflating: data/sunny/s0688.jpg    \n",
            "  inflating: data/sunny/s0689.jpg    \n",
            "  inflating: data/sunny/s069.jpg     \n",
            "  inflating: data/sunny/s0690.jpg    \n",
            "  inflating: data/sunny/s0691.jpg    \n",
            "  inflating: data/sunny/s0692.jpg    \n",
            "  inflating: data/sunny/s0694.jpg    \n",
            "  inflating: data/sunny/s0695.jpg    \n",
            "  inflating: data/sunny/s0696.jpg    \n",
            "  inflating: data/sunny/s0697.jpg    \n",
            "  inflating: data/sunny/s0698.jpg    \n",
            "  inflating: data/sunny/s0699.jpg    \n",
            "  inflating: data/sunny/s070.jpg     \n",
            "  inflating: data/sunny/s0700.jpg    \n",
            "  inflating: data/sunny/s0701.jpg    \n",
            "  inflating: data/sunny/s0702.jpg    \n",
            "  inflating: data/sunny/s0703.jpg    \n",
            "  inflating: data/sunny/s0705.jpg    \n",
            "  inflating: data/sunny/s0706.jpg    \n",
            "  inflating: data/sunny/s0707.jpg    \n",
            "  inflating: data/sunny/s0708.jpg    \n",
            "  inflating: data/sunny/s0709.jpg    \n",
            "  inflating: data/sunny/s071.jpg     \n",
            "  inflating: data/sunny/s0710.jpg    \n",
            "  inflating: data/sunny/s0711.jpg    \n",
            "  inflating: data/sunny/s0712.jpg    \n",
            "  inflating: data/sunny/s0713.jpg    \n",
            "  inflating: data/sunny/s0714.jpg    \n",
            "  inflating: data/sunny/s0716.jpg    \n",
            "  inflating: data/sunny/s0717.jpg    \n",
            "  inflating: data/sunny/s0718.jpg    \n",
            "  inflating: data/sunny/s0719.jpg    \n",
            "  inflating: data/sunny/s072.jpg     \n",
            "  inflating: data/sunny/s0720.jpg    \n",
            "  inflating: data/sunny/s0721.jpg    \n",
            "  inflating: data/sunny/s0722.jpg    \n",
            "  inflating: data/sunny/s0723.jpg    \n",
            "  inflating: data/sunny/s0724.jpg    \n",
            "  inflating: data/sunny/s0725.jpg    \n",
            "  inflating: data/sunny/s0726.jpg    \n",
            "  inflating: data/sunny/s0727.jpg    \n",
            "  inflating: data/sunny/s0728.jpg    \n",
            "  inflating: data/sunny/s0729.jpg    \n",
            "  inflating: data/sunny/s073.jpg     \n",
            "  inflating: data/sunny/s0730.jpg    \n",
            "  inflating: data/sunny/s0731.jpg    \n",
            "  inflating: data/sunny/s0732.jpg    \n",
            "  inflating: data/sunny/s0733.jpg    \n",
            "  inflating: data/sunny/s0734.jpg    \n",
            "  inflating: data/sunny/s0735.jpg    \n",
            "  inflating: data/sunny/s0736.jpg    \n",
            "  inflating: data/sunny/s0737.jpg    \n",
            "  inflating: data/sunny/s0739.jpg    \n",
            "  inflating: data/sunny/s074.jpg     \n",
            "  inflating: data/sunny/s0740.jpg    \n",
            "  inflating: data/sunny/s0741.jpg    \n",
            "  inflating: data/sunny/s0742.jpg    \n",
            "  inflating: data/sunny/s0743.jpg    \n",
            "  inflating: data/sunny/s0744.jpg    \n",
            "  inflating: data/sunny/s0748.jpg    \n",
            "  inflating: data/sunny/s0749.jpg    \n",
            "  inflating: data/sunny/s075.jpg     \n",
            "  inflating: data/sunny/s0750.jpg    \n",
            "  inflating: data/sunny/s0751.jpg    \n",
            "  inflating: data/sunny/s0752.jpg    \n",
            "  inflating: data/sunny/s0753.jpg    \n",
            "  inflating: data/sunny/s0754.jpg    \n",
            "  inflating: data/sunny/s0755.jpg    \n",
            "  inflating: data/sunny/s0756.jpg    \n",
            "  inflating: data/sunny/s0757.jpg    \n",
            "  inflating: data/sunny/s0759.jpg    \n",
            "  inflating: data/sunny/s076.jpg     \n",
            "  inflating: data/sunny/s0760.jpg    \n",
            "  inflating: data/sunny/s0762.jpg    \n",
            "  inflating: data/sunny/s0763.jpg    \n",
            "  inflating: data/sunny/s0764.jpg    \n",
            "  inflating: data/sunny/s0765.jpg    \n",
            "  inflating: data/sunny/s0766.jpg    \n",
            "  inflating: data/sunny/s0767.jpg    \n",
            "  inflating: data/sunny/s0768.jpg    \n",
            "  inflating: data/sunny/s0769.jpg    \n",
            "  inflating: data/sunny/s077.jpg     \n",
            "  inflating: data/sunny/s0770.jpg    \n",
            "  inflating: data/sunny/s0772.jpg    \n",
            "  inflating: data/sunny/s0773.jpg    \n",
            "  inflating: data/sunny/s0774.jpg    \n",
            "  inflating: data/sunny/s0775.jpg    \n",
            "  inflating: data/sunny/s0776.jpg    \n",
            "  inflating: data/sunny/s0777.jpg    \n",
            "  inflating: data/sunny/s0778.jpg    \n",
            "  inflating: data/sunny/s078.jpg     \n",
            "  inflating: data/sunny/s0781.jpg    \n",
            "  inflating: data/sunny/s0782.jpg    \n",
            "  inflating: data/sunny/s0783.jpg    \n",
            "  inflating: data/sunny/s0784.jpg    \n",
            "  inflating: data/sunny/s0785.jpg    \n",
            "  inflating: data/sunny/s0786.jpg    \n",
            "  inflating: data/sunny/s0787.jpg    \n",
            "  inflating: data/sunny/s0788.jpg    \n",
            "  inflating: data/sunny/s0789.jpg    \n",
            "  inflating: data/sunny/s079.jpg     \n",
            "  inflating: data/sunny/s0790.jpg    \n",
            "  inflating: data/sunny/s0791.jpg    \n",
            "  inflating: data/sunny/s0792.jpg    \n",
            "  inflating: data/sunny/s0793.jpg    \n",
            "  inflating: data/sunny/s0794.jpg    \n",
            "  inflating: data/sunny/s0795.jpg    \n",
            "  inflating: data/sunny/s0796.jpg    \n",
            "  inflating: data/sunny/s0797.jpg    \n",
            "  inflating: data/sunny/s0798.jpg    \n",
            "  inflating: data/sunny/s0799.jpg    \n",
            "  inflating: data/sunny/s080.jpg     \n",
            "  inflating: data/sunny/s0800.jpg    \n",
            "  inflating: data/sunny/s0801.jpg    \n",
            "  inflating: data/sunny/s0802.jpg    \n",
            "  inflating: data/sunny/s0803.jpg    \n",
            "  inflating: data/sunny/s0804.jpg    \n",
            "  inflating: data/sunny/s0805.jpg    \n",
            "  inflating: data/sunny/s0806.jpg    \n",
            "  inflating: data/sunny/s0807.jpg    \n",
            "  inflating: data/sunny/s0808.jpg    \n",
            "  inflating: data/sunny/s0809.jpg    \n",
            "  inflating: data/sunny/s081.jpg     \n",
            "  inflating: data/sunny/s0810.jpg    \n",
            "  inflating: data/sunny/s0811.jpg    \n",
            "  inflating: data/sunny/s0812.jpg    \n",
            "  inflating: data/sunny/s0813.jpg    \n",
            "  inflating: data/sunny/s0814.jpg    \n",
            "  inflating: data/sunny/s0815.jpg    \n",
            "  inflating: data/sunny/s0816.jpg    \n",
            "  inflating: data/sunny/s0817.jpg    \n",
            "  inflating: data/sunny/s0818.jpg    \n",
            "  inflating: data/sunny/s0819.jpg    \n",
            "  inflating: data/sunny/s082.jpg     \n",
            "  inflating: data/sunny/s0820.jpg    \n",
            "  inflating: data/sunny/s0821.jpg    \n",
            "  inflating: data/sunny/s0822.jpg    \n",
            "  inflating: data/sunny/s0823.jpg    \n",
            "  inflating: data/sunny/s0824.jpg    \n",
            "  inflating: data/sunny/s0825.jpg    \n",
            "  inflating: data/sunny/s0826.jpg    \n",
            "  inflating: data/sunny/s0827.jpg    \n",
            "  inflating: data/sunny/s0828.jpg    \n",
            "  inflating: data/sunny/s0829.jpg    \n",
            "  inflating: data/sunny/s083.jpg     \n",
            "  inflating: data/sunny/s0830.jpg    \n",
            "  inflating: data/sunny/s0831.jpg    \n",
            "  inflating: data/sunny/s0832.jpg    \n",
            "  inflating: data/sunny/s0833.jpg    \n",
            "  inflating: data/sunny/s0834.jpg    \n",
            "  inflating: data/sunny/s0835.jpg    \n",
            "  inflating: data/sunny/s0836.jpg    \n",
            "  inflating: data/sunny/s0837.jpg    \n",
            "  inflating: data/sunny/s0838.jpg    \n",
            "  inflating: data/sunny/s0839.jpg    \n",
            "  inflating: data/sunny/s084.jpg     \n",
            "  inflating: data/sunny/s0840.jpg    \n",
            "  inflating: data/sunny/s0841.jpg    \n",
            "  inflating: data/sunny/s0842.jpg    \n",
            "  inflating: data/sunny/s0843.jpg    \n",
            "  inflating: data/sunny/s0844.jpg    \n",
            "  inflating: data/sunny/s0845.jpg    \n",
            "  inflating: data/sunny/s0846.jpg    \n",
            "  inflating: data/sunny/s0847.jpg    \n",
            "  inflating: data/sunny/s0848.jpg    \n",
            "  inflating: data/sunny/s0849.jpg    \n",
            "  inflating: data/sunny/s085.jpg     \n",
            "  inflating: data/sunny/s0850.jpg    \n",
            "  inflating: data/sunny/s0851.jpg    \n",
            "  inflating: data/sunny/s0852.jpg    \n",
            "  inflating: data/sunny/s0853.jpg    \n",
            "  inflating: data/sunny/s0854.jpg    \n",
            "  inflating: data/sunny/s0855.jpg    \n",
            "  inflating: data/sunny/s0856.jpg    \n",
            "  inflating: data/sunny/s0857.jpg    \n",
            "  inflating: data/sunny/s0858.jpg    \n",
            "  inflating: data/sunny/s0859.jpg    \n",
            "  inflating: data/sunny/s086.jpg     \n",
            "  inflating: data/sunny/s0860.jpg    \n",
            "  inflating: data/sunny/s0861.jpg    \n",
            "  inflating: data/sunny/s0862.jpg    \n",
            "  inflating: data/sunny/s0863.jpg    \n",
            "  inflating: data/sunny/s0864.jpg    \n",
            "  inflating: data/sunny/s0865.jpg    \n",
            "  inflating: data/sunny/s0866.jpg    \n",
            "  inflating: data/sunny/s0867.jpg    \n",
            "  inflating: data/sunny/s0868.jpg    \n",
            "  inflating: data/sunny/s0869.jpg    \n",
            "  inflating: data/sunny/s087.jpg     \n",
            "  inflating: data/sunny/s0870.jpg    \n",
            "  inflating: data/sunny/s0871.jpg    \n",
            "  inflating: data/sunny/s0872.jpg    \n",
            "  inflating: data/sunny/s0873.jpg    \n",
            "  inflating: data/sunny/s0874.jpg    \n",
            "  inflating: data/sunny/s0875.jpg    \n",
            "  inflating: data/sunny/s0876.jpg    \n",
            "  inflating: data/sunny/s0877.jpg    \n",
            "  inflating: data/sunny/s0878.jpg    \n",
            "  inflating: data/sunny/s0879.jpg    \n",
            "  inflating: data/sunny/s088.jpg     \n",
            "  inflating: data/sunny/s0880.jpg    \n",
            "  inflating: data/sunny/s0881.jpg    \n",
            "  inflating: data/sunny/s0882.jpg    \n",
            "  inflating: data/sunny/s0883.jpg    \n",
            "  inflating: data/sunny/s0884.jpg    \n",
            "  inflating: data/sunny/s0885.jpg    \n",
            "  inflating: data/sunny/s0886.jpg    \n",
            "  inflating: data/sunny/s0887.jpg    \n",
            "  inflating: data/sunny/s0888.jpg    \n",
            "  inflating: data/sunny/s0889.jpg    \n",
            "  inflating: data/sunny/s089.jpg     \n",
            "  inflating: data/sunny/s0890.jpg    \n",
            "  inflating: data/sunny/s0891.jpg    \n",
            "  inflating: data/sunny/s0892.jpg    \n",
            "  inflating: data/sunny/s0893.jpg    \n",
            "  inflating: data/sunny/s0894.jpg    \n",
            "  inflating: data/sunny/s0895.jpg    \n",
            "  inflating: data/sunny/s0896.jpg    \n",
            "  inflating: data/sunny/s0897.jpg    \n",
            "  inflating: data/sunny/s0898.jpg    \n",
            "  inflating: data/sunny/s090.jpg     \n",
            "  inflating: data/sunny/s0900.jpg    \n",
            "  inflating: data/sunny/s0901.jpg    \n",
            "  inflating: data/sunny/s0902.jpg    \n",
            "  inflating: data/sunny/s0903.jpg    \n",
            "  inflating: data/sunny/s0904.jpg    \n",
            "  inflating: data/sunny/s0905.jpg    \n",
            "  inflating: data/sunny/s0906.jpg    \n",
            "  inflating: data/sunny/s0907.jpg    \n",
            "  inflating: data/sunny/s0908.jpg    \n",
            "  inflating: data/sunny/s0909.jpg    \n",
            "  inflating: data/sunny/s091.jpg     \n",
            "  inflating: data/sunny/s0910.jpg    \n",
            "  inflating: data/sunny/s0911.jpg    \n",
            "  inflating: data/sunny/s0912.jpg    \n",
            "  inflating: data/sunny/s0913.jpg    \n",
            "  inflating: data/sunny/s0914.jpg    \n",
            "  inflating: data/sunny/s0915.jpg    \n",
            "  inflating: data/sunny/s0916.jpg    \n",
            "  inflating: data/sunny/s0917.jpg    \n",
            "  inflating: data/sunny/s0918.jpg    \n",
            "  inflating: data/sunny/s0919.jpg    \n",
            "  inflating: data/sunny/s092.jpg     \n",
            "  inflating: data/sunny/s0921.jpg    \n",
            "  inflating: data/sunny/s0922.jpg    \n",
            "  inflating: data/sunny/s0923.jpg    \n",
            "  inflating: data/sunny/s0924.jpg    \n",
            "  inflating: data/sunny/s0925.jpg    \n",
            "  inflating: data/sunny/s0926.jpg    \n",
            "  inflating: data/sunny/s0927.jpg    \n",
            "  inflating: data/sunny/s0928.jpg    \n",
            "  inflating: data/sunny/s0929.jpg    \n",
            "  inflating: data/sunny/s093.jpg     \n",
            "  inflating: data/sunny/s0930.jpg    \n",
            "  inflating: data/sunny/s0931.jpg    \n",
            "  inflating: data/sunny/s0932.jpg    \n",
            "  inflating: data/sunny/s0933.jpg    \n",
            "  inflating: data/sunny/s0934.jpg    \n",
            "  inflating: data/sunny/s0935.jpg    \n",
            "  inflating: data/sunny/s0936.jpg    \n",
            "  inflating: data/sunny/s0937.jpg    \n",
            "  inflating: data/sunny/s0938.jpg    \n",
            "  inflating: data/sunny/s0939.jpg    \n",
            "  inflating: data/sunny/s094.jpg     \n",
            "  inflating: data/sunny/s0940.jpg    \n",
            "  inflating: data/sunny/s0941.jpg    \n",
            "  inflating: data/sunny/s0942.jpg    \n",
            "  inflating: data/sunny/s0943.jpg    \n",
            "  inflating: data/sunny/s0944.jpg    \n",
            "  inflating: data/sunny/s0945.jpg    \n",
            "  inflating: data/sunny/s0946.jpg    \n",
            "  inflating: data/sunny/s0947.jpg    \n",
            "  inflating: data/sunny/s0948.jpg    \n",
            "  inflating: data/sunny/s0949.jpg    \n",
            "  inflating: data/sunny/s095.jpg     \n",
            "  inflating: data/sunny/s0950.jpg    \n",
            "  inflating: data/sunny/s0951.jpg    \n",
            "  inflating: data/sunny/s0952.jpg    \n",
            "  inflating: data/sunny/s0953.jpg    \n",
            "  inflating: data/sunny/s0954.jpg    \n",
            "  inflating: data/sunny/s0957.jpg    \n",
            "  inflating: data/sunny/s0958.jpg    \n",
            "  inflating: data/sunny/s0959.jpg    \n",
            "  inflating: data/sunny/s096.jpg     \n",
            "  inflating: data/sunny/s0960.jpg    \n",
            "  inflating: data/sunny/s0961.jpg    \n",
            "  inflating: data/sunny/s0962.jpg    \n",
            "  inflating: data/sunny/s0963.jpg    \n",
            "  inflating: data/sunny/s0964.jpg    \n",
            "  inflating: data/sunny/s0965.jpg    \n",
            "  inflating: data/sunny/s0966.jpg    \n",
            "  inflating: data/sunny/s0967.jpg    \n",
            "  inflating: data/sunny/s0968.jpg    \n",
            "  inflating: data/sunny/s0969.jpg    \n",
            "  inflating: data/sunny/s097.jpg     \n",
            "  inflating: data/sunny/s0970.jpg    \n",
            "  inflating: data/sunny/s0971.jpg    \n",
            "  inflating: data/sunny/s0972.jpg    \n",
            "  inflating: data/sunny/s0973.jpg    \n",
            "  inflating: data/sunny/s0974.jpg    \n",
            "  inflating: data/sunny/s0975.jpg    \n",
            "  inflating: data/sunny/s0976.jpg    \n",
            "  inflating: data/sunny/s0977.jpg    \n",
            "  inflating: data/sunny/s0978.jpg    \n",
            "  inflating: data/sunny/s0979.jpg    \n",
            "  inflating: data/sunny/s098.jpg     \n",
            "  inflating: data/sunny/s0980.jpg    \n",
            "  inflating: data/sunny/s0981.jpg    \n",
            "  inflating: data/sunny/s0982.jpg    \n",
            "  inflating: data/sunny/s0983.jpg    \n",
            "  inflating: data/sunny/s0984.jpg    \n",
            "  inflating: data/sunny/s0985.jpg    \n",
            "  inflating: data/sunny/s0986.jpg    \n",
            "  inflating: data/sunny/s0987.jpg    \n",
            "  inflating: data/sunny/s0988.jpg    \n",
            "  inflating: data/sunny/s0989.jpg    \n",
            "  inflating: data/sunny/s099.jpg     \n",
            "  inflating: data/sunny/s0990.jpg    \n",
            "  inflating: data/sunny/s0991.jpg    \n",
            "  inflating: data/sunny/s0993.jpg    \n",
            "  inflating: data/sunny/s0994.jpg    \n",
            "  inflating: data/sunny/s0995.jpg    \n",
            "  inflating: data/sunny/s0996.jpg    \n",
            "  inflating: data/sunny/s0997.jpg    \n",
            "  inflating: data/sunny/s0998.jpg    \n",
            "  inflating: data/sunny/s0999.jpg    \n",
            "  inflating: data/sunny/s10.jpg      \n",
            "  inflating: data/sunny/s100.jpg     \n",
            "  inflating: data/sunny/s1000.jpg    \n",
            "  inflating: data/sunny/s1001.jpg    \n",
            "  inflating: data/sunny/s1002.jpg    \n",
            "  inflating: data/sunny/s1003.jpg    \n",
            "  inflating: data/sunny/s1004.jpg    \n",
            "  inflating: data/sunny/s1005.jpg    \n",
            "  inflating: data/sunny/s1006.jpg    \n",
            "  inflating: data/sunny/s1007.jpg    \n",
            "  inflating: data/sunny/s1008.jpg    \n",
            "  inflating: data/sunny/s1009.jpg    \n",
            "  inflating: data/sunny/s101.jpg     \n",
            "  inflating: data/sunny/s1010.jpg    \n",
            "  inflating: data/sunny/s1011.jpg    \n",
            "  inflating: data/sunny/s1012.jpg    \n",
            "  inflating: data/sunny/s1013.jpg    \n",
            "  inflating: data/sunny/s1014.jpg    \n",
            "  inflating: data/sunny/s1015.jpg    \n",
            "  inflating: data/sunny/s1016.jpg    \n",
            "  inflating: data/sunny/s1017.jpg    \n",
            "  inflating: data/sunny/s1018.jpg    \n",
            "  inflating: data/sunny/s1019.jpg    \n",
            "  inflating: data/sunny/s1020.jpg    \n",
            "  inflating: data/sunny/s1021.jpg    \n",
            "  inflating: data/sunny/s1022.jpg    \n",
            "  inflating: data/sunny/s1023.jpg    \n",
            "  inflating: data/sunny/s1024.jpg    \n",
            "  inflating: data/sunny/s1025.jpg    \n",
            "  inflating: data/sunny/s1026.jpg    \n",
            "  inflating: data/sunny/s1027.jpg    \n",
            "  inflating: data/sunny/s1028.jpg    \n",
            "  inflating: data/sunny/s1029.jpg    \n",
            "  inflating: data/sunny/s103.jpg     \n",
            "  inflating: data/sunny/s1030.jpg    \n",
            "  inflating: data/sunny/s1031.jpg    \n",
            "  inflating: data/sunny/s1032.jpg    \n",
            "  inflating: data/sunny/s1033.jpg    \n",
            "  inflating: data/sunny/s1034.jpg    \n",
            "  inflating: data/sunny/s1035.jpg    \n",
            "  inflating: data/sunny/s1036.jpg    \n",
            "  inflating: data/sunny/s1037.jpg    \n",
            "  inflating: data/sunny/s1038.jpg    \n",
            "  inflating: data/sunny/s1039.jpg    \n",
            "  inflating: data/sunny/s104.jpg     \n",
            "  inflating: data/sunny/s1040.jpg    \n",
            "  inflating: data/sunny/s1042.jpg    \n",
            "  inflating: data/sunny/s1043.jpg    \n",
            "  inflating: data/sunny/s1044.jpg    \n",
            "  inflating: data/sunny/s1045.jpg    \n",
            "  inflating: data/sunny/s1046.jpg    \n",
            "  inflating: data/sunny/s1047.jpg    \n",
            "  inflating: data/sunny/s1048.jpg    \n",
            "  inflating: data/sunny/s1049.jpg    \n",
            "  inflating: data/sunny/s105.jpg     \n",
            "  inflating: data/sunny/s1050.jpg    \n",
            "  inflating: data/sunny/s1051.jpg    \n",
            "  inflating: data/sunny/s1052.jpg    \n",
            "  inflating: data/sunny/s1053.jpg    \n",
            "  inflating: data/sunny/s1054.jpg    \n",
            "  inflating: data/sunny/s1055.jpg    \n",
            "  inflating: data/sunny/s1056.jpg    \n",
            "  inflating: data/sunny/s1057.jpg    \n",
            "  inflating: data/sunny/s1058.jpg    \n",
            "  inflating: data/sunny/s1059.jpg    \n",
            "  inflating: data/sunny/s106.jpg     \n",
            "  inflating: data/sunny/s1060.jpg    \n",
            "  inflating: data/sunny/s1061.jpg    \n",
            "  inflating: data/sunny/s1062.jpg    \n",
            "  inflating: data/sunny/s1063.jpg    \n",
            "  inflating: data/sunny/s1064.jpg    \n",
            "  inflating: data/sunny/s1065.jpg    \n",
            "  inflating: data/sunny/s1066.jpg    \n",
            "  inflating: data/sunny/s1067.jpg    \n",
            "  inflating: data/sunny/s1068.jpg    \n",
            "  inflating: data/sunny/s1069.jpg    \n",
            "  inflating: data/sunny/s107.jpg     \n",
            "  inflating: data/sunny/s1070.jpg    \n",
            "  inflating: data/sunny/s1071.jpg    \n",
            "  inflating: data/sunny/s1072.jpg    \n",
            "  inflating: data/sunny/s1074.jpg    \n",
            "  inflating: data/sunny/s1075.jpg    \n",
            "  inflating: data/sunny/s1076.jpg    \n",
            "  inflating: data/sunny/s1077.jpg    \n",
            "  inflating: data/sunny/s1078.jpg    \n",
            "  inflating: data/sunny/s1079.jpg    \n",
            "  inflating: data/sunny/s108.jpg     \n",
            "  inflating: data/sunny/s1080.jpg    \n",
            "  inflating: data/sunny/s1081.jpg    \n",
            "  inflating: data/sunny/s1083.jpg    \n",
            "  inflating: data/sunny/s1084.jpg    \n",
            "  inflating: data/sunny/s1085.jpg    \n",
            "  inflating: data/sunny/s1086.jpg    \n",
            "  inflating: data/sunny/s1087.jpg    \n",
            "  inflating: data/sunny/s1088.jpg    \n",
            "  inflating: data/sunny/s1089.jpg    \n",
            "  inflating: data/sunny/s109.jpg     \n",
            "  inflating: data/sunny/s1090.jpg    \n",
            "  inflating: data/sunny/s1091.jpg    \n",
            "  inflating: data/sunny/s1092.jpg    \n",
            "  inflating: data/sunny/s1093.jpg    \n",
            "  inflating: data/sunny/s1094.jpg    \n",
            "  inflating: data/sunny/s1095.jpg    \n",
            "  inflating: data/sunny/s1096.jpg    \n",
            "  inflating: data/sunny/s1097.jpg    \n",
            "  inflating: data/sunny/s1098.jpg    \n",
            "  inflating: data/sunny/s1099.jpg    \n",
            "  inflating: data/sunny/s110.jpg     \n",
            "  inflating: data/sunny/s1101.jpg    \n",
            "  inflating: data/sunny/s1102.jpg    \n",
            "  inflating: data/sunny/s1103.jpg    \n",
            "  inflating: data/sunny/s1104.jpg    \n",
            "  inflating: data/sunny/s1105.jpg    \n",
            "  inflating: data/sunny/s1106.jpg    \n",
            "  inflating: data/sunny/s1107.jpg    \n",
            "  inflating: data/sunny/s1109.jpg    \n",
            "  inflating: data/sunny/s111.jpg     \n",
            "  inflating: data/sunny/s1110.jpg    \n",
            "  inflating: data/sunny/s1111.jpg    \n",
            "  inflating: data/sunny/s1112.jpg    \n",
            "  inflating: data/sunny/s1113.jpg    \n",
            "  inflating: data/sunny/s1114.jpg    \n",
            "  inflating: data/sunny/s1115.jpg    \n",
            "  inflating: data/sunny/s1116.jpg    \n",
            "  inflating: data/sunny/s1117.jpg    \n",
            "  inflating: data/sunny/s1118.jpg    \n",
            "  inflating: data/sunny/s1119.jpg    \n",
            "  inflating: data/sunny/s112.jpg     \n",
            "  inflating: data/sunny/s1120.jpg    \n",
            "  inflating: data/sunny/s1121.jpg    \n",
            "  inflating: data/sunny/s1122.jpg    \n",
            "  inflating: data/sunny/s1123.jpg    \n",
            "  inflating: data/sunny/s1124.jpg    \n",
            "  inflating: data/sunny/s1125.jpg    \n",
            "  inflating: data/sunny/s1126.jpg    \n",
            "  inflating: data/sunny/s1127.jpg    \n",
            "  inflating: data/sunny/s1128.jpg    \n",
            "  inflating: data/sunny/s1129.jpg    \n",
            "  inflating: data/sunny/s113.jpg     \n",
            "  inflating: data/sunny/s1130.jpg    \n",
            "  inflating: data/sunny/s1131.jpg    \n",
            "  inflating: data/sunny/s1132.jpg    \n",
            "  inflating: data/sunny/s1133.jpg    \n",
            "  inflating: data/sunny/s1134.jpg    \n",
            "  inflating: data/sunny/s1135.jpg    \n",
            "  inflating: data/sunny/s1136.jpg    \n",
            "  inflating: data/sunny/s1137.jpg    \n",
            "  inflating: data/sunny/s1138.jpg    \n",
            "  inflating: data/sunny/s1139.jpg    \n",
            "  inflating: data/sunny/s114.jpg     \n",
            "  inflating: data/sunny/s1140.jpg    \n",
            "  inflating: data/sunny/s1141.jpg    \n",
            "  inflating: data/sunny/s1142.jpg    \n",
            "  inflating: data/sunny/s1143.jpg    \n",
            "  inflating: data/sunny/s1144.jpg    \n",
            "  inflating: data/sunny/s1145.jpg    \n",
            "  inflating: data/sunny/s1146.jpg    \n",
            "  inflating: data/sunny/s1147.jpg    \n",
            "  inflating: data/sunny/s1148.jpg    \n",
            "  inflating: data/sunny/s1149.jpg    \n",
            "  inflating: data/sunny/s115.jpg     \n",
            "  inflating: data/sunny/s1150.jpg    \n",
            "  inflating: data/sunny/s1151.jpg    \n",
            "  inflating: data/sunny/s1152.jpg    \n",
            "  inflating: data/sunny/s1153.jpg    \n",
            "  inflating: data/sunny/s1154.jpg    \n",
            "  inflating: data/sunny/s1155.jpg    \n",
            "  inflating: data/sunny/s1156.jpg    \n",
            "  inflating: data/sunny/s1157.jpg    \n",
            "  inflating: data/sunny/s1158.jpg    \n",
            "  inflating: data/sunny/s1159.jpg    \n",
            "  inflating: data/sunny/s116.jpg     \n",
            "  inflating: data/sunny/s1160.jpg    \n",
            "  inflating: data/sunny/s1161.jpg    \n",
            "  inflating: data/sunny/s1162.jpg    \n",
            "  inflating: data/sunny/s1163.jpg    \n",
            "  inflating: data/sunny/s1164.jpg    \n",
            "  inflating: data/sunny/s1165.jpg    \n",
            "  inflating: data/sunny/s1166.jpg    \n",
            "  inflating: data/sunny/s1167.jpg    \n",
            "  inflating: data/sunny/s1168.jpg    \n",
            "  inflating: data/sunny/s1169.jpg    \n",
            "  inflating: data/sunny/s117.jpg     \n",
            "  inflating: data/sunny/s1170.jpg    \n",
            "  inflating: data/sunny/s1171.jpg    \n",
            "  inflating: data/sunny/s1172.jpg    \n",
            "  inflating: data/sunny/s1173.jpg    \n",
            "  inflating: data/sunny/s1174.jpg    \n",
            "  inflating: data/sunny/s1175.jpg    \n",
            "  inflating: data/sunny/s1176.jpg    \n",
            "  inflating: data/sunny/s1179.jpg    \n",
            "  inflating: data/sunny/s118.jpg     \n",
            "  inflating: data/sunny/s1181.jpg    \n",
            "  inflating: data/sunny/s1182.jpg    \n",
            "  inflating: data/sunny/s1183.jpg    \n",
            "  inflating: data/sunny/s1184.jpg    \n",
            "  inflating: data/sunny/s1185.jpg    \n",
            "  inflating: data/sunny/s1186.jpg    \n",
            "  inflating: data/sunny/s1187.jpg    \n",
            "  inflating: data/sunny/s1188.jpg    \n",
            "  inflating: data/sunny/s1189.jpg    \n",
            "  inflating: data/sunny/s119.jpg     \n",
            "  inflating: data/sunny/s1190.jpg    \n",
            "  inflating: data/sunny/s1191.jpg    \n",
            "  inflating: data/sunny/s1192.jpg    \n",
            "  inflating: data/sunny/s1194.jpg    \n",
            "  inflating: data/sunny/s1195.jpg    \n",
            "  inflating: data/sunny/s1196.jpg    \n",
            "  inflating: data/sunny/s1197.jpg    \n",
            "  inflating: data/sunny/s1198.jpg    \n",
            "  inflating: data/sunny/s1199.jpg    \n",
            "  inflating: data/sunny/s120.jpg     \n",
            "  inflating: data/sunny/s1200.jpg    \n",
            "  inflating: data/sunny/s1201.jpg    \n",
            "  inflating: data/sunny/s1203.jpg    \n",
            "  inflating: data/sunny/s1204.jpg    \n",
            "  inflating: data/sunny/s1205.jpg    \n",
            "  inflating: data/sunny/s1206.jpg    \n",
            "  inflating: data/sunny/s1207.jpg    \n",
            "  inflating: data/sunny/s1208.jpg    \n",
            "  inflating: data/sunny/s1209.jpg    \n",
            "  inflating: data/sunny/s121.jpg     \n",
            "  inflating: data/sunny/s1210.jpg    \n",
            "  inflating: data/sunny/s1211.jpg    \n",
            "  inflating: data/sunny/s1212.jpg    \n",
            "  inflating: data/sunny/s1213.jpg    \n",
            "  inflating: data/sunny/s1214.jpg    \n",
            "  inflating: data/sunny/s1215.jpg    \n",
            "  inflating: data/sunny/s1216.jpg    \n",
            "  inflating: data/sunny/s1217.jpg    \n",
            "  inflating: data/sunny/s1218.jpg    \n",
            "  inflating: data/sunny/s1219.jpg    \n",
            "  inflating: data/sunny/s122.jpg     \n",
            "  inflating: data/sunny/s1220.jpg    \n",
            "  inflating: data/sunny/s1221.jpg    \n",
            "  inflating: data/sunny/s1223.jpg    \n",
            "  inflating: data/sunny/s1224.jpg    \n",
            "  inflating: data/sunny/s1225.jpg    \n",
            "  inflating: data/sunny/s1226.jpg    \n",
            "  inflating: data/sunny/s1227.jpg    \n",
            "  inflating: data/sunny/s1228.jpg    \n",
            "  inflating: data/sunny/s1229.jpg    \n",
            "  inflating: data/sunny/s123.jpg     \n",
            "  inflating: data/sunny/s1230.jpg    \n",
            "  inflating: data/sunny/s1231.jpg    \n",
            "  inflating: data/sunny/s1232.jpg    \n",
            "  inflating: data/sunny/s1233.jpg    \n",
            "  inflating: data/sunny/s1234.jpg    \n",
            "  inflating: data/sunny/s1235.jpg    \n",
            "  inflating: data/sunny/s1236.jpg    \n",
            "  inflating: data/sunny/s1237.jpg    \n",
            "  inflating: data/sunny/s1238.jpg    \n",
            "  inflating: data/sunny/s1239.jpg    \n",
            "  inflating: data/sunny/s124.jpg     \n",
            "  inflating: data/sunny/s1240.jpg    \n",
            "  inflating: data/sunny/s1241.jpg    \n",
            "  inflating: data/sunny/s1242.jpg    \n",
            "  inflating: data/sunny/s1243.jpg    \n",
            "  inflating: data/sunny/s1244.jpg    \n",
            "  inflating: data/sunny/s1245.jpg    \n",
            "  inflating: data/sunny/s1246.jpg    \n",
            "  inflating: data/sunny/s1247.jpg    \n",
            "  inflating: data/sunny/s1248.jpg    \n",
            "  inflating: data/sunny/s1249.jpg    \n",
            "  inflating: data/sunny/s125.jpg     \n",
            "  inflating: data/sunny/s1250.jpg    \n",
            "  inflating: data/sunny/s1251.jpg    \n",
            "  inflating: data/sunny/s1252.jpg    \n",
            "  inflating: data/sunny/s1253.jpg    \n",
            "  inflating: data/sunny/s1254.jpg    \n",
            "  inflating: data/sunny/s1255.jpg    \n",
            "  inflating: data/sunny/s1256.jpg    \n",
            "  inflating: data/sunny/s1257.jpg    \n",
            "  inflating: data/sunny/s1258.jpg    \n",
            "  inflating: data/sunny/s1259.jpg    \n",
            "  inflating: data/sunny/s126.jpg     \n",
            "  inflating: data/sunny/s1260.jpg    \n",
            "  inflating: data/sunny/s1261.jpg    \n",
            "  inflating: data/sunny/s1262.jpg    \n",
            "  inflating: data/sunny/s1263.jpg    \n",
            "  inflating: data/sunny/s1265.jpg    \n",
            "  inflating: data/sunny/s1266.jpg    \n",
            "  inflating: data/sunny/s1267.jpg    \n",
            "  inflating: data/sunny/s1268.jpg    \n",
            "  inflating: data/sunny/s127.jpg     \n",
            "  inflating: data/sunny/s1270.jpg    \n",
            "  inflating: data/sunny/s1271.jpg    \n",
            "  inflating: data/sunny/s1272.jpg    \n",
            "  inflating: data/sunny/s1273.jpg    \n",
            "  inflating: data/sunny/s1274.jpg    \n",
            "  inflating: data/sunny/s1275.jpg    \n",
            "  inflating: data/sunny/s1276.jpg    \n",
            "  inflating: data/sunny/s1277.jpg    \n",
            "  inflating: data/sunny/s1278.jpg    \n",
            "  inflating: data/sunny/s1279.jpg    \n",
            "  inflating: data/sunny/s128.jpg     \n",
            "  inflating: data/sunny/s1280.jpg    \n",
            "  inflating: data/sunny/s1281.jpg    \n",
            "  inflating: data/sunny/s1282.jpg    \n",
            "  inflating: data/sunny/s1283.jpg    \n",
            "  inflating: data/sunny/s1284.jpg    \n",
            "  inflating: data/sunny/s1285.jpg    \n",
            "  inflating: data/sunny/s1286.jpg    \n",
            "  inflating: data/sunny/s1287.jpg    \n",
            "  inflating: data/sunny/s1288.jpg    \n",
            "  inflating: data/sunny/s1289.jpg    \n",
            "  inflating: data/sunny/s129.jpg     \n",
            "  inflating: data/sunny/s1290.jpg    \n",
            "  inflating: data/sunny/s1291.jpg    \n",
            "  inflating: data/sunny/s1292.jpg    \n",
            "  inflating: data/sunny/s1293.jpg    \n",
            "  inflating: data/sunny/s1294.jpg    \n",
            "  inflating: data/sunny/s1295.jpg    \n",
            "  inflating: data/sunny/s1296.jpg    \n",
            "  inflating: data/sunny/s1297.jpg    \n",
            "  inflating: data/sunny/s1298.jpg    \n",
            "  inflating: data/sunny/s130.jpg     \n",
            "  inflating: data/sunny/s1300.jpg    \n",
            "  inflating: data/sunny/s1301.jpg    \n",
            "  inflating: data/sunny/s1302.jpg    \n",
            "  inflating: data/sunny/s1303.jpg    \n",
            "  inflating: data/sunny/s1304.jpg    \n",
            "  inflating: data/sunny/s1305.jpg    \n",
            "  inflating: data/sunny/s1306.jpg    \n",
            "  inflating: data/sunny/s1307.jpg    \n",
            "  inflating: data/sunny/s1308.jpg    \n",
            "  inflating: data/sunny/s1309.jpg    \n",
            "  inflating: data/sunny/s131.jpg     \n",
            "  inflating: data/sunny/s1310.jpg    \n",
            "  inflating: data/sunny/s1311.jpg    \n",
            "  inflating: data/sunny/s1312.jpg    \n",
            "  inflating: data/sunny/s1313.jpg    \n",
            "  inflating: data/sunny/s1314.jpg    \n",
            "  inflating: data/sunny/s1315.jpg    \n",
            "  inflating: data/sunny/s1316.jpg    \n",
            "  inflating: data/sunny/s1317.jpg    \n",
            "  inflating: data/sunny/s1318.jpg    \n",
            "  inflating: data/sunny/s1319.jpg    \n",
            "  inflating: data/sunny/s132.jpg     \n",
            "  inflating: data/sunny/s1320.jpg    \n",
            "  inflating: data/sunny/s1321.jpg    \n",
            "  inflating: data/sunny/s1323.jpg    \n",
            "  inflating: data/sunny/s1324.jpg    \n",
            "  inflating: data/sunny/s1325.jpg    \n",
            "  inflating: data/sunny/s1326.jpg    \n",
            "  inflating: data/sunny/s1327.jpg    \n",
            "  inflating: data/sunny/s1328.jpg    \n",
            "  inflating: data/sunny/s1329.jpg    \n",
            "  inflating: data/sunny/s133.jpg     \n",
            "  inflating: data/sunny/s1330.jpg    \n",
            "  inflating: data/sunny/s1331.jpg    \n",
            "  inflating: data/sunny/s1332.jpg    \n",
            "  inflating: data/sunny/s1333.jpg    \n",
            "  inflating: data/sunny/s1335.jpg    \n",
            "  inflating: data/sunny/s1336.jpg    \n",
            "  inflating: data/sunny/s1337.jpg    \n",
            "  inflating: data/sunny/s1338.jpg    \n",
            "  inflating: data/sunny/s1339.jpg    \n",
            "  inflating: data/sunny/s134.jpg     \n",
            "  inflating: data/sunny/s1340.jpg    \n",
            "  inflating: data/sunny/s1341.jpg    \n",
            "  inflating: data/sunny/s1342.jpg    \n",
            "  inflating: data/sunny/s1343.jpg    \n",
            "  inflating: data/sunny/s1344.jpg    \n",
            "  inflating: data/sunny/s1345.jpg    \n",
            "  inflating: data/sunny/s1346.jpg    \n",
            "  inflating: data/sunny/s1347.jpg    \n",
            "  inflating: data/sunny/s1348.jpg    \n",
            "  inflating: data/sunny/s1349.jpg    \n",
            "  inflating: data/sunny/s135.jpg     \n",
            "  inflating: data/sunny/s1350.jpg    \n",
            "  inflating: data/sunny/s1351.jpg    \n",
            "  inflating: data/sunny/s1352.jpg    \n",
            "  inflating: data/sunny/s1353.jpg    \n",
            "  inflating: data/sunny/s1354.jpg    \n",
            "  inflating: data/sunny/s1355.jpg    \n",
            "  inflating: data/sunny/s1356.jpg    \n",
            "  inflating: data/sunny/s1358.jpg    \n",
            "  inflating: data/sunny/s1359.jpg    \n",
            "  inflating: data/sunny/s136.jpg     \n",
            "  inflating: data/sunny/s1360.jpg    \n",
            "  inflating: data/sunny/s1361.jpg    \n",
            "  inflating: data/sunny/s1362.jpg    \n",
            "  inflating: data/sunny/s1363.jpg    \n",
            "  inflating: data/sunny/s1364.jpg    \n",
            "  inflating: data/sunny/s1365.jpg    \n",
            "  inflating: data/sunny/s1366.jpg    \n",
            "  inflating: data/sunny/s1367.jpg    \n",
            "  inflating: data/sunny/s1368.jpg    \n",
            "  inflating: data/sunny/s1369.jpg    \n",
            "  inflating: data/sunny/s137.jpg     \n",
            "  inflating: data/sunny/s1370.jpg    \n",
            "  inflating: data/sunny/s1371.jpg    \n",
            "  inflating: data/sunny/s1372.jpg    \n",
            "  inflating: data/sunny/s1373.jpg    \n",
            "  inflating: data/sunny/s1374.jpg    \n",
            "  inflating: data/sunny/s1375.jpg    \n",
            "  inflating: data/sunny/s1376.jpg    \n",
            "  inflating: data/sunny/s1378.jpg    \n",
            "  inflating: data/sunny/s1379.jpg    \n",
            "  inflating: data/sunny/s138.jpg     \n",
            "  inflating: data/sunny/s1380.jpg    \n",
            "  inflating: data/sunny/s1381.jpg    \n",
            "  inflating: data/sunny/s1382.jpg    \n",
            "  inflating: data/sunny/s1383.jpg    \n",
            "  inflating: data/sunny/s1384.jpg    \n",
            "  inflating: data/sunny/s1385.jpg    \n",
            "  inflating: data/sunny/s1386.jpg    \n",
            "  inflating: data/sunny/s1387.jpg    \n",
            "  inflating: data/sunny/s1388.jpg    \n",
            "  inflating: data/sunny/s1389.jpg    \n",
            "  inflating: data/sunny/s139.jpg     \n",
            "  inflating: data/sunny/s1391.jpg    \n",
            "  inflating: data/sunny/s1392.jpg    \n",
            "  inflating: data/sunny/s1393.jpg    \n",
            "  inflating: data/sunny/s1394.jpg    \n",
            "  inflating: data/sunny/s1395.jpg    \n",
            "  inflating: data/sunny/s1396.jpg    \n",
            "  inflating: data/sunny/s1397.jpg    \n",
            "  inflating: data/sunny/s1398.jpg    \n",
            "  inflating: data/sunny/s1399.jpg    \n",
            "  inflating: data/sunny/s140.jpg     \n",
            "  inflating: data/sunny/s1400.jpg    \n",
            "  inflating: data/sunny/s1401.jpg    \n",
            "  inflating: data/sunny/s1402.jpg    \n",
            "  inflating: data/sunny/s1404.jpg    \n",
            "  inflating: data/sunny/s1405.jpg    \n",
            "  inflating: data/sunny/s1406.jpg    \n",
            "  inflating: data/sunny/s1407.jpg    \n",
            "  inflating: data/sunny/s1408.jpg    \n",
            "  inflating: data/sunny/s1409.jpg    \n",
            "  inflating: data/sunny/s141.jpg     \n",
            "  inflating: data/sunny/s1410.jpg    \n",
            "  inflating: data/sunny/s1411.jpg    \n",
            "  inflating: data/sunny/s1412.jpg    \n",
            "  inflating: data/sunny/s1413.jpg    \n",
            "  inflating: data/sunny/s1414.jpg    \n",
            "  inflating: data/sunny/s1415.jpg    \n",
            "  inflating: data/sunny/s1416.jpg    \n",
            "  inflating: data/sunny/s1417.jpg    \n",
            "  inflating: data/sunny/s1418.jpg    \n",
            "  inflating: data/sunny/s1419.jpg    \n",
            "  inflating: data/sunny/s142.jpg     \n",
            "  inflating: data/sunny/s1420.jpg    \n",
            "  inflating: data/sunny/s1421.jpg    \n",
            "  inflating: data/sunny/s1422.jpg    \n",
            "  inflating: data/sunny/s1423.jpg    \n",
            "  inflating: data/sunny/s1424.jpg    \n",
            "  inflating: data/sunny/s1425.jpg    \n",
            "  inflating: data/sunny/s1426.jpg    \n",
            "  inflating: data/sunny/s1427.jpg    \n",
            "  inflating: data/sunny/s1428.jpg    \n",
            "  inflating: data/sunny/s1429.jpg    \n",
            "  inflating: data/sunny/s143.jpg     \n",
            "  inflating: data/sunny/s1430.jpg    \n",
            "  inflating: data/sunny/s1431.jpg    \n",
            "  inflating: data/sunny/s1432.jpg    \n",
            "  inflating: data/sunny/s1433.jpg    \n",
            "  inflating: data/sunny/s1434.jpg    \n",
            "  inflating: data/sunny/s1435.jpg    \n",
            "  inflating: data/sunny/s1436.jpg    \n",
            "  inflating: data/sunny/s1437.jpg    \n",
            "  inflating: data/sunny/s1438.jpg    \n",
            "  inflating: data/sunny/s1439.jpg    \n",
            "  inflating: data/sunny/s144.jpg     \n",
            "  inflating: data/sunny/s1440.jpg    \n",
            "  inflating: data/sunny/s1442.jpg    \n",
            "  inflating: data/sunny/s1443.jpg    \n",
            "  inflating: data/sunny/s1444.jpg    \n",
            "  inflating: data/sunny/s1445.jpg    \n",
            "  inflating: data/sunny/s1446.jpg    \n",
            "  inflating: data/sunny/s1447.jpg    \n",
            "  inflating: data/sunny/s1448.jpg    \n",
            "  inflating: data/sunny/s1449.jpg    \n",
            "  inflating: data/sunny/s145.jpg     \n",
            "  inflating: data/sunny/s1450.jpg    \n",
            "  inflating: data/sunny/s1451.jpg    \n",
            "  inflating: data/sunny/s1452.jpg    \n",
            "  inflating: data/sunny/s1453.jpg    \n",
            "  inflating: data/sunny/s1454.jpg    \n",
            "  inflating: data/sunny/s1455.jpg    \n",
            "  inflating: data/sunny/s1456.jpg    \n",
            "  inflating: data/sunny/s1457.jpg    \n",
            "  inflating: data/sunny/s1458.jpg    \n",
            "  inflating: data/sunny/s1459.jpg    \n",
            "  inflating: data/sunny/s146.jpg     \n",
            "  inflating: data/sunny/s1460.jpg    \n",
            "  inflating: data/sunny/s1461.jpg    \n",
            "  inflating: data/sunny/s1462.jpg    \n",
            "  inflating: data/sunny/s1463.jpg    \n",
            "  inflating: data/sunny/s1464.jpg    \n",
            "  inflating: data/sunny/s1466.jpg    \n",
            "  inflating: data/sunny/s1467.jpg    \n",
            "  inflating: data/sunny/s1468.jpg    \n",
            "  inflating: data/sunny/s1469.jpg    \n",
            "  inflating: data/sunny/s147.jpg     \n",
            "  inflating: data/sunny/s1470.jpg    \n",
            "  inflating: data/sunny/s1471.jpg    \n",
            "  inflating: data/sunny/s1472.jpg    \n",
            "  inflating: data/sunny/s1473.jpg    \n",
            "  inflating: data/sunny/s1474.jpg    \n",
            "  inflating: data/sunny/s1475.jpg    \n",
            "  inflating: data/sunny/s1476.jpg    \n",
            "  inflating: data/sunny/s1477.jpg    \n",
            "  inflating: data/sunny/s1478.jpg    \n",
            "  inflating: data/sunny/s1479.jpg    \n",
            "  inflating: data/sunny/s148.jpg     \n",
            "  inflating: data/sunny/s1480.jpg    \n",
            "  inflating: data/sunny/s1481.jpg    \n",
            "  inflating: data/sunny/s1482.jpg    \n",
            "  inflating: data/sunny/s1483.jpg    \n",
            "  inflating: data/sunny/s1484.jpg    \n",
            "  inflating: data/sunny/s1485.jpg    \n",
            "  inflating: data/sunny/s1486.jpg    \n",
            "  inflating: data/sunny/s1487.jpg    \n",
            "  inflating: data/sunny/s1488.jpg    \n",
            "  inflating: data/sunny/s1489.jpg    \n",
            "  inflating: data/sunny/s149.jpg     \n",
            "  inflating: data/sunny/s1490.jpg    \n",
            "  inflating: data/sunny/s1491.jpg    \n",
            "  inflating: data/sunny/s1492.jpg    \n",
            "  inflating: data/sunny/s1493.jpg    \n",
            "  inflating: data/sunny/s1494.jpg    \n",
            "  inflating: data/sunny/s1495.jpg    \n",
            "  inflating: data/sunny/s1496.jpg    \n",
            "  inflating: data/sunny/s1497.jpg    \n",
            "  inflating: data/sunny/s1498.jpg    \n",
            "  inflating: data/sunny/s1499.jpg    \n",
            "  inflating: data/sunny/s150.jpg     \n",
            "  inflating: data/sunny/s1500.jpg    \n",
            "  inflating: data/sunny/s1501.jpg    \n",
            "  inflating: data/sunny/s1502.jpg    \n",
            "  inflating: data/sunny/s1503.jpg    \n",
            "  inflating: data/sunny/s1504.jpg    \n",
            "  inflating: data/sunny/s1505.jpg    \n",
            "  inflating: data/sunny/s1506.jpg    \n",
            "  inflating: data/sunny/s1507.jpg    \n",
            "  inflating: data/sunny/s1508.jpg    \n",
            "  inflating: data/sunny/s1509.jpg    \n",
            "  inflating: data/sunny/s151.jpg     \n",
            "  inflating: data/sunny/s1510.jpg    \n",
            "  inflating: data/sunny/s1511.jpg    \n",
            "  inflating: data/sunny/s1512.jpg    \n",
            "  inflating: data/sunny/s1513.jpg    \n",
            "  inflating: data/sunny/s1514.jpg    \n",
            "  inflating: data/sunny/s1515.jpg    \n",
            "  inflating: data/sunny/s1516.jpg    \n",
            "  inflating: data/sunny/s1517.jpg    \n",
            "  inflating: data/sunny/s1518.jpg    \n",
            "  inflating: data/sunny/s1519.jpg    \n",
            "  inflating: data/sunny/s152.jpg     \n",
            "  inflating: data/sunny/s1520.jpg    \n",
            "  inflating: data/sunny/s1521.jpg    \n",
            "  inflating: data/sunny/s1522.jpg    \n",
            "  inflating: data/sunny/s1523.jpg    \n",
            "  inflating: data/sunny/s1524.jpg    \n",
            "  inflating: data/sunny/s1525.jpg    \n",
            "  inflating: data/sunny/s1526.jpg    \n",
            "  inflating: data/sunny/s1527.jpg    \n",
            "  inflating: data/sunny/s1528.jpg    \n",
            "  inflating: data/sunny/s1529.jpg    \n",
            "  inflating: data/sunny/s153.jpg     \n",
            "  inflating: data/sunny/s1530.jpg    \n",
            "  inflating: data/sunny/s1531.jpg    \n",
            "  inflating: data/sunny/s1532.jpg    \n",
            "  inflating: data/sunny/s1533.jpg    \n",
            "  inflating: data/sunny/s1534.jpg    \n",
            "  inflating: data/sunny/s1535.jpg    \n",
            "  inflating: data/sunny/s1536.jpg    \n",
            "  inflating: data/sunny/s1537.jpg    \n",
            "  inflating: data/sunny/s1538.jpg    \n",
            "  inflating: data/sunny/s1539.jpg    \n",
            "  inflating: data/sunny/s1540.jpg    \n",
            "  inflating: data/sunny/s1541.jpg    \n",
            "  inflating: data/sunny/s1542.jpg    \n",
            "  inflating: data/sunny/s1543.jpg    \n",
            "  inflating: data/sunny/s1544.jpg    \n",
            "  inflating: data/sunny/s1545.jpg    \n",
            "  inflating: data/sunny/s1547.jpg    \n",
            "  inflating: data/sunny/s1548.jpg    \n",
            "  inflating: data/sunny/s1549.jpg    \n",
            "  inflating: data/sunny/s1550.jpg    \n",
            "  inflating: data/sunny/s1551.jpg    \n",
            "  inflating: data/sunny/s1552.jpg    \n",
            "  inflating: data/sunny/s1553.jpg    \n",
            "  inflating: data/sunny/s1554.jpg    \n",
            "  inflating: data/sunny/s1555.jpg    \n",
            "  inflating: data/sunny/s1556.jpg    \n",
            "  inflating: data/sunny/s1557.jpg    \n",
            "  inflating: data/sunny/s1558.jpg    \n",
            "  inflating: data/sunny/s1559.jpg    \n",
            "  inflating: data/sunny/s1560.jpg    \n",
            "  inflating: data/sunny/s1562.jpg    \n",
            "  inflating: data/sunny/s1563.jpg    \n",
            "  inflating: data/sunny/s1564.jpg    \n",
            "  inflating: data/sunny/s1565.jpg    \n",
            "  inflating: data/sunny/s1566.jpg    \n",
            "  inflating: data/sunny/s1567.jpg    \n",
            "  inflating: data/sunny/s1568.jpg    \n",
            "  inflating: data/sunny/s1569.jpg    \n",
            "  inflating: data/sunny/s1570.jpg    \n",
            "  inflating: data/sunny/s1571.jpg    \n",
            "  inflating: data/sunny/s1572.jpg    \n",
            "  inflating: data/sunny/s1573.jpg    \n",
            "  inflating: data/sunny/s1574.jpg    \n",
            "  inflating: data/sunny/s1576.jpg    \n",
            "  inflating: data/sunny/s1577.jpg    \n",
            "  inflating: data/sunny/s1578.jpg    \n",
            "  inflating: data/sunny/s1579.jpg    \n",
            "  inflating: data/sunny/s1580.jpg    \n",
            "  inflating: data/sunny/s1581.jpg    \n",
            "  inflating: data/sunny/s1582.jpg    \n",
            "  inflating: data/sunny/s1583.jpg    \n",
            "  inflating: data/sunny/s1585.jpg    \n",
            "  inflating: data/sunny/s1587.jpg    \n",
            "  inflating: data/sunny/s1588.jpg    \n",
            "  inflating: data/sunny/s1590.jpg    \n",
            "  inflating: data/sunny/s1591.jpg    \n",
            "  inflating: data/sunny/s1592.jpg    \n",
            "  inflating: data/sunny/s1593.jpg    \n",
            "  inflating: data/sunny/s1594.jpg    \n",
            "  inflating: data/sunny/s1596.jpg    \n",
            "  inflating: data/sunny/s1597.jpg    \n",
            "  inflating: data/sunny/s1598.jpg    \n",
            "  inflating: data/sunny/s1599.jpg    \n",
            "  inflating: data/sunny/s1600.jpg    \n",
            "  inflating: data/sunny/s1601.jpg    \n",
            "  inflating: data/sunny/s1602.jpg    \n",
            "  inflating: data/sunny/s1603.jpg    \n",
            "  inflating: data/sunny/s1605.jpg    \n",
            "  inflating: data/sunny/s1606.jpg    \n",
            "  inflating: data/sunny/s1607.jpg    \n",
            "  inflating: data/sunny/s1608.jpg    \n",
            "  inflating: data/sunny/s1609.jpg    \n",
            "  inflating: data/sunny/s1610.jpg    \n",
            "  inflating: data/sunny/s1611.jpg    \n",
            "  inflating: data/sunny/s1612.jpg    \n",
            "  inflating: data/sunny/s1613.jpg    \n",
            "  inflating: data/sunny/s1614.jpg    \n",
            "  inflating: data/sunny/s1615.jpg    \n",
            "  inflating: data/sunny/s1616.jpg    \n",
            "  inflating: data/sunny/s1617.jpg    \n",
            "  inflating: data/sunny/s1618.jpg    \n",
            "  inflating: data/sunny/s1619.jpg    \n",
            "  inflating: data/sunny/s1620.jpg    \n",
            "  inflating: data/sunny/s1621.jpg    \n",
            "  inflating: data/sunny/s1622.jpg    \n",
            "  inflating: data/sunny/s1623.jpg    \n",
            "  inflating: data/sunny/s1624.jpg    \n",
            "  inflating: data/sunny/s1625.jpg    \n",
            "  inflating: data/sunny/s1626.jpg    \n",
            "  inflating: data/sunny/s1627.jpg    \n",
            "  inflating: data/sunny/s1628.jpg    \n",
            "  inflating: data/sunny/s1629.jpg    \n",
            "  inflating: data/sunny/s1630.jpg    \n",
            "  inflating: data/sunny/s1631.jpg    \n",
            "  inflating: data/sunny/s1632.jpg    \n",
            "  inflating: data/sunny/s1633.jpg    \n",
            "  inflating: data/sunny/s1634.jpg    \n",
            "  inflating: data/sunny/s1635.jpg    \n",
            "  inflating: data/sunny/s1637.jpg    \n",
            "  inflating: data/sunny/s1638.jpg    \n",
            "  inflating: data/sunny/s1639.jpg    \n",
            "  inflating: data/sunny/s1640.jpg    \n",
            "  inflating: data/sunny/s1641.jpg    \n",
            "  inflating: data/sunny/s1642.jpg    \n",
            "  inflating: data/sunny/s1643.jpg    \n",
            "  inflating: data/sunny/s1644.jpg    \n",
            "  inflating: data/sunny/s1645.jpg    \n",
            "  inflating: data/sunny/s1646.jpg    \n",
            "  inflating: data/sunny/s1648.jpg    \n",
            "  inflating: data/sunny/s1649.jpg    \n",
            "  inflating: data/sunny/s1650.jpg    \n",
            "  inflating: data/sunny/s1651.jpg    \n",
            "  inflating: data/sunny/s1652.jpg    \n",
            "  inflating: data/sunny/s1653.jpg    \n",
            "  inflating: data/sunny/s1654.jpg    \n",
            "  inflating: data/sunny/s1655.jpg    \n",
            "  inflating: data/sunny/s1656.jpg    \n",
            "  inflating: data/sunny/s1657.jpg    \n",
            "  inflating: data/sunny/s1658.jpg    \n",
            "  inflating: data/sunny/s1659.jpg    \n",
            "  inflating: data/sunny/s1660.jpg    \n",
            "  inflating: data/sunny/s1661.jpg    \n",
            "  inflating: data/sunny/s1663.jpg    \n",
            "  inflating: data/sunny/s1664.jpg    \n",
            "  inflating: data/sunny/s1665.jpg    \n",
            "  inflating: data/sunny/s1666.jpg    \n",
            "  inflating: data/sunny/s1667.jpg    \n",
            "  inflating: data/sunny/s1668.jpg    \n",
            "  inflating: data/sunny/s1669.jpg    \n",
            "  inflating: data/sunny/s1670.jpg    \n",
            "  inflating: data/sunny/s1671.jpg    \n",
            "  inflating: data/sunny/s1672.jpg    \n",
            "  inflating: data/sunny/s1673.jpg    \n",
            "  inflating: data/sunny/s1674.jpg    \n",
            "  inflating: data/sunny/s1675.jpg    \n",
            "  inflating: data/sunny/s1676.jpg    \n",
            "  inflating: data/sunny/s1677.jpg    \n",
            "  inflating: data/sunny/s1678.jpg    \n",
            "  inflating: data/sunny/s1679.jpg    \n",
            "  inflating: data/sunny/s1680.jpg    \n",
            "  inflating: data/sunny/s1681.jpg    \n",
            "  inflating: data/sunny/s1682.jpg    \n",
            "  inflating: data/sunny/s1683.jpg    \n",
            "  inflating: data/sunny/s1684.jpg    \n",
            "  inflating: data/sunny/s1685.jpg    \n",
            "  inflating: data/sunny/s1687.jpg    \n",
            "  inflating: data/sunny/s1688.jpg    \n",
            "  inflating: data/sunny/s1689.jpg    \n",
            "  inflating: data/sunny/s1690.jpg    \n",
            "  inflating: data/sunny/s1691.jpg    \n",
            "  inflating: data/sunny/s1692.jpg    \n",
            "  inflating: data/sunny/s1694.jpg    \n",
            "  inflating: data/sunny/s1695.jpg    \n",
            "  inflating: data/sunny/s1697.jpg    \n",
            "  inflating: data/sunny/s1698.jpg    \n",
            "  inflating: data/sunny/s1699.jpg    \n",
            "  inflating: data/sunny/s1701.jpg    \n",
            "  inflating: data/sunny/s1702.jpg    \n",
            "  inflating: data/sunny/s1703.jpg    \n",
            "  inflating: data/sunny/s1704.jpg    \n",
            "  inflating: data/sunny/s1705.jpg    \n",
            "  inflating: data/sunny/s1706.jpg    \n",
            "  inflating: data/sunny/s1707.jpg    \n",
            "  inflating: data/sunny/s1708.jpg    \n",
            "  inflating: data/sunny/s1709.jpg    \n",
            "  inflating: data/sunny/s1710.jpg    \n",
            "  inflating: data/sunny/s1711.jpg    \n",
            "  inflating: data/sunny/s1713.jpg    \n",
            "  inflating: data/sunny/s1714.jpg    \n",
            "  inflating: data/sunny/s1715.jpg    \n",
            "  inflating: data/sunny/s1717.jpg    \n",
            "  inflating: data/sunny/s1718.jpg    \n",
            "  inflating: data/sunny/s1719.jpg    \n",
            "  inflating: data/sunny/s1720.jpg    \n",
            "  inflating: data/sunny/s1721.jpg    \n",
            "  inflating: data/sunny/s1722.jpg    \n",
            "  inflating: data/sunny/s1723.jpg    \n",
            "  inflating: data/sunny/s1724.jpg    \n",
            "  inflating: data/sunny/s1725.jpg    \n",
            "  inflating: data/sunny/s1726.jpg    \n",
            "  inflating: data/sunny/s1727.jpg    \n",
            "  inflating: data/sunny/s1728.jpg    \n",
            "  inflating: data/sunny/s1729.jpg    \n",
            "  inflating: data/sunny/s1730.jpg    \n",
            "  inflating: data/sunny/s1731.jpg    \n",
            "  inflating: data/sunny/s1732.jpg    \n",
            "  inflating: data/sunny/s1733.jpg    \n",
            "  inflating: data/sunny/s1734.jpg    \n",
            "  inflating: data/sunny/s1735.jpg    \n",
            "  inflating: data/sunny/s1736.jpg    \n",
            "  inflating: data/sunny/s1737.jpg    \n",
            "  inflating: data/sunny/s1738.jpg    \n",
            "  inflating: data/sunny/s1739.jpg    \n",
            "  inflating: data/sunny/s1740.jpg    \n",
            "  inflating: data/sunny/s1741.jpg    \n",
            "  inflating: data/sunny/s1742.jpg    \n",
            "  inflating: data/sunny/s1743.jpg    \n",
            "  inflating: data/sunny/s1744.jpg    \n",
            "  inflating: data/sunny/s1745.jpg    \n",
            "  inflating: data/sunny/s1746.jpg    \n",
            "  inflating: data/sunny/s1747.jpg    \n",
            "  inflating: data/sunny/s1748.jpg    \n",
            "  inflating: data/sunny/s1749.jpg    \n",
            "  inflating: data/sunny/s1750.jpg    \n",
            "  inflating: data/sunny/s1751.jpg    \n",
            "  inflating: data/sunny/s1752.jpg    \n",
            "  inflating: data/sunny/s1753.jpg    \n",
            "  inflating: data/sunny/s1754.jpg    \n",
            "  inflating: data/sunny/s1755.jpg    \n",
            "  inflating: data/sunny/s1756.jpg    \n",
            "  inflating: data/sunny/s1757.jpg    \n",
            "  inflating: data/sunny/s1758.jpg    \n",
            "  inflating: data/sunny/s1761.jpg    \n",
            "  inflating: data/sunny/s1762.jpg    \n",
            "  inflating: data/sunny/s1763.jpg    \n",
            "  inflating: data/sunny/s1764.jpg    \n",
            "  inflating: data/sunny/s1765.jpg    \n",
            "  inflating: data/sunny/s1767.jpg    \n",
            "  inflating: data/sunny/s1768.jpg    \n",
            "  inflating: data/sunny/s1769.jpg    \n",
            "  inflating: data/sunny/s1770.jpg    \n",
            "  inflating: data/sunny/s1771.jpg    \n",
            "  inflating: data/sunny/s1772.jpg    \n",
            "  inflating: data/sunny/s1773.jpg    \n",
            "  inflating: data/sunny/s1774.jpg    \n",
            "  inflating: data/sunny/s1775.jpg    \n",
            "  inflating: data/sunny/s1776.jpg    \n",
            "  inflating: data/sunny/s1777.jpg    \n",
            "  inflating: data/sunny/s1778.jpg    \n",
            "  inflating: data/sunny/s1779.jpg    \n",
            "  inflating: data/sunny/s1780.jpg    \n",
            "  inflating: data/sunny/s1781.jpg    \n",
            "  inflating: data/sunny/s1782.jpg    \n",
            "  inflating: data/sunny/s1783.jpg    \n",
            "  inflating: data/sunny/s1784.jpg    \n",
            "  inflating: data/sunny/s1785.jpg    \n",
            "  inflating: data/sunny/s1786.jpg    \n",
            "  inflating: data/sunny/s1787.jpg    \n",
            "  inflating: data/sunny/s1788.jpg    \n",
            "  inflating: data/sunny/s1789.jpg    \n",
            "  inflating: data/sunny/s1790.jpg    \n",
            "  inflating: data/sunny/s1791.jpg    \n",
            "  inflating: data/sunny/s1792.jpg    \n",
            "  inflating: data/sunny/s1793.jpg    \n",
            "  inflating: data/sunny/s1794.jpg    \n",
            "  inflating: data/sunny/s1795.jpg    \n",
            "  inflating: data/sunny/s1797.jpg    \n",
            "  inflating: data/sunny/s1798.jpg    \n",
            "  inflating: data/sunny/s1799.jpg    \n",
            "  inflating: data/sunny/s1800.jpg    \n",
            "  inflating: data/sunny/s1801.jpg    \n",
            "  inflating: data/sunny/s1803.jpg    \n",
            "  inflating: data/sunny/s1804.jpg    \n",
            "  inflating: data/sunny/s1805.jpg    \n",
            "  inflating: data/sunny/s1806.jpg    \n",
            "  inflating: data/sunny/s1807.jpg    \n",
            "  inflating: data/sunny/s1809.jpg    \n",
            "  inflating: data/sunny/s1810.jpg    \n",
            "  inflating: data/sunny/s1811.jpg    \n",
            "  inflating: data/sunny/s1812.jpg    \n",
            "  inflating: data/sunny/s1813.jpg    \n",
            "  inflating: data/sunny/s1814.jpg    \n",
            "  inflating: data/sunny/s1816.jpg    \n",
            "  inflating: data/sunny/s1817.jpg    \n",
            "  inflating: data/sunny/s1818.jpg    \n",
            "  inflating: data/sunny/s1819.jpg    \n",
            "  inflating: data/sunny/s1820.jpg    \n",
            "  inflating: data/sunny/s1821.jpg    \n",
            "  inflating: data/sunny/s1822.jpg    \n",
            "  inflating: data/sunny/s1823.jpg    \n",
            "  inflating: data/sunny/s1824.jpg    \n",
            "  inflating: data/sunny/s1825.jpg    \n",
            "  inflating: data/sunny/s1826.jpg    \n",
            "  inflating: data/sunny/s1827.jpg    \n",
            "  inflating: data/sunny/s1828.jpg    \n",
            "  inflating: data/sunny/s1829.jpg    \n",
            "  inflating: data/sunny/s1830.jpg    \n",
            "  inflating: data/sunny/s1831.jpg    \n",
            "  inflating: data/sunny/s1832.jpg    \n",
            "  inflating: data/sunny/s1833.jpg    \n",
            "  inflating: data/sunny/s1834.jpg    \n",
            "  inflating: data/sunny/s1835.jpg    \n",
            "  inflating: data/sunny/s1836.jpg    \n",
            "  inflating: data/sunny/s1837.jpg    \n",
            "  inflating: data/sunny/s1839.jpg    \n",
            "  inflating: data/sunny/s1840.jpg    \n",
            "  inflating: data/sunny/s1842.jpg    \n",
            "  inflating: data/sunny/s1843.jpg    \n",
            "  inflating: data/sunny/s1844.jpg    \n",
            "  inflating: data/sunny/s1845.jpg    \n",
            "  inflating: data/sunny/s1846.jpg    \n",
            "  inflating: data/sunny/s1847.jpg    \n",
            "  inflating: data/sunny/s1848.jpg    \n",
            "  inflating: data/sunny/s1849.jpg    \n",
            "  inflating: data/sunny/s1850.jpg    \n",
            "  inflating: data/sunny/s1851.jpg    \n",
            "  inflating: data/sunny/s1852.jpg    \n",
            "  inflating: data/sunny/s1853.jpg    \n",
            "  inflating: data/sunny/s1854.jpg    \n",
            "  inflating: data/sunny/s1855.jpg    \n",
            "  inflating: data/sunny/s1856.jpg    \n",
            "  inflating: data/sunny/s1857.jpg    \n",
            "  inflating: data/sunny/s1858.jpg    \n",
            "  inflating: data/sunny/s1859.jpg    \n",
            "  inflating: data/sunny/s1861.jpg    \n",
            "  inflating: data/sunny/s1862.jpg    \n",
            "  inflating: data/sunny/s1863.jpg    \n",
            "  inflating: data/sunny/s1864.jpg    \n",
            "  inflating: data/sunny/s1865.jpg    \n",
            "  inflating: data/sunny/s1866.jpg    \n",
            "  inflating: data/sunny/s1867.jpg    \n",
            "  inflating: data/sunny/s1869.jpg    \n",
            "  inflating: data/sunny/s1870.jpg    \n",
            "  inflating: data/sunny/s1871.jpg    \n",
            "  inflating: data/sunny/s1872.jpg    \n",
            "  inflating: data/sunny/s1873.jpg    \n",
            "  inflating: data/sunny/s1874.jpg    \n",
            "  inflating: data/sunny/s1875.jpg    \n",
            "  inflating: data/sunny/s1876.jpg    \n",
            "  inflating: data/sunny/s1877.jpg    \n",
            "  inflating: data/sunny/s1878.jpg    \n",
            "  inflating: data/sunny/s1879.jpg    \n",
            "  inflating: data/sunny/s1880.jpg    \n",
            "  inflating: data/sunny/s1881.jpg    \n",
            "  inflating: data/sunny/s1882.jpg    \n",
            "  inflating: data/sunny/s1883.jpg    \n",
            "  inflating: data/sunny/s1884.jpg    \n",
            "  inflating: data/sunny/s1885.jpg    \n",
            "  inflating: data/sunny/s1886.jpg    \n",
            "  inflating: data/sunny/s1887.jpg    \n",
            "  inflating: data/sunny/s1888.jpg    \n",
            "  inflating: data/sunny/s1889.jpg    \n",
            "  inflating: data/sunny/s1890.jpg    \n",
            "  inflating: data/sunny/s1891.jpg    \n",
            "  inflating: data/sunny/s1892.jpg    \n",
            "  inflating: data/sunny/s1893.jpg    \n",
            "  inflating: data/sunny/s1894.jpg    \n",
            "  inflating: data/sunny/s1895.jpg    \n",
            "  inflating: data/sunny/s1896.jpg    \n",
            "  inflating: data/sunny/s1897.jpg    \n",
            "  inflating: data/sunny/s1898.jpg    \n",
            "  inflating: data/sunny/s1899.jpg    \n",
            "  inflating: data/sunny/s1900.jpg    \n",
            "  inflating: data/sunny/s1901.jpg    \n",
            "  inflating: data/sunny/s1902.jpg    \n",
            "  inflating: data/sunny/s1903.jpg    \n",
            "  inflating: data/sunny/s1904.jpg    \n",
            "  inflating: data/sunny/s1905.jpg    \n",
            "  inflating: data/sunny/s1906.jpg    \n",
            "  inflating: data/sunny/s1907.jpg    \n",
            "  inflating: data/sunny/s1908.jpg    \n",
            "  inflating: data/sunny/s1909.jpg    \n",
            "  inflating: data/sunny/s1910.jpg    \n",
            "  inflating: data/sunny/s1911.jpg    \n",
            "  inflating: data/sunny/s1912.jpg    \n",
            "  inflating: data/sunny/s1913.jpg    \n",
            "  inflating: data/sunny/s1914.jpg    \n",
            "  inflating: data/sunny/s1915.jpg    \n",
            "  inflating: data/sunny/s1916.jpg    \n",
            "  inflating: data/sunny/s1917.jpg    \n",
            "  inflating: data/sunny/s1918.jpg    \n",
            "  inflating: data/sunny/s1919.jpg    \n",
            "  inflating: data/sunny/s1920.jpg    \n",
            "  inflating: data/sunny/s1921.jpg    \n",
            "  inflating: data/sunny/s1922.jpg    \n",
            "  inflating: data/sunny/s1923.jpg    \n",
            "  inflating: data/sunny/s1924.jpg    \n",
            "  inflating: data/sunny/s1925.jpg    \n",
            "  inflating: data/sunny/s1926.jpg    \n",
            "  inflating: data/sunny/s1927.jpg    \n",
            "  inflating: data/sunny/s1928.jpg    \n",
            "  inflating: data/sunny/s1929.jpg    \n",
            "  inflating: data/sunny/s1930.jpg    \n",
            "  inflating: data/sunny/s1932.jpg    \n",
            "  inflating: data/sunny/s1933.jpg    \n",
            "  inflating: data/sunny/s1934.jpg    \n",
            "  inflating: data/sunny/s1935.jpg    \n",
            "  inflating: data/sunny/s1936.jpg    \n",
            "  inflating: data/sunny/s1937.jpg    \n",
            "  inflating: data/sunny/s1938.jpg    \n",
            "  inflating: data/sunny/s1939.jpg    \n",
            "  inflating: data/sunny/s1940.jpg    \n",
            "  inflating: data/sunny/s1941.jpg    \n",
            "  inflating: data/sunny/s1942.jpg    \n",
            "  inflating: data/sunny/s1943.jpg    \n",
            "  inflating: data/sunny/s1944.jpg    \n",
            "  inflating: data/sunny/s1945.jpg    \n",
            "  inflating: data/sunny/s1946.jpg    \n",
            "  inflating: data/sunny/s1947.jpg    \n",
            "  inflating: data/sunny/s1948.jpg    \n",
            "  inflating: data/sunny/s1949.jpg    \n",
            "  inflating: data/sunny/s1950.jpg    \n",
            "  inflating: data/sunny/s1952.jpg    \n",
            "  inflating: data/sunny/s1953.jpg    \n",
            "  inflating: data/sunny/s1954.jpg    \n",
            "  inflating: data/sunny/s1955.jpg    \n",
            "  inflating: data/sunny/s1957.jpg    \n",
            "  inflating: data/sunny/s1958.jpg    \n",
            "  inflating: data/sunny/s1959.jpg    \n",
            "  inflating: data/sunny/s1960.jpg    \n",
            "  inflating: data/sunny/s1961.jpg    \n",
            "  inflating: data/sunny/s1962.jpg    \n",
            "  inflating: data/sunny/s1963.jpg    \n",
            "  inflating: data/sunny/s1964.jpg    \n",
            "  inflating: data/sunny/s1965.jpg    \n",
            "  inflating: data/sunny/s1966.jpg    \n",
            "  inflating: data/sunny/s1967.jpg    \n",
            "  inflating: data/sunny/s1968.jpg    \n",
            "  inflating: data/sunny/s1969.jpg    \n",
            "  inflating: data/sunny/s1970.jpg    \n",
            "  inflating: data/sunny/s1972.jpg    \n",
            "  inflating: data/sunny/s1973.jpg    \n",
            "  inflating: data/sunny/s1974.jpg    \n",
            "  inflating: data/sunny/s1975.jpg    \n",
            "  inflating: data/sunny/s1976.jpg    \n",
            "  inflating: data/sunny/s1977.jpg    \n",
            "  inflating: data/sunny/s1978.jpg    \n",
            "  inflating: data/sunny/s1979.jpg    \n",
            "  inflating: data/sunny/s1980.jpg    \n",
            "  inflating: data/sunny/s1981.jpg    \n",
            "  inflating: data/sunny/s1982.jpg    \n",
            "  inflating: data/sunny/s1983.jpg    \n",
            "  inflating: data/sunny/s1984.jpg    \n",
            "  inflating: data/sunny/s1985.jpg    \n",
            "  inflating: data/sunny/s1986.jpg    \n",
            "  inflating: data/sunny/s1987.jpg    \n",
            "  inflating: data/sunny/s1988.jpg    \n",
            "  inflating: data/sunny/s1989.jpg    \n",
            "  inflating: data/sunny/s1990.jpg    \n",
            "  inflating: data/sunny/s1991.jpg    \n",
            "  inflating: data/sunny/s1992.jpg    \n",
            "  inflating: data/sunny/s1993.jpg    \n",
            "  inflating: data/sunny/s1994.jpg    \n",
            "  inflating: data/sunny/s1995.jpg    \n",
            "  inflating: data/sunny/s1996.jpg    \n",
            "  inflating: data/sunny/s1998.jpg    \n",
            "  inflating: data/sunny/s2001.jpg    \n",
            "  inflating: data/sunny/s2002.jpg    \n",
            "  inflating: data/sunny/s2003.jpg    \n",
            "  inflating: data/sunny/s2004.jpg    \n",
            "  inflating: data/sunny/s2006.jpg    \n",
            "  inflating: data/sunny/s2007.jpg    \n",
            "  inflating: data/sunny/s2008.jpg    \n",
            "  inflating: data/sunny/s2009.jpg    \n",
            "  inflating: data/sunny/s2010.jpg    \n",
            "  inflating: data/sunny/s2011.jpg    \n",
            "  inflating: data/sunny/s2012.jpg    \n",
            "  inflating: data/sunny/s2013.jpg    \n",
            "  inflating: data/sunny/s2014.jpg    \n",
            "  inflating: data/sunny/s2015.jpg    \n",
            "  inflating: data/sunny/s2016.jpg    \n",
            "  inflating: data/sunny/s2017.jpg    \n",
            "  inflating: data/sunny/s2018.jpg    \n",
            "  inflating: data/sunny/s2019.jpg    \n",
            "  inflating: data/sunny/s2020.jpg    \n",
            "  inflating: data/sunny/s2021.jpg    \n",
            "  inflating: data/sunny/s2022.jpg    \n",
            "  inflating: data/sunny/s2023.jpg    \n",
            "  inflating: data/sunny/s2024.jpg    \n",
            "  inflating: data/sunny/s2025.jpg    \n",
            "  inflating: data/sunny/s2026.jpg    \n",
            "  inflating: data/sunny/s2027.jpg    \n",
            "  inflating: data/sunny/s2028.jpg    \n",
            "  inflating: data/sunny/s2029.jpg    \n",
            "  inflating: data/sunny/s2030.jpg    \n",
            "  inflating: data/sunny/s2031.jpg    \n",
            "  inflating: data/sunny/s2032.jpg    \n",
            "  inflating: data/sunny/s2033.jpg    \n",
            "  inflating: data/sunny/s2034.jpg    \n",
            "  inflating: data/sunny/s2035.jpg    \n",
            "  inflating: data/sunny/s2036.jpg    \n",
            "  inflating: data/sunny/s2037.jpg    \n",
            "  inflating: data/sunny/s2038.jpg    \n",
            "  inflating: data/sunny/s2039.jpg    \n",
            "  inflating: data/sunny/s2040.jpg    \n",
            "  inflating: data/sunny/s2041.jpg    \n",
            "  inflating: data/sunny/s2042.jpg    \n",
            "  inflating: data/sunny/s2043.jpg    \n",
            "  inflating: data/sunny/s2044.jpg    \n",
            "  inflating: data/sunny/s2045.jpg    \n",
            "  inflating: data/sunny/s2046.jpg    \n",
            "  inflating: data/sunny/s2047.jpg    \n",
            "  inflating: data/sunny/s2048.jpg    \n",
            "  inflating: data/sunny/s2049.jpg    \n",
            "  inflating: data/sunny/s2050.jpg    \n",
            "  inflating: data/sunny/s2051.jpg    \n",
            "  inflating: data/sunny/s2053.jpg    \n",
            "  inflating: data/sunny/s2054.jpg    \n",
            "  inflating: data/sunny/s2056.jpg    \n",
            "  inflating: data/sunny/s2058.jpg    \n",
            "  inflating: data/sunny/s2059.jpg    \n",
            "  inflating: data/sunny/s2060.jpg    \n",
            "  inflating: data/sunny/s2061.jpg    \n",
            "  inflating: data/sunny/s2062.jpg    \n",
            "  inflating: data/sunny/s2063.jpg    \n",
            "  inflating: data/sunny/s2064.jpg    \n",
            "  inflating: data/sunny/s2065.jpg    \n",
            "  inflating: data/sunny/s2066.jpg    \n",
            "  inflating: data/sunny/s2067.jpg    \n",
            "  inflating: data/sunny/s2068.jpg    \n",
            "  inflating: data/sunny/s2069.jpg    \n",
            "  inflating: data/sunny/s2070.jpg    \n",
            "  inflating: data/sunny/s2071.jpg    \n",
            "  inflating: data/sunny/s2072.jpg    \n",
            "  inflating: data/sunny/s2073.jpg    \n",
            "  inflating: data/sunny/s2074.jpg    \n",
            "  inflating: data/sunny/s2075.jpg    \n",
            "  inflating: data/sunny/s2078.jpg    \n",
            "  inflating: data/sunny/s2079.jpg    \n",
            "  inflating: data/sunny/s2080.jpg    \n",
            "  inflating: data/sunny/s2081.jpg    \n",
            "  inflating: data/sunny/s2082.jpg    \n",
            "  inflating: data/sunny/s2083.jpg    \n",
            "  inflating: data/sunny/s2084.jpg    \n",
            "  inflating: data/sunny/s2085.jpg    \n",
            "  inflating: data/sunny/s2086.jpg    \n",
            "  inflating: data/sunny/s2087.jpg    \n",
            "  inflating: data/sunny/s2088.jpg    \n",
            "  inflating: data/sunny/s2089.jpg    \n",
            "  inflating: data/sunny/s2090.jpg    \n",
            "  inflating: data/sunny/s2091.jpg    \n",
            "  inflating: data/sunny/s2092.jpg    \n",
            "  inflating: data/sunny/s2094.jpg    \n",
            "  inflating: data/sunny/s2095.jpg    \n",
            "  inflating: data/sunny/s2096.jpg    \n",
            "  inflating: data/sunny/s2097.jpg    \n",
            "  inflating: data/sunny/s2098.jpg    \n",
            "  inflating: data/sunny/s2099.jpg    \n",
            "  inflating: data/sunny/s2100.jpg    \n",
            "  inflating: data/sunny/s2101.jpg    \n",
            "  inflating: data/sunny/s2102.jpg    \n",
            "  inflating: data/sunny/s2103.jpg    \n",
            "  inflating: data/sunny/s2104.jpg    \n",
            "  inflating: data/sunny/s2105.jpg    \n",
            "  inflating: data/sunny/s2106.jpg    \n",
            "  inflating: data/sunny/s2107.jpg    \n",
            "  inflating: data/sunny/s2108.jpg    \n",
            "  inflating: data/sunny/s2109.jpg    \n",
            "  inflating: data/sunny/s2110.jpg    \n",
            "  inflating: data/sunny/s2111.jpg    \n",
            "  inflating: data/sunny/s2112.jpg    \n",
            "  inflating: data/sunny/s2113.jpg    \n",
            "  inflating: data/sunny/s2114.jpg    \n",
            "  inflating: data/sunny/s2115.jpg    \n",
            "  inflating: data/sunny/s2116.jpg    \n",
            "  inflating: data/sunny/s2118.jpg    \n",
            "  inflating: data/sunny/s2119.jpg    \n",
            "  inflating: data/sunny/s2120.jpg    \n",
            "  inflating: data/sunny/s2121.jpg    \n",
            "  inflating: data/sunny/s2122.jpg    \n",
            "  inflating: data/sunny/s2123.jpg    \n",
            "  inflating: data/sunny/s2124.jpg    \n",
            "  inflating: data/sunny/s2125.jpg    \n",
            "  inflating: data/sunny/s2126.jpg    \n",
            "  inflating: data/sunny/s2127.jpg    \n",
            "  inflating: data/sunny/s2128.jpg    \n",
            "  inflating: data/sunny/s2129.jpg    \n",
            "  inflating: data/sunny/s2130.jpg    \n",
            "  inflating: data/sunny/s2131.jpg    \n",
            "  inflating: data/sunny/s2133.jpg    \n",
            "  inflating: data/sunny/s2134.jpg    \n",
            "  inflating: data/sunny/s2135.jpg    \n",
            "  inflating: data/sunny/s2136.jpg    \n",
            "  inflating: data/sunny/s2137.jpg    \n",
            "  inflating: data/sunny/s2138.jpg    \n",
            "  inflating: data/sunny/s2139.jpg    \n",
            "  inflating: data/sunny/s2141.jpg    \n",
            "  inflating: data/sunny/s2142.jpg    \n",
            "  inflating: data/sunny/s2144.jpg    \n",
            "  inflating: data/sunny/s2146.jpg    \n",
            "  inflating: data/sunny/s2147.jpg    \n",
            "  inflating: data/sunny/s2148.jpg    \n",
            "  inflating: data/sunny/s2149.jpg    \n",
            "  inflating: data/sunny/s2150.jpg    \n",
            "  inflating: data/sunny/s2152.jpg    \n",
            "  inflating: data/sunny/s2153.jpg    \n",
            "  inflating: data/sunny/s2154.jpg    \n",
            "  inflating: data/sunny/s2155.jpg    \n",
            "  inflating: data/sunny/s2157.jpg    \n",
            "  inflating: data/sunny/s2158.jpg    \n",
            "  inflating: data/sunny/s2159.jpg    \n",
            "  inflating: data/sunny/s2160.jpg    \n",
            "  inflating: data/sunny/s2161.jpg    \n",
            "  inflating: data/sunny/s2162.jpg    \n",
            "  inflating: data/sunny/s2163.jpg    \n",
            "  inflating: data/sunny/s2164.jpg    \n",
            "  inflating: data/sunny/s2165.jpg    \n",
            "  inflating: data/sunny/s2166.jpg    \n",
            "  inflating: data/sunny/s2167.jpg    \n",
            "  inflating: data/sunny/s2168.jpg    \n",
            "  inflating: data/sunny/s2169.jpg    \n",
            "  inflating: data/sunny/s2170.jpg    \n",
            "  inflating: data/sunny/s2171.jpg    \n",
            "  inflating: data/sunny/s2172.jpg    \n",
            "  inflating: data/sunny/s2173.jpg    \n",
            "  inflating: data/sunny/s2174.jpg    \n",
            "  inflating: data/sunny/s2175.jpg    \n",
            "  inflating: data/sunny/s2176.jpg    \n",
            "  inflating: data/sunny/s2177.jpg    \n",
            "  inflating: data/sunny/s2178.jpg    \n",
            "  inflating: data/sunny/s2179.jpg    \n",
            "  inflating: data/sunny/s2180.jpg    \n",
            "  inflating: data/sunny/s2181.jpg    \n",
            "  inflating: data/sunny/s2182.jpg    \n",
            "  inflating: data/sunny/s2183.jpg    \n",
            "  inflating: data/sunny/s2184.jpg    \n",
            "  inflating: data/sunny/s2185.jpg    \n",
            "  inflating: data/sunny/s2186.jpg    \n",
            "  inflating: data/sunny/s2187.jpg    \n",
            "  inflating: data/sunny/s2188.jpg    \n",
            "  inflating: data/sunny/s2189.jpg    \n",
            "  inflating: data/sunny/s2190.jpg    \n",
            "  inflating: data/sunny/s2191.jpg    \n",
            "  inflating: data/sunny/s2192.jpg    \n",
            "  inflating: data/sunny/s2193.jpg    \n",
            "  inflating: data/sunny/s2194.jpg    \n",
            "  inflating: data/sunny/s2195.jpg    \n",
            "  inflating: data/sunny/s2196.jpg    \n",
            "  inflating: data/sunny/s2197.jpg    \n",
            "  inflating: data/sunny/s2198.jpg    \n",
            "  inflating: data/sunny/s2199.jpg    \n",
            "  inflating: data/sunny/s2200.jpg    \n",
            "  inflating: data/sunny/s2201.jpg    \n",
            "  inflating: data/sunny/s2202.jpg    \n",
            "  inflating: data/sunny/s2203.jpg    \n",
            "  inflating: data/sunny/s2204.jpg    \n",
            "  inflating: data/sunny/s2205.jpg    \n",
            "  inflating: data/sunny/s2206.jpg    \n",
            "  inflating: data/sunny/s2207.jpg    \n",
            "  inflating: data/sunny/s2208.jpg    \n",
            "  inflating: data/sunny/s2209.jpg    \n",
            "  inflating: data/sunny/s2211.jpg    \n",
            "  inflating: data/sunny/s2212.jpg    \n",
            "  inflating: data/sunny/s2213.jpg    \n",
            "  inflating: data/sunny/s2214.jpg    \n",
            "  inflating: data/sunny/s2215.jpg    \n",
            "  inflating: data/sunny/s2216.jpg    \n",
            "  inflating: data/sunny/s2217.jpg    \n",
            "  inflating: data/sunny/s2218.jpg    \n",
            "  inflating: data/sunny/s2219.jpg    \n",
            "  inflating: data/sunny/s2220.jpg    \n",
            "  inflating: data/sunny/s2221.jpg    \n",
            "  inflating: data/sunny/s2222.jpg    \n",
            "  inflating: data/sunny/s2223.jpg    \n",
            "  inflating: data/sunny/s2224.jpg    \n",
            "  inflating: data/sunny/s2225.jpg    \n",
            "  inflating: data/sunny/s2226.jpg    \n",
            "  inflating: data/sunny/s2227.jpg    \n",
            "  inflating: data/sunny/s2228.jpg    \n",
            "  inflating: data/sunny/s2229.jpg    \n",
            "  inflating: data/sunny/s2230.jpg    \n",
            "  inflating: data/sunny/s2231.jpg    \n",
            "  inflating: data/sunny/s2232.jpg    \n",
            "  inflating: data/sunny/s2233.jpg    \n",
            "  inflating: data/sunny/s2234.jpg    \n",
            "  inflating: data/sunny/s2235.jpg    \n",
            "  inflating: data/sunny/s2236.jpg    \n",
            "  inflating: data/sunny/s2237.jpg    \n",
            "  inflating: data/sunny/s2238.jpg    \n",
            "  inflating: data/sunny/s2239.jpg    \n",
            "  inflating: data/sunny/s2240.jpg    \n",
            "  inflating: data/sunny/s2241.jpg    \n",
            "  inflating: data/sunny/s2242.jpg    \n",
            "  inflating: data/sunny/s2243.jpg    \n",
            "  inflating: data/sunny/s2244.jpg    \n",
            "  inflating: data/sunny/s2247.jpg    \n",
            "  inflating: data/sunny/s2248.jpg    \n",
            "  inflating: data/sunny/s2249.jpg    \n",
            "  inflating: data/sunny/s2250.jpg    \n",
            "  inflating: data/sunny/s2251.jpg    \n",
            "  inflating: data/sunny/s2252.jpg    \n",
            "  inflating: data/sunny/s2254.jpg    \n",
            "  inflating: data/sunny/s2255.jpg    \n",
            "  inflating: data/sunny/s2257.jpg    \n",
            "  inflating: data/sunny/s2258.jpg    \n",
            "  inflating: data/sunny/s2259.jpg    \n",
            "  inflating: data/sunny/s2260.jpg    \n",
            "  inflating: data/sunny/s2261.jpg    \n",
            "  inflating: data/sunny/s2262.jpg    \n",
            "  inflating: data/sunny/s2263.jpg    \n",
            "  inflating: data/sunny/s2264.jpg    \n",
            "  inflating: data/sunny/s2265.jpg    \n",
            "  inflating: data/sunny/s2267.jpg    \n",
            "  inflating: data/sunny/s2268.jpg    \n",
            "  inflating: data/sunny/s2269.jpg    \n",
            "  inflating: data/sunny/s2270.jpg    \n",
            "  inflating: data/sunny/s2271.jpg    \n",
            "  inflating: data/sunny/s2273.jpg    \n",
            "  inflating: data/sunny/s2274.jpg    \n",
            "  inflating: data/sunny/s2275.jpg    \n",
            "  inflating: data/sunny/s2276.jpg    \n",
            "  inflating: data/sunny/s2277.jpg    \n",
            "  inflating: data/sunny/s2278.jpg    \n",
            "  inflating: data/sunny/s2279.jpg    \n",
            "  inflating: data/sunny/s2282.jpg    \n",
            "  inflating: data/sunny/s2283.jpg    \n",
            "  inflating: data/sunny/s2284.jpg    \n",
            "  inflating: data/sunny/s2285.jpg    \n",
            "  inflating: data/sunny/s2286.jpg    \n",
            "  inflating: data/sunny/s2287.jpg    \n",
            "  inflating: data/sunny/s2288.jpg    \n",
            "  inflating: data/sunny/s2289.jpg    \n",
            "  inflating: data/sunny/s2290.jpg    \n",
            "  inflating: data/sunny/s2291.jpg    \n",
            "  inflating: data/sunny/s2292.jpg    \n",
            "  inflating: data/sunny/s2293.jpg    \n",
            "  inflating: data/sunny/s2294.jpg    \n",
            "  inflating: data/sunny/s2295.jpg    \n",
            "  inflating: data/sunny/s2296.jpg    \n",
            "  inflating: data/sunny/s2297.jpg    \n",
            "  inflating: data/sunny/s2298.jpg    \n",
            "  inflating: data/sunny/s2299.jpg    \n",
            "  inflating: data/sunny/s2300.jpg    \n",
            "  inflating: data/sunny/s2301.jpg    \n",
            "  inflating: data/sunny/s2302.jpg    \n",
            "  inflating: data/sunny/s2303.jpg    \n",
            "  inflating: data/sunny/s2304.jpg    \n",
            "  inflating: data/sunny/s2305.jpg    \n",
            "  inflating: data/sunny/s2306.jpg    \n",
            "  inflating: data/sunny/s2307.jpg    \n",
            "  inflating: data/sunny/s2308.jpg    \n",
            "  inflating: data/sunny/s2309.jpg    \n",
            "  inflating: data/sunny/s2310.jpg    \n",
            "  inflating: data/sunny/s2311.jpg    \n",
            "  inflating: data/sunny/s2312.jpg    \n",
            "  inflating: data/sunny/s2313.jpg    \n",
            "  inflating: data/sunny/s2314.jpg    \n",
            "  inflating: data/sunny/s2315.jpg    \n",
            "  inflating: data/sunny/s2316.jpg    \n",
            "  inflating: data/sunny/s2317.jpg    \n",
            "  inflating: data/sunny/s2318.jpg    \n",
            "  inflating: data/sunny/s2319.jpg    \n",
            "  inflating: data/sunny/s2320.jpg    \n",
            "  inflating: data/sunny/s2321.jpg    \n",
            "  inflating: data/sunny/s2322.jpg    \n",
            "  inflating: data/sunny/s2323.jpg    \n",
            "  inflating: data/sunny/s2324.jpg    \n",
            "  inflating: data/sunny/s2325.jpg    \n",
            "  inflating: data/sunny/s2326.jpg    \n",
            "  inflating: data/sunny/s2327.jpg    \n",
            "  inflating: data/sunny/s2328.jpg    \n",
            "  inflating: data/sunny/s2329.jpg    \n",
            "  inflating: data/sunny/s2330.jpg    \n",
            "  inflating: data/sunny/s2331.jpg    \n",
            "  inflating: data/sunny/s2332.jpg    \n",
            "  inflating: data/sunny/s2333.jpg    \n",
            "  inflating: data/sunny/s2334.jpg    \n",
            "  inflating: data/sunny/s2336.jpg    \n",
            "  inflating: data/sunny/s2337.jpg    \n",
            "  inflating: data/sunny/s2338.jpg    \n",
            "  inflating: data/sunny/s2339.jpg    \n",
            "  inflating: data/sunny/s2340.jpg    \n",
            "  inflating: data/sunny/s2341.jpg    \n",
            "  inflating: data/sunny/s2342.jpg    \n",
            "  inflating: data/sunny/s2343.jpg    \n",
            "  inflating: data/sunny/s2344.jpg    \n",
            "  inflating: data/sunny/s2345.jpg    \n",
            "  inflating: data/sunny/s2346.jpg    \n",
            "  inflating: data/sunny/s2347.jpg    \n",
            "  inflating: data/sunny/s2348.jpg    \n",
            "  inflating: data/sunny/s2349.jpg    \n",
            "  inflating: data/sunny/s2350.jpg    \n",
            "  inflating: data/sunny/s2352.jpg    \n",
            "  inflating: data/sunny/s2353.jpg    \n",
            "  inflating: data/sunny/s2354.jpg    \n",
            "  inflating: data/sunny/s2355.jpg    \n",
            "  inflating: data/sunny/s2356.jpg    \n",
            "  inflating: data/sunny/s2357.jpg    \n",
            "  inflating: data/sunny/s2358.jpg    \n",
            "  inflating: data/sunny/s2359.jpg    \n",
            "  inflating: data/sunny/s2360.jpg    \n",
            "  inflating: data/sunny/s2361.jpg    \n",
            "  inflating: data/sunny/s2362.jpg    \n",
            "  inflating: data/sunny/s2363.jpg    \n",
            "  inflating: data/sunny/s2364.jpg    \n",
            "  inflating: data/sunny/s2365.jpg    \n",
            "  inflating: data/sunny/s2366.jpg    \n",
            "  inflating: data/sunny/s2368.jpg    \n",
            "  inflating: data/sunny/s2370.jpg    \n",
            "  inflating: data/sunny/s2371.jpg    \n",
            "  inflating: data/sunny/s2372.jpg    \n",
            "  inflating: data/sunny/s2373.jpg    \n",
            "  inflating: data/sunny/s2374.jpg    \n",
            "  inflating: data/sunny/s2375.jpg    \n",
            "  inflating: data/sunny/s2376.jpg    \n",
            "  inflating: data/sunny/s2377.jpg    \n",
            "  inflating: data/sunny/s2378.jpg    \n",
            "  inflating: data/sunny/s2379.jpg    \n",
            "  inflating: data/sunny/s2380.jpg    \n",
            "  inflating: data/sunny/s2381.jpg    \n",
            "  inflating: data/sunny/s2382.jpg    \n",
            "  inflating: data/sunny/s2383.jpg    \n",
            "  inflating: data/sunny/s2384.jpg    \n",
            "  inflating: data/sunny/s2385.jpg    \n",
            "  inflating: data/sunny/s2387.jpg    \n",
            "  inflating: data/sunny/s2388.jpg    \n",
            "  inflating: data/sunny/s2389.jpg    \n",
            "  inflating: data/sunny/s2391.jpg    \n",
            "  inflating: data/sunny/s2392.jpg    \n",
            "  inflating: data/sunny/s2393.jpg    \n",
            "  inflating: data/sunny/s2394.jpg    \n",
            "  inflating: data/sunny/s2395.jpg    \n",
            "  inflating: data/sunny/s2396.jpg    \n",
            "  inflating: data/sunny/s2397.jpg    \n",
            "  inflating: data/sunny/s2398.jpg    \n",
            "  inflating: data/sunny/s2399.jpg    \n",
            "  inflating: data/sunny/s2400.jpg    \n",
            "  inflating: data/sunny/s2401.jpg    \n",
            "  inflating: data/sunny/s2402.jpg    \n",
            "  inflating: data/sunny/s2403.jpg    \n",
            "  inflating: data/sunny/s2404.jpg    \n",
            "  inflating: data/sunny/s2405.jpg    \n",
            "  inflating: data/sunny/s2406.jpg    \n",
            "  inflating: data/sunny/s2407.jpg    \n",
            "  inflating: data/sunny/s2408.jpg    \n",
            "  inflating: data/sunny/s2409.jpg    \n",
            "  inflating: data/sunny/s2410.jpg    \n",
            "  inflating: data/sunny/s2411.jpg    \n",
            "  inflating: data/sunny/s2412.jpg    \n",
            "  inflating: data/sunny/s2413.jpg    \n",
            "  inflating: data/sunny/s2414.jpg    \n",
            "  inflating: data/sunny/s2415.jpg    \n",
            "  inflating: data/sunny/s2416.jpg    \n",
            "  inflating: data/sunny/s2417.jpg    \n",
            "  inflating: data/sunny/s2418.jpg    \n",
            "  inflating: data/sunny/s2419.jpg    \n",
            "  inflating: data/sunny/s2420.jpg    \n",
            "  inflating: data/sunny/s2421.jpg    \n",
            "  inflating: data/sunny/s2423.jpg    \n",
            "  inflating: data/sunny/s2424.jpg    \n",
            "  inflating: data/sunny/s2425.jpg    \n",
            "  inflating: data/sunny/s2426.jpg    \n",
            "  inflating: data/sunny/s2427.jpg    \n",
            "  inflating: data/sunny/s2428.jpg    \n",
            "  inflating: data/sunny/s2429.jpg    \n",
            "  inflating: data/sunny/s2430.jpg    \n",
            "  inflating: data/sunny/s2431.jpg    \n",
            "  inflating: data/sunny/s2432.jpg    \n",
            "  inflating: data/sunny/s2433.jpg    \n",
            "  inflating: data/sunny/s2434.jpg    \n",
            "  inflating: data/sunny/s2435.jpg    \n",
            "  inflating: data/sunny/s2436.jpg    \n",
            "  inflating: data/sunny/s2437.jpg    \n",
            "  inflating: data/sunny/s2438.jpg    \n",
            "  inflating: data/sunny/s2439.jpg    \n",
            "  inflating: data/sunny/s2440.jpg    \n",
            "  inflating: data/sunny/s2441.jpg    \n",
            "  inflating: data/sunny/s2443.jpg    \n",
            "  inflating: data/sunny/s2444.jpg    \n",
            "  inflating: data/sunny/s2445.jpg    \n",
            "  inflating: data/sunny/s2446.jpg    \n",
            "  inflating: data/sunny/s2447.jpg    \n",
            "  inflating: data/sunny/s2448.jpg    \n",
            "  inflating: data/sunny/s2449.jpg    \n",
            "  inflating: data/sunny/s2450.jpg    \n",
            "  inflating: data/sunny/s2451.jpg    \n",
            "  inflating: data/sunny/s2452.jpg    \n",
            "  inflating: data/sunny/s2453.jpg    \n",
            "  inflating: data/sunny/s2454.jpg    \n",
            "  inflating: data/sunny/s2455.jpg    \n",
            "  inflating: data/sunny/s2456.jpg    \n",
            "  inflating: data/sunny/s2457.jpg    \n",
            "  inflating: data/sunny/s2458.jpg    \n",
            "  inflating: data/sunny/s2459.jpg    \n",
            "  inflating: data/sunny/s2460.jpg    \n",
            "  inflating: data/sunny/s2461.jpg    \n",
            "  inflating: data/sunny/s2462.jpg    \n",
            "  inflating: data/sunny/s2463.jpg    \n",
            "  inflating: data/sunny/s2464.jpg    \n",
            "  inflating: data/sunny/s2465.jpg    \n",
            "  inflating: data/sunny/s2466.jpg    \n",
            "  inflating: data/sunny/s2467.jpg    \n",
            "  inflating: data/sunny/s2468.jpg    \n",
            "  inflating: data/sunny/s2469.jpg    \n",
            "  inflating: data/sunny/s2470.jpg    \n",
            "  inflating: data/sunny/s2471.jpg    \n",
            "  inflating: data/sunny/s2472.jpg    \n",
            "  inflating: data/sunny/s2473.jpg    \n",
            "  inflating: data/sunny/s2474.jpg    \n",
            "  inflating: data/sunny/s2475.jpg    \n",
            "  inflating: data/sunny/s2476.jpg    \n",
            "  inflating: data/sunny/s2477.jpg    \n",
            "  inflating: data/sunny/s2478.jpg    \n",
            "  inflating: data/sunny/s2479.jpg    \n",
            "  inflating: data/sunny/s2480.jpg    \n",
            "  inflating: data/sunny/s2481.jpg    \n",
            "  inflating: data/sunny/s2482.jpg    \n",
            "  inflating: data/sunny/s2483.jpg    \n",
            "  inflating: data/sunny/s2484.jpg    \n",
            "  inflating: data/sunny/s2485.jpg    \n",
            "  inflating: data/sunny/s2486.jpg    \n",
            "  inflating: data/sunny/s2487.jpg    \n",
            "  inflating: data/sunny/s2488.jpg    \n",
            "  inflating: data/sunny/s2489.jpg    \n",
            "  inflating: data/sunny/s2490.jpg    \n",
            "  inflating: data/sunny/s2491.jpg    \n",
            "  inflating: data/sunny/s2492.jpg    \n",
            "  inflating: data/sunny/s2494.jpg    \n",
            "  inflating: data/sunny/s2495.jpg    \n",
            "  inflating: data/sunny/s2496.jpg    \n",
            "  inflating: data/sunny/s2497.jpg    \n",
            "  inflating: data/sunny/s2498.jpg    \n",
            "  inflating: data/sunny/s2499.jpg    \n",
            "  inflating: data/sunny/s2500.jpg    \n",
            "  inflating: data/sunny/s2502.jpg    \n",
            "  inflating: data/sunny/s2503.jpg    \n",
            "  inflating: data/sunny/s2504.jpg    \n",
            "  inflating: data/sunny/s2505.jpg    \n",
            "  inflating: data/sunny/s2506.jpg    \n",
            "  inflating: data/sunny/s2507.jpg    \n",
            "  inflating: data/sunny/s2508.jpg    \n",
            "  inflating: data/sunny/s2509.jpg    \n",
            "  inflating: data/sunny/s2510.jpg    \n",
            "  inflating: data/sunny/s2511.jpg    \n",
            "  inflating: data/sunny/s2512.jpg    \n",
            "  inflating: data/sunny/s2513.jpg    \n",
            "  inflating: data/sunny/s2514.jpg    \n",
            "  inflating: data/sunny/s2515.jpg    \n",
            "  inflating: data/sunny/s2516.jpg    \n",
            "  inflating: data/sunny/s2517.jpg    \n",
            "  inflating: data/sunny/s2518.jpg    \n",
            "  inflating: data/sunny/s2520.jpg    \n",
            "  inflating: data/sunny/s2521.jpg    \n",
            "  inflating: data/sunny/s2522.jpg    \n",
            "  inflating: data/sunny/s2523.jpg    \n",
            "  inflating: data/sunny/s2524.jpg    \n",
            "  inflating: data/sunny/s2525.jpg    \n",
            "  inflating: data/sunny/s2526.jpg    \n",
            "  inflating: data/sunny/s2527.jpg    \n",
            "  inflating: data/sunny/s2529.jpg    \n",
            "  inflating: data/sunny/s2530.jpg    \n",
            "  inflating: data/sunny/s2531.jpg    \n",
            "  inflating: data/sunny/s2532.jpg    \n",
            "  inflating: data/sunny/s2533.jpg    \n",
            "  inflating: data/sunny/s2534.jpg    \n",
            "  inflating: data/sunny/s2535.jpg    \n",
            "  inflating: data/sunny/s2536.jpg    \n",
            "  inflating: data/sunny/s2537.jpg    \n",
            "  inflating: data/sunny/s2538.jpg    \n",
            "  inflating: data/sunny/s2539.jpg    \n",
            "  inflating: data/sunny/s2541.jpg    \n",
            "  inflating: data/sunny/s2544.jpg    \n",
            "  inflating: data/sunny/s2546.jpg    \n",
            "  inflating: data/sunny/s2547.jpg    \n",
            "  inflating: data/sunny/s2548.jpg    \n",
            "  inflating: data/sunny/s2549.jpg    \n",
            "  inflating: data/sunny/s2551.jpg    \n",
            "  inflating: data/sunny/s2552.jpg    \n",
            "  inflating: data/sunny/s2553.jpg    \n",
            "  inflating: data/sunny/s2554.jpg    \n",
            "  inflating: data/sunny/s2555.jpg    \n",
            "  inflating: data/sunny/s2556.jpg    \n",
            "  inflating: data/sunny/s2558.jpg    \n",
            "  inflating: data/sunny/s2559.jpg    \n",
            "  inflating: data/sunny/s2560.jpg    \n",
            "  inflating: data/sunny/s2561.jpg    \n",
            "  inflating: data/sunny/s2562.jpg    \n",
            "  inflating: data/sunny/s2563.jpg    \n",
            "  inflating: data/sunny/s2564.jpg    \n",
            "  inflating: data/sunny/s2565.jpg    \n",
            "  inflating: data/sunny/s2566.jpg    \n",
            "  inflating: data/sunny/s2567.jpg    \n",
            "  inflating: data/sunny/s2568.jpg    \n",
            "  inflating: data/sunny/s2569.jpg    \n",
            "  inflating: data/sunny/s2570.jpg    \n",
            "  inflating: data/sunny/s2571.jpg    \n",
            "  inflating: data/sunny/s2572.jpg    \n",
            "  inflating: data/sunny/s2573.jpg    \n",
            "  inflating: data/sunny/s2574.jpg    \n",
            "  inflating: data/sunny/s2575.jpg    \n",
            "  inflating: data/sunny/s2576.jpg    \n",
            "  inflating: data/sunny/s2577.jpg    \n",
            "  inflating: data/sunny/s2578.jpg    \n",
            "  inflating: data/sunny/s2579.jpg    \n",
            "  inflating: data/sunny/s2580.jpg    \n",
            "  inflating: data/sunny/s2581.jpg    \n",
            "  inflating: data/sunny/s2582.jpg    \n",
            "  inflating: data/sunny/s2583.jpg    \n",
            "  inflating: data/sunny/s2584.jpg    \n",
            "  inflating: data/sunny/s2585.jpg    \n",
            "  inflating: data/sunny/s2586.jpg    \n",
            "  inflating: data/sunny/s2587.jpg    \n",
            "  inflating: data/sunny/s2589.jpg    \n",
            "  inflating: data/sunny/s2590.jpg    \n",
            "  inflating: data/sunny/s2593.jpg    \n",
            "  inflating: data/sunny/s2594.jpg    \n",
            "  inflating: data/sunny/s2595.jpg    \n",
            "  inflating: data/sunny/s2597.jpg    \n",
            "  inflating: data/sunny/s2599.jpg    \n",
            "  inflating: data/sunny/s2600.jpg    \n",
            "  inflating: data/sunny/s2601.jpg    \n",
            "  inflating: data/sunny/s2602.jpg    \n",
            "  inflating: data/sunny/s2603.jpg    \n",
            "  inflating: data/sunny/s2604.jpg    \n",
            "  inflating: data/sunny/s2605.jpg    \n",
            "  inflating: data/sunny/s2606.jpg    \n",
            "  inflating: data/sunny/s2607.jpg    \n",
            "  inflating: data/sunny/s2608.jpg    \n",
            "  inflating: data/sunny/s2609.jpg    \n",
            "  inflating: data/sunny/s2610.jpg    \n",
            "  inflating: data/sunny/s2612.jpg    \n",
            "  inflating: data/sunny/s2613.jpg    \n",
            "  inflating: data/sunny/s2614.jpg    \n",
            "  inflating: data/sunny/s2615.jpg    \n",
            "  inflating: data/sunny/s2616.jpg    \n",
            "  inflating: data/sunny/s2617.jpg    \n",
            "  inflating: data/sunny/s2618.jpg    \n",
            "  inflating: data/sunny/s2619.jpg    \n",
            "  inflating: data/sunny/s2620.jpg    \n",
            "  inflating: data/sunny/s2621.jpg    \n",
            "  inflating: data/sunny/s2622.jpg    \n",
            "  inflating: data/sunny/s2623.jpg    \n",
            "  inflating: data/sunny/s2624.jpg    \n",
            "  inflating: data/sunny/s2625.jpg    \n",
            "  inflating: data/sunny/s2626.jpg    \n",
            "  inflating: data/sunny/s2627.jpg    \n",
            "  inflating: data/sunny/s2628.jpg    \n",
            "  inflating: data/sunny/s2629.jpg    \n",
            "  inflating: data/sunny/s2630.jpg    \n",
            "  inflating: data/sunny/s2631.jpg    \n",
            "  inflating: data/sunny/s2632.jpg    \n",
            "  inflating: data/sunny/s2633.jpg    \n",
            "  inflating: data/sunny/s2634.jpg    \n",
            "  inflating: data/sunny/s2635.jpg    \n",
            "  inflating: data/sunny/s2636.jpg    \n",
            "  inflating: data/sunny/s2638.jpg    \n",
            "  inflating: data/sunny/s2639.jpg    \n",
            "  inflating: data/sunny/s2640.jpg    \n",
            "  inflating: data/sunny/s2641.jpg    \n",
            "  inflating: data/sunny/s2642.jpg    \n",
            "  inflating: data/sunny/s2643.jpg    \n",
            "  inflating: data/sunny/s2644.jpg    \n",
            "  inflating: data/sunny/s2645.jpg    \n",
            "  inflating: data/sunny/s2646.jpg    \n",
            "  inflating: data/sunny/s2647.jpg    \n",
            "  inflating: data/sunny/s2648.jpg    \n",
            "  inflating: data/sunny/s2649.jpg    \n",
            "  inflating: data/sunny/s2651.jpg    \n",
            "  inflating: data/sunny/s2652.jpg    \n",
            "  inflating: data/sunny/s2653.jpg    \n",
            "  inflating: data/sunny/s2654.jpg    \n",
            "  inflating: data/sunny/s2655.jpg    \n",
            "  inflating: data/sunny/s2656.jpg    \n",
            "  inflating: data/sunny/s2658.jpg    \n",
            "  inflating: data/sunny/s2659.jpg    \n",
            "  inflating: data/sunny/s2660.jpg    \n",
            "  inflating: data/sunny/s2661.jpg    \n",
            "  inflating: data/sunny/s2662.jpg    \n",
            "  inflating: data/sunny/s2663.jpg    \n",
            "  inflating: data/sunny/s2664.jpg    \n",
            "  inflating: data/sunny/s2666.jpg    \n",
            "  inflating: data/sunny/s2667.jpg    \n",
            "  inflating: data/sunny/s2668.jpg    \n",
            "  inflating: data/sunny/s2669.jpg    \n",
            "  inflating: data/sunny/s2670.jpg    \n",
            "  inflating: data/sunny/s2671.jpg    \n",
            "  inflating: data/sunny/s2672.jpg    \n",
            "  inflating: data/sunny/s2674.jpg    \n",
            "  inflating: data/sunny/s2675.jpg    \n",
            "  inflating: data/sunny/s2676.jpg    \n",
            "  inflating: data/sunny/s2677.jpg    \n",
            "  inflating: data/sunny/s2678.jpg    \n",
            "  inflating: data/sunny/s2680.jpg    \n",
            "  inflating: data/sunny/s2681.jpg    \n",
            "  inflating: data/sunny/s2682.jpg    \n",
            "  inflating: data/sunny/s2683.jpg    \n",
            "  inflating: data/sunny/s2684.jpg    \n",
            "  inflating: data/sunny/s2685.jpg    \n",
            "  inflating: data/sunny/s2686.jpg    \n",
            "  inflating: data/sunny/s2687.jpg    \n",
            "  inflating: data/sunny/s2688.jpg    \n",
            "  inflating: data/sunny/s2689.jpg    \n",
            "  inflating: data/sunny/s2690.jpg    \n",
            "  inflating: data/sunny/s2691.jpg    \n",
            "  inflating: data/sunny/s2692.jpg    \n",
            "  inflating: data/sunny/s2693.jpg    \n",
            "  inflating: data/sunny/s2694.jpg    \n",
            "  inflating: data/sunny/s2695.jpg    \n",
            "  inflating: data/sunny/s2696.jpg    \n",
            "  inflating: data/sunny/s2698.jpg    \n",
            "  inflating: data/sunny/s2699.jpg    \n",
            "  inflating: data/sunny/s2700.jpg    \n",
            "  inflating: data/sunny/s2701.jpg    \n",
            "  inflating: data/sunny/s2702.jpg    \n",
            "  inflating: data/sunny/s2703.jpg    \n",
            "  inflating: data/sunny/s2704.jpg    \n",
            "  inflating: data/sunny/s2705.jpg    \n",
            "  inflating: data/sunny/s2706.jpg    \n",
            "  inflating: data/sunny/s2707.jpg    \n",
            "  inflating: data/sunny/s2708.jpg    \n",
            "  inflating: data/sunny/s2709.jpg    \n",
            "  inflating: data/sunny/s2710.jpg    \n",
            "  inflating: data/sunny/s2712.jpg    \n",
            "  inflating: data/sunny/s2713.jpg    \n",
            "  inflating: data/sunny/s2714.jpg    \n",
            "  inflating: data/sunny/s2715.jpg    \n",
            "  inflating: data/sunny/s2716.jpg    \n",
            "  inflating: data/sunny/s2717.jpg    \n",
            "  inflating: data/sunny/s2718.jpg    \n",
            "  inflating: data/sunny/s2719.jpg    \n",
            "  inflating: data/sunny/s2720.jpg    \n",
            "  inflating: data/sunny/s2721.jpg    \n",
            "  inflating: data/sunny/s2722.jpg    \n",
            "  inflating: data/sunny/s2723.jpg    \n",
            "  inflating: data/sunny/s2724.jpg    \n",
            "  inflating: data/sunny/s2725.jpg    \n",
            "  inflating: data/sunny/s2727.jpg    \n",
            "  inflating: data/sunny/s2728.jpg    \n",
            "  inflating: data/sunny/s2730.jpg    \n",
            "  inflating: data/sunny/s2731.jpg    \n",
            "  inflating: data/sunny/s2732.jpg    \n",
            "  inflating: data/sunny/s2733.jpg    \n",
            "  inflating: data/sunny/s2734.jpg    \n",
            "  inflating: data/sunny/s2736.jpg    \n",
            "  inflating: data/sunny/s2737.jpg    \n",
            "  inflating: data/sunny/s2738.jpg    \n",
            "  inflating: data/sunny/s2739.jpg    \n",
            "  inflating: data/sunny/s2740.jpg    \n",
            "  inflating: data/sunny/s2741.jpg    \n",
            "  inflating: data/sunny/s2742.jpg    \n",
            "  inflating: data/sunny/s2743.jpg    \n",
            "  inflating: data/sunny/s2744.jpg    \n",
            "  inflating: data/sunny/s2745.jpg    \n",
            "  inflating: data/sunny/s2746.jpg    \n",
            "  inflating: data/sunny/s2747.jpg    \n",
            "  inflating: data/sunny/s2748.jpg    \n",
            "  inflating: data/sunny/s2749.jpg    \n",
            "  inflating: data/sunny/s2750.jpg    \n",
            "  inflating: data/sunny/s2751.jpg    \n",
            "  inflating: data/sunny/s2752.jpg    \n",
            "  inflating: data/sunny/s2753.jpg    \n",
            "  inflating: data/sunny/s2754.jpg    \n",
            "  inflating: data/sunny/s2755.jpg    \n",
            "  inflating: data/sunny/s2756.jpg    \n",
            "  inflating: data/sunny/s2757.jpg    \n",
            "  inflating: data/sunny/s2758.jpg    \n",
            "  inflating: data/sunny/s2759.jpg    \n",
            "  inflating: data/sunny/s2760.jpg    \n",
            "  inflating: data/sunny/s2761.jpg    \n",
            "  inflating: data/sunny/s2762.jpg    \n",
            "  inflating: data/sunny/s2764.jpg    \n",
            "  inflating: data/sunny/s2765.jpg    \n",
            "  inflating: data/sunny/s2766.jpg    \n",
            "  inflating: data/sunny/s2767.jpg    \n",
            "  inflating: data/sunny/s2768.jpg    \n",
            "  inflating: data/sunny/s2769.jpg    \n",
            "  inflating: data/sunny/s2770.jpg    \n",
            "  inflating: data/sunny/s2771.jpg    \n",
            "  inflating: data/sunny/s2772.jpg    \n",
            "  inflating: data/sunny/s2773.jpg    \n",
            "  inflating: data/sunny/s2774.jpg    \n",
            "  inflating: data/sunny/s2776.jpg    \n",
            "  inflating: data/sunny/s2777.jpg    \n",
            "  inflating: data/sunny/s2779.jpg    \n",
            "  inflating: data/sunny/s2780.jpg    \n",
            "  inflating: data/sunny/s2781.jpg    \n",
            "  inflating: data/sunny/s2782.jpg    \n",
            "  inflating: data/sunny/s2783.jpg    \n",
            "  inflating: data/sunny/s2784.jpg    \n",
            "  inflating: data/sunny/s2785.jpg    \n",
            "  inflating: data/sunny/s2786.jpg    \n",
            "  inflating: data/sunny/s2787.jpg    \n",
            "  inflating: data/sunny/s2788.jpg    \n",
            "  inflating: data/sunny/s2789.jpg    \n",
            "  inflating: data/sunny/s2790.jpg    \n",
            "  inflating: data/sunny/s2791.jpg    \n",
            "  inflating: data/sunny/s2792.jpg    \n",
            "  inflating: data/sunny/s2793.jpg    \n",
            "  inflating: data/sunny/s2794.jpg    \n",
            "  inflating: data/sunny/s2795.jpg    \n",
            "  inflating: data/sunny/s2796.jpg    \n",
            "  inflating: data/sunny/s2797.jpg    \n",
            "  inflating: data/sunny/s2798.jpg    \n",
            "  inflating: data/sunny/s2799.jpg    \n",
            "  inflating: data/sunny/s2800.jpg    \n",
            "  inflating: data/sunny/s2801.jpg    \n",
            "  inflating: data/sunny/s2802.jpg    \n",
            "  inflating: data/sunny/s2803.jpg    \n",
            "  inflating: data/sunny/s2804.jpg    \n",
            "  inflating: data/sunny/s2805.jpg    \n",
            "  inflating: data/sunny/s2806.jpg    \n",
            "  inflating: data/sunny/s2807.jpg    \n",
            "  inflating: data/sunny/s2809.jpg    \n",
            "  inflating: data/sunny/s2810.jpg    \n",
            "  inflating: data/sunny/s2811.jpg    \n",
            "  inflating: data/sunny/s2812.jpg    \n",
            "  inflating: data/sunny/s2813.jpg    \n",
            "  inflating: data/sunny/s2814.jpg    \n",
            "  inflating: data/sunny/s2815.jpg    \n",
            "  inflating: data/sunny/s2816.jpg    \n",
            "  inflating: data/sunny/s2817.jpg    \n",
            "  inflating: data/sunny/s2818.jpg    \n",
            "  inflating: data/sunny/s2819.jpg    \n",
            "  inflating: data/sunny/s2820.jpg    \n",
            "  inflating: data/sunny/s2821.jpg    \n",
            "  inflating: data/sunny/s2822.jpg    \n",
            "  inflating: data/sunny/s2823.jpg    \n",
            "  inflating: data/sunny/s2824.jpg    \n",
            "  inflating: data/sunny/s2825.jpg    \n",
            "  inflating: data/sunny/s2826.jpg    \n",
            "  inflating: data/sunny/s2827.jpg    \n",
            "  inflating: data/sunny/s2828.jpg    \n",
            "  inflating: data/sunny/s2829.jpg    \n",
            "  inflating: data/sunny/s2830.jpg    \n",
            "  inflating: data/sunny/s2831.jpg    \n",
            "  inflating: data/sunny/s2832.jpg    \n",
            "  inflating: data/sunny/s2833.jpg    \n",
            "  inflating: data/sunny/s2834.jpg    \n",
            "  inflating: data/sunny/s2835.jpg    \n",
            "  inflating: data/sunny/s2836.jpg    \n",
            "  inflating: data/sunny/s2837.jpg    \n",
            "  inflating: data/sunny/s2838.jpg    \n",
            "  inflating: data/sunny/s2839.jpg    \n",
            "  inflating: data/sunny/s2840.jpg    \n",
            "  inflating: data/sunny/s2841.jpg    \n",
            "  inflating: data/sunny/s2842.jpg    \n",
            "  inflating: data/sunny/s2844.jpg    \n",
            "  inflating: data/sunny/s2845.jpg    \n",
            "  inflating: data/sunny/s2846.jpg    \n",
            "  inflating: data/sunny/s2847.jpg    \n",
            "  inflating: data/sunny/s2848.jpg    \n",
            "  inflating: data/sunny/s2849.jpg    \n",
            "  inflating: data/sunny/s2850.jpg    \n",
            "  inflating: data/sunny/s2851.jpg    \n",
            "  inflating: data/sunny/s2852.jpg    \n",
            "  inflating: data/sunny/s2853.jpg    \n",
            "  inflating: data/sunny/s2854.jpg    \n",
            "  inflating: data/sunny/s2855.jpg    \n",
            "  inflating: data/sunny/s2856.jpg    \n",
            "  inflating: data/sunny/s2857.jpg    \n",
            "  inflating: data/sunny/s2859.jpg    \n",
            "  inflating: data/sunny/s2860.jpg    \n",
            "  inflating: data/sunny/s2861.jpg    \n",
            "  inflating: data/sunny/s2862.jpg    \n",
            "  inflating: data/sunny/s2863.jpg    \n",
            "  inflating: data/sunny/s2864.jpg    \n",
            "  inflating: data/sunny/s2865.jpg    \n",
            "  inflating: data/sunny/s2866.jpg    \n",
            "  inflating: data/sunny/s2867.jpg    \n",
            "  inflating: data/sunny/s2868.jpg    \n",
            "  inflating: data/sunny/s2869.jpg    \n",
            "  inflating: data/sunny/s2870.jpg    \n",
            "  inflating: data/sunny/s2871.jpg    \n",
            "  inflating: data/sunny/s2872.jpg    \n",
            "  inflating: data/sunny/s2873.jpg    \n",
            "  inflating: data/sunny/s2875.jpg    \n",
            "  inflating: data/sunny/s2876.jpg    \n",
            "  inflating: data/sunny/s2877.jpg    \n",
            "  inflating: data/sunny/s2878.jpg    \n",
            "  inflating: data/sunny/s2879.jpg    \n",
            "  inflating: data/sunny/s2880.jpg    \n",
            "  inflating: data/sunny/s2881.jpg    \n",
            "  inflating: data/sunny/s2882.jpg    \n",
            "  inflating: data/sunny/s2883.jpg    \n",
            "  inflating: data/sunny/s2884.jpg    \n",
            "  inflating: data/sunny/s2885.jpg    \n",
            "  inflating: data/sunny/s2886.jpg    \n",
            "  inflating: data/sunny/s2888.jpg    \n",
            "  inflating: data/sunny/s2889.jpg    \n",
            "  inflating: data/sunny/s2890.jpg    \n",
            "  inflating: data/sunny/s2891.jpg    \n",
            "  inflating: data/sunny/s2892.jpg    \n",
            "  inflating: data/sunny/s2893.jpg    \n",
            "  inflating: data/sunny/s2894.jpg    \n",
            "  inflating: data/sunny/s2895.jpg    \n",
            "  inflating: data/sunny/s2896.jpg    \n",
            "  inflating: data/sunny/s2897.jpg    \n",
            "  inflating: data/sunny/s2898.jpg    \n",
            "  inflating: data/sunny/s2899.jpg    \n",
            "  inflating: data/sunny/s2900.jpg    \n",
            "  inflating: data/sunny/s2901.jpg    \n",
            "  inflating: data/sunny/s2902.jpg    \n",
            "  inflating: data/sunny/s2904.jpg    \n",
            "  inflating: data/sunny/s2905.jpg    \n",
            "  inflating: data/sunny/s2906.jpg    \n",
            "  inflating: data/sunny/s2907.jpg    \n",
            "  inflating: data/sunny/s2908.jpg    \n",
            "  inflating: data/sunny/s2909.jpg    \n",
            "  inflating: data/sunny/s2910.jpg    \n",
            "  inflating: data/sunny/s2911.jpg    \n",
            "  inflating: data/sunny/s2912.jpg    \n",
            "  inflating: data/sunny/s2913.jpg    \n",
            "  inflating: data/sunny/s2914.jpg    \n",
            "  inflating: data/sunny/s2915.jpg    \n",
            "  inflating: data/sunny/s2917.jpg    \n",
            "  inflating: data/sunny/s2918.jpg    \n",
            "  inflating: data/sunny/s2919.jpg    \n",
            "  inflating: data/sunny/s2920.jpg    \n",
            "  inflating: data/sunny/s2921.jpg    \n",
            "  inflating: data/sunny/s2922.jpg    \n",
            "  inflating: data/sunny/s2923.jpg    \n",
            "  inflating: data/sunny/s2924.jpg    \n",
            "  inflating: data/sunny/s2925.jpg    \n",
            "  inflating: data/sunny/s2926.jpg    \n",
            "  inflating: data/sunny/s2927.jpg    \n",
            "  inflating: data/sunny/s2928.jpg    \n",
            "  inflating: data/sunny/s2929.jpg    \n",
            "  inflating: data/sunny/s2930.jpg    \n",
            "  inflating: data/sunny/s2931.jpg    \n",
            "  inflating: data/sunny/s2932.jpg    \n",
            "  inflating: data/sunny/s2933.jpg    \n",
            "  inflating: data/sunny/s2934.jpg    \n",
            "  inflating: data/sunny/s2935.jpg    \n",
            "  inflating: data/sunny/s2936.jpg    \n",
            "  inflating: data/sunny/s2937.jpg    \n",
            "  inflating: data/sunny/s2938.jpg    \n",
            "  inflating: data/sunny/s2939.jpg    \n",
            "  inflating: data/sunny/s2940.jpg    \n",
            "  inflating: data/sunny/s2941.jpg    \n",
            "  inflating: data/sunny/s2942.jpg    \n",
            "  inflating: data/sunny/s2943.jpg    \n",
            "  inflating: data/sunny/s2944.jpg    \n",
            "  inflating: data/sunny/s2945.jpg    \n",
            "  inflating: data/sunny/s2946.jpg    \n",
            "  inflating: data/sunny/s2947.jpg    \n",
            "  inflating: data/sunny/s2948.jpg    \n",
            "  inflating: data/sunny/s2949.jpg    \n",
            "  inflating: data/sunny/s2950.jpg    \n",
            "  inflating: data/sunny/s2951.jpg    \n",
            "  inflating: data/sunny/s2952.jpg    \n",
            "  inflating: data/sunny/s2953.jpg    \n",
            "  inflating: data/sunny/s2954.jpg    \n",
            "  inflating: data/sunny/s2955.jpg    \n",
            "  inflating: data/sunny/s2956.jpg    \n",
            "  inflating: data/sunny/s2957.jpg    \n",
            "  inflating: data/sunny/s2958.jpg    \n",
            "  inflating: data/sunny/s2959.jpg    \n",
            "  inflating: data/sunny/s2960.jpg    \n",
            "  inflating: data/sunny/s2961.jpg    \n",
            "  inflating: data/sunny/s2962.jpg    \n",
            "  inflating: data/sunny/s2963.jpg    \n",
            "  inflating: data/sunny/s2964.jpg    \n",
            "  inflating: data/sunny/s2965.jpg    \n",
            "  inflating: data/sunny/s2966.jpg    \n",
            "  inflating: data/sunny/s2967.jpg    \n",
            "  inflating: data/sunny/s2968.jpg    \n",
            "  inflating: data/sunny/s2969.jpg    \n",
            "  inflating: data/sunny/s2970.jpg    \n",
            "  inflating: data/sunny/s2971.jpg    \n",
            "  inflating: data/sunny/s2972.jpg    \n",
            "  inflating: data/sunny/s2973.jpg    \n",
            "  inflating: data/sunny/s2974.jpg    \n",
            "  inflating: data/sunny/s2975.jpg    \n",
            "  inflating: data/sunny/s2976.jpg    \n",
            "  inflating: data/sunny/s2977.jpg    \n",
            "  inflating: data/sunny/s2978.jpg    \n",
            "  inflating: data/sunny/s2979.jpg    \n",
            "  inflating: data/sunny/s2980.jpg    \n",
            "  inflating: data/sunny/s2981.jpg    \n",
            "  inflating: data/sunny/s2982.jpg    \n",
            "  inflating: data/sunny/s2983.jpg    \n",
            "  inflating: data/sunny/s2984.jpg    \n",
            "  inflating: data/sunny/s2985.jpg    \n",
            "  inflating: data/sunny/s2986.jpg    \n",
            "  inflating: data/sunny/s2987.jpg    \n",
            "  inflating: data/sunny/s2988.jpg    \n",
            "  inflating: data/sunny/s2989.jpg    \n",
            "  inflating: data/sunny/s2990.jpg    \n",
            "  inflating: data/sunny/s2991.jpg    \n",
            "  inflating: data/sunny/s2993.jpg    \n",
            "  inflating: data/sunny/s2994.jpg    \n",
            "  inflating: data/sunny/s2995.jpg    \n",
            "  inflating: data/sunny/s2996.jpg    \n",
            "  inflating: data/sunny/s2997.jpg    \n",
            "  inflating: data/sunny/s2998.jpg    \n",
            "  inflating: data/sunny/s2999.jpg    \n",
            "  inflating: data/sunny/s3000.jpg    \n",
            "  inflating: data/sunny/s3002.jpg    \n",
            "  inflating: data/sunny/s3003.jpg    \n",
            "  inflating: data/sunny/s3005.jpg    \n",
            "  inflating: data/sunny/s3006.jpg    \n",
            "  inflating: data/sunny/s3007.jpg    \n",
            "  inflating: data/sunny/s3008.jpg    \n",
            "  inflating: data/sunny/s3009.jpg    \n",
            "  inflating: data/sunny/s3010.jpg    \n",
            "  inflating: data/sunny/s3011.jpg    \n",
            "  inflating: data/sunny/s3012.jpg    \n",
            "  inflating: data/sunny/s3013.jpg    \n",
            "  inflating: data/sunny/s3014.jpg    \n",
            "  inflating: data/sunny/s3015.jpg    \n",
            "  inflating: data/sunny/s3016.jpg    \n",
            "  inflating: data/sunny/s3017.jpg    \n",
            "  inflating: data/sunny/s3018.jpg    \n",
            "  inflating: data/sunny/s3020.jpg    \n",
            "  inflating: data/sunny/s3021.jpg    \n",
            "  inflating: data/sunny/s3022.jpg    \n",
            "  inflating: data/sunny/s3023.jpg    \n",
            "  inflating: data/sunny/s3024.jpg    \n",
            "  inflating: data/sunny/s3025.jpg    \n",
            "  inflating: data/sunny/s3026.jpg    \n",
            "  inflating: data/sunny/s3027.jpg    \n",
            "  inflating: data/sunny/s3028.jpg    \n",
            "  inflating: data/sunny/s3029.jpg    \n",
            "  inflating: data/sunny/s3031.jpg    \n",
            "  inflating: data/sunny/s3033.jpg    \n",
            "  inflating: data/sunny/s3034.jpg    \n",
            "  inflating: data/sunny/s3035.jpg    \n",
            "  inflating: data/sunny/s3036.jpg    \n",
            "  inflating: data/sunny/s3037.jpg    \n",
            "  inflating: data/sunny/s3038.jpg    \n",
            "  inflating: data/sunny/s3039.jpg    \n",
            "  inflating: data/sunny/s3040.jpg    \n",
            "  inflating: data/sunny/s3041.jpg    \n",
            "  inflating: data/sunny/s3042.jpg    \n",
            "  inflating: data/sunny/s3043.jpg    \n",
            "  inflating: data/sunny/s3044.jpg    \n",
            "  inflating: data/sunny/s3046.jpg    \n",
            "  inflating: data/sunny/s3047.jpg    \n",
            "  inflating: data/sunny/s3048.jpg    \n",
            "  inflating: data/sunny/s3050.jpg    \n",
            "  inflating: data/sunny/s3051.jpg    \n",
            "  inflating: data/sunny/s3052.jpg    \n",
            "  inflating: data/sunny/s3053.jpg    \n",
            "  inflating: data/sunny/s3054.jpg    \n",
            "  inflating: data/sunny/s3055.jpg    \n",
            "  inflating: data/sunny/s3056.jpg    \n",
            "  inflating: data/sunny/s3057.jpg    \n",
            "  inflating: data/sunny/s3058.jpg    \n",
            "  inflating: data/sunny/s3059.jpg    \n",
            "  inflating: data/sunny/s3060.jpg    \n",
            "  inflating: data/sunny/s3062.jpg    \n",
            "  inflating: data/sunny/s3063.jpg    \n",
            "  inflating: data/sunny/s3064.jpg    \n",
            "  inflating: data/sunny/s3065.jpg    \n",
            "  inflating: data/sunny/s3066.jpg    \n",
            "  inflating: data/sunny/s3067.jpg    \n",
            "  inflating: data/sunny/s3068.jpg    \n",
            "  inflating: data/sunny/s3069.jpg    \n",
            "  inflating: data/sunny/s3070.jpg    \n",
            "  inflating: data/sunny/s3071.jpg    \n",
            "  inflating: data/sunny/s3072.jpg    \n",
            "  inflating: data/sunny/s3074.jpg    \n",
            "  inflating: data/sunny/s3075.jpg    \n",
            "  inflating: data/sunny/s3076.jpg    \n",
            "  inflating: data/sunny/s3077.jpg    \n",
            "  inflating: data/sunny/s3078.jpg    \n",
            "  inflating: data/sunny/s3079.jpg    \n",
            "  inflating: data/sunny/s3080.jpg    \n",
            "  inflating: data/sunny/s3081.jpg    \n",
            "  inflating: data/sunny/s3082.jpg    \n",
            "  inflating: data/sunny/s3083.jpg    \n",
            "  inflating: data/sunny/s3085.jpg    \n",
            "  inflating: data/sunny/s3086.jpg    \n",
            "  inflating: data/sunny/s3087.jpg    \n",
            "  inflating: data/sunny/s3088.jpg    \n",
            "  inflating: data/sunny/s3089.jpg    \n",
            "  inflating: data/sunny/s3090.jpg    \n",
            "  inflating: data/sunny/s3091.jpg    \n",
            "  inflating: data/sunny/s3092.jpg    \n",
            "  inflating: data/sunny/s3093.jpg    \n",
            "  inflating: data/sunny/s3094.jpg    \n",
            "  inflating: data/sunny/s3095.jpg    \n",
            "  inflating: data/sunny/s3098.jpg    \n",
            "  inflating: data/sunny/s3099.jpg    \n",
            "  inflating: data/sunny/s3100.jpg    \n",
            "  inflating: data/sunny/s3101.jpg    \n",
            "  inflating: data/sunny/s3102.jpg    \n",
            "  inflating: data/sunny/s3103.jpg    \n",
            "  inflating: data/sunny/s3104.jpg    \n",
            "  inflating: data/sunny/s3106.jpg    \n",
            "  inflating: data/sunny/s3107.jpg    \n",
            "  inflating: data/sunny/s3108.jpg    \n",
            "  inflating: data/sunny/s3109.jpg    \n",
            "  inflating: data/sunny/s3110.jpg    \n",
            "  inflating: data/sunny/s3111.jpg    \n",
            "  inflating: data/sunny/s3112.jpg    \n",
            "  inflating: data/sunny/s3113.jpg    \n",
            "  inflating: data/sunny/s3114.jpg    \n",
            "  inflating: data/sunny/s3115.jpg    \n",
            "  inflating: data/sunny/s3116.jpg    \n",
            "  inflating: data/sunny/s3117.jpg    \n",
            "  inflating: data/sunny/s3118.jpg    \n",
            "  inflating: data/sunny/s3119.jpg    \n",
            "  inflating: data/sunny/s3121.jpg    \n",
            "  inflating: data/sunny/s3122.jpg    \n",
            "  inflating: data/sunny/s3123.jpg    \n",
            "  inflating: data/sunny/s3125.jpg    \n",
            "  inflating: data/sunny/s3127.jpg    \n",
            "  inflating: data/sunny/s3128.jpg    \n",
            "  inflating: data/sunny/s3129.jpg    \n",
            "  inflating: data/sunny/s3130.jpg    \n",
            "  inflating: data/sunny/s3131.jpg    \n",
            "  inflating: data/sunny/s3132.jpg    \n",
            "  inflating: data/sunny/s3133.jpg    \n",
            "  inflating: data/sunny/s3134.jpg    \n",
            "  inflating: data/sunny/s3135.jpg    \n",
            "  inflating: data/sunny/s3136.jpg    \n",
            "  inflating: data/sunny/s3137.jpg    \n",
            "  inflating: data/sunny/s3138.jpg    \n",
            "  inflating: data/sunny/s3139.jpg    \n",
            "  inflating: data/sunny/s3141.jpg    \n",
            "  inflating: data/sunny/s3142.jpg    \n",
            "  inflating: data/sunny/s3143.jpg    \n",
            "  inflating: data/sunny/s3145.jpg    \n",
            "  inflating: data/sunny/s3146.jpg    \n",
            "  inflating: data/sunny/s3147.jpg    \n",
            "  inflating: data/sunny/s3148.jpg    \n",
            "  inflating: data/sunny/s3149.jpg    \n",
            "  inflating: data/sunny/s3150.jpg    \n",
            "  inflating: data/sunny/s3151.jpg    \n",
            "  inflating: data/sunny/s3152.jpg    \n",
            "  inflating: data/sunny/s3153.jpg    \n",
            "  inflating: data/sunny/s3154.jpg    \n",
            "  inflating: data/sunny/s3155.jpg    \n",
            "  inflating: data/sunny/s3156.jpg    \n",
            "  inflating: data/sunny/s3157.jpg    \n",
            "  inflating: data/sunny/s3158.jpg    \n",
            "  inflating: data/sunny/s3159.jpg    \n",
            "  inflating: data/sunny/s3160.jpg    \n",
            "  inflating: data/sunny/s3162.jpg    \n",
            "  inflating: data/sunny/s3163.jpg    \n",
            "  inflating: data/sunny/s3164.jpg    \n",
            "  inflating: data/sunny/s3165.jpg    \n",
            "  inflating: data/sunny/s3166.jpg    \n",
            "  inflating: data/sunny/s3167.jpg    \n",
            "  inflating: data/sunny/s3168.jpg    \n",
            "  inflating: data/sunny/s3169.jpg    \n",
            "  inflating: data/sunny/s3170.jpg    \n",
            "  inflating: data/sunny/s3171.jpg    \n",
            "  inflating: data/sunny/s3172.jpg    \n",
            "  inflating: data/sunny/s3173.jpg    \n",
            "  inflating: data/sunny/s3174.jpg    \n",
            "  inflating: data/sunny/s3175.jpg    \n",
            "  inflating: data/sunny/s3176.jpg    \n",
            "  inflating: data/sunny/s3178.jpg    \n",
            "  inflating: data/sunny/s3179.jpg    \n",
            "  inflating: data/sunny/s3180.jpg    \n",
            "  inflating: data/sunny/s3181.jpg    \n",
            "  inflating: data/sunny/s3182.jpg    \n",
            "  inflating: data/sunny/s3183.jpg    \n",
            "  inflating: data/sunny/s3184.jpg    \n",
            "  inflating: data/sunny/s3185.jpg    \n",
            "  inflating: data/sunny/s3186.jpg    \n",
            "  inflating: data/sunny/s3187.jpg    \n",
            "  inflating: data/sunny/s3188.jpg    \n",
            "  inflating: data/sunny/s3189.jpg    \n",
            "  inflating: data/sunny/s3190.jpg    \n",
            "  inflating: data/sunny/s3191.jpg    \n",
            "  inflating: data/sunny/s3192.jpg    \n",
            "  inflating: data/sunny/s3193.jpg    \n",
            "  inflating: data/sunny/s3195.jpg    \n",
            "  inflating: data/sunny/s3196.jpg    \n",
            "  inflating: data/sunny/s3197.jpg    \n",
            "  inflating: data/sunny/s3198.jpg    \n",
            "  inflating: data/sunny/s3199.jpg    \n",
            "  inflating: data/sunny/s3200.jpg    \n",
            "  inflating: data/sunny/s3201.jpg    \n",
            "  inflating: data/sunny/s3202.jpg    \n",
            "  inflating: data/sunny/s3203.jpg    \n",
            "  inflating: data/sunny/s3204.jpg    \n",
            "  inflating: data/sunny/s3205.jpg    \n",
            "  inflating: data/sunny/s3207.jpg    \n",
            "  inflating: data/sunny/s3208.jpg    \n",
            "  inflating: data/sunny/s3209.jpg    \n",
            "  inflating: data/sunny/s3210.jpg    \n",
            "  inflating: data/sunny/s3211.jpg    \n",
            "  inflating: data/sunny/s3212.jpg    \n",
            "  inflating: data/sunny/s3214.jpg    \n",
            "  inflating: data/sunny/s3215.jpg    \n",
            "  inflating: data/sunny/s3216.jpg    \n",
            "  inflating: data/sunny/s3217.jpg    \n",
            "  inflating: data/sunny/s3218.jpg    \n",
            "  inflating: data/sunny/s3219.jpg    \n",
            "  inflating: data/sunny/s3220.jpg    \n",
            "  inflating: data/sunny/s3221.jpg    \n",
            "  inflating: data/sunny/s3222.jpg    \n",
            "  inflating: data/sunny/s3223.jpg    \n",
            "  inflating: data/sunny/s3224.jpg    \n",
            "  inflating: data/sunny/s3225.jpg    \n",
            "  inflating: data/sunny/s3226.jpg    \n",
            "  inflating: data/sunny/s3227.jpg    \n",
            "  inflating: data/sunny/s3228.jpg    \n",
            "  inflating: data/sunny/s3229.jpg    \n",
            "  inflating: data/sunny/s3230.jpg    \n",
            "  inflating: data/sunny/s3231.jpg    \n",
            "  inflating: data/sunny/s3232.jpg    \n",
            "  inflating: data/sunny/s3233.jpg    \n",
            "  inflating: data/sunny/s3234.jpg    \n",
            "  inflating: data/sunny/s3235.jpg    \n",
            "  inflating: data/sunny/s3236.jpg    \n",
            "  inflating: data/sunny/s3237.jpg    \n",
            "  inflating: data/sunny/s3238.jpg    \n",
            "  inflating: data/sunny/s3239.jpg    \n",
            "  inflating: data/sunny/s3241.jpg    \n",
            "  inflating: data/sunny/s3242.jpg    \n",
            "  inflating: data/sunny/s3243.jpg    \n",
            "  inflating: data/sunny/s3244.jpg    \n",
            "  inflating: data/sunny/s3245.jpg    \n",
            "  inflating: data/sunny/s3246.jpg    \n",
            "  inflating: data/sunny/s3247.jpg    \n",
            "  inflating: data/sunny/s3248.jpg    \n",
            "  inflating: data/sunny/s3249.jpg    \n",
            "  inflating: data/sunny/s3250.jpg    \n",
            "  inflating: data/sunny/s3251.jpg    \n",
            "  inflating: data/sunny/s3252.jpg    \n",
            "  inflating: data/sunny/s3253.jpg    \n",
            "  inflating: data/sunny/s3254.jpg    \n",
            "  inflating: data/sunny/s3255.jpg    \n",
            "  inflating: data/sunny/s3256.jpg    \n",
            "  inflating: data/sunny/s3257.jpg    \n",
            "  inflating: data/sunny/s3258.jpg    \n",
            "  inflating: data/sunny/s3259.jpg    \n",
            "  inflating: data/sunny/s3260.jpg    \n",
            "  inflating: data/sunny/s3261.jpg    \n",
            "  inflating: data/sunny/s3262.jpg    \n",
            "  inflating: data/sunny/s3263.jpg    \n",
            "  inflating: data/sunny/s3264.jpg    \n",
            "  inflating: data/sunny/s3265.jpg    \n",
            "  inflating: data/sunny/s3266.jpg    \n",
            "  inflating: data/sunny/s3267.jpg    \n",
            "  inflating: data/sunny/s3268.jpg    \n",
            "  inflating: data/sunny/s3270.jpg    \n",
            "  inflating: data/sunny/s3271.jpg    \n",
            "  inflating: data/sunny/s3272.jpg    \n",
            "  inflating: data/sunny/s3273.jpg    \n",
            "  inflating: data/sunny/s3274.jpg    \n",
            "  inflating: data/sunny/s3275.jpg    \n",
            "  inflating: data/sunny/s3276.jpg    \n",
            "  inflating: data/sunny/s3277.jpg    \n",
            "  inflating: data/sunny/s3278.jpg    \n",
            "  inflating: data/sunny/s3279.jpg    \n",
            "  inflating: data/sunny/s3280.jpg    \n",
            "  inflating: data/sunny/s3281.jpg    \n",
            "  inflating: data/sunny/s3282.jpg    \n",
            "  inflating: data/sunny/s3283.jpg    \n",
            "  inflating: data/sunny/s3285.jpg    \n",
            "  inflating: data/sunny/s3286.jpg    \n",
            "  inflating: data/sunny/s3287.jpg    \n",
            "  inflating: data/sunny/s3288.jpg    \n",
            "  inflating: data/sunny/s3289.jpg    \n",
            "  inflating: data/sunny/s3290.jpg    \n",
            "  inflating: data/sunny/s3291.jpg    \n",
            "  inflating: data/sunny/s3292.jpg    \n",
            "  inflating: data/sunny/s3294.jpg    \n",
            "  inflating: data/sunny/s3295.jpg    \n",
            "  inflating: data/sunny/s3297.jpg    \n",
            "  inflating: data/sunny/s3299.jpg    \n",
            "  inflating: data/sunny/s3300.jpg    \n",
            "  inflating: data/sunny/s3301.jpg    \n",
            "  inflating: data/sunny/s3302.jpg    \n",
            "  inflating: data/sunny/s3303.jpg    \n",
            "  inflating: data/sunny/s3304.jpg    \n",
            "  inflating: data/sunny/s3305.jpg    \n",
            "  inflating: data/sunny/s3306.jpg    \n",
            "  inflating: data/sunny/s3307.jpg    \n",
            "  inflating: data/sunny/s3308.jpg    \n",
            "  inflating: data/sunny/s3309.jpg    \n",
            "  inflating: data/sunny/s3310.jpg    \n",
            "  inflating: data/sunny/s3311.jpg    \n",
            "  inflating: data/sunny/s3312.jpg    \n",
            "  inflating: data/sunny/s3316.jpg    \n",
            "  inflating: data/sunny/s3317.jpg    \n",
            "  inflating: data/sunny/s3318.jpg    \n",
            "  inflating: data/sunny/s3319.jpg    \n",
            "  inflating: data/sunny/s3320.jpg    \n",
            "  inflating: data/sunny/s3321.jpg    \n",
            "  inflating: data/sunny/s3322.jpg    \n",
            "  inflating: data/sunny/s3323.jpg    \n",
            "  inflating: data/sunny/s3324.jpg    \n",
            "  inflating: data/sunny/s3325.jpg    \n",
            "  inflating: data/sunny/s3326.jpg    \n",
            "  inflating: data/sunny/s3328.jpg    \n",
            "  inflating: data/sunny/s3329.jpg    \n",
            "  inflating: data/sunny/s3330.jpg    \n",
            "  inflating: data/sunny/s3331.jpg    \n",
            "  inflating: data/sunny/s3332.jpg    \n",
            "  inflating: data/sunny/s3333.jpg    \n",
            "  inflating: data/sunny/s3334.jpg    \n",
            "  inflating: data/sunny/s3335.jpg    \n",
            "  inflating: data/sunny/s3336.jpg    \n",
            "  inflating: data/sunny/s3337.jpg    \n",
            "  inflating: data/sunny/s3338.jpg    \n",
            "  inflating: data/sunny/s3340.jpg    \n",
            "  inflating: data/sunny/s3341.jpg    \n",
            "  inflating: data/sunny/s3342.jpg    \n",
            "  inflating: data/sunny/s3343.jpg    \n",
            "  inflating: data/sunny/s3344.jpg    \n",
            "  inflating: data/sunny/s3345.jpg    \n",
            "  inflating: data/sunny/s3347.jpg    \n",
            "  inflating: data/sunny/s3348.jpg    \n",
            "  inflating: data/sunny/s3349.jpg    \n",
            "  inflating: data/sunny/s3350.jpg    \n",
            "  inflating: data/sunny/s3351.jpg    \n",
            "  inflating: data/sunny/s3353.jpg    \n",
            "  inflating: data/sunny/s3354.jpg    \n",
            "  inflating: data/sunny/s3355.jpg    \n",
            "  inflating: data/sunny/s3356.jpg    \n",
            "  inflating: data/sunny/s3357.jpg    \n",
            "  inflating: data/sunny/s3358.jpg    \n",
            "  inflating: data/sunny/s3359.jpg    \n",
            "  inflating: data/sunny/s3360.jpg    \n",
            "  inflating: data/sunny/s3361.jpg    \n",
            "  inflating: data/sunny/s3362.jpg    \n",
            "  inflating: data/sunny/s3363.jpg    \n",
            "  inflating: data/sunny/s3364.jpg    \n",
            "  inflating: data/sunny/s3365.jpg    \n",
            "  inflating: data/sunny/s3366.jpg    \n",
            "  inflating: data/sunny/s3367.jpg    \n",
            "  inflating: data/sunny/s3368.jpg    \n",
            "  inflating: data/sunny/s3369.jpg    \n",
            "  inflating: data/sunny/s3370.jpg    \n",
            "  inflating: data/sunny/s3371.jpg    \n",
            "  inflating: data/sunny/s3372.jpg    \n",
            "  inflating: data/sunny/s3373.jpg    \n",
            "  inflating: data/sunny/s3374.jpg    \n",
            "  inflating: data/sunny/s3375.jpg    \n",
            "  inflating: data/sunny/s3376.jpg    \n",
            "  inflating: data/sunny/s3377.jpg    \n",
            "  inflating: data/sunny/s3378.jpg    \n",
            "  inflating: data/sunny/s3379.jpg    \n",
            "  inflating: data/sunny/s3380.jpg    \n",
            "  inflating: data/sunny/s3381.jpg    \n",
            "  inflating: data/sunny/s3382.jpg    \n",
            "  inflating: data/sunny/s3383.jpg    \n",
            "  inflating: data/sunny/s3385.jpg    \n",
            "  inflating: data/sunny/s3386.jpg    \n",
            "  inflating: data/sunny/s3387.jpg    \n",
            "  inflating: data/sunny/s3388.jpg    \n",
            "  inflating: data/sunny/s3389.jpg    \n",
            "  inflating: data/sunny/s3390.jpg    \n",
            "  inflating: data/sunny/s3392.jpg    \n",
            "  inflating: data/sunny/s3393.jpg    \n",
            "  inflating: data/sunny/s3394.jpg    \n",
            "  inflating: data/sunny/s3395.jpg    \n",
            "  inflating: data/sunny/s3396.jpg    \n",
            "  inflating: data/sunny/s3397.jpg    \n",
            "  inflating: data/sunny/s3398.jpg    \n",
            "  inflating: data/sunny/s3399.jpg    \n",
            "  inflating: data/sunny/s3400.jpg    \n",
            "  inflating: data/sunny/s3401.jpg    \n",
            "  inflating: data/sunny/s3402.jpg    \n",
            "  inflating: data/sunny/s3403.jpg    \n",
            "  inflating: data/sunny/s3405.jpg    \n",
            "  inflating: data/sunny/s3406.jpg    \n",
            "  inflating: data/sunny/s3407.jpg    \n",
            "  inflating: data/sunny/s3408.jpg    \n",
            "  inflating: data/sunny/s3409.jpg    \n",
            "  inflating: data/sunny/s3410.jpg    \n",
            "  inflating: data/sunny/s3411.jpg    \n",
            "  inflating: data/sunny/s3412.jpg    \n",
            "  inflating: data/sunny/s3413.jpg    \n",
            "  inflating: data/sunny/s3414.jpg    \n",
            "  inflating: data/sunny/s3415.jpg    \n",
            "  inflating: data/sunny/s3416.jpg    \n",
            "  inflating: data/sunny/s3417.jpg    \n",
            "  inflating: data/sunny/s3418.jpg    \n",
            "  inflating: data/sunny/s3419.jpg    \n",
            "  inflating: data/sunny/s3422.jpg    \n",
            "  inflating: data/sunny/s3423.jpg    \n",
            "  inflating: data/sunny/s3424.jpg    \n",
            "  inflating: data/sunny/s3425.jpg    \n",
            "  inflating: data/sunny/s3426.jpg    \n",
            "  inflating: data/sunny/s3427.jpg    \n",
            "  inflating: data/sunny/s3428.jpg    \n",
            "  inflating: data/sunny/s3429.jpg    \n",
            "  inflating: data/sunny/s3430.jpg    \n",
            "  inflating: data/sunny/s3431.jpg    \n",
            "  inflating: data/sunny/s3433.jpg    \n",
            "  inflating: data/sunny/s3434.jpg    \n",
            "  inflating: data/sunny/s3435.jpg    \n",
            "  inflating: data/sunny/s3436.jpg    \n",
            "  inflating: data/sunny/s3437.jpg    \n",
            "  inflating: data/sunny/s3438.jpg    \n",
            "  inflating: data/sunny/s3439.jpg    \n",
            "  inflating: data/sunny/s3440.jpg    \n",
            "  inflating: data/sunny/s3441.jpg    \n",
            "  inflating: data/sunny/s3442.jpg    \n",
            "  inflating: data/sunny/s3444.jpg    \n",
            "  inflating: data/sunny/s3445.jpg    \n",
            "  inflating: data/sunny/s3446.jpg    \n",
            "  inflating: data/sunny/s3447.jpg    \n",
            "  inflating: data/sunny/s3448.jpg    \n",
            "  inflating: data/sunny/s3449.jpg    \n",
            "  inflating: data/sunny/s3450.jpg    \n",
            "  inflating: data/sunny/s3451.jpg    \n",
            "  inflating: data/sunny/s3452.jpg    \n",
            "  inflating: data/sunny/s3453.jpg    \n",
            "  inflating: data/sunny/s3454.jpg    \n",
            "  inflating: data/sunny/s3455.jpg    \n",
            "  inflating: data/sunny/s3456.jpg    \n",
            "  inflating: data/sunny/s3457.jpg    \n",
            "  inflating: data/sunny/s3458.jpg    \n",
            "  inflating: data/sunny/s3459.jpg    \n",
            "  inflating: data/sunny/s3460.jpg    \n",
            "  inflating: data/sunny/s3461.jpg    \n",
            "  inflating: data/sunny/s3462.jpg    \n",
            "  inflating: data/sunny/s3463.jpg    \n",
            "  inflating: data/sunny/s3464.jpg    \n",
            "  inflating: data/sunny/s3465.jpg    \n",
            "  inflating: data/sunny/s3466.jpg    \n",
            "  inflating: data/sunny/s3467.jpg    \n",
            "  inflating: data/sunny/s3468.jpg    \n",
            "  inflating: data/sunny/s3469.jpg    \n",
            "  inflating: data/sunny/s3470.jpg    \n",
            "  inflating: data/sunny/s3471.jpg    \n",
            "  inflating: data/sunny/s3472.jpg    \n",
            "  inflating: data/sunny/s3473.jpg    \n",
            "  inflating: data/sunny/s3474.jpg    \n",
            "  inflating: data/sunny/s3475.jpg    \n",
            "  inflating: data/sunny/s3476.jpg    \n",
            "  inflating: data/sunny/s3477.jpg    \n",
            "  inflating: data/sunny/s3478.jpg    \n",
            "  inflating: data/sunny/s3479.jpg    \n",
            "  inflating: data/sunny/s3480.jpg    \n",
            "  inflating: data/sunny/s3481.jpg    \n",
            "  inflating: data/sunny/s3482.jpg    \n",
            "  inflating: data/sunny/s3483.jpg    \n",
            "  inflating: data/sunny/s3484.jpg    \n",
            "  inflating: data/sunny/s3485.jpg    \n",
            "  inflating: data/sunny/s3486.jpg    \n",
            "  inflating: data/sunny/s3487.jpg    \n",
            "  inflating: data/sunny/s3488.jpg    \n",
            "  inflating: data/sunny/s3489.jpg    \n",
            "  inflating: data/sunny/s3490.jpg    \n",
            "  inflating: data/sunny/s3491.jpg    \n",
            "  inflating: data/sunny/s3492.jpg    \n",
            "  inflating: data/sunny/s3493.jpg    \n",
            "  inflating: data/sunny/s3494.jpg    \n",
            "  inflating: data/sunny/s3495.jpg    \n",
            "  inflating: data/sunny/s3496.jpg    \n",
            "  inflating: data/sunny/s3497.jpg    \n",
            "  inflating: data/sunny/s3498.jpg    \n",
            "  inflating: data/sunny/s3499.jpg    \n",
            "  inflating: data/sunny/s3500.jpg    \n",
            "  inflating: data/sunny/s3501.jpg    \n",
            "  inflating: data/sunny/s3503.jpg    \n",
            "  inflating: data/sunny/s3504.jpg    \n",
            "  inflating: data/sunny/s3505.jpg    \n",
            "  inflating: data/sunny/s3506.jpg    \n",
            "  inflating: data/sunny/s3508.jpg    \n",
            "  inflating: data/sunny/s3509.jpg    \n",
            "  inflating: data/sunny/s3510.jpg    \n",
            "  inflating: data/sunny/s3511.jpg    \n",
            "  inflating: data/sunny/s3512.jpg    \n",
            "  inflating: data/sunny/s3513.jpg    \n",
            "  inflating: data/sunny/s3514.jpg    \n",
            "  inflating: data/sunny/s3515.jpg    \n",
            "  inflating: data/sunny/s3516.jpg    \n",
            "  inflating: data/sunny/s3517.jpg    \n",
            "  inflating: data/sunny/s3518.jpg    \n",
            "  inflating: data/sunny/s3519.jpg    \n",
            "  inflating: data/sunny/s3520.jpg    \n",
            "  inflating: data/sunny/s3521.jpg    \n",
            "  inflating: data/sunny/s3522.jpg    \n",
            "  inflating: data/sunny/s3523.jpg    \n",
            "  inflating: data/sunny/s3524.jpg    \n",
            "  inflating: data/sunny/s3525.jpg    \n",
            "  inflating: data/sunny/s3526.jpg    \n",
            "  inflating: data/sunny/s3527.jpg    \n",
            "  inflating: data/sunny/s3528.jpg    \n",
            "  inflating: data/sunny/s3529.jpg    \n",
            "  inflating: data/sunny/s3531.jpg    \n",
            "  inflating: data/sunny/s3532.jpg    \n",
            "  inflating: data/sunny/s3533.jpg    \n",
            "  inflating: data/sunny/s3534.jpg    \n",
            "  inflating: data/sunny/s3535.jpg    \n",
            "  inflating: data/sunny/s3536.jpg    \n",
            "  inflating: data/sunny/s3537.jpg    \n",
            "  inflating: data/sunny/s3538.jpg    \n",
            "  inflating: data/sunny/s3540.jpg    \n",
            "  inflating: data/sunny/s3541.jpg    \n",
            "  inflating: data/sunny/s3542.jpg    \n",
            "  inflating: data/sunny/s3543.jpg    \n",
            "  inflating: data/sunny/s3544.jpg    \n",
            "  inflating: data/sunny/s3545.jpg    \n",
            "  inflating: data/sunny/s3546.jpg    \n",
            "  inflating: data/sunny/s3547.jpg    \n",
            "  inflating: data/sunny/s3548.jpg    \n",
            "  inflating: data/sunny/s3549.jpg    \n",
            "  inflating: data/sunny/s3550.jpg    \n",
            "  inflating: data/sunny/s3551.jpg    \n",
            "  inflating: data/sunny/s3552.jpg    \n",
            "  inflating: data/sunny/s3553.jpg    \n",
            "  inflating: data/sunny/s3554.jpg    \n",
            "  inflating: data/sunny/s3556.jpg    \n",
            "  inflating: data/sunny/s3557.jpg    \n",
            "  inflating: data/sunny/s3558.jpg    \n",
            "  inflating: data/sunny/s3559.jpg    \n",
            "  inflating: data/sunny/s3560.jpg    \n",
            "  inflating: data/sunny/s3561.jpg    \n",
            "  inflating: data/sunny/s3562.jpg    \n",
            "  inflating: data/sunny/s3563.jpg    \n",
            "  inflating: data/sunny/s3564.jpg    \n",
            "  inflating: data/sunny/s3565.jpg    \n",
            "  inflating: data/sunny/s3566.jpg    \n",
            "  inflating: data/sunny/s3567.jpg    \n",
            "  inflating: data/sunny/s3568.jpg    \n",
            "  inflating: data/sunny/s3570.jpg    \n",
            "  inflating: data/sunny/s3571.jpg    \n",
            "  inflating: data/sunny/s3572.jpg    \n",
            "  inflating: data/sunny/s3573.jpg    \n",
            "  inflating: data/sunny/s3574.jpg    \n",
            "  inflating: data/sunny/s3575.jpg    \n",
            "  inflating: data/sunny/s3576.jpg    \n",
            "  inflating: data/sunny/s3577.jpg    \n",
            "  inflating: data/sunny/s3578.jpg    \n",
            "  inflating: data/sunny/s3579.jpg    \n",
            "  inflating: data/sunny/s3580.jpg    \n",
            "  inflating: data/sunny/s3581.jpg    \n",
            "  inflating: data/sunny/s3582.jpg    \n",
            "  inflating: data/sunny/s3583.jpg    \n",
            "  inflating: data/sunny/s3584.jpg    \n",
            "  inflating: data/sunny/s3585.jpg    \n",
            "  inflating: data/sunny/s3586.jpg    \n",
            "  inflating: data/sunny/s3587.jpg    \n",
            "  inflating: data/sunny/s3588.jpg    \n",
            "  inflating: data/sunny/s3589.jpg    \n",
            "  inflating: data/sunny/s3591.jpg    \n",
            "  inflating: data/sunny/s3592.jpg    \n",
            "  inflating: data/sunny/s3593.jpg    \n",
            "  inflating: data/sunny/s3594.jpg    \n",
            "  inflating: data/sunny/s3595.jpg    \n",
            "  inflating: data/sunny/s3596.jpg    \n",
            "  inflating: data/sunny/s3597.jpg    \n",
            "  inflating: data/sunny/s3598.jpg    \n",
            "  inflating: data/sunny/s3600.jpg    \n",
            "  inflating: data/sunny/s3601.jpg    \n",
            "  inflating: data/sunny/s3602.jpg    \n",
            "  inflating: data/sunny/s3603.jpg    \n",
            "  inflating: data/sunny/s3605.jpg    \n",
            "  inflating: data/sunny/s3606.jpg    \n",
            "  inflating: data/sunny/s3608.jpg    \n",
            "  inflating: data/sunny/s3609.jpg    \n",
            "  inflating: data/sunny/s3610.jpg    \n",
            "  inflating: data/sunny/s3611.jpg    \n",
            "  inflating: data/sunny/s3612.jpg    \n",
            "  inflating: data/sunny/s3613.jpg    \n",
            "  inflating: data/sunny/s3614.jpg    \n",
            "  inflating: data/sunny/s3615.jpg    \n",
            "  inflating: data/sunny/s3616.jpg    \n",
            "  inflating: data/sunny/s3618.jpg    \n",
            "  inflating: data/sunny/s3619.jpg    \n",
            "  inflating: data/sunny/s3620.jpg    \n",
            "  inflating: data/sunny/s3621.jpg    \n",
            "  inflating: data/sunny/s3622.jpg    \n",
            "  inflating: data/sunny/s3623.jpg    \n",
            "  inflating: data/sunny/s3624.jpg    \n",
            "  inflating: data/sunny/s3625.jpg    \n",
            "  inflating: data/sunny/s3626.jpg    \n",
            "  inflating: data/sunny/s3627.jpg    \n",
            "  inflating: data/sunny/s3628.jpg    \n",
            "  inflating: data/sunny/s3629.jpg    \n",
            "  inflating: data/sunny/s3630.jpg    \n",
            "  inflating: data/sunny/s3631.jpg    \n",
            "  inflating: data/sunny/s3632.jpg    \n",
            "  inflating: data/sunny/s3633.jpg    \n",
            "  inflating: data/sunny/s3634.jpg    \n",
            "  inflating: data/sunny/s3635.jpg    \n",
            "  inflating: data/sunny/s3636.jpg    \n",
            "  inflating: data/sunny/s3637.jpg    \n",
            "  inflating: data/sunny/s3638.jpg    \n",
            "  inflating: data/sunny/s3639.jpg    \n",
            "  inflating: data/sunny/s3640.jpg    \n",
            "  inflating: data/sunny/s3641.jpg    \n",
            "  inflating: data/sunny/s3642.jpg    \n",
            "  inflating: data/sunny/s3643.jpg    \n",
            "  inflating: data/sunny/s3644.jpg    \n",
            "  inflating: data/sunny/s3646.jpg    \n",
            "  inflating: data/sunny/s3647.jpg    \n",
            "  inflating: data/sunny/s3648.jpg    \n",
            "  inflating: data/sunny/s3649.jpg    \n",
            "  inflating: data/sunny/s3650.jpg    \n",
            "  inflating: data/sunny/s3651.jpg    \n",
            "  inflating: data/sunny/s3652.jpg    \n",
            "  inflating: data/sunny/s3653.jpg    \n",
            "  inflating: data/sunny/s3654.jpg    \n",
            "  inflating: data/sunny/s3655.jpg    \n",
            "  inflating: data/sunny/s3656.jpg    \n",
            "  inflating: data/sunny/s3657.jpg    \n",
            "  inflating: data/sunny/s3658.jpg    \n",
            "  inflating: data/sunny/s3659.jpg    \n",
            "  inflating: data/sunny/s3661.jpg    \n",
            "  inflating: data/sunny/s3662.jpg    \n",
            "  inflating: data/sunny/s3663.jpg    \n",
            "  inflating: data/sunny/s3664.jpg    \n",
            "  inflating: data/sunny/s3665.jpg    \n",
            "  inflating: data/sunny/s3666.jpg    \n",
            "  inflating: data/sunny/s3667.jpg    \n",
            "  inflating: data/sunny/s3669.jpg    \n",
            "  inflating: data/sunny/s3670.jpg    \n",
            "  inflating: data/sunny/s3671.jpg    \n",
            "  inflating: data/sunny/s3672.jpg    \n",
            "  inflating: data/sunny/s3673.jpg    \n",
            "  inflating: data/sunny/s3674.jpg    \n",
            "  inflating: data/sunny/s3675.jpg    \n",
            "  inflating: data/sunny/s3676.jpg    \n",
            "  inflating: data/sunny/s3677.jpg    \n",
            "  inflating: data/sunny/s3678.jpg    \n",
            "  inflating: data/sunny/s3679.jpg    \n",
            "  inflating: data/sunny/s3680.jpg    \n",
            "  inflating: data/sunny/s3681.jpg    \n",
            "  inflating: data/sunny/s3682.jpg    \n",
            "  inflating: data/sunny/s3683.jpg    \n",
            "  inflating: data/sunny/s3684.jpg    \n",
            "  inflating: data/sunny/s3685.jpg    \n",
            "  inflating: data/sunny/s3686.jpg    \n",
            "  inflating: data/sunny/s3687.jpg    \n",
            "  inflating: data/sunny/s3688.jpg    \n",
            "  inflating: data/sunny/s3689.jpg    \n",
            "  inflating: data/sunny/s3690.jpg    \n",
            "  inflating: data/sunny/s3691.jpg    \n",
            "  inflating: data/sunny/s3692.jpg    \n",
            "  inflating: data/sunny/s3693.jpg    \n",
            "  inflating: data/sunny/s3694.jpg    \n",
            "  inflating: data/sunny/s3695.jpg    \n",
            "  inflating: data/sunny/s3696.jpg    \n",
            "  inflating: data/sunny/s3697.jpg    \n",
            "  inflating: data/sunny/s3698.jpg    \n",
            "  inflating: data/sunny/s3699.jpg    \n",
            "  inflating: data/sunny/s3700.jpg    \n",
            "  inflating: data/sunny/s3701.jpg    \n",
            "  inflating: data/sunny/s3702.jpg    \n",
            "  inflating: data/sunny/s3704.jpg    \n",
            "  inflating: data/sunny/s3705.jpg    \n",
            "  inflating: data/sunny/s3706.jpg    \n",
            "  inflating: data/sunny/s3707.jpg    \n",
            "  inflating: data/sunny/s3708.jpg    \n",
            "  inflating: data/sunny/s3709.jpg    \n",
            "  inflating: data/sunny/s3710.jpg    \n",
            "  inflating: data/sunny/s3711.jpg    \n",
            "  inflating: data/sunny/s3712.jpg    \n",
            "  inflating: data/sunny/s3713.jpg    \n",
            "  inflating: data/sunny/s3714.jpg    \n",
            "  inflating: data/sunny/s3715.jpg    \n",
            "  inflating: data/sunny/s3716.jpg    \n",
            "  inflating: data/sunny/s3717.jpg    \n",
            "  inflating: data/sunny/s3718.jpg    \n",
            "  inflating: data/sunny/s3719.jpg    \n",
            "  inflating: data/sunny/s3720.jpg    \n",
            "  inflating: data/sunny/s3721.jpg    \n",
            "  inflating: data/sunny/s3723.jpg    \n",
            "  inflating: data/sunny/s3724.jpg    \n",
            "  inflating: data/sunny/s3725.jpg    \n",
            "  inflating: data/sunny/s3726.jpg    \n",
            "  inflating: data/sunny/s3727.jpg    \n",
            "  inflating: data/sunny/s3728.jpg    \n",
            "  inflating: data/sunny/s3729.jpg    \n",
            "  inflating: data/sunny/s3730.jpg    \n",
            "  inflating: data/sunny/s3731.jpg    \n",
            "  inflating: data/sunny/s3732.jpg    \n",
            "  inflating: data/sunny/s3733.jpg    \n",
            "  inflating: data/sunny/s3734.jpg    \n",
            "  inflating: data/sunny/s3735.jpg    \n",
            "  inflating: data/sunny/s3736.jpg    \n",
            "  inflating: data/sunny/s3737.jpg    \n",
            "  inflating: data/sunny/s3738.jpg    \n",
            "  inflating: data/sunny/s3739.jpg    \n",
            "  inflating: data/sunny/s3740.jpg    \n",
            "  inflating: data/sunny/s3741.jpg    \n",
            "  inflating: data/sunny/s3742.jpg    \n",
            "  inflating: data/sunny/s3743.jpg    \n",
            "  inflating: data/sunny/s3744.jpg    \n",
            "  inflating: data/sunny/s3745.jpg    \n",
            "  inflating: data/sunny/s3746.jpg    \n",
            "  inflating: data/sunny/s3747.jpg    \n",
            "  inflating: data/sunny/s3748.jpg    \n",
            "  inflating: data/sunny/s3749.jpg    \n",
            "  inflating: data/sunny/s3750.jpg    \n",
            "  inflating: data/sunny/s3751.jpg    \n",
            "  inflating: data/sunny/s3752.jpg    \n",
            "  inflating: data/sunny/s3753.jpg    \n",
            "  inflating: data/sunny/s3754.jpg    \n",
            "  inflating: data/sunny/s3755.jpg    \n",
            "  inflating: data/sunny/s3756.jpg    \n",
            "  inflating: data/sunny/s3757.jpg    \n",
            "  inflating: data/sunny/s3758.jpg    \n",
            "  inflating: data/sunny/s3759.jpg    \n",
            "  inflating: data/sunny/s3760.jpg    \n",
            "  inflating: data/sunny/s3761.jpg    \n",
            "  inflating: data/sunny/s3762.jpg    \n",
            "  inflating: data/sunny/s3763.jpg    \n",
            "  inflating: data/sunny/s3764.jpg    \n",
            "  inflating: data/sunny/s3765.jpg    \n",
            "  inflating: data/sunny/s3766.jpg    \n",
            "  inflating: data/sunny/s3767.jpg    \n",
            "  inflating: data/sunny/s3768.jpg    \n",
            "  inflating: data/sunny/s3769.jpg    \n",
            "  inflating: data/sunny/s3770.jpg    \n",
            "  inflating: data/sunny/s3771.jpg    \n",
            "  inflating: data/sunny/s3772.jpg    \n",
            "  inflating: data/sunny/s3773.jpg    \n",
            "  inflating: data/sunny/s3774.jpg    \n",
            "  inflating: data/sunny/s3775.jpg    \n",
            "  inflating: data/sunny/s3776.jpg    \n",
            "  inflating: data/sunny/s3777.jpg    \n",
            "  inflating: data/sunny/s3778.jpg    \n",
            "  inflating: data/sunny/s3779.jpg    \n",
            "  inflating: data/sunny/s3780.jpg    \n",
            "  inflating: data/sunny/s3781.jpg    \n",
            "  inflating: data/sunny/s3782.jpg    \n",
            "  inflating: data/sunny/s3783.jpg    \n",
            "  inflating: data/sunny/s3784.jpg    \n",
            "  inflating: data/sunny/s3785.jpg    \n",
            "  inflating: data/sunny/s3786.jpg    \n",
            "  inflating: data/sunny/s3787.jpg    \n",
            "  inflating: data/sunny/s3788.jpg    \n",
            "  inflating: data/sunny/s3789.jpg    \n",
            "  inflating: data/sunny/s3790.jpg    \n",
            "  inflating: data/sunny/s3791.jpg    \n",
            "  inflating: data/sunny/s3792.jpg    \n",
            "  inflating: data/sunny/s3793.jpg    \n",
            "  inflating: data/sunny/s3794.jpg    \n",
            "  inflating: data/sunny/s3795.jpg    \n",
            "  inflating: data/sunny/s3796.jpg    \n",
            "  inflating: data/sunny/s3797.jpg    \n",
            "  inflating: data/sunny/s3798.jpg    \n",
            "  inflating: data/sunny/s3799.jpg    \n",
            "  inflating: data/sunny/s3800.jpg    \n",
            "  inflating: data/sunny/s3801.jpg    \n",
            "  inflating: data/sunny/s3802.jpg    \n",
            "  inflating: data/sunny/s3803.jpg    \n",
            "  inflating: data/sunny/s3804.jpg    \n",
            "  inflating: data/sunny/s3805.jpg    \n",
            "  inflating: data/sunny/s3807.jpg    \n",
            "  inflating: data/sunny/s3808.jpg    \n",
            "  inflating: data/sunny/s3809.jpg    \n",
            "  inflating: data/sunny/s3810.jpg    \n",
            "  inflating: data/sunny/s3811.jpg    \n",
            "  inflating: data/sunny/s3812.jpg    \n",
            "  inflating: data/sunny/s3813.jpg    \n",
            "  inflating: data/sunny/s3815.jpg    \n",
            "  inflating: data/sunny/s3816.jpg    \n",
            "  inflating: data/sunny/s3817.jpg    \n",
            "  inflating: data/sunny/s3818.jpg    \n",
            "  inflating: data/sunny/s3819.jpg    \n",
            "  inflating: data/sunny/s3820.jpg    \n",
            "  inflating: data/sunny/s3821.jpg    \n",
            "  inflating: data/sunny/s3823.jpg    \n",
            "  inflating: data/sunny/s3824.jpg    \n",
            "  inflating: data/sunny/s3825.jpg    \n",
            "  inflating: data/sunny/s3826.jpg    \n",
            "  inflating: data/sunny/s3827.jpg    \n",
            "  inflating: data/sunny/s3828.jpg    \n",
            "  inflating: data/sunny/s3829.jpg    \n",
            "  inflating: data/sunny/s3830.jpg    \n",
            "  inflating: data/sunny/s3831.jpg    \n",
            "  inflating: data/sunny/s3832.jpg    \n",
            "  inflating: data/sunny/s3833.jpg    \n",
            "  inflating: data/sunny/s3834.jpg    \n",
            "  inflating: data/sunny/s3835.jpg    \n",
            "  inflating: data/sunny/s3836.jpg    \n",
            "  inflating: data/sunny/s3837.jpg    \n",
            "  inflating: data/sunny/s3838.jpg    \n",
            "  inflating: data/sunny/s3839.jpg    \n",
            "  inflating: data/sunny/s3840.jpg    \n",
            "  inflating: data/sunny/s3841.jpg    \n",
            "  inflating: data/sunny/s3842.jpg    \n",
            "  inflating: data/sunny/s3843.jpg    \n",
            "  inflating: data/sunny/s3844.jpg    \n",
            "  inflating: data/sunny/s3845.jpg    \n",
            "  inflating: data/sunny/s3847.jpg    \n",
            "  inflating: data/sunny/s3848.jpg    \n",
            "  inflating: data/sunny/s3849.jpg    \n",
            "  inflating: data/sunny/s3850.jpg    \n",
            "  inflating: data/sunny/s3851.jpg    \n",
            "  inflating: data/sunny/s3852.jpg    \n",
            "  inflating: data/sunny/s3853.jpg    \n",
            "  inflating: data/sunny/s3854.jpg    \n",
            "  inflating: data/sunny/s3855.jpg    \n",
            "  inflating: data/sunny/s3856.jpg    \n",
            "  inflating: data/sunny/s3857.jpg    \n",
            "  inflating: data/sunny/s3858.jpg    \n",
            "  inflating: data/sunny/s3859.jpg    \n",
            "  inflating: data/sunny/s3860.jpg    \n",
            "  inflating: data/sunny/s3861.jpg    \n",
            "  inflating: data/sunny/s3862.jpg    \n",
            "  inflating: data/sunny/s3863.jpg    \n",
            "  inflating: data/sunny/s3864.jpg    \n",
            "  inflating: data/sunny/s3865.jpg    \n",
            "  inflating: data/sunny/s3866.jpg    \n",
            "  inflating: data/sunny/s3867.jpg    \n",
            "  inflating: data/sunny/s3868.jpg    \n",
            "  inflating: data/sunny/s3869.jpg    \n",
            "  inflating: data/sunny/s3870.jpg    \n",
            "  inflating: data/sunny/s3871.jpg    \n",
            "  inflating: data/sunny/s3872.jpg    \n",
            "  inflating: data/sunny/s3873.jpg    \n",
            "  inflating: data/sunny/s3874.jpg    \n",
            "  inflating: data/sunny/s3875.jpg    \n",
            "  inflating: data/sunny/s3876.jpg    \n",
            "  inflating: data/sunny/s3878.jpg    \n",
            "  inflating: data/sunny/s3879.jpg    \n",
            "  inflating: data/sunny/s3880.jpg    \n",
            "  inflating: data/sunny/s3881.jpg    \n",
            "  inflating: data/sunny/s3882.jpg    \n",
            "  inflating: data/sunny/s3883.jpg    \n",
            "  inflating: data/sunny/s3884.jpg    \n",
            "  inflating: data/sunny/s3885.jpg    \n",
            "  inflating: data/sunny/s3886.jpg    \n",
            "  inflating: data/sunny/s3887.jpg    \n",
            "  inflating: data/sunny/s3888.jpg    \n",
            "  inflating: data/sunny/s3889.jpg    \n",
            "  inflating: data/sunny/s3890.jpg    \n",
            "  inflating: data/sunny/s3891.jpg    \n",
            "  inflating: data/sunny/s3892.jpg    \n",
            "  inflating: data/sunny/s3893.jpg    \n",
            "  inflating: data/sunny/s3894.jpg    \n",
            "  inflating: data/sunny/s3895.jpg    \n",
            "  inflating: data/sunny/s3896.jpg    \n",
            "  inflating: data/sunny/s3897.jpg    \n",
            "  inflating: data/sunny/s3898.jpg    \n",
            "  inflating: data/sunny/s3899.jpg    \n",
            "  inflating: data/sunny/s3900.jpg    \n",
            "  inflating: data/sunny/s3901.jpg    \n",
            "  inflating: data/sunny/s3902.jpg    \n",
            "  inflating: data/sunny/s3903.jpg    \n",
            "  inflating: data/sunny/s3904.jpg    \n",
            "  inflating: data/sunny/s3905.jpg    \n",
            "  inflating: data/sunny/s3906.jpg    \n",
            "  inflating: data/sunny/s3907.jpg    \n",
            "  inflating: data/sunny/s3909.jpg    \n",
            "  inflating: data/sunny/s3910.jpg    \n",
            "  inflating: data/sunny/s3911.jpg    \n",
            "  inflating: data/sunny/s3912.jpg    \n",
            "  inflating: data/sunny/s3913.jpg    \n",
            "  inflating: data/sunny/s3914.jpg    \n",
            "  inflating: data/sunny/s3915.jpg    \n",
            "  inflating: data/sunny/s3916.jpg    \n",
            "  inflating: data/sunny/s3917.jpg    \n",
            "  inflating: data/sunny/s3918.jpg    \n",
            "  inflating: data/sunny/s3919.jpg    \n",
            "  inflating: data/sunny/s3920.jpg    \n",
            "  inflating: data/sunny/s3921.jpg    \n",
            "  inflating: data/sunny/s3923.jpg    \n",
            "  inflating: data/sunny/s3924.jpg    \n",
            "  inflating: data/sunny/s3925.jpg    \n",
            "  inflating: data/sunny/s3926.jpg    \n",
            "  inflating: data/sunny/s3927.jpg    \n",
            "  inflating: data/sunny/s3928.jpg    \n",
            "  inflating: data/sunny/s3929.jpg    \n",
            "  inflating: data/sunny/s3930.jpg    \n",
            "  inflating: data/sunny/s3931.jpg    \n",
            "  inflating: data/sunny/s3932.jpg    \n",
            "  inflating: data/sunny/s3933.jpg    \n",
            "  inflating: data/sunny/s3934.jpg    \n",
            "  inflating: data/sunny/s3935.jpg    \n",
            "  inflating: data/sunny/s3936.jpg    \n",
            "  inflating: data/sunny/s3937.jpg    \n",
            "  inflating: data/sunny/s3938.jpg    \n",
            "  inflating: data/sunny/s3939.jpg    \n",
            "  inflating: data/sunny/s3940.jpg    \n",
            "  inflating: data/sunny/s3941.jpg    \n",
            "  inflating: data/sunny/s3942.jpg    \n",
            "  inflating: data/sunny/s3943.jpg    \n",
            "  inflating: data/sunny/s3944.jpg    \n",
            "  inflating: data/sunny/s3945.jpg    \n",
            "  inflating: data/sunny/s3946.jpg    \n",
            "  inflating: data/sunny/s3947.jpg    \n",
            "  inflating: data/sunny/s3948.jpg    \n",
            "  inflating: data/sunny/s3949.jpg    \n",
            "  inflating: data/sunny/s3950.jpg    \n",
            "  inflating: data/sunny/s3951.jpg    \n",
            "  inflating: data/sunny/s3952.jpg    \n",
            "  inflating: data/sunny/s3953.jpg    \n",
            "  inflating: data/sunny/s3954.jpg    \n",
            "  inflating: data/sunny/s3955.jpg    \n",
            "  inflating: data/sunny/s3956.jpg    \n",
            "  inflating: data/sunny/s3957.jpg    \n",
            "  inflating: data/sunny/s3958.jpg    \n",
            "  inflating: data/sunny/s3959.jpg    \n",
            "  inflating: data/sunny/s3960.jpg    \n",
            "  inflating: data/sunny/s3961.jpg    \n",
            "  inflating: data/sunny/s3962.jpg    \n",
            "  inflating: data/sunny/s3963.jpg    \n",
            "  inflating: data/sunny/s3964.jpg    \n",
            "  inflating: data/sunny/s3965.jpg    \n",
            "  inflating: data/sunny/s3967.jpg    \n",
            "  inflating: data/sunny/s3968.jpg    \n",
            "  inflating: data/sunny/s3969.jpg    \n",
            "  inflating: data/sunny/s3970.jpg    \n",
            "  inflating: data/sunny/s3971.jpg    \n",
            "  inflating: data/sunny/s3972.jpg    \n",
            "  inflating: data/sunny/s3973.jpg    \n",
            "  inflating: data/sunny/s3975.jpg    \n",
            "  inflating: data/sunny/s3976.jpg    \n",
            "  inflating: data/sunny/s3977.jpg    \n",
            "  inflating: data/sunny/s3978.jpg    \n",
            "  inflating: data/sunny/s3979.jpg    \n",
            "  inflating: data/sunny/s3980.jpg    \n",
            "  inflating: data/sunny/s3981.jpg    \n",
            "  inflating: data/sunny/s3982.jpg    \n",
            "  inflating: data/sunny/s3983.jpg    \n",
            "  inflating: data/sunny/s3984.jpg    \n",
            "  inflating: data/sunny/s3985.jpg    \n",
            "  inflating: data/sunny/s3986.jpg    \n",
            "  inflating: data/sunny/s3987.jpg    \n",
            "  inflating: data/sunny/s3988.jpg    \n",
            "  inflating: data/sunny/s3989.jpg    \n",
            "  inflating: data/sunny/s3991.jpg    \n",
            "  inflating: data/sunny/s3992.jpg    \n",
            "  inflating: data/sunny/s3993.jpg    \n",
            "  inflating: data/sunny/s3994.jpg    \n",
            "  inflating: data/sunny/s3995.jpg    \n",
            "  inflating: data/sunny/s3996.jpg    \n",
            "  inflating: data/sunny/s3997.jpg    \n",
            "  inflating: data/sunny/s3998.jpg    \n",
            "  inflating: data/sunny/s3999.jpg    \n",
            "  inflating: data/sunny/s4000.jpg    \n",
            "  inflating: data/sunny/s4001.jpg    \n",
            "  inflating: data/sunny/s4002.jpg    \n",
            "  inflating: data/sunny/s4003.jpg    \n",
            "  inflating: data/sunny/s4004.jpg    \n",
            "  inflating: data/sunny/s4005.jpg    \n",
            "  inflating: data/sunny/s4006.jpg    \n",
            "  inflating: data/sunny/s4007.jpg    \n",
            "  inflating: data/sunny/s4008.jpg    \n",
            "  inflating: data/sunny/s4009.jpg    \n",
            "  inflating: data/sunny/s4010.jpg    \n",
            "  inflating: data/sunny/s4011.jpg    \n",
            "  inflating: data/sunny/s4012.jpg    \n",
            "  inflating: data/sunny/s4013.jpg    \n",
            "  inflating: data/sunny/s4014.jpg    \n",
            "  inflating: data/sunny/s4015.jpg    \n",
            "  inflating: data/sunny/s4016.jpg    \n",
            "  inflating: data/sunny/s4017.jpg    \n",
            "  inflating: data/sunny/s4018.jpg    \n",
            "  inflating: data/sunny/s4019.jpg    \n",
            "  inflating: data/sunny/s4020.jpg    \n",
            "  inflating: data/sunny/s4021.jpg    \n",
            "  inflating: data/sunny/s4022.jpg    \n",
            "  inflating: data/sunny/s4023.jpg    \n",
            "  inflating: data/sunny/s4024.jpg    \n",
            "  inflating: data/sunny/s4025.jpg    \n",
            "  inflating: data/sunny/s4026.jpg    \n",
            "  inflating: data/sunny/s4027.jpg    \n",
            "  inflating: data/sunny/s4028.jpg    \n",
            "  inflating: data/sunny/s4029.jpg    \n",
            "  inflating: data/sunny/s4030.jpg    \n",
            "  inflating: data/sunny/s4031.jpg    \n",
            "  inflating: data/sunny/s4033.jpg    \n",
            "  inflating: data/sunny/s4035.jpg    \n",
            "  inflating: data/sunny/s4036.jpg    \n",
            "  inflating: data/sunny/s4037.jpg    \n",
            "  inflating: data/sunny/s4038.jpg    \n",
            "  inflating: data/sunny/s4039.jpg    \n",
            "  inflating: data/sunny/s4040.jpg    \n",
            "  inflating: data/sunny/s4042.jpg    \n",
            "  inflating: data/sunny/s4043.jpg    \n",
            "  inflating: data/sunny/s4044.jpg    \n",
            "  inflating: data/sunny/s4046.jpg    \n",
            "  inflating: data/sunny/s4047.jpg    \n",
            "  inflating: data/sunny/s4048.jpg    \n",
            "  inflating: data/sunny/s4049.jpg    \n",
            "  inflating: data/sunny/s4050.jpg    \n",
            "  inflating: data/sunny/s4051.jpg    \n",
            "  inflating: data/sunny/s4052.jpg    \n",
            "  inflating: data/sunny/s4053.jpg    \n",
            "  inflating: data/sunny/s4054.jpg    \n",
            "  inflating: data/sunny/s4055.jpg    \n",
            "  inflating: data/sunny/s4056.jpg    \n",
            "  inflating: data/sunny/s4058.jpg    \n",
            "  inflating: data/sunny/s4059.jpg    \n",
            "  inflating: data/sunny/s4060.jpg    \n",
            "  inflating: data/sunny/s4061.jpg    \n",
            "  inflating: data/sunny/s4062.jpg    \n",
            "  inflating: data/sunny/s4063.jpg    \n",
            "  inflating: data/sunny/s4064.jpg    \n",
            "  inflating: data/sunny/s4065.jpg    \n",
            "  inflating: data/sunny/s4066.jpg    \n",
            "  inflating: data/sunny/s4067.jpg    \n",
            "  inflating: data/sunny/s4068.jpg    \n",
            "  inflating: data/sunny/s4069.jpg    \n",
            "  inflating: data/sunny/s4070.jpg    \n",
            "  inflating: data/sunny/s4071.jpg    \n",
            "  inflating: data/sunny/s4072.jpg    \n",
            "  inflating: data/sunny/s4073.jpg    \n",
            "  inflating: data/sunny/s4074.jpg    \n",
            "  inflating: data/sunny/s4075.jpg    \n",
            "  inflating: data/sunny/s4076.jpg    \n",
            "  inflating: data/sunny/s4077.jpg    \n",
            "  inflating: data/sunny/s4078.jpg    \n",
            "  inflating: data/sunny/s4079.jpg    \n",
            "  inflating: data/sunny/s4080.jpg    \n",
            "  inflating: data/sunny/s4081.jpg    \n",
            "  inflating: data/sunny/s4082.jpg    \n",
            "  inflating: data/sunny/s4083.jpg    \n",
            "  inflating: data/sunny/s4084.jpg    \n",
            "  inflating: data/sunny/s4085.jpg    \n",
            "  inflating: data/sunny/s4086.jpg    \n",
            "  inflating: data/sunny/s4087.jpg    \n",
            "  inflating: data/sunny/s4089.jpg    \n",
            "  inflating: data/sunny/s4091.jpg    \n",
            "  inflating: data/sunny/s4092.jpg    \n",
            "  inflating: data/sunny/s4093.jpg    \n",
            "  inflating: data/sunny/s4094.jpg    \n",
            "  inflating: data/sunny/s4095.jpg    \n",
            "  inflating: data/sunny/s4096.jpg    \n",
            "  inflating: data/sunny/s4097.jpg    \n",
            "  inflating: data/sunny/s4098.jpg    \n",
            "  inflating: data/sunny/s4100.jpg    \n",
            "  inflating: data/sunny/s4101.jpg    \n",
            "  inflating: data/sunny/s4102.jpg    \n",
            "  inflating: data/sunny/s4103.jpg    \n",
            "  inflating: data/sunny/s4104.jpg    \n",
            "  inflating: data/sunny/s4106.jpg    \n",
            "  inflating: data/sunny/s4107.jpg    \n",
            "  inflating: data/sunny/s4108.jpg    \n",
            "  inflating: data/sunny/s4109.jpg    \n",
            "  inflating: data/sunny/s4111.jpg    \n",
            "  inflating: data/sunny/s4112.jpg    \n",
            "  inflating: data/sunny/s4113.jpg    \n",
            "  inflating: data/sunny/s4115.jpg    \n",
            "  inflating: data/sunny/s4116.jpg    \n",
            "  inflating: data/sunny/s4117.jpg    \n",
            "  inflating: data/sunny/s4118.jpg    \n",
            "  inflating: data/sunny/s4119.jpg    \n",
            "  inflating: data/sunny/s4120.jpg    \n",
            "  inflating: data/sunny/s4121.jpg    \n",
            "  inflating: data/sunny/s4122.jpg    \n",
            "  inflating: data/sunny/s4123.jpg    \n",
            "  inflating: data/sunny/s4124.jpg    \n",
            "  inflating: data/sunny/s4125.jpg    \n",
            "  inflating: data/sunny/s4126.jpg    \n",
            "  inflating: data/sunny/s4127.jpg    \n",
            "  inflating: data/sunny/s4128.jpg    \n",
            "  inflating: data/sunny/s4129.jpg    \n",
            "  inflating: data/sunny/s4130.jpg    \n",
            "  inflating: data/sunny/s4131.jpg    \n",
            "  inflating: data/sunny/s4132.jpg    \n",
            "  inflating: data/sunny/s4133.jpg    \n",
            "  inflating: data/sunny/s4134.jpg    \n",
            "  inflating: data/sunny/s4135.jpg    \n",
            "  inflating: data/sunny/s4136.jpg    \n",
            "  inflating: data/sunny/s4137.jpg    \n",
            "  inflating: data/sunny/s4138.jpg    \n",
            "  inflating: data/sunny/s4139.jpg    \n",
            "  inflating: data/sunny/s4140.jpg    \n",
            "  inflating: data/sunny/s4141.jpg    \n",
            "  inflating: data/sunny/s4142.jpg    \n",
            "  inflating: data/sunny/s4143.jpg    \n",
            "  inflating: data/sunny/s4144.jpg    \n",
            "  inflating: data/sunny/s4145.jpg    \n",
            "  inflating: data/sunny/s4146.jpg    \n",
            "  inflating: data/sunny/s4147.jpg    \n",
            "  inflating: data/sunny/s4148.jpg    \n",
            "  inflating: data/sunny/s4149.jpg    \n",
            "  inflating: data/sunny/s4150.jpg    \n",
            "  inflating: data/sunny/s4151.jpg    \n",
            "  inflating: data/sunny/s4152.jpg    \n",
            "  inflating: data/sunny/s4153.jpg    \n",
            "  inflating: data/sunny/s4154.jpg    \n",
            "  inflating: data/sunny/s4155.jpg    \n",
            "  inflating: data/sunny/s4156.jpg    \n",
            "  inflating: data/sunny/s4157.jpg    \n",
            "  inflating: data/sunny/s4158.jpg    \n",
            "  inflating: data/sunny/s4159.jpg    \n",
            "  inflating: data/sunny/s4160.jpg    \n",
            "  inflating: data/sunny/s4161.jpg    \n",
            "  inflating: data/sunny/s4162.jpg    \n",
            "  inflating: data/sunny/s4163.jpg    \n",
            "  inflating: data/sunny/s4164.jpg    \n",
            "  inflating: data/sunny/s4165.jpg    \n",
            "  inflating: data/sunny/s4166.jpg    \n",
            "  inflating: data/sunny/s4167.jpg    \n",
            "  inflating: data/sunny/s4168.jpg    \n",
            "  inflating: data/sunny/s4169.jpg    \n",
            "  inflating: data/sunny/s4170.jpg    \n",
            "  inflating: data/sunny/s4171.jpg    \n",
            "  inflating: data/sunny/s4172.jpg    \n",
            "  inflating: data/sunny/s4173.jpg    \n",
            "  inflating: data/sunny/s4174.jpg    \n",
            "  inflating: data/sunny/s4175.jpg    \n",
            "  inflating: data/sunny/s4176.jpg    \n",
            "  inflating: data/sunny/s4177.jpg    \n",
            "  inflating: data/sunny/s4178.jpg    \n",
            "  inflating: data/sunny/s4179.jpg    \n",
            "  inflating: data/sunny/s4180.jpg    \n",
            "  inflating: data/sunny/s4181.jpg    \n",
            "  inflating: data/sunny/s4182.jpg    \n",
            "  inflating: data/sunny/s4183.jpg    \n",
            "  inflating: data/sunny/s4184.jpg    \n",
            "  inflating: data/sunny/s4185.jpg    \n",
            "  inflating: data/sunny/s4186.jpg    \n",
            "  inflating: data/sunny/s4187.jpg    \n",
            "  inflating: data/sunny/s4188.jpg    \n",
            "  inflating: data/sunny/s4189.jpg    \n",
            "  inflating: data/sunny/s4190.jpg    \n",
            "  inflating: data/sunny/s4191.jpg    \n",
            "  inflating: data/sunny/s4192.jpg    \n",
            "  inflating: data/sunny/s4193.jpg    \n",
            "  inflating: data/sunny/s4194.jpg    \n",
            "  inflating: data/sunny/s4195.jpg    \n",
            "  inflating: data/sunny/s4196.jpg    \n",
            "  inflating: data/sunny/s4197.jpg    \n",
            "  inflating: data/sunny/s4198.jpg    \n",
            "  inflating: data/sunny/s4199.jpg    \n",
            "  inflating: data/sunny/s4200.jpg    \n",
            "  inflating: data/sunny/s4201.jpg    \n",
            "  inflating: data/sunny/s4202.jpg    \n",
            "  inflating: data/sunny/s4203.jpg    \n",
            "  inflating: data/sunny/s4204.jpg    \n",
            "  inflating: data/sunny/s4205.jpg    \n",
            "  inflating: data/sunny/s4207.jpg    \n",
            "  inflating: data/sunny/s4208.jpg    \n",
            "  inflating: data/sunny/s4211.jpg    \n",
            "  inflating: data/sunny/s4212.jpg    \n",
            "  inflating: data/sunny/s4213.jpg    \n",
            "  inflating: data/sunny/s4214.jpg    \n",
            "  inflating: data/sunny/s4215.jpg    \n",
            "  inflating: data/sunny/s4216.jpg    \n",
            "  inflating: data/sunny/s4217.jpg    \n",
            "  inflating: data/sunny/s4218.jpg    \n",
            "  inflating: data/sunny/s4219.jpg    \n",
            "  inflating: data/sunny/s4220.jpg    \n",
            "  inflating: data/sunny/s4221.jpg    \n",
            "  inflating: data/sunny/s4222.jpg    \n",
            "  inflating: data/sunny/s4223.jpg    \n",
            "  inflating: data/sunny/s4224.jpg    \n",
            "  inflating: data/sunny/s4225.jpg    \n",
            "  inflating: data/sunny/s4226.jpg    \n",
            "  inflating: data/sunny/s4227.jpg    \n",
            "  inflating: data/sunny/s4228.jpg    \n",
            "  inflating: data/sunny/s4229.jpg    \n",
            "  inflating: data/sunny/s4230.jpg    \n",
            "  inflating: data/sunny/s4231.jpg    \n",
            "  inflating: data/sunny/s4232.jpg    \n",
            "  inflating: data/sunny/s4233.jpg    \n",
            "  inflating: data/sunny/s4234.jpg    \n",
            "  inflating: data/sunny/s4236.jpg    \n",
            "  inflating: data/sunny/s4237.jpg    \n",
            "  inflating: data/sunny/s4238.jpg    \n",
            "  inflating: data/sunny/s4239.jpg    \n",
            "  inflating: data/sunny/s4240.jpg    \n",
            "  inflating: data/sunny/s4241.jpg    \n",
            "  inflating: data/sunny/s4242.jpg    \n",
            "  inflating: data/sunny/s4243.jpg    \n",
            "  inflating: data/sunny/s4244.jpg    \n",
            "  inflating: data/sunny/s4245.jpg    \n",
            "  inflating: data/sunny/s4246.jpg    \n",
            "  inflating: data/sunny/s4247.jpg    \n",
            "  inflating: data/sunny/s4248.jpg    \n",
            "  inflating: data/sunny/s4249.jpg    \n",
            "  inflating: data/sunny/s4250.jpg    \n",
            "  inflating: data/sunny/s4251.jpg    \n",
            "  inflating: data/sunny/s4252.jpg    \n",
            "  inflating: data/sunny/s4253.jpg    \n",
            "  inflating: data/sunny/s4254.jpg    \n",
            "  inflating: data/sunny/s4255.jpg    \n",
            "  inflating: data/sunny/s4256.jpg    \n",
            "  inflating: data/sunny/s4257.jpg    \n",
            "  inflating: data/sunny/s4258.jpg    \n",
            "  inflating: data/sunny/s4259.jpg    \n",
            "  inflating: data/sunny/s4260.jpg    \n",
            "  inflating: data/sunny/s4261.jpg    \n",
            "  inflating: data/sunny/s4262.jpg    \n",
            "  inflating: data/sunny/s4263.jpg    \n",
            "  inflating: data/sunny/s4264.jpg    \n",
            "  inflating: data/sunny/s4265.jpg    \n",
            "  inflating: data/sunny/s4266.jpg    \n",
            "  inflating: data/sunny/s4267.jpg    \n",
            "  inflating: data/sunny/s4268.jpg    \n",
            "  inflating: data/sunny/s4269.jpg    \n",
            "  inflating: data/sunny/s4270.jpg    \n",
            "  inflating: data/sunny/s4271.jpg    \n",
            "  inflating: data/sunny/s4272.jpg    \n",
            "  inflating: data/sunny/s4273.jpg    \n",
            "  inflating: data/sunny/s4274.jpg    \n",
            "  inflating: data/sunny/s4275.jpg    \n",
            "  inflating: data/sunny/s4276.jpg    \n",
            "  inflating: data/sunny/s4277.jpg    \n",
            "  inflating: data/sunny/s4278.jpg    \n",
            "  inflating: data/sunny/s4279.jpg    \n",
            "  inflating: data/sunny/s4280.jpg    \n",
            "  inflating: data/sunny/s4281.jpg    \n",
            "  inflating: data/sunny/s4282.jpg    \n",
            "  inflating: data/sunny/s4283.jpg    \n",
            "  inflating: data/sunny/s4284.jpg    \n",
            "  inflating: data/sunny/s4285.jpg    \n",
            "  inflating: data/sunny/s4286.jpg    \n",
            "  inflating: data/sunny/s4287.jpg    \n",
            "  inflating: data/sunny/s4288.jpg    \n",
            "  inflating: data/sunny/s4289.jpg    \n",
            "  inflating: data/sunny/s4290.jpg    \n",
            "  inflating: data/sunny/s4291.jpg    \n",
            "  inflating: data/sunny/s4292.jpg    \n",
            "  inflating: data/sunny/s4294.jpg    \n",
            "  inflating: data/sunny/s4295.jpg    \n",
            "  inflating: data/sunny/s4296.jpg    \n",
            "  inflating: data/sunny/s4297.jpg    \n",
            "  inflating: data/sunny/s4298.jpg    \n",
            "  inflating: data/sunny/s4299.jpg    \n",
            "  inflating: data/sunny/s4300.jpg    \n",
            "  inflating: data/sunny/s4301.jpg    \n",
            "  inflating: data/sunny/s4302.jpg    \n",
            "  inflating: data/sunny/s4303.jpg    \n",
            "  inflating: data/sunny/s4304.jpg    \n",
            "  inflating: data/sunny/s4305.jpg    \n",
            "  inflating: data/sunny/s4306.jpg    \n",
            "  inflating: data/sunny/s4307.jpg    \n",
            "  inflating: data/sunny/s4308.jpg    \n",
            "  inflating: data/sunny/s4309.jpg    \n",
            "  inflating: data/sunny/s4310.jpg    \n",
            "  inflating: data/sunny/s4311.jpg    \n",
            "  inflating: data/sunny/s4312.jpg    \n",
            "  inflating: data/sunny/s4314.jpg    \n",
            "  inflating: data/sunny/s4315.jpg    \n",
            "  inflating: data/sunny/s4316.jpg    \n",
            "  inflating: data/sunny/s4317.jpg    \n",
            "  inflating: data/sunny/s4318.jpg    \n",
            "  inflating: data/sunny/s4319.jpg    \n",
            "  inflating: data/sunny/s4320.jpg    \n",
            "  inflating: data/sunny/s4321.jpg    \n",
            "  inflating: data/sunny/s4322.jpg    \n",
            "  inflating: data/sunny/s4323.jpg    \n",
            "  inflating: data/sunny/s4324.jpg    \n",
            "  inflating: data/sunny/s4325.jpg    \n",
            "  inflating: data/sunny/s4326.jpg    \n",
            "  inflating: data/sunny/s4327.jpg    \n",
            "  inflating: data/sunny/s4328.jpg    \n",
            "  inflating: data/sunny/s4329.jpg    \n",
            "  inflating: data/sunny/s4330.jpg    \n",
            "  inflating: data/sunny/s4331.jpg    \n",
            "  inflating: data/sunny/s4332.jpg    \n",
            "  inflating: data/sunny/s4333.jpg    \n",
            "  inflating: data/sunny/s4334.jpg    \n",
            "  inflating: data/sunny/s4335.jpg    \n",
            "  inflating: data/sunny/s4336.jpg    \n",
            "  inflating: data/sunny/s4337.jpg    \n",
            "  inflating: data/sunny/s4338.jpg    \n",
            "  inflating: data/sunny/s4339.jpg    \n",
            "  inflating: data/sunny/s4340.jpg    \n",
            "  inflating: data/sunny/s4341.jpg    \n",
            "  inflating: data/sunny/s4342.jpg    \n",
            "  inflating: data/sunny/s4343.jpg    \n",
            "  inflating: data/sunny/s4344.jpg    \n",
            "  inflating: data/sunny/s4345.jpg    \n",
            "  inflating: data/sunny/s4346.jpg    \n",
            "  inflating: data/sunny/s4347.jpg    \n",
            "  inflating: data/sunny/s4348.jpg    \n",
            "  inflating: data/sunny/s4349.jpg    \n",
            "  inflating: data/sunny/s4350.jpg    \n",
            "  inflating: data/sunny/s4351.jpg    \n",
            "  inflating: data/sunny/s4352.jpg    \n",
            "  inflating: data/sunny/s4353.jpg    \n",
            "  inflating: data/sunny/s4354.jpg    \n",
            "  inflating: data/sunny/s4357.jpg    \n",
            "  inflating: data/sunny/s4358.jpg    \n",
            "  inflating: data/sunny/s4360.jpg    \n",
            "  inflating: data/sunny/s4361.jpg    \n",
            "  inflating: data/sunny/s4362.jpg    \n",
            "  inflating: data/sunny/s4363.jpg    \n",
            "  inflating: data/sunny/s4364.jpg    \n",
            "  inflating: data/sunny/s4365.jpg    \n",
            "  inflating: data/sunny/s4366.jpg    \n",
            "  inflating: data/sunny/s4367.jpg    \n",
            "  inflating: data/sunny/s4368.jpg    \n",
            "  inflating: data/sunny/s4369.jpg    \n",
            "  inflating: data/sunny/s4370.jpg    \n",
            "  inflating: data/sunny/s4371.jpg    \n",
            "  inflating: data/sunny/s4372.jpg    \n",
            "  inflating: data/sunny/s4373.jpg    \n",
            "  inflating: data/sunny/s4374.jpg    \n",
            "  inflating: data/sunny/s4375.jpg    \n",
            "  inflating: data/sunny/s4376.jpg    \n",
            "  inflating: data/sunny/s4378.jpg    \n",
            "  inflating: data/sunny/s4379.jpg    \n",
            "  inflating: data/sunny/s4381.jpg    \n",
            "  inflating: data/sunny/s4382.jpg    \n",
            "  inflating: data/sunny/s4383.jpg    \n",
            "  inflating: data/sunny/s4384.jpg    \n",
            "  inflating: data/sunny/s4385.jpg    \n",
            "  inflating: data/sunny/s4386.jpg    \n",
            "  inflating: data/sunny/s4387.jpg    \n",
            "  inflating: data/sunny/s4388.jpg    \n",
            "  inflating: data/sunny/s4389.jpg    \n",
            "  inflating: data/sunny/s4390.jpg    \n",
            "  inflating: data/sunny/s4391.jpg    \n",
            "  inflating: data/sunny/s4392.jpg    \n",
            "  inflating: data/sunny/s4393.jpg    \n",
            "  inflating: data/sunny/s4394.jpg    \n",
            "  inflating: data/sunny/s4395.jpg    \n",
            "  inflating: data/sunny/s4396.jpg    \n",
            "  inflating: data/sunny/s4397.jpg    \n",
            "  inflating: data/sunny/s4398.jpg    \n",
            "  inflating: data/sunny/s4399.jpg    \n",
            "  inflating: data/sunny/s4400.jpg    \n",
            "  inflating: data/sunny/s4401.jpg    \n",
            "  inflating: data/sunny/s4402.jpg    \n",
            "  inflating: data/sunny/s4403.jpg    \n",
            "  inflating: data/sunny/s4404.jpg    \n",
            "  inflating: data/sunny/s4405.jpg    \n",
            "  inflating: data/sunny/s4406.jpg    \n",
            "  inflating: data/sunny/s4407.jpg    \n",
            "  inflating: data/sunny/s4408.jpg    \n",
            "  inflating: data/sunny/s4409.jpg    \n",
            "  inflating: data/sunny/s4411.jpg    \n",
            "  inflating: data/sunny/s4412.jpg    \n",
            "  inflating: data/sunny/s4415.jpg    \n",
            "  inflating: data/sunny/s4416.jpg    \n",
            "  inflating: data/sunny/s4418.jpg    \n",
            "  inflating: data/sunny/s4420.jpg    \n",
            "  inflating: data/sunny/s4421.jpg    \n",
            "  inflating: data/sunny/s4422.jpg    \n",
            "  inflating: data/sunny/s4423.jpg    \n",
            "  inflating: data/sunny/s4424.jpg    \n",
            "  inflating: data/sunny/s4425.jpg    \n",
            "  inflating: data/sunny/s4426.jpg    \n",
            "  inflating: data/sunny/s4427.jpg    \n",
            "  inflating: data/sunny/s4428.jpg    \n",
            "  inflating: data/sunny/s4429.jpg    \n",
            "  inflating: data/sunny/s4430.jpg    \n",
            "  inflating: data/sunny/s4431.jpg    \n",
            "  inflating: data/sunny/s4432.jpg    \n",
            "  inflating: data/sunny/s4433.jpg    \n",
            "  inflating: data/sunny/s4434.jpg    \n",
            "  inflating: data/sunny/s4435.jpg    \n",
            "  inflating: data/sunny/s4436.jpg    \n",
            "  inflating: data/sunny/s4437.jpg    \n",
            "  inflating: data/sunny/s4438.jpg    \n",
            "  inflating: data/sunny/s4439.jpg    \n",
            "  inflating: data/sunny/s4440.jpg    \n",
            "  inflating: data/sunny/s4441.jpg    \n",
            "  inflating: data/sunny/s4442.jpg    \n",
            "  inflating: data/sunny/s4443.jpg    \n",
            "  inflating: data/sunny/s4444.jpg    \n",
            "  inflating: data/sunny/s4446.jpg    \n",
            "  inflating: data/sunny/s4447.jpg    \n",
            "  inflating: data/sunny/s4448.jpg    \n",
            "  inflating: data/sunny/s4449.jpg    \n",
            "  inflating: data/sunny/s4450.jpg    \n",
            "  inflating: data/sunny/s4451.jpg    \n",
            "  inflating: data/sunny/s4452.jpg    \n",
            "  inflating: data/sunny/s4453.jpg    \n",
            "  inflating: data/sunny/s4454.jpg    \n",
            "  inflating: data/sunny/s4455.jpg    \n",
            "  inflating: data/sunny/s4456.jpg    \n",
            "  inflating: data/sunny/s4457.jpg    \n",
            "  inflating: data/sunny/s4458.jpg    \n",
            "  inflating: data/sunny/s4459.jpg    \n",
            "  inflating: data/sunny/s4460.jpg    \n",
            "  inflating: data/sunny/s4461.jpg    \n",
            "  inflating: data/sunny/s4462.jpg    \n",
            "  inflating: data/sunny/s4464.jpg    \n",
            "  inflating: data/sunny/s4465.jpg    \n",
            "  inflating: data/sunny/s4466.jpg    \n",
            "  inflating: data/sunny/s4467.jpg    \n",
            "  inflating: data/sunny/s4468.jpg    \n",
            "  inflating: data/sunny/s4469.jpg    \n",
            "  inflating: data/sunny/s4470.jpg    \n",
            "  inflating: data/sunny/s4473.jpg    \n",
            "  inflating: data/sunny/s4474.jpg    \n",
            "  inflating: data/sunny/s4475.jpg    \n",
            "  inflating: data/sunny/s4477.jpg    \n",
            "  inflating: data/sunny/s4478.jpg    \n",
            "  inflating: data/sunny/s4479.jpg    \n",
            "  inflating: data/sunny/s4480.jpg    \n",
            "  inflating: data/sunny/s4481.jpg    \n",
            "  inflating: data/sunny/s4482.jpg    \n",
            "  inflating: data/sunny/s4483.jpg    \n",
            "  inflating: data/sunny/s4484.jpg    \n",
            "  inflating: data/sunny/s4485.jpg    \n",
            "  inflating: data/sunny/s4486.jpg    \n",
            "  inflating: data/sunny/s4487.jpg    \n",
            "  inflating: data/sunny/s4488.jpg    \n",
            "  inflating: data/sunny/s4491.jpg    \n",
            "  inflating: data/sunny/s4492.jpg    \n",
            "  inflating: data/sunny/s4494.jpg    \n",
            "  inflating: data/sunny/s4495.jpg    \n",
            "  inflating: data/sunny/s4496.jpg    \n",
            "  inflating: data/sunny/s4497.jpg    \n",
            "  inflating: data/sunny/s4498.jpg    \n",
            "  inflating: data/sunny/s4499.jpg    \n",
            "  inflating: data/sunny/s4500.jpg    \n",
            "  inflating: data/sunny/s4501.jpg    \n",
            "  inflating: data/sunny/s4502.jpg    \n",
            "  inflating: data/sunny/s4503.jpg    \n",
            "  inflating: data/sunny/s4504.jpg    \n",
            "  inflating: data/sunny/s4505.jpg    \n",
            "  inflating: data/sunny/s4506.jpg    \n",
            "  inflating: data/sunny/s4507.jpg    \n",
            "  inflating: data/sunny/s4508.jpg    \n",
            "  inflating: data/sunny/s4509.jpg    \n",
            "  inflating: data/sunny/s4510.jpg    \n",
            "  inflating: data/sunny/s4511.jpg    \n",
            "  inflating: data/sunny/s4512.jpg    \n",
            "  inflating: data/sunny/s4513.jpg    \n",
            "  inflating: data/sunny/s4514.jpg    \n",
            "  inflating: data/sunny/s4515.jpg    \n",
            "  inflating: data/sunny/s4516.jpg    \n",
            "  inflating: data/sunny/s4517.jpg    \n",
            "  inflating: data/sunny/s4518.jpg    \n",
            "  inflating: data/sunny/s4520.jpg    \n",
            "  inflating: data/sunny/s4521.jpg    \n",
            "  inflating: data/sunny/s4522.jpg    \n",
            "  inflating: data/sunny/s4523.jpg    \n",
            "  inflating: data/sunny/s4524.jpg    \n",
            "  inflating: data/sunny/s4525.jpg    \n",
            "  inflating: data/sunny/s4526.jpg    \n",
            "  inflating: data/sunny/s4527.jpg    \n",
            "  inflating: data/sunny/s4528.jpg    \n",
            "  inflating: data/sunny/s4529.jpg    \n",
            "  inflating: data/sunny/s4530.jpg    \n",
            "  inflating: data/sunny/s4531.jpg    \n",
            "  inflating: data/sunny/s4532.jpg    \n",
            "  inflating: data/sunny/s4533.jpg    \n",
            "  inflating: data/sunny/s4534.jpg    \n",
            "  inflating: data/sunny/s4535.jpg    \n",
            "  inflating: data/sunny/s4537.jpg    \n",
            "  inflating: data/sunny/s4538.jpg    \n",
            "  inflating: data/sunny/s4539.jpg    \n",
            "  inflating: data/sunny/s4540.jpg    \n",
            "  inflating: data/sunny/s4541.jpg    \n",
            "  inflating: data/sunny/s4542.jpg    \n",
            "  inflating: data/sunny/s4543.jpg    \n",
            "  inflating: data/sunny/s4544.jpg    \n",
            "  inflating: data/sunny/s4545.jpg    \n",
            "  inflating: data/sunny/s4546.jpg    \n",
            "  inflating: data/sunny/s4547.jpg    \n",
            "  inflating: data/sunny/s4549.jpg    \n",
            "  inflating: data/sunny/s4550.jpg    \n",
            "  inflating: data/sunny/s4551.jpg    \n",
            "  inflating: data/sunny/s4552.jpg    \n",
            "  inflating: data/sunny/s4553.jpg    \n",
            "  inflating: data/sunny/s4554.jpg    \n",
            "  inflating: data/sunny/s4555.jpg    \n",
            "  inflating: data/sunny/s4556.jpg    \n",
            "  inflating: data/sunny/s4557.jpg    \n",
            "  inflating: data/sunny/s4558.jpg    \n",
            "  inflating: data/sunny/s4559.jpg    \n",
            "  inflating: data/sunny/s4560.jpg    \n",
            "  inflating: data/sunny/s4562.jpg    \n",
            "  inflating: data/sunny/s4563.jpg    \n",
            "  inflating: data/sunny/s4564.jpg    \n",
            "  inflating: data/sunny/s4565.jpg    \n",
            "  inflating: data/sunny/s4566.jpg    \n",
            "  inflating: data/sunny/s4567.jpg    \n",
            "  inflating: data/sunny/s4568.jpg    \n",
            "  inflating: data/sunny/s4569.jpg    \n",
            "  inflating: data/sunny/s4570.jpg    \n",
            "  inflating: data/sunny/s4571.jpg    \n",
            "  inflating: data/sunny/s4572.jpg    \n",
            "  inflating: data/sunny/s4573.jpg    \n",
            "  inflating: data/sunny/s4574.jpg    \n",
            "  inflating: data/sunny/s4575.jpg    \n",
            "  inflating: data/sunny/s4577.jpg    \n",
            "  inflating: data/sunny/s4578.jpg    \n",
            "  inflating: data/sunny/s4579.jpg    \n",
            "  inflating: data/sunny/s4580.jpg    \n",
            "  inflating: data/sunny/s4581.jpg    \n",
            "  inflating: data/sunny/s4582.jpg    \n",
            "  inflating: data/sunny/s4583.jpg    \n",
            "  inflating: data/sunny/s4585.jpg    \n",
            "  inflating: data/sunny/s4586.jpg    \n",
            "  inflating: data/sunny/s4587.jpg    \n",
            "  inflating: data/sunny/s4589.jpg    \n",
            "  inflating: data/sunny/s4590.jpg    \n",
            "  inflating: data/sunny/s4591.jpg    \n",
            "  inflating: data/sunny/s4592.jpg    \n",
            "  inflating: data/sunny/s4593.jpg    \n",
            "  inflating: data/sunny/s4594.jpg    \n",
            "  inflating: data/sunny/s4595.jpg    \n",
            "  inflating: data/sunny/s4596.jpg    \n",
            "  inflating: data/sunny/s4597.jpg    \n",
            "  inflating: data/sunny/s4598.jpg    \n",
            "  inflating: data/sunny/s4599.jpg    \n",
            "  inflating: data/sunny/s4601.jpg    \n",
            "  inflating: data/sunny/s4603.jpg    \n",
            "  inflating: data/sunny/s4604.jpg    \n",
            "  inflating: data/sunny/s4605.jpg    \n",
            "  inflating: data/sunny/s4606.jpg    \n",
            "  inflating: data/sunny/s4608.jpg    \n",
            "  inflating: data/sunny/s4609.jpg    \n",
            "  inflating: data/sunny/s4610.jpg    \n",
            "  inflating: data/sunny/s4611.jpg    \n",
            "  inflating: data/sunny/s4612.jpg    \n",
            "  inflating: data/sunny/s4613.jpg    \n",
            "  inflating: data/sunny/s4614.jpg    \n",
            "  inflating: data/sunny/s4615.jpg    \n",
            "  inflating: data/sunny/s4618.jpg    \n",
            "  inflating: data/sunny/s4619.jpg    \n",
            "  inflating: data/sunny/s4620.jpg    \n",
            "  inflating: data/sunny/s4622.jpg    \n",
            "  inflating: data/sunny/s4623.jpg    \n",
            "  inflating: data/sunny/s4624.jpg    \n",
            "  inflating: data/sunny/s4625.jpg    \n",
            "  inflating: data/sunny/s4626.jpg    \n",
            "  inflating: data/sunny/s4627.jpg    \n",
            "  inflating: data/sunny/s4628.jpg    \n",
            "  inflating: data/sunny/s4629.jpg    \n",
            "  inflating: data/sunny/s4631.jpg    \n",
            "  inflating: data/sunny/s4633.jpg    \n",
            "  inflating: data/sunny/s4634.jpg    \n",
            "  inflating: data/sunny/s4635.jpg    \n",
            "  inflating: data/sunny/s4636.jpg    \n",
            "  inflating: data/sunny/s4637.jpg    \n",
            "  inflating: data/sunny/s4640.jpg    \n",
            "  inflating: data/sunny/s4641.jpg    \n",
            "  inflating: data/sunny/s4642.jpg    \n",
            "  inflating: data/sunny/s4643.jpg    \n",
            "  inflating: data/sunny/s4645.jpg    \n",
            "  inflating: data/sunny/s4646.jpg    \n",
            "  inflating: data/sunny/s4647.jpg    \n",
            "  inflating: data/sunny/s4648.jpg    \n",
            "  inflating: data/sunny/s4649.jpg    \n",
            "  inflating: data/sunny/s4650.jpg    \n",
            "  inflating: data/sunny/s4651.jpg    \n",
            "  inflating: data/sunny/s4652.jpg    \n",
            "  inflating: data/sunny/s4653.jpg    \n",
            "  inflating: data/sunny/s4654.jpg    \n",
            "  inflating: data/sunny/s4655.jpg    \n",
            "  inflating: data/sunny/s4656.jpg    \n",
            "  inflating: data/sunny/s4657.jpg    \n",
            "  inflating: data/sunny/s4658.jpg    \n",
            "  inflating: data/sunny/s4659.jpg    \n",
            "  inflating: data/sunny/s4660.jpg    \n",
            "  inflating: data/sunny/s4661.jpg    \n",
            "  inflating: data/sunny/s4662.jpg    \n",
            "  inflating: data/sunny/s4663.jpg    \n",
            "  inflating: data/sunny/s4664.jpg    \n",
            "  inflating: data/sunny/s4665.jpg    \n",
            "  inflating: data/sunny/s4666.jpg    \n",
            "  inflating: data/sunny/s4667.jpg    \n",
            "  inflating: data/sunny/s4668.jpg    \n",
            "  inflating: data/sunny/s4669.jpg    \n",
            "  inflating: data/sunny/s4670.jpg    \n",
            "  inflating: data/sunny/s4671.jpg    \n",
            "  inflating: data/sunny/s4672.jpg    \n",
            "  inflating: data/sunny/s4673.jpg    \n",
            "  inflating: data/sunny/s4674.jpg    \n",
            "  inflating: data/sunny/s4675.jpg    \n",
            "  inflating: data/sunny/s4677.jpg    \n",
            "  inflating: data/sunny/s4678.jpg    \n",
            "  inflating: data/sunny/s4679.jpg    \n",
            "  inflating: data/sunny/s4680.jpg    \n",
            "  inflating: data/sunny/s4681.jpg    \n",
            "  inflating: data/sunny/s4682.jpg    \n",
            "  inflating: data/sunny/s4684.jpg    \n",
            "  inflating: data/sunny/s4685.jpg    \n",
            "  inflating: data/sunny/s4686.jpg    \n",
            "  inflating: data/sunny/s4687.jpg    \n",
            "  inflating: data/sunny/s4688.jpg    \n",
            "  inflating: data/sunny/s4690.jpg    \n",
            "  inflating: data/sunny/s4691.jpg    \n",
            "  inflating: data/sunny/s4692.jpg    \n",
            "  inflating: data/sunny/s4693.jpg    \n",
            "  inflating: data/sunny/s4694.jpg    \n",
            "  inflating: data/sunny/s4695.jpg    \n",
            "  inflating: data/sunny/s4696.jpg    \n",
            "  inflating: data/sunny/s4697.jpg    \n",
            "  inflating: data/sunny/s4698.jpg    \n",
            "  inflating: data/sunny/s4699.jpg    \n",
            "  inflating: data/sunny/s4700.jpg    \n",
            "  inflating: data/sunny/s4701.jpg    \n",
            "  inflating: data/sunny/s4702.jpg    \n",
            "  inflating: data/sunny/s4703.jpg    \n",
            "  inflating: data/sunny/s4704.jpg    \n",
            "  inflating: data/sunny/s4705.jpg    \n",
            "  inflating: data/sunny/s4706.jpg    \n",
            "  inflating: data/sunny/s4707.jpg    \n",
            "  inflating: data/sunny/s4708.jpg    \n",
            "  inflating: data/sunny/s4709.jpg    \n",
            "  inflating: data/sunny/s4710.jpg    \n",
            "  inflating: data/sunny/s4711.jpg    \n",
            "  inflating: data/sunny/s4712.jpg    \n",
            "  inflating: data/sunny/s4713.jpg    \n",
            "  inflating: data/sunny/s4714.jpg    \n",
            "  inflating: data/sunny/s4715.jpg    \n",
            "  inflating: data/sunny/s4716.jpg    \n",
            "  inflating: data/sunny/s4717.jpg    \n",
            "  inflating: data/sunny/s4718.jpg    \n",
            "  inflating: data/sunny/s4719.jpg    \n",
            "  inflating: data/sunny/s4720.jpg    \n",
            "  inflating: data/sunny/s4721.jpg    \n",
            "  inflating: data/sunny/s4722.jpg    \n",
            "  inflating: data/sunny/s4724.jpg    \n",
            "  inflating: data/sunny/s4725.jpg    \n",
            "  inflating: data/sunny/s4727.jpg    \n",
            "  inflating: data/sunny/s4728.jpg    \n",
            "  inflating: data/sunny/s4730.jpg    \n",
            "  inflating: data/sunny/s4731.jpg    \n",
            "  inflating: data/sunny/s4732.jpg    \n",
            "  inflating: data/sunny/s4733.jpg    \n",
            "  inflating: data/sunny/s4734.jpg    \n",
            "  inflating: data/sunny/s4735.jpg    \n",
            "  inflating: data/sunny/s4736.jpg    \n",
            "  inflating: data/sunny/s4737.jpg    \n",
            "  inflating: data/sunny/s4738.jpg    \n",
            "  inflating: data/sunny/s4739.jpg    \n",
            "  inflating: data/sunny/s4740.jpg    \n",
            "  inflating: data/sunny/s4741.jpg    \n",
            "  inflating: data/sunny/s4742.jpg    \n",
            "  inflating: data/sunny/s4743.jpg    \n",
            "  inflating: data/sunny/s4744.jpg    \n",
            "  inflating: data/sunny/s4745.jpg    \n",
            "  inflating: data/sunny/s4748.jpg    \n",
            "  inflating: data/sunny/s4749.jpg    \n",
            "  inflating: data/sunny/s4750.jpg    \n",
            "  inflating: data/sunny/s4751.jpg    \n",
            "  inflating: data/sunny/s4752.jpg    \n",
            "  inflating: data/sunny/s4753.jpg    \n",
            "  inflating: data/sunny/s4754.jpg    \n",
            "  inflating: data/sunny/s4755.jpg    \n",
            "  inflating: data/sunny/s4756.jpg    \n",
            "  inflating: data/sunny/s4757.jpg    \n",
            "  inflating: data/sunny/s4758.jpg    \n",
            "  inflating: data/sunny/s4759.jpg    \n",
            "  inflating: data/sunny/s4760.jpg    \n",
            "  inflating: data/sunny/s4761.jpg    \n",
            "  inflating: data/sunny/s4762.jpg    \n",
            "  inflating: data/sunny/s4763.jpg    \n",
            "  inflating: data/sunny/s4764.jpg    \n",
            "  inflating: data/sunny/s4765.jpg    \n",
            "  inflating: data/sunny/s4766.jpg    \n",
            "  inflating: data/sunny/s4767.jpg    \n",
            "  inflating: data/sunny/s4768.jpg    \n",
            "  inflating: data/sunny/s4769.jpg    \n",
            "  inflating: data/sunny/s4770.jpg    \n",
            "  inflating: data/sunny/s4771.jpg    \n",
            "  inflating: data/sunny/s4772.jpg    \n",
            "  inflating: data/sunny/s4773.jpg    \n",
            "  inflating: data/sunny/s4774.jpg    \n",
            "  inflating: data/sunny/s4775.jpg    \n",
            "  inflating: data/sunny/s4776.jpg    \n",
            "  inflating: data/sunny/s4777.jpg    \n",
            "  inflating: data/sunny/s4778.jpg    \n",
            "  inflating: data/sunny/s4781.jpg    \n",
            "  inflating: data/sunny/s4782.jpg    \n",
            "  inflating: data/sunny/s4784.jpg    \n",
            "  inflating: data/sunny/s4785.jpg    \n",
            "  inflating: data/sunny/s4786.jpg    \n",
            "  inflating: data/sunny/s4787.jpg    \n",
            "  inflating: data/sunny/s4788.jpg    \n",
            "  inflating: data/sunny/s4789.jpg    \n",
            "  inflating: data/sunny/s4790.jpg    \n",
            "  inflating: data/sunny/s4791.jpg    \n",
            "  inflating: data/sunny/s4792.jpg    \n",
            "  inflating: data/sunny/s4793.jpg    \n",
            "  inflating: data/sunny/s4794.jpg    \n",
            "  inflating: data/sunny/s4795.jpg    \n",
            "  inflating: data/sunny/s4796.jpg    \n",
            "  inflating: data/sunny/s4797.jpg    \n",
            "  inflating: data/sunny/s4798.jpg    \n",
            "  inflating: data/sunny/s4799.jpg    \n",
            "  inflating: data/sunny/s4800.jpg    \n",
            "  inflating: data/sunny/s4801.jpg    \n",
            "  inflating: data/sunny/s4802.jpg    \n",
            "  inflating: data/sunny/s4804.jpg    \n",
            "  inflating: data/sunny/s4805.jpg    \n",
            "  inflating: data/sunny/s4806.jpg    \n",
            "  inflating: data/sunny/s4807.jpg    \n",
            "  inflating: data/sunny/s4808.jpg    \n",
            "  inflating: data/sunny/s4810.jpg    \n",
            "  inflating: data/sunny/s4811.jpg    \n",
            "  inflating: data/sunny/s4812.jpg    \n",
            "  inflating: data/sunny/s4813.jpg    \n",
            "  inflating: data/sunny/s4814.jpg    \n",
            "  inflating: data/sunny/s4815.jpg    \n",
            "  inflating: data/sunny/s4817.jpg    \n",
            "  inflating: data/sunny/s4818.jpg    \n",
            "  inflating: data/sunny/s4819.jpg    \n",
            "  inflating: data/sunny/s4820.jpg    \n",
            "  inflating: data/sunny/s4821.jpg    \n",
            "  inflating: data/sunny/s4822.jpg    \n",
            "  inflating: data/sunny/s4823.jpg    \n",
            "  inflating: data/sunny/s4824.jpg    \n",
            "  inflating: data/sunny/s4825.jpg    \n",
            "  inflating: data/sunny/s4826.jpg    \n",
            "  inflating: data/sunny/s4827.jpg    \n",
            "  inflating: data/sunny/s4828.jpg    \n",
            "  inflating: data/sunny/s4829.jpg    \n",
            "  inflating: data/sunny/s4830.jpg    \n",
            "  inflating: data/sunny/s4831.jpg    \n",
            "  inflating: data/sunny/s4832.jpg    \n",
            "  inflating: data/sunny/s4833.jpg    \n",
            "  inflating: data/sunny/s4834.jpg    \n",
            "  inflating: data/sunny/s4835.jpg    \n",
            "  inflating: data/sunny/s4836.jpg    \n",
            "  inflating: data/sunny/s4837.jpg    \n",
            "  inflating: data/sunny/s4838.jpg    \n",
            "  inflating: data/sunny/s4839.jpg    \n",
            "  inflating: data/sunny/s4840.jpg    \n",
            "  inflating: data/sunny/s4841.jpg    \n",
            "  inflating: data/sunny/s4842.jpg    \n",
            "  inflating: data/sunny/s4843.jpg    \n",
            "  inflating: data/sunny/s4844.jpg    \n",
            "  inflating: data/sunny/s4845.jpg    \n",
            "  inflating: data/sunny/s4846.jpg    \n",
            "  inflating: data/sunny/s4847.jpg    \n",
            "  inflating: data/sunny/s4848.jpg    \n",
            "  inflating: data/sunny/s4849.jpg    \n",
            "  inflating: data/sunny/s4850.jpg    \n",
            "  inflating: data/sunny/s4851.jpg    \n",
            "  inflating: data/sunny/s4852.jpg    \n",
            "  inflating: data/sunny/s4853.jpg    \n",
            "  inflating: data/sunny/s4854.jpg    \n",
            "  inflating: data/sunny/s4855.jpg    \n",
            "  inflating: data/sunny/s4856.jpg    \n",
            "  inflating: data/sunny/s4857.jpg    \n",
            "  inflating: data/sunny/s4858.jpg    \n",
            "  inflating: data/sunny/s4859.jpg    \n",
            "  inflating: data/sunny/s4860.jpg    \n",
            "  inflating: data/sunny/s4861.jpg    \n",
            "  inflating: data/sunny/s4863.jpg    \n",
            "  inflating: data/sunny/s4864.jpg    \n",
            "  inflating: data/sunny/s4865.jpg    \n",
            "  inflating: data/sunny/s4866.jpg    \n",
            "  inflating: data/sunny/s4867.jpg    \n",
            "  inflating: data/sunny/s4869.jpg    \n",
            "  inflating: data/sunny/s4870.jpg    \n",
            "  inflating: data/sunny/s4871.jpg    \n",
            "  inflating: data/sunny/s4872.jpg    \n",
            "  inflating: data/sunny/s4873.jpg    \n",
            "  inflating: data/sunny/s4874.jpg    \n",
            "  inflating: data/sunny/s4875.jpg    \n",
            "  inflating: data/sunny/s4876.jpg    \n",
            "  inflating: data/sunny/s4877.jpg    \n",
            "  inflating: data/sunny/s4878.jpg    \n",
            "  inflating: data/sunny/s4879.jpg    \n",
            "  inflating: data/sunny/s4880.jpg    \n",
            "  inflating: data/sunny/s4883.jpg    \n",
            "  inflating: data/sunny/s4889.jpg    \n",
            "  inflating: data/sunny/s4891.jpg    \n",
            "  inflating: data/sunny/s4893.jpg    \n",
            "  inflating: data/sunny/s4895.jpg    \n",
            "  inflating: data/sunny/s4897.jpg    \n",
            "  inflating: data/sunny/s4902.jpg    \n",
            "  inflating: data/sunny/s4903.jpg    \n",
            "  inflating: data/sunny/s4904.jpg    \n",
            "  inflating: data/sunny/s4905.jpg    \n",
            "  inflating: data/sunny/s4906.jpg    \n",
            "  inflating: data/sunny/s4907.jpg    \n",
            "  inflating: data/sunny/s4908.jpg    \n",
            "  inflating: data/sunny/s4909.jpg    \n",
            "  inflating: data/sunny/s4910.jpg    \n",
            "  inflating: data/sunny/s4911.jpg    \n",
            "  inflating: data/sunny/s4912.jpg    \n",
            "  inflating: data/sunny/s4913.jpg    \n",
            "  inflating: data/sunny/s4914.jpg    \n",
            "  inflating: data/sunny/s4915.jpg    \n",
            "  inflating: data/sunny/s4916.jpg    \n",
            "  inflating: data/sunny/s4917.jpg    \n",
            "  inflating: data/sunny/s4918.jpg    \n",
            "  inflating: data/sunny/s4919.jpg    \n",
            "  inflating: data/sunny/s4920.jpg    \n",
            "  inflating: data/sunny/s4921.jpg    \n",
            "  inflating: data/sunny/s4922.jpg    \n",
            "  inflating: data/sunny/s4923.jpg    \n",
            "  inflating: data/sunny/s4924.jpg    \n",
            "  inflating: data/sunny/s4925.jpg    \n",
            "  inflating: data/sunny/s4926.jpg    \n",
            "  inflating: data/sunny/s4927.jpg    \n",
            "  inflating: data/sunny/s4928.jpg    \n",
            "  inflating: data/sunny/s4929.jpg    \n",
            "  inflating: data/sunny/s4930.jpg    \n",
            "  inflating: data/sunny/s4931.jpg    \n",
            "  inflating: data/sunny/s4932.jpg    \n",
            "  inflating: data/sunny/s4933.jpg    \n",
            "  inflating: data/sunny/s4934.jpg    \n",
            "  inflating: data/sunny/s4935.jpg    \n",
            "  inflating: data/sunny/s4936.jpg    \n",
            "  inflating: data/sunny/s4937.jpg    \n",
            "  inflating: data/sunny/s4939.jpg    \n",
            "  inflating: data/sunny/s4941.jpg    \n",
            "  inflating: data/sunny/s4942.jpg    \n",
            "  inflating: data/sunny/s4943.jpg    \n",
            "  inflating: data/sunny/s4944.jpg    \n",
            "  inflating: data/sunny/s4945.jpg    \n",
            "  inflating: data/sunny/s4946.jpg    \n",
            "  inflating: data/sunny/s4947.jpg    \n",
            "  inflating: data/sunny/s4948.jpg    \n",
            "  inflating: data/sunny/s4949.jpg    \n",
            "  inflating: data/sunny/s4950.jpg    \n",
            "  inflating: data/sunny/s4951.jpg    \n",
            "  inflating: data/sunny/s4952.jpg    \n",
            "  inflating: data/sunny/s4954.jpg    \n",
            "  inflating: data/sunny/s4955.jpg    \n",
            "  inflating: data/sunny/s4956.jpg    \n",
            "  inflating: data/sunny/s4957.jpg    \n",
            "  inflating: data/sunny/s4958.jpg    \n",
            "  inflating: data/sunny/s4959.jpg    \n",
            "  inflating: data/sunny/s4960.jpg    \n",
            "  inflating: data/sunny/s4961.jpg    \n",
            "  inflating: data/sunny/s4962.jpg    \n",
            "  inflating: data/sunny/s4963.jpg    \n",
            "  inflating: data/sunny/s4964.jpg    \n",
            "  inflating: data/sunny/s4965.jpg    \n",
            "  inflating: data/sunny/s4966.jpg    \n",
            "  inflating: data/sunny/s4967.jpg    \n",
            "  inflating: data/sunny/s4968.jpg    \n",
            "  inflating: data/sunny/s4969.jpg    \n",
            "  inflating: data/sunny/s4970.jpg    \n",
            "  inflating: data/sunny/s4971.jpg    \n",
            "  inflating: data/sunny/s4972.jpg    \n",
            "  inflating: data/sunny/s4973.jpg    \n",
            "  inflating: data/sunny/s4974.jpg    \n",
            "  inflating: data/sunny/s4975.jpg    \n",
            "  inflating: data/sunny/s4976.jpg    \n",
            "  inflating: data/sunny/s4977.jpg    \n",
            "  inflating: data/sunny/s4978.jpg    \n",
            "  inflating: data/sunny/s4979.jpg    \n",
            "  inflating: data/sunny/s4980.jpg    \n",
            "  inflating: data/sunny/s4981.jpg    \n",
            "  inflating: data/sunny/s4982.jpg    \n",
            "  inflating: data/sunny/s4983.jpg    \n",
            "  inflating: data/sunny/s4984.jpg    \n",
            "  inflating: data/sunny/s4985.jpg    \n",
            "  inflating: data/sunny/s4986.jpg    \n",
            "  inflating: data/sunny/s4987.jpg    \n",
            "  inflating: data/sunny/s4988.jpg    \n",
            "  inflating: data/sunny/s4989.jpg    \n",
            "  inflating: data/sunny/s4990.jpg    \n",
            "  inflating: data/sunny/s4991.jpg    \n",
            "  inflating: data/sunny/s4992.jpg    \n",
            "  inflating: data/sunny/s4993.jpg    \n",
            "  inflating: data/sunny/s4994.jpg    \n",
            "  inflating: data/sunny/s4995.jpg    \n",
            "  inflating: data/sunny/s4996.jpg    \n",
            "  inflating: data/sunny/s4997.jpg    \n",
            "  inflating: data/sunny/s4998.jpg    \n",
            "  inflating: data/sunny/s4999.jpg    \n",
            "  inflating: data/sunny/s5000.jpg    \n",
            "  inflating: data/sunny/shine1.jpg   \n",
            "  inflating: data/sunny/shine10.jpg  \n",
            "  inflating: data/sunny/shine100.jpg  \n",
            "  inflating: data/sunny/shine101.jpg  \n",
            "  inflating: data/sunny/shine102.jpg  \n",
            "  inflating: data/sunny/shine103.jpg  \n",
            "  inflating: data/sunny/shine104.jpg  \n",
            "  inflating: data/sunny/shine106.jpg  \n",
            "  inflating: data/sunny/shine107.jpg  \n",
            "  inflating: data/sunny/shine108.jpg  \n",
            "  inflating: data/sunny/shine109.jpg  \n",
            "  inflating: data/sunny/shine11.jpg  \n",
            "  inflating: data/sunny/shine110.jpg  \n",
            "  inflating: data/sunny/shine111.jpg  \n",
            "  inflating: data/sunny/shine112.jpg  \n",
            "  inflating: data/sunny/shine116.jpg  \n",
            "  inflating: data/sunny/shine118.jpg  \n",
            "  inflating: data/sunny/shine119.jpg  \n",
            "  inflating: data/sunny/shine12.jpg  \n",
            "  inflating: data/sunny/shine120.jpg  \n",
            "  inflating: data/sunny/shine122.jpg  \n",
            "  inflating: data/sunny/shine123.jpg  \n",
            "  inflating: data/sunny/shine124.jpg  \n",
            "  inflating: data/sunny/shine126.jpg  \n",
            "  inflating: data/sunny/shine127.jpg  \n",
            "  inflating: data/sunny/shine128.jpg  \n",
            "  inflating: data/sunny/shine129.jpg  \n",
            "  inflating: data/sunny/shine13.jpg  \n",
            "  inflating: data/sunny/shine130.jpg  \n",
            "  inflating: data/sunny/shine131.jpg  \n",
            "  inflating: data/sunny/shine132.jpg  \n",
            "  inflating: data/sunny/shine133.jpg  \n",
            "  inflating: data/sunny/shine134.jpg  \n",
            "  inflating: data/sunny/shine135.jpg  \n",
            "  inflating: data/sunny/shine136.jpg  \n",
            "  inflating: data/sunny/shine137.jpg  \n",
            "  inflating: data/sunny/shine138.jpg  \n",
            "  inflating: data/sunny/shine139.jpg  \n",
            "  inflating: data/sunny/shine14.jpg  \n",
            "  inflating: data/sunny/shine142.jpg  \n",
            "  inflating: data/sunny/shine143.jpg  \n",
            "  inflating: data/sunny/shine144.jpg  \n",
            "  inflating: data/sunny/shine146.jpg  \n",
            "  inflating: data/sunny/shine147.jpg  \n",
            "  inflating: data/sunny/shine149.jpg  \n",
            "  inflating: data/sunny/shine15.jpg  \n",
            "  inflating: data/sunny/shine150.jpg  \n",
            "  inflating: data/sunny/shine151.jpg  \n",
            "  inflating: data/sunny/shine152.jpg  \n",
            "  inflating: data/sunny/shine153.jpg  \n",
            "  inflating: data/sunny/shine154.jpg  \n",
            "  inflating: data/sunny/shine155.jpg  \n",
            "  inflating: data/sunny/shine156.jpg  \n",
            "  inflating: data/sunny/shine157.jpg  \n",
            "  inflating: data/sunny/shine158.jpg  \n",
            "  inflating: data/sunny/shine159.jpg  \n",
            "  inflating: data/sunny/shine16.jpg  \n",
            "  inflating: data/sunny/shine160.jpg  \n",
            "  inflating: data/sunny/shine161.jpg  \n",
            "  inflating: data/sunny/shine162.jpg  \n",
            "  inflating: data/sunny/shine164.jpg  \n",
            "  inflating: data/sunny/shine165.jpg  \n",
            "  inflating: data/sunny/shine166.jpg  \n",
            "  inflating: data/sunny/shine167.jpg  \n",
            "  inflating: data/sunny/shine168.jpg  \n",
            "  inflating: data/sunny/shine169.jpg  \n",
            "  inflating: data/sunny/shine17.jpg  \n",
            "  inflating: data/sunny/shine170.jpg  \n",
            "  inflating: data/sunny/shine171.jpg  \n",
            "  inflating: data/sunny/shine172.jpg  \n",
            "  inflating: data/sunny/shine173.jpg  \n",
            "  inflating: data/sunny/shine174.jpg  \n",
            "  inflating: data/sunny/shine176.jpg  \n",
            "  inflating: data/sunny/shine178.jpg  \n",
            "  inflating: data/sunny/shine179.jpg  \n",
            "  inflating: data/sunny/shine18.jpg  \n",
            "  inflating: data/sunny/shine180.jpg  \n",
            "  inflating: data/sunny/shine181.jpg  \n",
            "  inflating: data/sunny/shine183.jpg  \n",
            "  inflating: data/sunny/shine184.jpg  \n",
            "  inflating: data/sunny/shine185.jpg  \n",
            "  inflating: data/sunny/shine186.jpg  \n",
            "  inflating: data/sunny/shine188.jpg  \n",
            "  inflating: data/sunny/shine189.jpg  \n",
            "  inflating: data/sunny/shine19.jpg  \n",
            "  inflating: data/sunny/shine190.jpg  \n",
            "  inflating: data/sunny/shine191.jpg  \n",
            "  inflating: data/sunny/shine194.jpg  \n",
            "  inflating: data/sunny/shine195.jpg  \n",
            "  inflating: data/sunny/shine196.jpg  \n",
            "  inflating: data/sunny/shine197.jpg  \n",
            "  inflating: data/sunny/shine198.jpg  \n",
            "  inflating: data/sunny/shine199.jpg  \n",
            "  inflating: data/sunny/shine2.jpg   \n",
            "  inflating: data/sunny/shine200.jpg  \n",
            "  inflating: data/sunny/shine202.jpg  \n",
            "  inflating: data/sunny/shine203.jpg  \n",
            "  inflating: data/sunny/shine204.jpg  \n",
            "  inflating: data/sunny/shine206.jpg  \n",
            "  inflating: data/sunny/shine207.jpg  \n",
            "  inflating: data/sunny/shine208.jpg  \n",
            "  inflating: data/sunny/shine209.jpg  \n",
            "  inflating: data/sunny/shine21.jpg  \n",
            "  inflating: data/sunny/shine211.jpg  \n",
            "  inflating: data/sunny/shine212.jpg  \n",
            "  inflating: data/sunny/shine213.jpg  \n",
            "  inflating: data/sunny/shine214.jpg  \n",
            "  inflating: data/sunny/shine215.jpg  \n",
            "  inflating: data/sunny/shine216.jpg  \n",
            "  inflating: data/sunny/shine218.jpg  \n",
            "  inflating: data/sunny/shine22.jpg  \n",
            "  inflating: data/sunny/shine220.jpg  \n",
            "  inflating: data/sunny/shine221.jpg  \n",
            "  inflating: data/sunny/shine222.jpg  \n",
            "  inflating: data/sunny/shine223.jpg  \n",
            "  inflating: data/sunny/shine224.jpg  \n",
            "  inflating: data/sunny/shine225.jpg  \n",
            "  inflating: data/sunny/shine226.jpg  \n",
            "  inflating: data/sunny/shine227.jpg  \n",
            "  inflating: data/sunny/shine23.jpg  \n",
            "  inflating: data/sunny/shine230.jpg  \n",
            "  inflating: data/sunny/shine231.jpg  \n",
            "  inflating: data/sunny/shine233.jpg  \n",
            "  inflating: data/sunny/shine234.jpg  \n",
            "  inflating: data/sunny/shine235.jpg  \n",
            "  inflating: data/sunny/shine237.jpg  \n",
            "  inflating: data/sunny/shine238.jpg  \n",
            "  inflating: data/sunny/shine239.jpg  \n",
            "  inflating: data/sunny/shine24.jpg  \n",
            "  inflating: data/sunny/shine240.jpg  \n",
            "  inflating: data/sunny/shine241.jpg  \n",
            "  inflating: data/sunny/shine242.jpg  \n",
            "  inflating: data/sunny/shine243.jpg  \n",
            "  inflating: data/sunny/shine244.jpg  \n",
            "  inflating: data/sunny/shine247.jpg  \n",
            "  inflating: data/sunny/shine248.jpg  \n",
            "  inflating: data/sunny/shine249.jpg  \n",
            "  inflating: data/sunny/shine25.jpg  \n",
            "  inflating: data/sunny/shine251.jpg  \n",
            "  inflating: data/sunny/shine252.jpg  \n",
            "  inflating: data/sunny/shine253.jpg  \n",
            "  inflating: data/sunny/shine26.jpg  \n",
            "  inflating: data/sunny/shine27.jpg  \n",
            "  inflating: data/sunny/shine28.jpg  \n",
            "  inflating: data/sunny/shine29.jpg  \n",
            "  inflating: data/sunny/shine3.jpg   \n",
            "  inflating: data/sunny/shine30.jpg  \n",
            "  inflating: data/sunny/shine31.jpg  \n",
            "  inflating: data/sunny/shine32.jpg  \n",
            "  inflating: data/sunny/shine33.jpg  \n",
            "  inflating: data/sunny/shine35.jpg  \n",
            "  inflating: data/sunny/shine38.jpg  \n",
            "  inflating: data/sunny/shine39.jpg  \n",
            "  inflating: data/sunny/shine4.jpg   \n",
            "  inflating: data/sunny/shine40.jpg  \n",
            "  inflating: data/sunny/shine41.jpg  \n",
            "  inflating: data/sunny/shine42.jpg  \n",
            "  inflating: data/sunny/shine45.jpg  \n",
            "  inflating: data/sunny/shine46.jpg  \n",
            "  inflating: data/sunny/shine47.jpg  \n",
            "  inflating: data/sunny/shine48.jpg  \n",
            "  inflating: data/sunny/shine49.jpg  \n",
            "  inflating: data/sunny/shine5.jpg   \n",
            "  inflating: data/sunny/shine50.jpg  \n",
            "  inflating: data/sunny/shine51.jpg  \n",
            "  inflating: data/sunny/shine52.jpg  \n",
            "  inflating: data/sunny/shine53.jpg  \n",
            "  inflating: data/sunny/shine54.jpg  \n",
            "  inflating: data/sunny/shine55.jpg  \n",
            "  inflating: data/sunny/shine56.jpg  \n",
            "  inflating: data/sunny/shine57.jpg  \n",
            "  inflating: data/sunny/shine58.jpg  \n",
            "  inflating: data/sunny/shine59.jpg  \n",
            "  inflating: data/sunny/shine6.jpg   \n",
            "  inflating: data/sunny/shine60.jpg  \n",
            "  inflating: data/sunny/shine61.jpg  \n",
            "  inflating: data/sunny/shine62.jpg  \n",
            "  inflating: data/sunny/shine63.jpg  \n",
            "  inflating: data/sunny/shine64.jpg  \n",
            "  inflating: data/sunny/shine65.jpg  \n",
            "  inflating: data/sunny/shine66.jpg  \n",
            "  inflating: data/sunny/shine67.jpg  \n",
            "  inflating: data/sunny/shine68.jpg  \n",
            "  inflating: data/sunny/shine69.jpg  \n",
            "  inflating: data/sunny/shine7.jpg   \n",
            "  inflating: data/sunny/shine70.jpg  \n",
            "  inflating: data/sunny/shine71.jpg  \n",
            "  inflating: data/sunny/shine72.jpg  \n",
            "  inflating: data/sunny/shine73.jpg  \n",
            "  inflating: data/sunny/shine74.jpg  \n",
            "  inflating: data/sunny/shine75.jpg  \n",
            "  inflating: data/sunny/shine76.jpg  \n",
            "  inflating: data/sunny/shine77.jpg  \n",
            "  inflating: data/sunny/shine78.jpg  \n",
            "  inflating: data/sunny/shine79.jpg  \n",
            "  inflating: data/sunny/shine8.jpg   \n",
            "  inflating: data/sunny/shine80.jpg  \n",
            "  inflating: data/sunny/shine81.jpg  \n",
            "  inflating: data/sunny/shine82.jpg  \n",
            "  inflating: data/sunny/shine83.jpg  \n",
            "  inflating: data/sunny/shine85.jpg  \n",
            "  inflating: data/sunny/shine86.jpg  \n",
            "  inflating: data/sunny/shine87.jpg  \n",
            "  inflating: data/sunny/shine88.jpg  \n",
            "  inflating: data/sunny/shine89.jpg  \n",
            "  inflating: data/sunny/shine9.jpg   \n",
            "  inflating: data/sunny/shine90.jpg  \n",
            "  inflating: data/sunny/shine91.jpg  \n",
            "  inflating: data/sunny/shine93.jpg  \n",
            "  inflating: data/sunny/shine94.jpg  \n",
            "  inflating: data/sunny/shine95.jpg  \n",
            "  inflating: data/sunny/shine97.jpg  \n",
            "  inflating: data/sunny/shine99.jpg  \n",
            "  inflating: data/sunny/sunny sky-0.jpeg  \n",
            "  inflating: data/sunny/sunny sky-1.jpeg  \n",
            "  inflating: data/sunny/sunny sky-10.jpeg  \n",
            "  inflating: data/sunny/sunny sky-100.jpeg  \n",
            "  inflating: data/sunny/sunny sky-101.jpeg  \n",
            "  inflating: data/sunny/sunny sky-102.jpeg  \n",
            "  inflating: data/sunny/sunny sky-103.jpeg  \n",
            "  inflating: data/sunny/sunny sky-104.jpeg  \n",
            "  inflating: data/sunny/sunny sky-106.jpeg  \n",
            "  inflating: data/sunny/sunny sky-107.jpeg  \n",
            "  inflating: data/sunny/sunny sky-108.jpeg  \n",
            "  inflating: data/sunny/sunny sky-109.jpeg  \n",
            "  inflating: data/sunny/sunny sky-11.jpeg  \n",
            "  inflating: data/sunny/sunny sky-110.jpeg  \n",
            "  inflating: data/sunny/sunny sky-112.png  \n",
            "  inflating: data/sunny/sunny sky-114.jpeg  \n",
            "  inflating: data/sunny/sunny sky-115.png  \n",
            "  inflating: data/sunny/sunny sky-116.jpeg  \n",
            "  inflating: data/sunny/sunny sky-117.jpeg  \n",
            "  inflating: data/sunny/sunny sky-118.jpeg  \n",
            "  inflating: data/sunny/sunny sky-12.jpeg  \n",
            "  inflating: data/sunny/sunny sky-120.jpeg  \n",
            "  inflating: data/sunny/sunny sky-121.jpeg  \n",
            "  inflating: data/sunny/sunny sky-123.jpeg  \n",
            "  inflating: data/sunny/sunny sky-124.jpeg  \n",
            "  inflating: data/sunny/sunny sky-125.jpeg  \n",
            "  inflating: data/sunny/sunny sky-126.jpeg  \n",
            "  inflating: data/sunny/sunny sky-127.jpeg  \n",
            "  inflating: data/sunny/sunny sky-128.jpeg  \n",
            "  inflating: data/sunny/sunny sky-129.jpeg  \n",
            "  inflating: data/sunny/sunny sky-131.jpeg  \n",
            "  inflating: data/sunny/sunny sky-132.jpeg  \n",
            "  inflating: data/sunny/sunny sky-133.jpeg  \n",
            "  inflating: data/sunny/sunny sky-135.jpeg  \n",
            "  inflating: data/sunny/sunny sky-136.jpeg  \n",
            "  inflating: data/sunny/sunny sky-137.jpeg  \n",
            "  inflating: data/sunny/sunny sky-138.jpeg  \n",
            "  inflating: data/sunny/sunny sky-14.jpeg  \n",
            "  inflating: data/sunny/sunny sky-140.png  \n",
            "  inflating: data/sunny/sunny sky-141.jpeg  \n",
            "  inflating: data/sunny/sunny sky-142.jpeg  \n",
            "  inflating: data/sunny/sunny sky-143.jpeg  \n",
            "  inflating: data/sunny/sunny sky-144.jpeg  \n",
            "  inflating: data/sunny/sunny sky-145.jpeg  \n",
            "  inflating: data/sunny/sunny sky-146.jpeg  \n",
            "  inflating: data/sunny/sunny sky-147.jpeg  \n",
            "  inflating: data/sunny/sunny sky-148.jpeg  \n",
            "  inflating: data/sunny/sunny sky-149.jpeg  \n",
            "  inflating: data/sunny/sunny sky-15.png  \n",
            "  inflating: data/sunny/sunny sky-16.jpeg  \n",
            "  inflating: data/sunny/sunny sky-17.jpeg  \n",
            "  inflating: data/sunny/sunny sky-2.jpeg  \n",
            "  inflating: data/sunny/sunny sky-20.jpeg  \n",
            "  inflating: data/sunny/sunny sky-21.jpeg  \n",
            "  inflating: data/sunny/sunny sky-22.jpeg  \n",
            "  inflating: data/sunny/sunny sky-23.jpeg  \n",
            "  inflating: data/sunny/sunny sky-24.jpeg  \n",
            "  inflating: data/sunny/sunny sky-27.jpeg  \n",
            "  inflating: data/sunny/sunny sky-29.png  \n",
            "  inflating: data/sunny/sunny sky-30.jpeg  \n",
            "  inflating: data/sunny/sunny sky-31.jpeg  \n",
            "  inflating: data/sunny/sunny sky-32.jpeg  \n",
            "  inflating: data/sunny/sunny sky-33.jpeg  \n",
            "  inflating: data/sunny/sunny sky-34.jpeg  \n",
            "  inflating: data/sunny/sunny sky-36.png  \n",
            "  inflating: data/sunny/sunny sky-37.jpeg  \n",
            "  inflating: data/sunny/sunny sky-38.jpeg  \n",
            "  inflating: data/sunny/sunny sky-4.jpeg  \n",
            "  inflating: data/sunny/sunny sky-40.jpeg  \n",
            "  inflating: data/sunny/sunny sky-41.png  \n",
            "  inflating: data/sunny/sunny sky-42.jpeg  \n",
            "  inflating: data/sunny/sunny sky-43.jpeg  \n",
            "  inflating: data/sunny/sunny sky-44.jpeg  \n",
            "  inflating: data/sunny/sunny sky-45.jpeg  \n",
            "  inflating: data/sunny/sunny sky-46.jpeg  \n",
            "  inflating: data/sunny/sunny sky-47.jpeg  \n",
            "  inflating: data/sunny/sunny sky-48.jpeg  \n",
            "  inflating: data/sunny/sunny sky-49.jpeg  \n",
            "  inflating: data/sunny/sunny sky-5.jpeg  \n",
            "  inflating: data/sunny/sunny sky-51.jpeg  \n",
            "  inflating: data/sunny/sunny sky-52.jpeg  \n",
            "  inflating: data/sunny/sunny sky-53.jpeg  \n",
            "  inflating: data/sunny/sunny sky-54.jpeg  \n",
            "  inflating: data/sunny/sunny sky-55.jpeg  \n",
            "  inflating: data/sunny/sunny sky-56.jpeg  \n",
            "  inflating: data/sunny/sunny sky-57.jpeg  \n",
            "  inflating: data/sunny/sunny sky-59.jpeg  \n",
            "  inflating: data/sunny/sunny sky-6.jpeg  \n",
            "  inflating: data/sunny/sunny sky-60.jpeg  \n",
            "  inflating: data/sunny/sunny sky-61.jpeg  \n",
            "  inflating: data/sunny/sunny sky-62.jpeg  \n",
            "  inflating: data/sunny/sunny sky-63.jpeg  \n",
            "  inflating: data/sunny/sunny sky-64.jpeg  \n",
            "  inflating: data/sunny/sunny sky-65.jpeg  \n",
            "  inflating: data/sunny/sunny sky-66.jpeg  \n",
            "  inflating: data/sunny/sunny sky-67.jpeg  \n",
            "  inflating: data/sunny/sunny sky-68.jpeg  \n",
            "  inflating: data/sunny/sunny sky-69.jpeg  \n",
            "  inflating: data/sunny/sunny sky-70.jpeg  \n",
            "  inflating: data/sunny/sunny sky-71.jpeg  \n",
            "  inflating: data/sunny/sunny sky-72.jpeg  \n",
            "  inflating: data/sunny/sunny sky-74.jpeg  \n",
            "  inflating: data/sunny/sunny sky-75.jpeg  \n",
            "  inflating: data/sunny/sunny sky-76.jpeg  \n",
            "  inflating: data/sunny/sunny sky-78.jpeg  \n",
            "  inflating: data/sunny/sunny sky-79.jpeg  \n",
            "  inflating: data/sunny/sunny sky-8.jpeg  \n",
            "  inflating: data/sunny/sunny sky-80.jpeg  \n",
            "  inflating: data/sunny/sunny sky-81.jpeg  \n",
            "  inflating: data/sunny/sunny sky-82.jpeg  \n",
            "  inflating: data/sunny/sunny sky-83.jpeg  \n",
            "  inflating: data/sunny/sunny sky-84.jpeg  \n",
            "  inflating: data/sunny/sunny sky-85.jpeg  \n",
            "  inflating: data/sunny/sunny sky-86.jpeg  \n",
            "  inflating: data/sunny/sunny sky-87.jpeg  \n",
            "  inflating: data/sunny/sunny sky-88.jpeg  \n",
            "  inflating: data/sunny/sunny sky-89.jpeg  \n",
            "  inflating: data/sunny/sunny sky-90.jpeg  \n",
            "  inflating: data/sunny/sunny sky-91.jpeg  \n",
            "  inflating: data/sunny/sunny sky-93.jpeg  \n",
            "  inflating: data/sunny/sunny sky-94.jpeg  \n",
            "  inflating: data/sunny/sunny sky-95.jpeg  \n",
            "  inflating: data/sunny/sunny sky-96.jpeg  \n",
            "  inflating: data/sunny/sunny sky-97.jpeg  \n",
            "  inflating: data/sunny/sunny sky-98.jpeg  \n",
            "  inflating: data/sunny/sunny sky-99.jpeg  \n",
            "  inflating: data/sunny/sunny weather-0.jpeg  \n",
            "  inflating: data/sunny/sunny weather-1.jpeg  \n",
            "  inflating: data/sunny/sunny weather-10.jpeg  \n",
            "  inflating: data/sunny/sunny weather-100.jpeg  \n",
            "  inflating: data/sunny/sunny weather-101.jpeg  \n",
            "  inflating: data/sunny/sunny weather-102.jpeg  \n",
            "  inflating: data/sunny/sunny weather-103.jpeg  \n",
            "  inflating: data/sunny/sunny weather-104.jpeg  \n",
            "  inflating: data/sunny/sunny weather-105.jpeg  \n",
            "  inflating: data/sunny/sunny weather-106.jpeg  \n",
            "  inflating: data/sunny/sunny weather-108.jpeg  \n",
            "  inflating: data/sunny/sunny weather-109.jpeg  \n",
            "  inflating: data/sunny/sunny weather-11.jpeg  \n",
            "  inflating: data/sunny/sunny weather-111.jpeg  \n",
            "  inflating: data/sunny/sunny weather-112.jpeg  \n",
            "  inflating: data/sunny/sunny weather-113.jpeg  \n",
            "  inflating: data/sunny/sunny weather-114.jpeg  \n",
            "  inflating: data/sunny/sunny weather-115.jpeg  \n",
            "  inflating: data/sunny/sunny weather-117.jpeg  \n",
            "  inflating: data/sunny/sunny weather-118.jpeg  \n",
            "  inflating: data/sunny/sunny weather-119.jpeg  \n",
            "  inflating: data/sunny/sunny weather-12.jpeg  \n",
            "  inflating: data/sunny/sunny weather-120.jpeg  \n",
            "  inflating: data/sunny/sunny weather-121.jpeg  \n",
            "  inflating: data/sunny/sunny weather-122.jpeg  \n",
            "  inflating: data/sunny/sunny weather-123.jpeg  \n",
            "  inflating: data/sunny/sunny weather-124.jpeg  \n",
            "  inflating: data/sunny/sunny weather-126.jpeg  \n",
            "  inflating: data/sunny/sunny weather-127.jpeg  \n",
            "  inflating: data/sunny/sunny weather-128.jpeg  \n",
            "  inflating: data/sunny/sunny weather-129.jpeg  \n",
            "  inflating: data/sunny/sunny weather-13.jpeg  \n",
            "  inflating: data/sunny/sunny weather-131.jpeg  \n",
            "  inflating: data/sunny/sunny weather-132.jpeg  \n",
            "  inflating: data/sunny/sunny weather-133.jpeg  \n",
            "  inflating: data/sunny/sunny weather-134.jpeg  \n",
            "  inflating: data/sunny/sunny weather-135.jpeg  \n",
            "  inflating: data/sunny/sunny weather-137.jpeg  \n",
            "  inflating: data/sunny/sunny weather-139.jpeg  \n",
            "  inflating: data/sunny/sunny weather-14.jpeg  \n",
            "  inflating: data/sunny/sunny weather-141.jpeg  \n",
            "  inflating: data/sunny/sunny weather-144.jpeg  \n",
            "  inflating: data/sunny/sunny weather-145.jpeg  \n",
            "  inflating: data/sunny/sunny weather-147.jpeg  \n",
            "  inflating: data/sunny/sunny weather-148.jpeg  \n",
            "  inflating: data/sunny/sunny weather-149.jpeg  \n",
            "  inflating: data/sunny/sunny weather-15.jpeg  \n",
            "  inflating: data/sunny/sunny weather-16.jpeg  \n",
            "  inflating: data/sunny/sunny weather-17.jpeg  \n",
            "  inflating: data/sunny/sunny weather-18.jpeg  \n",
            "  inflating: data/sunny/sunny weather-19.jpeg  \n",
            "  inflating: data/sunny/sunny weather-2.jpeg  \n",
            "  inflating: data/sunny/sunny weather-20.jpeg  \n",
            "  inflating: data/sunny/sunny weather-21.jpeg  \n",
            "  inflating: data/sunny/sunny weather-22.jpeg  \n",
            "  inflating: data/sunny/sunny weather-23.jpeg  \n",
            "  inflating: data/sunny/sunny weather-24.jpeg  \n",
            "  inflating: data/sunny/sunny weather-25.jpeg  \n",
            "  inflating: data/sunny/sunny weather-26.jpeg  \n",
            "  inflating: data/sunny/sunny weather-27.jpeg  \n",
            "  inflating: data/sunny/sunny weather-28.jpeg  \n",
            "  inflating: data/sunny/sunny weather-29.jpeg  \n",
            "  inflating: data/sunny/sunny weather-3.jpeg  \n",
            "  inflating: data/sunny/sunny weather-30.jpeg  \n",
            "  inflating: data/sunny/sunny weather-31.jpeg  \n",
            "  inflating: data/sunny/sunny weather-32.jpeg  \n",
            "  inflating: data/sunny/sunny weather-33.jpeg  \n",
            "  inflating: data/sunny/sunny weather-34.jpeg  \n",
            "  inflating: data/sunny/sunny weather-35.jpeg  \n",
            "  inflating: data/sunny/sunny weather-36.jpeg  \n",
            "  inflating: data/sunny/sunny weather-37.jpeg  \n",
            "  inflating: data/sunny/sunny weather-38.jpeg  \n",
            "  inflating: data/sunny/sunny weather-39.jpeg  \n",
            "  inflating: data/sunny/sunny weather-4.jpeg  \n",
            "  inflating: data/sunny/sunny weather-40.jpeg  \n",
            "  inflating: data/sunny/sunny weather-41.jpeg  \n",
            "  inflating: data/sunny/sunny weather-42.jpeg  \n",
            "  inflating: data/sunny/sunny weather-43.jpeg  \n",
            "  inflating: data/sunny/sunny weather-44.jpeg  \n",
            "  inflating: data/sunny/sunny weather-45.jpeg  \n",
            "  inflating: data/sunny/sunny weather-46.jpeg  \n",
            "  inflating: data/sunny/sunny weather-47.jpeg  \n",
            "  inflating: data/sunny/sunny weather-48.jpeg  \n",
            "  inflating: data/sunny/sunny weather-49.jpeg  \n",
            "  inflating: data/sunny/sunny weather-5.jpeg  \n",
            "  inflating: data/sunny/sunny weather-50.png  \n",
            "  inflating: data/sunny/sunny weather-51.jpeg  \n",
            "  inflating: data/sunny/sunny weather-52.jpeg  \n",
            "  inflating: data/sunny/sunny weather-53.jpeg  \n",
            "  inflating: data/sunny/sunny weather-54.jpeg  \n",
            "  inflating: data/sunny/sunny weather-55.jpeg  \n",
            "  inflating: data/sunny/sunny weather-56.jpeg  \n",
            "  inflating: data/sunny/sunny weather-57.jpeg  \n",
            "  inflating: data/sunny/sunny weather-58.jpeg  \n",
            "  inflating: data/sunny/sunny weather-59.png  \n",
            "  inflating: data/sunny/sunny weather-6.jpeg  \n",
            "  inflating: data/sunny/sunny weather-60.jpeg  \n",
            "  inflating: data/sunny/sunny weather-61.jpeg  \n",
            "  inflating: data/sunny/sunny weather-62.jpeg  \n",
            "  inflating: data/sunny/sunny weather-63.jpeg  \n",
            "  inflating: data/sunny/sunny weather-64.jpeg  \n",
            "  inflating: data/sunny/sunny weather-65.jpeg  \n",
            "  inflating: data/sunny/sunny weather-68.png  \n",
            "  inflating: data/sunny/sunny weather-69.jpeg  \n",
            "  inflating: data/sunny/sunny weather-7.jpeg  \n",
            "  inflating: data/sunny/sunny weather-70.jpeg  \n",
            "  inflating: data/sunny/sunny weather-71.jpeg  \n",
            "  inflating: data/sunny/sunny weather-72.jpeg  \n",
            "  inflating: data/sunny/sunny weather-74.jpeg  \n",
            "  inflating: data/sunny/sunny weather-75.jpeg  \n",
            "  inflating: data/sunny/sunny weather-76.jpeg  \n",
            "  inflating: data/sunny/sunny weather-77.jpeg  \n",
            "  inflating: data/sunny/sunny weather-78.jpeg  \n",
            "  inflating: data/sunny/sunny weather-8.png  \n",
            "  inflating: data/sunny/sunny weather-80.jpeg  \n",
            "  inflating: data/sunny/sunny weather-81.jpeg  \n",
            "  inflating: data/sunny/sunny weather-82.jpeg  \n",
            "  inflating: data/sunny/sunny weather-83.jpeg  \n",
            "  inflating: data/sunny/sunny weather-84.jpeg  \n",
            "  inflating: data/sunny/sunny weather-87.jpeg  \n",
            "  inflating: data/sunny/sunny weather-88.jpeg  \n",
            "  inflating: data/sunny/sunny weather-89.jpeg  \n",
            "  inflating: data/sunny/sunny weather-9.jpeg  \n",
            "  inflating: data/sunny/sunny weather-91.jpeg  \n",
            "  inflating: data/sunny/sunny weather-92.jpeg  \n",
            "  inflating: data/sunny/sunny weather-94.png  \n",
            "  inflating: data/sunny/sunny weather-95.jpeg  \n",
            "  inflating: data/sunny/sunny weather-97.jpeg  \n",
            "  inflating: data/sunny/sunny weather-98.jpeg  \n",
            "  inflating: data/sunny/sunny weather-99.jpeg  \n"
          ]
        }
      ],
      "source": [
        "!unzip '/content/gdrive/MyDrive/CV Course/DATA/YOLO_IMG_CLASSIFIER/Weather_yolo_img_clsf_data.zip'  #full data in drive, above URL us partial data.so upto you which data you want to use."
      ]
    },
    {
      "cell_type": "code",
      "execution_count": null,
      "metadata": {
        "colab": {
          "base_uri": "https://localhost:8080/"
        },
        "id": "CmQDMrRRG0v7",
        "outputId": "55a3a773-6355-48ed-8660-1c1647e89221"
      },
      "outputs": [
        {
          "name": "stdout",
          "output_type": "stream",
          "text": [
            "category_name :  foggy\n",
            "category_folder :  /content/data/foggy\n",
            "/content/data/foggy\n",
            "category_name :  cloudy\n",
            "category_folder :  /content/data/cloudy\n",
            "/content/data/cloudy\n",
            "category_name :  snowy\n",
            "category_folder :  /content/data/snowy\n",
            "/content/data/snowy\n",
            "category_name :  sunny\n",
            "category_folder :  /content/data/sunny\n",
            "/content/data/sunny\n",
            "category_name :  rainy\n",
            "category_folder :  /content/data/rainy\n",
            "/content/data/rainy\n",
            "         filename category_name\n",
            "0        4249.jpg         foggy\n",
            "1  3556558494.jpg         foggy\n",
            "2      600879.jpg         foggy\n",
            "3  2302304381.jpg         foggy\n",
            "4  2307355439.jpg         foggy\n",
            "             filename category_name\n",
            "18033     rain180.jpg         rainy\n",
            "18034  2288463408.jpg         rainy\n",
            "18035  2222673691.jpg         rainy\n",
            "18036          25.jpg         rainy\n",
            "18037        1053.jpg         rainy\n",
            "cloudy    6702\n",
            "sunny     6274\n",
            "rainy     1927\n",
            "snowy     1875\n",
            "foggy     1260\n",
            "Name: category_name, dtype: int64\n",
            "Train: 9018 files\n",
            "Train: cloudy    3349\n",
            "sunny     3147\n",
            "snowy      961\n",
            "rainy      947\n",
            "foggy      614\n",
            "Name: category_name, dtype: int64 files\n",
            "Valid: 5412 files\n",
            "Train: cloudy    2016\n",
            "sunny     1871\n",
            "rainy      583\n",
            "snowy      549\n",
            "foggy      393\n",
            "Name: category_name, dtype: int64 files\n",
            "Test: 3608 files\n",
            "Train: cloudy    1337\n",
            "sunny     1256\n",
            "rainy      397\n",
            "snowy      365\n",
            "foggy      253\n",
            "Name: category_name, dtype: int64 files\n",
            "/content\n"
          ]
        }
      ],
      "source": [
        "import os\n",
        "import numpy as np\n",
        "import pandas as pd\n",
        "from sklearn.model_selection import train_test_split\n",
        "import shutil\n",
        "\n",
        "\n",
        "def organize_dataset(root_folder,target_folder, train_ratio=0.5, test_ratio=0.2,valid_ratio=0.3):\n",
        "  \"\"\"\n",
        "    Organizes the dataset into train, validation, and test directories.\n",
        "    Parameters:\n",
        "        root_folder (str): The path to the root folder containing subfolders for each class/category.\n",
        "        target_folder (str): The target folder to store the organized dataset.\n",
        "        train_ratio (float): The ratio of the training dataset (default is 0.5).\n",
        "        test_ratio (float): The ratio of the test dataset (default is 0.2).\n",
        "        valid_ratio (float): The ratio of the validation dataset (default is 0.3).\n",
        "  \"\"\"\n",
        "  data={'filename':[],'category_name':[]}\n",
        "  # Iterate through each category folder in the root directory\n",
        "  \n",
        "  for category_name in os.listdir(root_folder):\n",
        "    print('category_name : ',category_name)\n",
        "    category_folder = os.path.join(root_folder,category_name)\n",
        "    print('category_folder : ',category_folder)\n",
        "\n",
        "    os.chdir(category_folder)\n",
        "    print(os.getcwd())\n",
        "\n",
        "    for filename in os.listdir(category_folder):\n",
        "      if filename.endswith(('.jpg','.jpeg','.png')):\n",
        "        data['filename'].append(filename)\n",
        "        data['category_name'].append(category_name)\n",
        "\n",
        "  df=pd.DataFrame(data)\n",
        "  print(df.head())\n",
        "  print(df.tail())\n",
        "  print(df['category_name'].value_counts())\n",
        "\n",
        "  train_df , test_df=train_test_split(df, test_size=test_ratio, random_state=23)\n",
        "  train_df , valid_df=train_test_split(train_df, test_size=(valid_ratio /(train_ratio+valid_ratio)), random_state=23)\n",
        "\n",
        "\n",
        "  train_df['split_type'] = 'train'\n",
        "  valid_df['split_type'] = 'val'\n",
        "  test_df['split_type'] = 'test'\n",
        "\n",
        "  # Print the number of files in each split\n",
        "  print(f\"Train: {len(train_df)} files\")\n",
        "  print(f\"Train: {(train_df['category_name'].value_counts())} files\")\n",
        "\n",
        "  print(f\"Valid: {len(valid_df)} files\")\n",
        "  print(f\"Train: {(valid_df['category_name'].value_counts())} files\")\n",
        "\n",
        "  print(f\"Test: {len(test_df)} files\")\n",
        "  print(f\"Train: {(test_df['category_name'].value_counts())} files\")\n",
        "\n",
        "  # Move files to the appropriate folders\n",
        "  for idx, row in train_df.iterrows():\n",
        "      dest_folder = os.path.join(target_folder, row['split_type'], row['category_name'])\n",
        "      os.makedirs(dest_folder, exist_ok=True)\n",
        "      shutil.copy(os.path.join(root_folder, row['category_name'], row['filename']), dest_folder)\n",
        "\n",
        "  for idx, row in valid_df.iterrows():\n",
        "      dest_folder = os.path.join(target_folder, row['split_type'], row['category_name'])\n",
        "      os.makedirs(dest_folder, exist_ok=True)\n",
        "      shutil.copy(os.path.join(root_folder, row['category_name'], row['filename']), dest_folder)\n",
        "\n",
        "  for idx, row in test_df.iterrows():\n",
        "      dest_folder = os.path.join(target_folder, row['split_type'], row['category_name'])\n",
        "      os.makedirs(dest_folder, exist_ok=True)\n",
        "      shutil.copy(os.path.join(root_folder, row['category_name'], row['filename']), dest_folder)\n",
        "\n",
        "root_folder='/content/data'\n",
        "target_folder='/content/data_str'\n",
        "\n",
        "organize_dataset(root_folder,target_folder)\n",
        "\n",
        "os.chdir('/content/')\n",
        "print(os.getcwd())"
      ]
    },
    {
      "cell_type": "code",
      "execution_count": null,
      "metadata": {
        "colab": {
          "base_uri": "https://localhost:8080/"
        },
        "id": "3UdWqYtu9KB_",
        "outputId": "01d76969-5f4f-4226-d74f-481ab411e4be"
      },
      "outputs": [
        {
          "name": "stdout",
          "output_type": "stream",
          "text": [
            "Collecting ultralytics\n",
            "  Downloading ultralytics-8.1.12-py3-none-any.whl (710 kB)\n",
            "\u001b[?25l     \u001b[90m━━━━━━━━━━━━━━━━━━━━━━━━━━━━━━━━━━━━━━━━\u001b[0m \u001b[32m0.0/710.2 kB\u001b[0m \u001b[31m?\u001b[0m eta \u001b[36m-:--:--\u001b[0m\r\u001b[2K     \u001b[91m━━━━━━━━━━\u001b[0m\u001b[91m╸\u001b[0m\u001b[90m━━━━━━━━━━━━━━━━━━━━━━━━━━━━━\u001b[0m \u001b[32m194.6/710.2 kB\u001b[0m \u001b[31m5.6 MB/s\u001b[0m eta \u001b[36m0:00:01\u001b[0m\r\u001b[2K     \u001b[90m━━━━━━━━━━━━━━━━━━━━━━━━━━━━━━━━━━━━━━━━\u001b[0m \u001b[32m710.2/710.2 kB\u001b[0m \u001b[31m13.4 MB/s\u001b[0m eta \u001b[36m0:00:00\u001b[0m\n",
            "\u001b[?25hRequirement already satisfied: matplotlib>=3.3.0 in /usr/local/lib/python3.10/dist-packages (from ultralytics) (3.7.1)\n",
            "Requirement already satisfied: numpy>=1.22.2 in /usr/local/lib/python3.10/dist-packages (from ultralytics) (1.23.5)\n",
            "Requirement already satisfied: opencv-python>=4.6.0 in /usr/local/lib/python3.10/dist-packages (from ultralytics) (4.8.0.76)\n",
            "Requirement already satisfied: pillow>=7.1.2 in /usr/local/lib/python3.10/dist-packages (from ultralytics) (9.4.0)\n",
            "Requirement already satisfied: pyyaml>=5.3.1 in /usr/local/lib/python3.10/dist-packages (from ultralytics) (6.0.1)\n",
            "Requirement already satisfied: requests>=2.23.0 in /usr/local/lib/python3.10/dist-packages (from ultralytics) (2.31.0)\n",
            "Requirement already satisfied: scipy>=1.4.1 in /usr/local/lib/python3.10/dist-packages (from ultralytics) (1.11.4)\n",
            "Requirement already satisfied: torch>=1.8.0 in /usr/local/lib/python3.10/dist-packages (from ultralytics) (2.1.0+cu121)\n",
            "Requirement already satisfied: torchvision>=0.9.0 in /usr/local/lib/python3.10/dist-packages (from ultralytics) (0.16.0+cu121)\n",
            "Requirement already satisfied: tqdm>=4.64.0 in /usr/local/lib/python3.10/dist-packages (from ultralytics) (4.66.1)\n",
            "Requirement already satisfied: psutil in /usr/local/lib/python3.10/dist-packages (from ultralytics) (5.9.5)\n",
            "Requirement already satisfied: py-cpuinfo in /usr/local/lib/python3.10/dist-packages (from ultralytics) (9.0.0)\n",
            "Collecting thop>=0.1.1 (from ultralytics)\n",
            "  Downloading thop-0.1.1.post2209072238-py3-none-any.whl (15 kB)\n",
            "Requirement already satisfied: pandas>=1.1.4 in /usr/local/lib/python3.10/dist-packages (from ultralytics) (1.5.3)\n",
            "Requirement already satisfied: seaborn>=0.11.0 in /usr/local/lib/python3.10/dist-packages (from ultralytics) (0.13.1)\n",
            "Requirement already satisfied: contourpy>=1.0.1 in /usr/local/lib/python3.10/dist-packages (from matplotlib>=3.3.0->ultralytics) (1.2.0)\n",
            "Requirement already satisfied: cycler>=0.10 in /usr/local/lib/python3.10/dist-packages (from matplotlib>=3.3.0->ultralytics) (0.12.1)\n",
            "Requirement already satisfied: fonttools>=4.22.0 in /usr/local/lib/python3.10/dist-packages (from matplotlib>=3.3.0->ultralytics) (4.48.1)\n",
            "Requirement already satisfied: kiwisolver>=1.0.1 in /usr/local/lib/python3.10/dist-packages (from matplotlib>=3.3.0->ultralytics) (1.4.5)\n",
            "Requirement already satisfied: packaging>=20.0 in /usr/local/lib/python3.10/dist-packages (from matplotlib>=3.3.0->ultralytics) (23.2)\n",
            "Requirement already satisfied: pyparsing>=2.3.1 in /usr/local/lib/python3.10/dist-packages (from matplotlib>=3.3.0->ultralytics) (3.1.1)\n",
            "Requirement already satisfied: python-dateutil>=2.7 in /usr/local/lib/python3.10/dist-packages (from matplotlib>=3.3.0->ultralytics) (2.8.2)\n",
            "Requirement already satisfied: pytz>=2020.1 in /usr/local/lib/python3.10/dist-packages (from pandas>=1.1.4->ultralytics) (2023.4)\n",
            "Requirement already satisfied: charset-normalizer<4,>=2 in /usr/local/lib/python3.10/dist-packages (from requests>=2.23.0->ultralytics) (3.3.2)\n",
            "Requirement already satisfied: idna<4,>=2.5 in /usr/local/lib/python3.10/dist-packages (from requests>=2.23.0->ultralytics) (3.6)\n",
            "Requirement already satisfied: urllib3<3,>=1.21.1 in /usr/local/lib/python3.10/dist-packages (from requests>=2.23.0->ultralytics) (2.0.7)\n",
            "Requirement already satisfied: certifi>=2017.4.17 in /usr/local/lib/python3.10/dist-packages (from requests>=2.23.0->ultralytics) (2024.2.2)\n",
            "Requirement already satisfied: filelock in /usr/local/lib/python3.10/dist-packages (from torch>=1.8.0->ultralytics) (3.13.1)\n",
            "Requirement already satisfied: typing-extensions in /usr/local/lib/python3.10/dist-packages (from torch>=1.8.0->ultralytics) (4.9.0)\n",
            "Requirement already satisfied: sympy in /usr/local/lib/python3.10/dist-packages (from torch>=1.8.0->ultralytics) (1.12)\n",
            "Requirement already satisfied: networkx in /usr/local/lib/python3.10/dist-packages (from torch>=1.8.0->ultralytics) (3.2.1)\n",
            "Requirement already satisfied: jinja2 in /usr/local/lib/python3.10/dist-packages (from torch>=1.8.0->ultralytics) (3.1.3)\n",
            "Requirement already satisfied: fsspec in /usr/local/lib/python3.10/dist-packages (from torch>=1.8.0->ultralytics) (2023.6.0)\n",
            "Requirement already satisfied: triton==2.1.0 in /usr/local/lib/python3.10/dist-packages (from torch>=1.8.0->ultralytics) (2.1.0)\n",
            "Requirement already satisfied: six>=1.5 in /usr/local/lib/python3.10/dist-packages (from python-dateutil>=2.7->matplotlib>=3.3.0->ultralytics) (1.16.0)\n",
            "Requirement already satisfied: MarkupSafe>=2.0 in /usr/local/lib/python3.10/dist-packages (from jinja2->torch>=1.8.0->ultralytics) (2.1.5)\n",
            "Requirement already satisfied: mpmath>=0.19 in /usr/local/lib/python3.10/dist-packages (from sympy->torch>=1.8.0->ultralytics) (1.3.0)\n",
            "Installing collected packages: thop, ultralytics\n",
            "Successfully installed thop-0.1.1.post2209072238 ultralytics-8.1.12\n"
          ]
        }
      ],
      "source": [
        "!pip install ultralytics"
      ]
    },
    {
      "cell_type": "markdown",
      "metadata": {},
      "source": [
        "### 3. Model Training\n",
        "\n",
        "#### YOLOv8 Classifier\n",
        "- **Pre-trained Model:** YOLOv8n (nano version) was selected for its efficiency in lightweight applications.\n",
        "- **Input Size:** Images were resized to 64x64 for faster training.\n",
        "- **Epochs:** The model was trained for 100 epochs to ensure convergence.\n",
        "\n"
      ]
    },
    {
      "cell_type": "code",
      "execution_count": null,
      "metadata": {
        "colab": {
          "base_uri": "https://localhost:8080/"
        },
        "id": "zy7BcAyj9LvW",
        "outputId": "10357190-6f6f-4fb2-82c8-3be62b2ff2d5"
      },
      "outputs": [
        {
          "name": "stdout",
          "output_type": "stream",
          "text": [
            "Downloading https://github.com/ultralytics/assets/releases/download/v8.1.0/yolov8n-cls.pt to 'yolov8n-cls.pt'...\n"
          ]
        },
        {
          "name": "stderr",
          "output_type": "stream",
          "text": [
            "100%|██████████| 5.30M/5.30M [00:00<00:00, 231MB/s]\n"
          ]
        },
        {
          "name": "stdout",
          "output_type": "stream",
          "text": [
            "Ultralytics YOLOv8.1.12 🚀 Python-3.10.12 torch-2.1.0+cu121 CUDA:0 (Tesla T4, 15102MiB)\n",
            "\u001b[34m\u001b[1mengine/trainer: \u001b[0mtask=classify, mode=train, model=yolov8n-cls.pt, data=/content/data_str, epochs=100, time=None, patience=50, batch=16, imgsz=64, save=True, save_period=-1, cache=False, device=None, workers=8, project=None, name=train, exist_ok=False, pretrained=True, optimizer=auto, verbose=True, seed=0, deterministic=True, single_cls=False, rect=False, cos_lr=False, close_mosaic=10, resume=False, amp=True, fraction=1.0, profile=False, freeze=None, multi_scale=False, overlap_mask=True, mask_ratio=4, dropout=0.0, val=True, split=val, save_json=False, save_hybrid=False, conf=None, iou=0.7, max_det=300, half=False, dnn=False, plots=True, source=None, vid_stride=1, stream_buffer=False, visualize=False, augment=False, agnostic_nms=False, classes=None, retina_masks=False, embed=None, show=False, save_frames=False, save_txt=False, save_conf=False, save_crop=False, show_labels=True, show_conf=True, show_boxes=True, line_width=None, format=torchscript, keras=False, optimize=False, int8=False, dynamic=False, simplify=False, opset=None, workspace=4, nms=False, lr0=0.01, lrf=0.01, momentum=0.937, weight_decay=0.0005, warmup_epochs=3.0, warmup_momentum=0.8, warmup_bias_lr=0.1, box=7.5, cls=0.5, dfl=1.5, pose=12.0, kobj=1.0, label_smoothing=0.0, nbs=64, hsv_h=0.015, hsv_s=0.7, hsv_v=0.4, degrees=0.0, translate=0.1, scale=0.5, shear=0.0, perspective=0.0, flipud=0.0, fliplr=0.5, mosaic=1.0, mixup=0.0, copy_paste=0.0, auto_augment=randaugment, erasing=0.4, crop_fraction=1.0, cfg=None, tracker=botsort.yaml, save_dir=runs/classify/train\n",
            "\u001b[34m\u001b[1mtrain:\u001b[0m /content/data_str/train... found 9018 images in 5 classes ✅ \n",
            "\u001b[34m\u001b[1mval:\u001b[0m /content/data_str/val... found 5412 images in 5 classes ✅ \n",
            "\u001b[34m\u001b[1mtest:\u001b[0m /content/data_str/test... found 3608 images in 5 classes ✅ \n",
            "Overriding model.yaml nc=1000 with nc=5\n",
            "\n",
            "                   from  n    params  module                                       arguments                     \n",
            "  0                  -1  1       464  ultralytics.nn.modules.conv.Conv             [3, 16, 3, 2]                 \n",
            "  1                  -1  1      4672  ultralytics.nn.modules.conv.Conv             [16, 32, 3, 2]                \n",
            "  2                  -1  1      7360  ultralytics.nn.modules.block.C2f             [32, 32, 1, True]             \n",
            "  3                  -1  1     18560  ultralytics.nn.modules.conv.Conv             [32, 64, 3, 2]                \n",
            "  4                  -1  2     49664  ultralytics.nn.modules.block.C2f             [64, 64, 2, True]             \n",
            "  5                  -1  1     73984  ultralytics.nn.modules.conv.Conv             [64, 128, 3, 2]               \n",
            "  6                  -1  2    197632  ultralytics.nn.modules.block.C2f             [128, 128, 2, True]           \n",
            "  7                  -1  1    295424  ultralytics.nn.modules.conv.Conv             [128, 256, 3, 2]              \n",
            "  8                  -1  1    460288  ultralytics.nn.modules.block.C2f             [256, 256, 1, True]           \n",
            "  9                  -1  1    336645  ultralytics.nn.modules.head.Classify         [256, 5]                      \n",
            "YOLOv8n-cls summary: 99 layers, 1444693 parameters, 1444693 gradients, 3.4 GFLOPs\n",
            "Transferred 156/158 items from pretrained weights\n",
            "\u001b[34m\u001b[1mTensorBoard: \u001b[0mStart with 'tensorboard --logdir runs/classify/train', view at http://localhost:6006/\n",
            "\u001b[34m\u001b[1mAMP: \u001b[0mrunning Automatic Mixed Precision (AMP) checks with YOLOv8n...\n",
            "Downloading https://github.com/ultralytics/assets/releases/download/v8.1.0/yolov8n.pt to 'yolov8n.pt'...\n"
          ]
        },
        {
          "name": "stderr",
          "output_type": "stream",
          "text": [
            "100%|██████████| 6.23M/6.23M [00:00<00:00, 34.0MB/s]\n"
          ]
        },
        {
          "name": "stdout",
          "output_type": "stream",
          "text": [
            "\u001b[34m\u001b[1mAMP: \u001b[0mchecks passed ✅\n"
          ]
        },
        {
          "name": "stderr",
          "output_type": "stream",
          "text": [
            "\u001b[34m\u001b[1mtrain: \u001b[0mScanning /content/data_str/train... 9016 images, 2 corrupt: 100%|██████████| 9018/9018 [00:03<00:00, 2633.39it/s]"
          ]
        },
        {
          "name": "stdout",
          "output_type": "stream",
          "text": [
            "\u001b[34m\u001b[1mtrain: \u001b[0mWARNING ⚠️ /content/data_str/train/foggy/4160.jpg: corrupt JPEG restored and saved\n",
            "\u001b[34m\u001b[1mtrain: \u001b[0mWARNING ⚠️ /content/data_str/train/foggy/4230.jpg: corrupt JPEG restored and saved\n",
            "\u001b[34m\u001b[1mtrain: \u001b[0mWARNING ⚠️ /content/data_str/train/foggy/4261.jpg: corrupt JPEG restored and saved\n",
            "\u001b[34m\u001b[1mtrain: \u001b[0mWARNING ⚠️ /content/data_str/train/foggy/4269.jpg: corrupt JPEG restored and saved\n",
            "\u001b[34m\u001b[1mtrain: \u001b[0mWARNING ⚠️ /content/data_str/train/foggy/4514.jpg: ignoring corrupt image/label: invalid image format GIF\n",
            "\u001b[34m\u001b[1mtrain: \u001b[0mWARNING ⚠️ /content/data_str/train/foggy/4588.jpg: corrupt JPEG restored and saved\n",
            "\u001b[34m\u001b[1mtrain: \u001b[0mWARNING ⚠️ /content/data_str/train/foggy/4632.jpg: corrupt JPEG restored and saved\n",
            "\u001b[34m\u001b[1mtrain: \u001b[0mWARNING ⚠️ /content/data_str/train/foggy/4678.jpg: corrupt JPEG restored and saved\n",
            "\u001b[34m\u001b[1mtrain: \u001b[0mWARNING ⚠️ /content/data_str/train/foggy/4770.jpg: corrupt JPEG restored and saved\n",
            "\u001b[34m\u001b[1mtrain: \u001b[0mWARNING ⚠️ /content/data_str/train/foggy/4833.jpg: corrupt JPEG restored and saved\n",
            "\u001b[34m\u001b[1mtrain: \u001b[0mWARNING ⚠️ /content/data_str/train/foggy/4836.jpg: corrupt JPEG restored and saved\n",
            "\u001b[34m\u001b[1mtrain: \u001b[0mWARNING ⚠️ /content/data_str/train/rainy/103.jpg: corrupt JPEG restored and saved\n",
            "\u001b[34m\u001b[1mtrain: \u001b[0mWARNING ⚠️ /content/data_str/train/rainy/1488.jpg: corrupt JPEG restored and saved\n",
            "\u001b[34m\u001b[1mtrain: \u001b[0mWARNING ⚠️ /content/data_str/train/rainy/1597.jpg: corrupt JPEG restored and saved\n",
            "\u001b[34m\u001b[1mtrain: \u001b[0mWARNING ⚠️ /content/data_str/train/rainy/1670.jpg: corrupt JPEG restored and saved\n",
            "\u001b[34m\u001b[1mtrain: \u001b[0mWARNING ⚠️ /content/data_str/train/rainy/1739.jpg: corrupt JPEG restored and saved\n",
            "\u001b[34m\u001b[1mtrain: \u001b[0mWARNING ⚠️ /content/data_str/train/rainy/rain57.jpg: corrupt JPEG restored and saved\n",
            "\u001b[34m\u001b[1mtrain: \u001b[0mWARNING ⚠️ /content/data_str/train/snowy/1063.jpg: corrupt JPEG restored and saved\n",
            "\u001b[34m\u001b[1mtrain: \u001b[0mWARNING ⚠️ /content/data_str/train/snowy/1163.jpg: corrupt JPEG restored and saved\n",
            "\u001b[34m\u001b[1mtrain: \u001b[0mWARNING ⚠️ /content/data_str/train/snowy/1208.jpg: corrupt JPEG restored and saved\n",
            "\u001b[34m\u001b[1mtrain: \u001b[0mWARNING ⚠️ /content/data_str/train/snowy/1364.jpg: corrupt JPEG restored and saved\n",
            "\u001b[34m\u001b[1mtrain: \u001b[0mWARNING ⚠️ /content/data_str/train/snowy/1415.jpg: corrupt JPEG restored and saved\n",
            "\u001b[34m\u001b[1mtrain: \u001b[0mWARNING ⚠️ /content/data_str/train/sunny/shine126.jpg: corrupt JPEG restored and saved\n",
            "\u001b[34m\u001b[1mtrain: \u001b[0mWARNING ⚠️ /content/data_str/train/sunny/shine131.jpg: ignoring corrupt image/label: invalid image format GIF\n"
          ]
        },
        {
          "name": "stderr",
          "output_type": "stream",
          "text": [
            "\n"
          ]
        },
        {
          "name": "stdout",
          "output_type": "stream",
          "text": [
            "\u001b[34m\u001b[1mtrain: \u001b[0mNew cache created: /content/data_str/train.cache\n"
          ]
        },
        {
          "name": "stderr",
          "output_type": "stream",
          "text": [
            "\u001b[34m\u001b[1mval: \u001b[0mScanning /content/data_str/val... 5411 images, 1 corrupt: 100%|██████████| 5412/5412 [00:02<00:00, 1862.72it/s]\n"
          ]
        },
        {
          "name": "stdout",
          "output_type": "stream",
          "text": [
            "\u001b[34m\u001b[1mval: \u001b[0mWARNING ⚠️ /content/data_str/val/foggy/4186.jpg: corrupt JPEG restored and saved\n",
            "\u001b[34m\u001b[1mval: \u001b[0mWARNING ⚠️ /content/data_str/val/foggy/4495.jpg: corrupt JPEG restored and saved\n",
            "\u001b[34m\u001b[1mval: \u001b[0mWARNING ⚠️ /content/data_str/val/foggy/4868.jpg: corrupt JPEG restored and saved\n",
            "\u001b[34m\u001b[1mval: \u001b[0mWARNING ⚠️ /content/data_str/val/rainy/1691.jpg: corrupt JPEG restored and saved\n",
            "\u001b[34m\u001b[1mval: \u001b[0mWARNING ⚠️ /content/data_str/val/snowy/0981.jpg: corrupt JPEG restored and saved\n",
            "\u001b[34m\u001b[1mval: \u001b[0mWARNING ⚠️ /content/data_str/val/snowy/1187.jpg: ignoring corrupt image/label: invalid image format GIF\n",
            "\u001b[34m\u001b[1mval: \u001b[0mWARNING ⚠️ /content/data_str/val/snowy/1269.jpg: corrupt JPEG restored and saved\n",
            "\u001b[34m\u001b[1mval: \u001b[0mWARNING ⚠️ /content/data_str/val/snowy/1375.jpg: corrupt JPEG restored and saved\n",
            "\u001b[34m\u001b[1mval: \u001b[0mNew cache created: /content/data_str/val.cache\n",
            "\u001b[34m\u001b[1moptimizer:\u001b[0m 'optimizer=auto' found, ignoring 'lr0=0.01' and 'momentum=0.937' and determining best 'optimizer', 'lr0' and 'momentum' automatically... \n",
            "\u001b[34m\u001b[1moptimizer:\u001b[0m SGD(lr=0.01, momentum=0.9) with parameter groups 26 weight(decay=0.0), 27 weight(decay=0.0005), 27 bias(decay=0.0)\n",
            "\u001b[34m\u001b[1mTensorBoard: \u001b[0mmodel graph visualization added ✅\n",
            "Image sizes 64 train, 64 val\n",
            "Using 2 dataloader workers\n",
            "Logging results to \u001b[1mruns/classify/train\u001b[0m\n",
            "Starting training for 100 epochs...\n",
            "\n",
            "      Epoch    GPU_mem       loss  Instances       Size\n"
          ]
        },
        {
          "name": "stderr",
          "output_type": "stream",
          "text": [
            "      1/100     0.386G      1.684         16         64:   4%|▎         | 21/564 [00:02<00:44, 12.33it/s]"
          ]
        },
        {
          "name": "stdout",
          "output_type": "stream",
          "text": [
            "Downloading https://ultralytics.com/assets/Arial.ttf to '/root/.config/Ultralytics/Arial.ttf'...\n"
          ]
        },
        {
          "name": "stderr",
          "output_type": "stream",
          "text": [
            "      1/100     0.386G      1.599         16         64:   9%|▉         | 53/564 [00:04<00:38, 13.32it/s]\n",
            "100%|██████████| 755k/755k [00:00<00:00, 68.2MB/s]\n",
            "      1/100     0.386G      1.228          8         64: 100%|██████████| 564/564 [00:46<00:00, 12.06it/s]\n",
            "               classes   top1_acc   top5_acc: 100%|██████████| 170/170 [00:14<00:00, 11.50it/s]"
          ]
        },
        {
          "name": "stdout",
          "output_type": "stream",
          "text": [
            "                   all      0.623          1\n"
          ]
        },
        {
          "name": "stderr",
          "output_type": "stream",
          "text": [
            "\n"
          ]
        },
        {
          "name": "stdout",
          "output_type": "stream",
          "text": [
            "\n",
            "      Epoch    GPU_mem       loss  Instances       Size\n"
          ]
        },
        {
          "name": "stderr",
          "output_type": "stream",
          "text": [
            "      2/100     0.365G       1.09          8         64: 100%|██████████| 564/564 [00:45<00:00, 12.44it/s]\n",
            "               classes   top1_acc   top5_acc: 100%|██████████| 170/170 [00:14<00:00, 11.91it/s]"
          ]
        },
        {
          "name": "stdout",
          "output_type": "stream",
          "text": [
            "                   all      0.637          1\n"
          ]
        },
        {
          "name": "stderr",
          "output_type": "stream",
          "text": [
            "\n"
          ]
        },
        {
          "name": "stdout",
          "output_type": "stream",
          "text": [
            "\n",
            "      Epoch    GPU_mem       loss  Instances       Size\n"
          ]
        },
        {
          "name": "stderr",
          "output_type": "stream",
          "text": [
            "      3/100     0.365G      1.146          8         64: 100%|██████████| 564/564 [00:42<00:00, 13.32it/s]\n",
            "               classes   top1_acc   top5_acc: 100%|██████████| 170/170 [00:14<00:00, 11.49it/s]"
          ]
        },
        {
          "name": "stdout",
          "output_type": "stream",
          "text": [
            "                   all      0.661          1\n"
          ]
        },
        {
          "name": "stderr",
          "output_type": "stream",
          "text": [
            "\n"
          ]
        },
        {
          "name": "stdout",
          "output_type": "stream",
          "text": [
            "\n",
            "      Epoch    GPU_mem       loss  Instances       Size\n"
          ]
        },
        {
          "name": "stderr",
          "output_type": "stream",
          "text": [
            "      4/100     0.365G      1.147          8         64: 100%|██████████| 564/564 [00:41<00:00, 13.52it/s]\n",
            "               classes   top1_acc   top5_acc: 100%|██████████| 170/170 [00:14<00:00, 11.89it/s]"
          ]
        },
        {
          "name": "stdout",
          "output_type": "stream",
          "text": [
            "                   all      0.694          1\n"
          ]
        },
        {
          "name": "stderr",
          "output_type": "stream",
          "text": [
            "\n"
          ]
        },
        {
          "name": "stdout",
          "output_type": "stream",
          "text": [
            "\n",
            "      Epoch    GPU_mem       loss  Instances       Size\n"
          ]
        },
        {
          "name": "stderr",
          "output_type": "stream",
          "text": [
            "      5/100     0.367G       0.96          8         64: 100%|██████████| 564/564 [00:41<00:00, 13.52it/s]\n",
            "               classes   top1_acc   top5_acc: 100%|██████████| 170/170 [00:14<00:00, 11.88it/s]\n"
          ]
        },
        {
          "name": "stdout",
          "output_type": "stream",
          "text": [
            "                   all      0.697          1\n",
            "\n",
            "      Epoch    GPU_mem       loss  Instances       Size\n"
          ]
        },
        {
          "name": "stderr",
          "output_type": "stream",
          "text": [
            "      6/100     0.365G     0.8598          8         64: 100%|██████████| 564/564 [00:41<00:00, 13.64it/s]\n",
            "               classes   top1_acc   top5_acc: 100%|██████████| 170/170 [00:14<00:00, 11.98it/s]"
          ]
        },
        {
          "name": "stdout",
          "output_type": "stream",
          "text": [
            "                   all      0.757          1\n"
          ]
        },
        {
          "name": "stderr",
          "output_type": "stream",
          "text": [
            "\n"
          ]
        },
        {
          "name": "stdout",
          "output_type": "stream",
          "text": [
            "\n",
            "      Epoch    GPU_mem       loss  Instances       Size\n"
          ]
        },
        {
          "name": "stderr",
          "output_type": "stream",
          "text": [
            "      7/100     0.365G     0.8188          8         64: 100%|██████████| 564/564 [00:41<00:00, 13.55it/s]\n",
            "               classes   top1_acc   top5_acc: 100%|██████████| 170/170 [00:14<00:00, 12.04it/s]"
          ]
        },
        {
          "name": "stdout",
          "output_type": "stream",
          "text": [
            "                   all      0.748          1\n"
          ]
        },
        {
          "name": "stderr",
          "output_type": "stream",
          "text": [
            "\n"
          ]
        },
        {
          "name": "stdout",
          "output_type": "stream",
          "text": [
            "\n",
            "      Epoch    GPU_mem       loss  Instances       Size\n"
          ]
        },
        {
          "name": "stderr",
          "output_type": "stream",
          "text": [
            "      8/100     0.365G     0.7927          8         64: 100%|██████████| 564/564 [00:41<00:00, 13.60it/s]\n",
            "               classes   top1_acc   top5_acc: 100%|██████████| 170/170 [00:14<00:00, 11.77it/s]"
          ]
        },
        {
          "name": "stdout",
          "output_type": "stream",
          "text": [
            "                   all      0.774          1\n"
          ]
        },
        {
          "name": "stderr",
          "output_type": "stream",
          "text": [
            "\n"
          ]
        },
        {
          "name": "stdout",
          "output_type": "stream",
          "text": [
            "\n",
            "      Epoch    GPU_mem       loss  Instances       Size\n"
          ]
        },
        {
          "name": "stderr",
          "output_type": "stream",
          "text": [
            "      9/100     0.365G     0.7518          8         64: 100%|██████████| 564/564 [00:41<00:00, 13.55it/s]\n",
            "               classes   top1_acc   top5_acc: 100%|██████████| 170/170 [00:14<00:00, 11.80it/s]"
          ]
        },
        {
          "name": "stdout",
          "output_type": "stream",
          "text": [
            "                   all       0.78          1\n"
          ]
        },
        {
          "name": "stderr",
          "output_type": "stream",
          "text": [
            "\n"
          ]
        },
        {
          "name": "stdout",
          "output_type": "stream",
          "text": [
            "\n",
            "      Epoch    GPU_mem       loss  Instances       Size\n"
          ]
        },
        {
          "name": "stderr",
          "output_type": "stream",
          "text": [
            "     10/100     0.365G     0.7567          8         64: 100%|██████████| 564/564 [00:41<00:00, 13.45it/s]\n",
            "               classes   top1_acc   top5_acc: 100%|██████████| 170/170 [00:14<00:00, 11.83it/s]"
          ]
        },
        {
          "name": "stdout",
          "output_type": "stream",
          "text": [
            "                   all      0.793          1\n"
          ]
        },
        {
          "name": "stderr",
          "output_type": "stream",
          "text": [
            "\n"
          ]
        },
        {
          "name": "stdout",
          "output_type": "stream",
          "text": [
            "\n",
            "      Epoch    GPU_mem       loss  Instances       Size\n"
          ]
        },
        {
          "name": "stderr",
          "output_type": "stream",
          "text": [
            "     11/100     0.365G     0.7308          8         64: 100%|██████████| 564/564 [00:42<00:00, 13.42it/s]\n",
            "               classes   top1_acc   top5_acc: 100%|██████████| 170/170 [00:14<00:00, 11.92it/s]"
          ]
        },
        {
          "name": "stdout",
          "output_type": "stream",
          "text": [
            "                   all      0.771          1\n"
          ]
        },
        {
          "name": "stderr",
          "output_type": "stream",
          "text": [
            "\n"
          ]
        },
        {
          "name": "stdout",
          "output_type": "stream",
          "text": [
            "\n",
            "      Epoch    GPU_mem       loss  Instances       Size\n"
          ]
        },
        {
          "name": "stderr",
          "output_type": "stream",
          "text": [
            "     12/100     0.365G     0.7294          8         64: 100%|██████████| 564/564 [00:42<00:00, 13.22it/s]\n",
            "               classes   top1_acc   top5_acc: 100%|██████████| 170/170 [00:14<00:00, 11.67it/s]\n"
          ]
        },
        {
          "name": "stdout",
          "output_type": "stream",
          "text": [
            "                   all      0.792          1\n",
            "\n",
            "      Epoch    GPU_mem       loss  Instances       Size\n"
          ]
        },
        {
          "name": "stderr",
          "output_type": "stream",
          "text": [
            "     13/100     0.365G     0.7237          8         64: 100%|██████████| 564/564 [00:42<00:00, 13.25it/s]\n",
            "               classes   top1_acc   top5_acc: 100%|██████████| 170/170 [00:14<00:00, 11.78it/s]"
          ]
        },
        {
          "name": "stdout",
          "output_type": "stream",
          "text": [
            "                   all      0.783          1\n"
          ]
        },
        {
          "name": "stderr",
          "output_type": "stream",
          "text": [
            "\n"
          ]
        },
        {
          "name": "stdout",
          "output_type": "stream",
          "text": [
            "\n",
            "      Epoch    GPU_mem       loss  Instances       Size\n"
          ]
        },
        {
          "name": "stderr",
          "output_type": "stream",
          "text": [
            "     14/100     0.365G     0.7078          8         64: 100%|██████████| 564/564 [00:42<00:00, 13.13it/s]\n",
            "               classes   top1_acc   top5_acc: 100%|██████████| 170/170 [00:14<00:00, 11.85it/s]"
          ]
        },
        {
          "name": "stdout",
          "output_type": "stream",
          "text": [
            "                   all      0.804          1\n"
          ]
        },
        {
          "name": "stderr",
          "output_type": "stream",
          "text": [
            "\n"
          ]
        },
        {
          "name": "stdout",
          "output_type": "stream",
          "text": [
            "\n",
            "      Epoch    GPU_mem       loss  Instances       Size\n"
          ]
        },
        {
          "name": "stderr",
          "output_type": "stream",
          "text": [
            "     15/100     0.365G     0.6843          8         64: 100%|██████████| 564/564 [00:42<00:00, 13.39it/s]\n",
            "               classes   top1_acc   top5_acc: 100%|██████████| 170/170 [00:14<00:00, 12.01it/s]"
          ]
        },
        {
          "name": "stdout",
          "output_type": "stream",
          "text": [
            "                   all      0.797          1\n"
          ]
        },
        {
          "name": "stderr",
          "output_type": "stream",
          "text": [
            "\n"
          ]
        },
        {
          "name": "stdout",
          "output_type": "stream",
          "text": [
            "\n",
            "      Epoch    GPU_mem       loss  Instances       Size\n"
          ]
        },
        {
          "name": "stderr",
          "output_type": "stream",
          "text": [
            "     16/100     0.365G     0.6784          8         64: 100%|██████████| 564/564 [00:42<00:00, 13.28it/s]\n",
            "               classes   top1_acc   top5_acc: 100%|██████████| 170/170 [00:14<00:00, 12.07it/s]"
          ]
        },
        {
          "name": "stdout",
          "output_type": "stream",
          "text": [
            "                   all      0.804          1\n"
          ]
        },
        {
          "name": "stderr",
          "output_type": "stream",
          "text": [
            "\n"
          ]
        },
        {
          "name": "stdout",
          "output_type": "stream",
          "text": [
            "\n",
            "      Epoch    GPU_mem       loss  Instances       Size\n"
          ]
        },
        {
          "name": "stderr",
          "output_type": "stream",
          "text": [
            "     17/100     0.365G     0.6648          8         64: 100%|██████████| 564/564 [00:42<00:00, 13.23it/s]\n",
            "               classes   top1_acc   top5_acc: 100%|██████████| 170/170 [00:14<00:00, 11.94it/s]"
          ]
        },
        {
          "name": "stdout",
          "output_type": "stream",
          "text": [
            "                   all      0.785          1\n"
          ]
        },
        {
          "name": "stderr",
          "output_type": "stream",
          "text": [
            "\n"
          ]
        },
        {
          "name": "stdout",
          "output_type": "stream",
          "text": [
            "\n",
            "      Epoch    GPU_mem       loss  Instances       Size\n"
          ]
        },
        {
          "name": "stderr",
          "output_type": "stream",
          "text": [
            "     18/100     0.365G      0.663          8         64: 100%|██████████| 564/564 [00:42<00:00, 13.13it/s]\n",
            "               classes   top1_acc   top5_acc: 100%|██████████| 170/170 [00:14<00:00, 12.09it/s]"
          ]
        },
        {
          "name": "stdout",
          "output_type": "stream",
          "text": [
            "                   all      0.796          1\n"
          ]
        },
        {
          "name": "stderr",
          "output_type": "stream",
          "text": [
            "\n"
          ]
        },
        {
          "name": "stdout",
          "output_type": "stream",
          "text": [
            "\n",
            "      Epoch    GPU_mem       loss  Instances       Size\n"
          ]
        },
        {
          "name": "stderr",
          "output_type": "stream",
          "text": [
            "     19/100     0.365G     0.6707          8         64: 100%|██████████| 564/564 [00:42<00:00, 13.35it/s]\n",
            "               classes   top1_acc   top5_acc: 100%|██████████| 170/170 [00:14<00:00, 12.08it/s]"
          ]
        },
        {
          "name": "stdout",
          "output_type": "stream",
          "text": [
            "                   all      0.807          1\n"
          ]
        },
        {
          "name": "stderr",
          "output_type": "stream",
          "text": [
            "\n"
          ]
        },
        {
          "name": "stdout",
          "output_type": "stream",
          "text": [
            "\n",
            "      Epoch    GPU_mem       loss  Instances       Size\n"
          ]
        },
        {
          "name": "stderr",
          "output_type": "stream",
          "text": [
            "     20/100     0.365G     0.6528          8         64: 100%|██████████| 564/564 [00:41<00:00, 13.48it/s]\n",
            "               classes   top1_acc   top5_acc: 100%|██████████| 170/170 [00:14<00:00, 12.08it/s]"
          ]
        },
        {
          "name": "stdout",
          "output_type": "stream",
          "text": [
            "                   all      0.803          1\n"
          ]
        },
        {
          "name": "stderr",
          "output_type": "stream",
          "text": [
            "\n"
          ]
        },
        {
          "name": "stdout",
          "output_type": "stream",
          "text": [
            "\n",
            "      Epoch    GPU_mem       loss  Instances       Size\n"
          ]
        },
        {
          "name": "stderr",
          "output_type": "stream",
          "text": [
            "     21/100     0.365G     0.6358          8         64: 100%|██████████| 564/564 [00:42<00:00, 13.23it/s]\n",
            "               classes   top1_acc   top5_acc: 100%|██████████| 170/170 [00:14<00:00, 11.92it/s]"
          ]
        },
        {
          "name": "stdout",
          "output_type": "stream",
          "text": [
            "                   all      0.808          1\n"
          ]
        },
        {
          "name": "stderr",
          "output_type": "stream",
          "text": [
            "\n"
          ]
        },
        {
          "name": "stdout",
          "output_type": "stream",
          "text": [
            "\n",
            "      Epoch    GPU_mem       loss  Instances       Size\n"
          ]
        },
        {
          "name": "stderr",
          "output_type": "stream",
          "text": [
            "     22/100     0.365G     0.6384          8         64: 100%|██████████| 564/564 [00:42<00:00, 13.24it/s]\n",
            "               classes   top1_acc   top5_acc: 100%|██████████| 170/170 [00:14<00:00, 11.94it/s]"
          ]
        },
        {
          "name": "stdout",
          "output_type": "stream",
          "text": [
            "                   all      0.806          1\n"
          ]
        },
        {
          "name": "stderr",
          "output_type": "stream",
          "text": [
            "\n"
          ]
        },
        {
          "name": "stdout",
          "output_type": "stream",
          "text": [
            "\n",
            "      Epoch    GPU_mem       loss  Instances       Size\n"
          ]
        },
        {
          "name": "stderr",
          "output_type": "stream",
          "text": [
            "     23/100     0.365G     0.6448          8         64: 100%|██████████| 564/564 [00:42<00:00, 13.33it/s]\n",
            "               classes   top1_acc   top5_acc: 100%|██████████| 170/170 [00:14<00:00, 12.02it/s]"
          ]
        },
        {
          "name": "stdout",
          "output_type": "stream",
          "text": [
            "                   all      0.807          1\n"
          ]
        },
        {
          "name": "stderr",
          "output_type": "stream",
          "text": [
            "\n"
          ]
        },
        {
          "name": "stdout",
          "output_type": "stream",
          "text": [
            "\n",
            "      Epoch    GPU_mem       loss  Instances       Size\n"
          ]
        },
        {
          "name": "stderr",
          "output_type": "stream",
          "text": [
            "     24/100     0.365G     0.6326          8         64: 100%|██████████| 564/564 [00:41<00:00, 13.45it/s]\n",
            "               classes   top1_acc   top5_acc: 100%|██████████| 170/170 [00:14<00:00, 11.96it/s]"
          ]
        },
        {
          "name": "stdout",
          "output_type": "stream",
          "text": [
            "                   all      0.807          1\n"
          ]
        },
        {
          "name": "stderr",
          "output_type": "stream",
          "text": [
            "\n"
          ]
        },
        {
          "name": "stdout",
          "output_type": "stream",
          "text": [
            "\n",
            "      Epoch    GPU_mem       loss  Instances       Size\n"
          ]
        },
        {
          "name": "stderr",
          "output_type": "stream",
          "text": [
            "     25/100     0.365G     0.6225          8         64: 100%|██████████| 564/564 [00:41<00:00, 13.65it/s]\n",
            "               classes   top1_acc   top5_acc: 100%|██████████| 170/170 [00:14<00:00, 12.07it/s]"
          ]
        },
        {
          "name": "stdout",
          "output_type": "stream",
          "text": [
            "                   all      0.812          1\n"
          ]
        },
        {
          "name": "stderr",
          "output_type": "stream",
          "text": [
            "\n"
          ]
        },
        {
          "name": "stdout",
          "output_type": "stream",
          "text": [
            "\n",
            "      Epoch    GPU_mem       loss  Instances       Size\n"
          ]
        },
        {
          "name": "stderr",
          "output_type": "stream",
          "text": [
            "     26/100     0.365G     0.6103          8         64: 100%|██████████| 564/564 [00:40<00:00, 13.77it/s]\n",
            "               classes   top1_acc   top5_acc: 100%|██████████| 170/170 [00:13<00:00, 12.23it/s]"
          ]
        },
        {
          "name": "stdout",
          "output_type": "stream",
          "text": [
            "                   all      0.809          1\n"
          ]
        },
        {
          "name": "stderr",
          "output_type": "stream",
          "text": [
            "\n"
          ]
        },
        {
          "name": "stdout",
          "output_type": "stream",
          "text": [
            "\n",
            "      Epoch    GPU_mem       loss  Instances       Size\n"
          ]
        },
        {
          "name": "stderr",
          "output_type": "stream",
          "text": [
            "     27/100     0.365G     0.6083          8         64: 100%|██████████| 564/564 [00:41<00:00, 13.72it/s]\n",
            "               classes   top1_acc   top5_acc: 100%|██████████| 170/170 [00:13<00:00, 12.18it/s]"
          ]
        },
        {
          "name": "stdout",
          "output_type": "stream",
          "text": [
            "                   all      0.818          1\n"
          ]
        },
        {
          "name": "stderr",
          "output_type": "stream",
          "text": [
            "\n"
          ]
        },
        {
          "name": "stdout",
          "output_type": "stream",
          "text": [
            "\n",
            "      Epoch    GPU_mem       loss  Instances       Size\n"
          ]
        },
        {
          "name": "stderr",
          "output_type": "stream",
          "text": [
            "     28/100     0.365G     0.6137          8         64: 100%|██████████| 564/564 [00:41<00:00, 13.58it/s]\n",
            "               classes   top1_acc   top5_acc: 100%|██████████| 170/170 [00:14<00:00, 11.74it/s]"
          ]
        },
        {
          "name": "stdout",
          "output_type": "stream",
          "text": [
            "                   all      0.809          1\n"
          ]
        },
        {
          "name": "stderr",
          "output_type": "stream",
          "text": [
            "\n"
          ]
        },
        {
          "name": "stdout",
          "output_type": "stream",
          "text": [
            "\n",
            "      Epoch    GPU_mem       loss  Instances       Size\n"
          ]
        },
        {
          "name": "stderr",
          "output_type": "stream",
          "text": [
            "     29/100     0.365G     0.6124          8         64: 100%|██████████| 564/564 [00:41<00:00, 13.48it/s]\n",
            "               classes   top1_acc   top5_acc: 100%|██████████| 170/170 [00:14<00:00, 12.07it/s]"
          ]
        },
        {
          "name": "stdout",
          "output_type": "stream",
          "text": [
            "                   all      0.811          1\n"
          ]
        },
        {
          "name": "stderr",
          "output_type": "stream",
          "text": [
            "\n"
          ]
        },
        {
          "name": "stdout",
          "output_type": "stream",
          "text": [
            "\n",
            "      Epoch    GPU_mem       loss  Instances       Size\n"
          ]
        },
        {
          "name": "stderr",
          "output_type": "stream",
          "text": [
            "     30/100     0.365G     0.6038          8         64: 100%|██████████| 564/564 [00:41<00:00, 13.48it/s]\n",
            "               classes   top1_acc   top5_acc: 100%|██████████| 170/170 [00:13<00:00, 12.25it/s]"
          ]
        },
        {
          "name": "stdout",
          "output_type": "stream",
          "text": [
            "                   all      0.817          1\n"
          ]
        },
        {
          "name": "stderr",
          "output_type": "stream",
          "text": [
            "\n"
          ]
        },
        {
          "name": "stdout",
          "output_type": "stream",
          "text": [
            "\n",
            "      Epoch    GPU_mem       loss  Instances       Size\n"
          ]
        },
        {
          "name": "stderr",
          "output_type": "stream",
          "text": [
            "     31/100     0.365G     0.5977          8         64: 100%|██████████| 564/564 [00:41<00:00, 13.54it/s]\n",
            "               classes   top1_acc   top5_acc: 100%|██████████| 170/170 [00:13<00:00, 12.26it/s]"
          ]
        },
        {
          "name": "stdout",
          "output_type": "stream",
          "text": [
            "                   all       0.82          1\n"
          ]
        },
        {
          "name": "stderr",
          "output_type": "stream",
          "text": [
            "\n"
          ]
        },
        {
          "name": "stdout",
          "output_type": "stream",
          "text": [
            "\n",
            "      Epoch    GPU_mem       loss  Instances       Size\n"
          ]
        },
        {
          "name": "stderr",
          "output_type": "stream",
          "text": [
            "     32/100     0.365G     0.5926          8         64: 100%|██████████| 564/564 [00:41<00:00, 13.51it/s]\n",
            "               classes   top1_acc   top5_acc: 100%|██████████| 170/170 [00:14<00:00, 12.09it/s]"
          ]
        },
        {
          "name": "stdout",
          "output_type": "stream",
          "text": [
            "                   all      0.814          1\n"
          ]
        },
        {
          "name": "stderr",
          "output_type": "stream",
          "text": [
            "\n"
          ]
        },
        {
          "name": "stdout",
          "output_type": "stream",
          "text": [
            "\n",
            "      Epoch    GPU_mem       loss  Instances       Size\n"
          ]
        },
        {
          "name": "stderr",
          "output_type": "stream",
          "text": [
            "     33/100     0.365G     0.5913          8         64: 100%|██████████| 564/564 [00:41<00:00, 13.45it/s]\n",
            "               classes   top1_acc   top5_acc: 100%|██████████| 170/170 [00:13<00:00, 12.32it/s]\n"
          ]
        },
        {
          "name": "stdout",
          "output_type": "stream",
          "text": [
            "                   all      0.821          1\n",
            "\n",
            "      Epoch    GPU_mem       loss  Instances       Size\n"
          ]
        },
        {
          "name": "stderr",
          "output_type": "stream",
          "text": [
            "     34/100     0.367G     0.5833          8         64: 100%|██████████| 564/564 [00:41<00:00, 13.51it/s]\n",
            "               classes   top1_acc   top5_acc: 100%|██████████| 170/170 [00:14<00:00, 12.12it/s]"
          ]
        },
        {
          "name": "stdout",
          "output_type": "stream",
          "text": [
            "                   all      0.819          1\n"
          ]
        },
        {
          "name": "stderr",
          "output_type": "stream",
          "text": [
            "\n"
          ]
        },
        {
          "name": "stdout",
          "output_type": "stream",
          "text": [
            "\n",
            "      Epoch    GPU_mem       loss  Instances       Size\n"
          ]
        },
        {
          "name": "stderr",
          "output_type": "stream",
          "text": [
            "     35/100     0.367G     0.5752          8         64: 100%|██████████| 564/564 [00:41<00:00, 13.54it/s]\n",
            "               classes   top1_acc   top5_acc: 100%|██████████| 170/170 [00:14<00:00, 12.09it/s]"
          ]
        },
        {
          "name": "stdout",
          "output_type": "stream",
          "text": [
            "                   all      0.819          1\n"
          ]
        },
        {
          "name": "stderr",
          "output_type": "stream",
          "text": [
            "\n"
          ]
        },
        {
          "name": "stdout",
          "output_type": "stream",
          "text": [
            "\n",
            "      Epoch    GPU_mem       loss  Instances       Size\n"
          ]
        },
        {
          "name": "stderr",
          "output_type": "stream",
          "text": [
            "     36/100     0.365G      0.589          8         64: 100%|██████████| 564/564 [00:41<00:00, 13.47it/s]\n",
            "               classes   top1_acc   top5_acc: 100%|██████████| 170/170 [00:14<00:00, 12.09it/s]"
          ]
        },
        {
          "name": "stdout",
          "output_type": "stream",
          "text": [
            "                   all      0.824          1\n"
          ]
        },
        {
          "name": "stderr",
          "output_type": "stream",
          "text": [
            "\n"
          ]
        },
        {
          "name": "stdout",
          "output_type": "stream",
          "text": [
            "\n",
            "      Epoch    GPU_mem       loss  Instances       Size\n"
          ]
        },
        {
          "name": "stderr",
          "output_type": "stream",
          "text": [
            "     37/100     0.365G     0.5695          8         64: 100%|██████████| 564/564 [00:41<00:00, 13.66it/s]\n",
            "               classes   top1_acc   top5_acc: 100%|██████████| 170/170 [00:13<00:00, 12.18it/s]\n"
          ]
        },
        {
          "name": "stdout",
          "output_type": "stream",
          "text": [
            "                   all      0.823          1\n",
            "\n",
            "      Epoch    GPU_mem       loss  Instances       Size\n"
          ]
        },
        {
          "name": "stderr",
          "output_type": "stream",
          "text": [
            "     38/100     0.365G     0.5698          8         64: 100%|██████████| 564/564 [00:41<00:00, 13.54it/s]\n",
            "               classes   top1_acc   top5_acc: 100%|██████████| 170/170 [00:14<00:00, 12.11it/s]\n"
          ]
        },
        {
          "name": "stdout",
          "output_type": "stream",
          "text": [
            "                   all      0.818          1\n",
            "\n",
            "      Epoch    GPU_mem       loss  Instances       Size\n"
          ]
        },
        {
          "name": "stderr",
          "output_type": "stream",
          "text": [
            "     39/100     0.365G     0.5758          8         64: 100%|██████████| 564/564 [00:41<00:00, 13.47it/s]\n",
            "               classes   top1_acc   top5_acc: 100%|██████████| 170/170 [00:13<00:00, 12.14it/s]"
          ]
        },
        {
          "name": "stdout",
          "output_type": "stream",
          "text": [
            "                   all       0.82          1\n"
          ]
        },
        {
          "name": "stderr",
          "output_type": "stream",
          "text": [
            "\n"
          ]
        },
        {
          "name": "stdout",
          "output_type": "stream",
          "text": [
            "\n",
            "      Epoch    GPU_mem       loss  Instances       Size\n"
          ]
        },
        {
          "name": "stderr",
          "output_type": "stream",
          "text": [
            "     40/100     0.365G     0.5669          8         64: 100%|██████████| 564/564 [00:41<00:00, 13.63it/s]\n",
            "               classes   top1_acc   top5_acc: 100%|██████████| 170/170 [00:14<00:00, 12.00it/s]"
          ]
        },
        {
          "name": "stdout",
          "output_type": "stream",
          "text": [
            "                   all      0.823          1\n"
          ]
        },
        {
          "name": "stderr",
          "output_type": "stream",
          "text": [
            "\n"
          ]
        },
        {
          "name": "stdout",
          "output_type": "stream",
          "text": [
            "\n",
            "      Epoch    GPU_mem       loss  Instances       Size\n"
          ]
        },
        {
          "name": "stderr",
          "output_type": "stream",
          "text": [
            "     41/100     0.365G     0.5658          8         64: 100%|██████████| 564/564 [00:41<00:00, 13.65it/s]\n",
            "               classes   top1_acc   top5_acc: 100%|██████████| 170/170 [00:13<00:00, 12.23it/s]"
          ]
        },
        {
          "name": "stdout",
          "output_type": "stream",
          "text": [
            "                   all      0.823          1\n"
          ]
        },
        {
          "name": "stderr",
          "output_type": "stream",
          "text": [
            "\n"
          ]
        },
        {
          "name": "stdout",
          "output_type": "stream",
          "text": [
            "\n",
            "      Epoch    GPU_mem       loss  Instances       Size\n"
          ]
        },
        {
          "name": "stderr",
          "output_type": "stream",
          "text": [
            "     42/100     0.367G     0.5324          8         64: 100%|██████████| 564/564 [00:41<00:00, 13.64it/s]\n",
            "               classes   top1_acc   top5_acc: 100%|██████████| 170/170 [00:13<00:00, 12.18it/s]"
          ]
        },
        {
          "name": "stdout",
          "output_type": "stream",
          "text": [
            "                   all      0.817          1\n"
          ]
        },
        {
          "name": "stderr",
          "output_type": "stream",
          "text": [
            "\n"
          ]
        },
        {
          "name": "stdout",
          "output_type": "stream",
          "text": [
            "\n",
            "      Epoch    GPU_mem       loss  Instances       Size\n"
          ]
        },
        {
          "name": "stderr",
          "output_type": "stream",
          "text": [
            "     43/100     0.365G     0.5447          8         64: 100%|██████████| 564/564 [00:40<00:00, 13.90it/s]\n",
            "               classes   top1_acc   top5_acc: 100%|██████████| 170/170 [00:13<00:00, 12.53it/s]\n"
          ]
        },
        {
          "name": "stdout",
          "output_type": "stream",
          "text": [
            "                   all      0.827          1\n",
            "\n",
            "      Epoch    GPU_mem       loss  Instances       Size\n"
          ]
        },
        {
          "name": "stderr",
          "output_type": "stream",
          "text": [
            "     44/100     0.365G     0.5414          8         64: 100%|██████████| 564/564 [00:40<00:00, 14.01it/s]\n",
            "               classes   top1_acc   top5_acc: 100%|██████████| 170/170 [00:13<00:00, 12.17it/s]"
          ]
        },
        {
          "name": "stdout",
          "output_type": "stream",
          "text": [
            "                   all      0.826          1\n"
          ]
        },
        {
          "name": "stderr",
          "output_type": "stream",
          "text": [
            "\n"
          ]
        },
        {
          "name": "stdout",
          "output_type": "stream",
          "text": [
            "\n",
            "      Epoch    GPU_mem       loss  Instances       Size\n"
          ]
        },
        {
          "name": "stderr",
          "output_type": "stream",
          "text": [
            "     45/100     0.365G     0.5353          8         64: 100%|██████████| 564/564 [00:40<00:00, 13.90it/s]\n",
            "               classes   top1_acc   top5_acc: 100%|██████████| 170/170 [00:13<00:00, 12.15it/s]"
          ]
        },
        {
          "name": "stdout",
          "output_type": "stream",
          "text": [
            "                   all      0.825          1\n"
          ]
        },
        {
          "name": "stderr",
          "output_type": "stream",
          "text": [
            "\n"
          ]
        },
        {
          "name": "stdout",
          "output_type": "stream",
          "text": [
            "\n",
            "      Epoch    GPU_mem       loss  Instances       Size\n"
          ]
        },
        {
          "name": "stderr",
          "output_type": "stream",
          "text": [
            "     46/100     0.365G     0.5336          8         64: 100%|██████████| 564/564 [00:40<00:00, 13.84it/s]\n",
            "               classes   top1_acc   top5_acc: 100%|██████████| 170/170 [00:13<00:00, 12.36it/s]"
          ]
        },
        {
          "name": "stdout",
          "output_type": "stream",
          "text": [
            "                   all       0.83          1\n"
          ]
        },
        {
          "name": "stderr",
          "output_type": "stream",
          "text": [
            "\n"
          ]
        },
        {
          "name": "stdout",
          "output_type": "stream",
          "text": [
            "\n",
            "      Epoch    GPU_mem       loss  Instances       Size\n"
          ]
        },
        {
          "name": "stderr",
          "output_type": "stream",
          "text": [
            "     47/100     0.365G      0.537          8         64: 100%|██████████| 564/564 [00:39<00:00, 14.21it/s]\n",
            "               classes   top1_acc   top5_acc: 100%|██████████| 170/170 [00:14<00:00, 12.06it/s]"
          ]
        },
        {
          "name": "stdout",
          "output_type": "stream",
          "text": [
            "                   all      0.829          1\n"
          ]
        },
        {
          "name": "stderr",
          "output_type": "stream",
          "text": [
            "\n"
          ]
        },
        {
          "name": "stdout",
          "output_type": "stream",
          "text": [
            "\n",
            "      Epoch    GPU_mem       loss  Instances       Size\n"
          ]
        },
        {
          "name": "stderr",
          "output_type": "stream",
          "text": [
            "     48/100     0.365G     0.5158          8         64: 100%|██████████| 564/564 [00:40<00:00, 13.87it/s]\n",
            "               classes   top1_acc   top5_acc: 100%|██████████| 170/170 [00:13<00:00, 12.15it/s]"
          ]
        },
        {
          "name": "stdout",
          "output_type": "stream",
          "text": [
            "                   all      0.827          1\n"
          ]
        },
        {
          "name": "stderr",
          "output_type": "stream",
          "text": [
            "\n"
          ]
        },
        {
          "name": "stdout",
          "output_type": "stream",
          "text": [
            "\n",
            "      Epoch    GPU_mem       loss  Instances       Size\n"
          ]
        },
        {
          "name": "stderr",
          "output_type": "stream",
          "text": [
            "     49/100     0.365G     0.5178          8         64: 100%|██████████| 564/564 [00:41<00:00, 13.75it/s]\n",
            "               classes   top1_acc   top5_acc: 100%|██████████| 170/170 [00:13<00:00, 12.26it/s]"
          ]
        },
        {
          "name": "stdout",
          "output_type": "stream",
          "text": [
            "                   all      0.831          1\n"
          ]
        },
        {
          "name": "stderr",
          "output_type": "stream",
          "text": [
            "\n"
          ]
        },
        {
          "name": "stdout",
          "output_type": "stream",
          "text": [
            "\n",
            "      Epoch    GPU_mem       loss  Instances       Size\n"
          ]
        },
        {
          "name": "stderr",
          "output_type": "stream",
          "text": [
            "     50/100     0.365G     0.5144          8         64: 100%|██████████| 564/564 [00:40<00:00, 13.78it/s]\n",
            "               classes   top1_acc   top5_acc: 100%|██████████| 170/170 [00:13<00:00, 12.23it/s]\n"
          ]
        },
        {
          "name": "stdout",
          "output_type": "stream",
          "text": [
            "                   all      0.831          1\n",
            "\n",
            "      Epoch    GPU_mem       loss  Instances       Size\n"
          ]
        },
        {
          "name": "stderr",
          "output_type": "stream",
          "text": [
            "     51/100     0.365G     0.5063          8         64: 100%|██████████| 564/564 [00:41<00:00, 13.54it/s]\n",
            "               classes   top1_acc   top5_acc: 100%|██████████| 170/170 [00:14<00:00, 12.13it/s]\n"
          ]
        },
        {
          "name": "stdout",
          "output_type": "stream",
          "text": [
            "                   all      0.832          1\n",
            "\n",
            "      Epoch    GPU_mem       loss  Instances       Size\n"
          ]
        },
        {
          "name": "stderr",
          "output_type": "stream",
          "text": [
            "     52/100     0.365G     0.5134          8         64: 100%|██████████| 564/564 [00:41<00:00, 13.75it/s]\n",
            "               classes   top1_acc   top5_acc: 100%|██████████| 170/170 [00:13<00:00, 12.23it/s]"
          ]
        },
        {
          "name": "stdout",
          "output_type": "stream",
          "text": [
            "                   all      0.834          1\n"
          ]
        },
        {
          "name": "stderr",
          "output_type": "stream",
          "text": [
            "\n"
          ]
        },
        {
          "name": "stdout",
          "output_type": "stream",
          "text": [
            "\n",
            "      Epoch    GPU_mem       loss  Instances       Size\n"
          ]
        },
        {
          "name": "stderr",
          "output_type": "stream",
          "text": [
            "     53/100     0.365G     0.5169          8         64: 100%|██████████| 564/564 [00:40<00:00, 13.79it/s]\n",
            "               classes   top1_acc   top5_acc: 100%|██████████| 170/170 [00:13<00:00, 12.31it/s]\n"
          ]
        },
        {
          "name": "stdout",
          "output_type": "stream",
          "text": [
            "                   all      0.828          1\n",
            "\n",
            "      Epoch    GPU_mem       loss  Instances       Size\n"
          ]
        },
        {
          "name": "stderr",
          "output_type": "stream",
          "text": [
            "     54/100     0.365G     0.4968          8         64: 100%|██████████| 564/564 [00:41<00:00, 13.75it/s]\n",
            "               classes   top1_acc   top5_acc: 100%|██████████| 170/170 [00:13<00:00, 12.22it/s]"
          ]
        },
        {
          "name": "stdout",
          "output_type": "stream",
          "text": [
            "                   all      0.833          1\n"
          ]
        },
        {
          "name": "stderr",
          "output_type": "stream",
          "text": [
            "\n"
          ]
        },
        {
          "name": "stdout",
          "output_type": "stream",
          "text": [
            "\n",
            "      Epoch    GPU_mem       loss  Instances       Size\n"
          ]
        },
        {
          "name": "stderr",
          "output_type": "stream",
          "text": [
            "     55/100     0.365G     0.4991          8         64: 100%|██████████| 564/564 [00:41<00:00, 13.69it/s]\n",
            "               classes   top1_acc   top5_acc: 100%|██████████| 170/170 [00:13<00:00, 12.26it/s]"
          ]
        },
        {
          "name": "stdout",
          "output_type": "stream",
          "text": [
            "                   all      0.835          1\n"
          ]
        },
        {
          "name": "stderr",
          "output_type": "stream",
          "text": [
            "\n"
          ]
        },
        {
          "name": "stdout",
          "output_type": "stream",
          "text": [
            "\n",
            "      Epoch    GPU_mem       loss  Instances       Size\n"
          ]
        },
        {
          "name": "stderr",
          "output_type": "stream",
          "text": [
            "     56/100     0.365G     0.4944          8         64: 100%|██████████| 564/564 [00:42<00:00, 13.32it/s]\n",
            "               classes   top1_acc   top5_acc: 100%|██████████| 170/170 [00:14<00:00, 11.85it/s]"
          ]
        },
        {
          "name": "stdout",
          "output_type": "stream",
          "text": [
            "                   all      0.831          1\n"
          ]
        },
        {
          "name": "stderr",
          "output_type": "stream",
          "text": [
            "\n"
          ]
        },
        {
          "name": "stdout",
          "output_type": "stream",
          "text": [
            "\n",
            "      Epoch    GPU_mem       loss  Instances       Size\n"
          ]
        },
        {
          "name": "stderr",
          "output_type": "stream",
          "text": [
            "     57/100     0.365G     0.4863          8         64: 100%|██████████| 564/564 [00:41<00:00, 13.54it/s]\n",
            "               classes   top1_acc   top5_acc: 100%|██████████| 170/170 [00:13<00:00, 12.40it/s]"
          ]
        },
        {
          "name": "stdout",
          "output_type": "stream",
          "text": [
            "                   all       0.83          1\n"
          ]
        },
        {
          "name": "stderr",
          "output_type": "stream",
          "text": [
            "\n"
          ]
        },
        {
          "name": "stdout",
          "output_type": "stream",
          "text": [
            "\n",
            "      Epoch    GPU_mem       loss  Instances       Size\n"
          ]
        },
        {
          "name": "stderr",
          "output_type": "stream",
          "text": [
            "     58/100     0.365G     0.4796          8         64: 100%|██████████| 564/564 [00:40<00:00, 13.88it/s]\n",
            "               classes   top1_acc   top5_acc: 100%|██████████| 170/170 [00:13<00:00, 12.23it/s]"
          ]
        },
        {
          "name": "stdout",
          "output_type": "stream",
          "text": [
            "                   all       0.83          1\n"
          ]
        },
        {
          "name": "stderr",
          "output_type": "stream",
          "text": [
            "\n"
          ]
        },
        {
          "name": "stdout",
          "output_type": "stream",
          "text": [
            "\n",
            "      Epoch    GPU_mem       loss  Instances       Size\n"
          ]
        },
        {
          "name": "stderr",
          "output_type": "stream",
          "text": [
            "     59/100     0.365G      0.479          8         64: 100%|██████████| 564/564 [00:41<00:00, 13.75it/s]\n",
            "               classes   top1_acc   top5_acc: 100%|██████████| 170/170 [00:13<00:00, 12.38it/s]"
          ]
        },
        {
          "name": "stdout",
          "output_type": "stream",
          "text": [
            "                   all      0.828          1\n"
          ]
        },
        {
          "name": "stderr",
          "output_type": "stream",
          "text": [
            "\n"
          ]
        },
        {
          "name": "stdout",
          "output_type": "stream",
          "text": [
            "\n",
            "      Epoch    GPU_mem       loss  Instances       Size\n"
          ]
        },
        {
          "name": "stderr",
          "output_type": "stream",
          "text": [
            "     60/100     0.365G     0.4703          8         64: 100%|██████████| 564/564 [00:40<00:00, 13.90it/s]\n",
            "               classes   top1_acc   top5_acc: 100%|██████████| 170/170 [00:13<00:00, 12.22it/s]"
          ]
        },
        {
          "name": "stdout",
          "output_type": "stream",
          "text": [
            "                   all      0.828          1\n"
          ]
        },
        {
          "name": "stderr",
          "output_type": "stream",
          "text": [
            "\n"
          ]
        },
        {
          "name": "stdout",
          "output_type": "stream",
          "text": [
            "\n",
            "      Epoch    GPU_mem       loss  Instances       Size\n"
          ]
        },
        {
          "name": "stderr",
          "output_type": "stream",
          "text": [
            "     61/100     0.365G     0.4741          8         64: 100%|██████████| 564/564 [00:39<00:00, 14.36it/s]\n",
            "               classes   top1_acc   top5_acc: 100%|██████████| 170/170 [00:14<00:00, 12.09it/s]"
          ]
        },
        {
          "name": "stdout",
          "output_type": "stream",
          "text": [
            "                   all      0.827          1\n"
          ]
        },
        {
          "name": "stderr",
          "output_type": "stream",
          "text": [
            "\n"
          ]
        },
        {
          "name": "stdout",
          "output_type": "stream",
          "text": [
            "\n",
            "      Epoch    GPU_mem       loss  Instances       Size\n"
          ]
        },
        {
          "name": "stderr",
          "output_type": "stream",
          "text": [
            "     62/100     0.365G     0.4671          8         64: 100%|██████████| 564/564 [00:40<00:00, 14.03it/s]\n",
            "               classes   top1_acc   top5_acc: 100%|██████████| 170/170 [00:14<00:00, 12.00it/s]"
          ]
        },
        {
          "name": "stdout",
          "output_type": "stream",
          "text": [
            "                   all      0.833          1\n"
          ]
        },
        {
          "name": "stderr",
          "output_type": "stream",
          "text": [
            "\n"
          ]
        },
        {
          "name": "stdout",
          "output_type": "stream",
          "text": [
            "\n",
            "      Epoch    GPU_mem       loss  Instances       Size\n"
          ]
        },
        {
          "name": "stderr",
          "output_type": "stream",
          "text": [
            "     63/100     0.365G     0.4696          8         64: 100%|██████████| 564/564 [00:39<00:00, 14.15it/s]\n",
            "               classes   top1_acc   top5_acc: 100%|██████████| 170/170 [00:13<00:00, 12.52it/s]"
          ]
        },
        {
          "name": "stdout",
          "output_type": "stream",
          "text": [
            "                   all      0.829          1\n"
          ]
        },
        {
          "name": "stderr",
          "output_type": "stream",
          "text": [
            "\n"
          ]
        },
        {
          "name": "stdout",
          "output_type": "stream",
          "text": [
            "\n",
            "      Epoch    GPU_mem       loss  Instances       Size\n"
          ]
        },
        {
          "name": "stderr",
          "output_type": "stream",
          "text": [
            "     64/100     0.365G      0.463          8         64: 100%|██████████| 564/564 [00:40<00:00, 14.00it/s]\n",
            "               classes   top1_acc   top5_acc: 100%|██████████| 170/170 [00:13<00:00, 12.41it/s]"
          ]
        },
        {
          "name": "stdout",
          "output_type": "stream",
          "text": [
            "                   all      0.832          1\n"
          ]
        },
        {
          "name": "stderr",
          "output_type": "stream",
          "text": [
            "\n"
          ]
        },
        {
          "name": "stdout",
          "output_type": "stream",
          "text": [
            "\n",
            "      Epoch    GPU_mem       loss  Instances       Size\n"
          ]
        },
        {
          "name": "stderr",
          "output_type": "stream",
          "text": [
            "     65/100     0.365G     0.4735          8         64: 100%|██████████| 564/564 [00:40<00:00, 13.88it/s]\n",
            "               classes   top1_acc   top5_acc: 100%|██████████| 170/170 [00:13<00:00, 12.30it/s]\n"
          ]
        },
        {
          "name": "stdout",
          "output_type": "stream",
          "text": [
            "                   all      0.836          1\n",
            "\n",
            "      Epoch    GPU_mem       loss  Instances       Size\n"
          ]
        },
        {
          "name": "stderr",
          "output_type": "stream",
          "text": [
            "     66/100     0.365G     0.4657          8         64: 100%|██████████| 564/564 [00:41<00:00, 13.49it/s]\n",
            "               classes   top1_acc   top5_acc: 100%|██████████| 170/170 [00:13<00:00, 12.28it/s]"
          ]
        },
        {
          "name": "stdout",
          "output_type": "stream",
          "text": [
            "                   all      0.833          1\n"
          ]
        },
        {
          "name": "stderr",
          "output_type": "stream",
          "text": [
            "\n"
          ]
        },
        {
          "name": "stdout",
          "output_type": "stream",
          "text": [
            "\n",
            "      Epoch    GPU_mem       loss  Instances       Size\n"
          ]
        },
        {
          "name": "stderr",
          "output_type": "stream",
          "text": [
            "     67/100     0.365G     0.4646          8         64: 100%|██████████| 564/564 [00:41<00:00, 13.75it/s]\n",
            "               classes   top1_acc   top5_acc: 100%|██████████| 170/170 [00:13<00:00, 12.18it/s]"
          ]
        },
        {
          "name": "stdout",
          "output_type": "stream",
          "text": [
            "                   all      0.832          1\n"
          ]
        },
        {
          "name": "stderr",
          "output_type": "stream",
          "text": [
            "\n"
          ]
        },
        {
          "name": "stdout",
          "output_type": "stream",
          "text": [
            "\n",
            "      Epoch    GPU_mem       loss  Instances       Size\n"
          ]
        },
        {
          "name": "stderr",
          "output_type": "stream",
          "text": [
            "     68/100     0.365G     0.4402          8         64: 100%|██████████| 564/564 [00:41<00:00, 13.74it/s]\n",
            "               classes   top1_acc   top5_acc: 100%|██████████| 170/170 [00:14<00:00, 12.04it/s]"
          ]
        },
        {
          "name": "stdout",
          "output_type": "stream",
          "text": [
            "                   all      0.834          1\n"
          ]
        },
        {
          "name": "stderr",
          "output_type": "stream",
          "text": [
            "\n"
          ]
        },
        {
          "name": "stdout",
          "output_type": "stream",
          "text": [
            "\n",
            "      Epoch    GPU_mem       loss  Instances       Size\n"
          ]
        },
        {
          "name": "stderr",
          "output_type": "stream",
          "text": [
            "     69/100     0.365G     0.4557          8         64: 100%|██████████| 564/564 [00:40<00:00, 13.80it/s]\n",
            "               classes   top1_acc   top5_acc: 100%|██████████| 170/170 [00:13<00:00, 12.35it/s]"
          ]
        },
        {
          "name": "stdout",
          "output_type": "stream",
          "text": [
            "                   all      0.835          1\n"
          ]
        },
        {
          "name": "stderr",
          "output_type": "stream",
          "text": [
            "\n"
          ]
        },
        {
          "name": "stdout",
          "output_type": "stream",
          "text": [
            "\n",
            "      Epoch    GPU_mem       loss  Instances       Size\n"
          ]
        },
        {
          "name": "stderr",
          "output_type": "stream",
          "text": [
            "     70/100     0.365G     0.4353          8         64: 100%|██████████| 564/564 [00:40<00:00, 13.94it/s]\n",
            "               classes   top1_acc   top5_acc: 100%|██████████| 170/170 [00:13<00:00, 12.23it/s]"
          ]
        },
        {
          "name": "stdout",
          "output_type": "stream",
          "text": [
            "                   all       0.84          1\n"
          ]
        },
        {
          "name": "stderr",
          "output_type": "stream",
          "text": [
            "\n"
          ]
        },
        {
          "name": "stdout",
          "output_type": "stream",
          "text": [
            "\n",
            "      Epoch    GPU_mem       loss  Instances       Size\n"
          ]
        },
        {
          "name": "stderr",
          "output_type": "stream",
          "text": [
            "     71/100     0.365G     0.4364          8         64: 100%|██████████| 564/564 [00:39<00:00, 14.19it/s]\n",
            "               classes   top1_acc   top5_acc: 100%|██████████| 170/170 [00:14<00:00, 12.11it/s]"
          ]
        },
        {
          "name": "stdout",
          "output_type": "stream",
          "text": [
            "                   all      0.836          1\n"
          ]
        },
        {
          "name": "stderr",
          "output_type": "stream",
          "text": [
            "\n"
          ]
        },
        {
          "name": "stdout",
          "output_type": "stream",
          "text": [
            "\n",
            "      Epoch    GPU_mem       loss  Instances       Size\n"
          ]
        },
        {
          "name": "stderr",
          "output_type": "stream",
          "text": [
            "     72/100     0.365G     0.4264          8         64: 100%|██████████| 564/564 [00:40<00:00, 13.95it/s]\n",
            "               classes   top1_acc   top5_acc: 100%|██████████| 170/170 [00:14<00:00, 12.07it/s]"
          ]
        },
        {
          "name": "stdout",
          "output_type": "stream",
          "text": [
            "                   all      0.834          1\n"
          ]
        },
        {
          "name": "stderr",
          "output_type": "stream",
          "text": [
            "\n"
          ]
        },
        {
          "name": "stdout",
          "output_type": "stream",
          "text": [
            "\n",
            "      Epoch    GPU_mem       loss  Instances       Size\n"
          ]
        },
        {
          "name": "stderr",
          "output_type": "stream",
          "text": [
            "     73/100     0.365G     0.4311          8         64: 100%|██████████| 564/564 [00:39<00:00, 14.25it/s]\n",
            "               classes   top1_acc   top5_acc: 100%|██████████| 170/170 [00:13<00:00, 12.26it/s]"
          ]
        },
        {
          "name": "stdout",
          "output_type": "stream",
          "text": [
            "                   all      0.829          1\n"
          ]
        },
        {
          "name": "stderr",
          "output_type": "stream",
          "text": [
            "\n"
          ]
        },
        {
          "name": "stdout",
          "output_type": "stream",
          "text": [
            "\n",
            "      Epoch    GPU_mem       loss  Instances       Size\n"
          ]
        },
        {
          "name": "stderr",
          "output_type": "stream",
          "text": [
            "     74/100     0.367G     0.4105          8         64: 100%|██████████| 564/564 [00:40<00:00, 13.94it/s]\n",
            "               classes   top1_acc   top5_acc: 100%|██████████| 170/170 [00:13<00:00, 12.32it/s]"
          ]
        },
        {
          "name": "stdout",
          "output_type": "stream",
          "text": [
            "                   all      0.833          1\n"
          ]
        },
        {
          "name": "stderr",
          "output_type": "stream",
          "text": [
            "\n"
          ]
        },
        {
          "name": "stdout",
          "output_type": "stream",
          "text": [
            "\n",
            "      Epoch    GPU_mem       loss  Instances       Size\n"
          ]
        },
        {
          "name": "stderr",
          "output_type": "stream",
          "text": [
            "     75/100     0.365G     0.4117          8         64: 100%|██████████| 564/564 [00:41<00:00, 13.74it/s]\n",
            "               classes   top1_acc   top5_acc: 100%|██████████| 170/170 [00:13<00:00, 12.35it/s]"
          ]
        },
        {
          "name": "stdout",
          "output_type": "stream",
          "text": [
            "                   all      0.833          1\n"
          ]
        },
        {
          "name": "stderr",
          "output_type": "stream",
          "text": [
            "\n"
          ]
        },
        {
          "name": "stdout",
          "output_type": "stream",
          "text": [
            "\n",
            "      Epoch    GPU_mem       loss  Instances       Size\n"
          ]
        },
        {
          "name": "stderr",
          "output_type": "stream",
          "text": [
            "     76/100     0.365G     0.4152          8         64: 100%|██████████| 564/564 [00:41<00:00, 13.71it/s]\n",
            "               classes   top1_acc   top5_acc: 100%|██████████| 170/170 [00:13<00:00, 12.19it/s]"
          ]
        },
        {
          "name": "stdout",
          "output_type": "stream",
          "text": [
            "                   all      0.832          1\n"
          ]
        },
        {
          "name": "stderr",
          "output_type": "stream",
          "text": [
            "\n"
          ]
        },
        {
          "name": "stdout",
          "output_type": "stream",
          "text": [
            "\n",
            "      Epoch    GPU_mem       loss  Instances       Size\n"
          ]
        },
        {
          "name": "stderr",
          "output_type": "stream",
          "text": [
            "     77/100     0.365G     0.4174          8         64: 100%|██████████| 564/564 [00:40<00:00, 14.04it/s]\n",
            "               classes   top1_acc   top5_acc: 100%|██████████| 170/170 [00:13<00:00, 12.19it/s]"
          ]
        },
        {
          "name": "stdout",
          "output_type": "stream",
          "text": [
            "                   all       0.83          1\n"
          ]
        },
        {
          "name": "stderr",
          "output_type": "stream",
          "text": [
            "\n"
          ]
        },
        {
          "name": "stdout",
          "output_type": "stream",
          "text": [
            "\n",
            "      Epoch    GPU_mem       loss  Instances       Size\n"
          ]
        },
        {
          "name": "stderr",
          "output_type": "stream",
          "text": [
            "     78/100     0.365G     0.4026          8         64: 100%|██████████| 564/564 [00:41<00:00, 13.75it/s]\n",
            "               classes   top1_acc   top5_acc: 100%|██████████| 170/170 [00:13<00:00, 12.25it/s]"
          ]
        },
        {
          "name": "stdout",
          "output_type": "stream",
          "text": [
            "                   all      0.832          1\n"
          ]
        },
        {
          "name": "stderr",
          "output_type": "stream",
          "text": [
            "\n"
          ]
        },
        {
          "name": "stdout",
          "output_type": "stream",
          "text": [
            "\n",
            "      Epoch    GPU_mem       loss  Instances       Size\n"
          ]
        },
        {
          "name": "stderr",
          "output_type": "stream",
          "text": [
            "     79/100     0.365G      0.406          8         64: 100%|██████████| 564/564 [00:41<00:00, 13.63it/s]\n",
            "               classes   top1_acc   top5_acc: 100%|██████████| 170/170 [00:13<00:00, 12.20it/s]"
          ]
        },
        {
          "name": "stdout",
          "output_type": "stream",
          "text": [
            "                   all       0.83          1\n"
          ]
        },
        {
          "name": "stderr",
          "output_type": "stream",
          "text": [
            "\n"
          ]
        },
        {
          "name": "stdout",
          "output_type": "stream",
          "text": [
            "\n",
            "      Epoch    GPU_mem       loss  Instances       Size\n"
          ]
        },
        {
          "name": "stderr",
          "output_type": "stream",
          "text": [
            "     80/100     0.365G     0.3963          8         64: 100%|██████████| 564/564 [00:41<00:00, 13.60it/s]\n",
            "               classes   top1_acc   top5_acc: 100%|██████████| 170/170 [00:13<00:00, 12.20it/s]"
          ]
        },
        {
          "name": "stdout",
          "output_type": "stream",
          "text": [
            "                   all      0.834          1\n"
          ]
        },
        {
          "name": "stderr",
          "output_type": "stream",
          "text": [
            "\n"
          ]
        },
        {
          "name": "stdout",
          "output_type": "stream",
          "text": [
            "\n",
            "      Epoch    GPU_mem       loss  Instances       Size\n"
          ]
        },
        {
          "name": "stderr",
          "output_type": "stream",
          "text": [
            "     81/100     0.365G     0.3889          8         64: 100%|██████████| 564/564 [00:41<00:00, 13.63it/s]\n",
            "               classes   top1_acc   top5_acc: 100%|██████████| 170/170 [00:13<00:00, 12.31it/s]"
          ]
        },
        {
          "name": "stdout",
          "output_type": "stream",
          "text": [
            "                   all      0.833          1\n"
          ]
        },
        {
          "name": "stderr",
          "output_type": "stream",
          "text": [
            "\n"
          ]
        },
        {
          "name": "stdout",
          "output_type": "stream",
          "text": [
            "\n",
            "      Epoch    GPU_mem       loss  Instances       Size\n"
          ]
        },
        {
          "name": "stderr",
          "output_type": "stream",
          "text": [
            "     82/100     0.367G     0.3833          8         64: 100%|██████████| 564/564 [00:41<00:00, 13.53it/s]\n",
            "               classes   top1_acc   top5_acc: 100%|██████████| 170/170 [00:14<00:00, 12.10it/s]"
          ]
        },
        {
          "name": "stdout",
          "output_type": "stream",
          "text": [
            "                   all      0.833          1\n"
          ]
        },
        {
          "name": "stderr",
          "output_type": "stream",
          "text": [
            "\n"
          ]
        },
        {
          "name": "stdout",
          "output_type": "stream",
          "text": [
            "\n",
            "      Epoch    GPU_mem       loss  Instances       Size\n"
          ]
        },
        {
          "name": "stderr",
          "output_type": "stream",
          "text": [
            "     83/100     0.365G     0.3771          8         64: 100%|██████████| 564/564 [00:41<00:00, 13.71it/s]\n",
            "               classes   top1_acc   top5_acc: 100%|██████████| 170/170 [00:13<00:00, 12.28it/s]\n"
          ]
        },
        {
          "name": "stdout",
          "output_type": "stream",
          "text": [
            "                   all      0.834          1\n",
            "\n",
            "      Epoch    GPU_mem       loss  Instances       Size\n"
          ]
        },
        {
          "name": "stderr",
          "output_type": "stream",
          "text": [
            "     84/100     0.365G      0.374          8         64: 100%|██████████| 564/564 [00:41<00:00, 13.44it/s]\n",
            "               classes   top1_acc   top5_acc: 100%|██████████| 170/170 [00:14<00:00, 11.94it/s]"
          ]
        },
        {
          "name": "stdout",
          "output_type": "stream",
          "text": [
            "                   all      0.834          1\n"
          ]
        },
        {
          "name": "stderr",
          "output_type": "stream",
          "text": [
            "\n"
          ]
        },
        {
          "name": "stdout",
          "output_type": "stream",
          "text": [
            "\n",
            "      Epoch    GPU_mem       loss  Instances       Size\n"
          ]
        },
        {
          "name": "stderr",
          "output_type": "stream",
          "text": [
            "     85/100     0.365G     0.3698          8         64: 100%|██████████| 564/564 [00:42<00:00, 13.42it/s]\n",
            "               classes   top1_acc   top5_acc: 100%|██████████| 170/170 [00:14<00:00, 12.14it/s]\n"
          ]
        },
        {
          "name": "stdout",
          "output_type": "stream",
          "text": [
            "                   all      0.833          1\n",
            "\n",
            "      Epoch    GPU_mem       loss  Instances       Size\n"
          ]
        },
        {
          "name": "stderr",
          "output_type": "stream",
          "text": [
            "     86/100     0.365G     0.3714          8         64: 100%|██████████| 564/564 [00:40<00:00, 13.76it/s]\n",
            "               classes   top1_acc   top5_acc: 100%|██████████| 170/170 [00:13<00:00, 12.17it/s]"
          ]
        },
        {
          "name": "stdout",
          "output_type": "stream",
          "text": [
            "                   all      0.834          1\n"
          ]
        },
        {
          "name": "stderr",
          "output_type": "stream",
          "text": [
            "\n"
          ]
        },
        {
          "name": "stdout",
          "output_type": "stream",
          "text": [
            "\n",
            "      Epoch    GPU_mem       loss  Instances       Size\n"
          ]
        },
        {
          "name": "stderr",
          "output_type": "stream",
          "text": [
            "     87/100     0.365G     0.3713          8         64: 100%|██████████| 564/564 [00:40<00:00, 13.83it/s]\n",
            "               classes   top1_acc   top5_acc: 100%|██████████| 170/170 [00:14<00:00, 12.06it/s]\n"
          ]
        },
        {
          "name": "stdout",
          "output_type": "stream",
          "text": [
            "                   all      0.834          1\n",
            "\n",
            "      Epoch    GPU_mem       loss  Instances       Size\n"
          ]
        },
        {
          "name": "stderr",
          "output_type": "stream",
          "text": [
            "     88/100     0.365G     0.3579          8         64: 100%|██████████| 564/564 [00:41<00:00, 13.61it/s]\n",
            "               classes   top1_acc   top5_acc: 100%|██████████| 170/170 [00:13<00:00, 12.15it/s]\n"
          ]
        },
        {
          "name": "stdout",
          "output_type": "stream",
          "text": [
            "                   all      0.836          1\n",
            "\n",
            "      Epoch    GPU_mem       loss  Instances       Size\n"
          ]
        },
        {
          "name": "stderr",
          "output_type": "stream",
          "text": [
            "     89/100     0.365G     0.3447          8         64: 100%|██████████| 564/564 [00:40<00:00, 13.91it/s]\n",
            "               classes   top1_acc   top5_acc: 100%|██████████| 170/170 [00:14<00:00, 11.88it/s]"
          ]
        },
        {
          "name": "stdout",
          "output_type": "stream",
          "text": [
            "                   all      0.836          1\n"
          ]
        },
        {
          "name": "stderr",
          "output_type": "stream",
          "text": [
            "\n"
          ]
        },
        {
          "name": "stdout",
          "output_type": "stream",
          "text": [
            "\n",
            "      Epoch    GPU_mem       loss  Instances       Size\n"
          ]
        },
        {
          "name": "stderr",
          "output_type": "stream",
          "text": [
            "     90/100     0.365G     0.3437          8         64: 100%|██████████| 564/564 [00:40<00:00, 14.05it/s]\n",
            "               classes   top1_acc   top5_acc: 100%|██████████| 170/170 [00:14<00:00, 12.09it/s]"
          ]
        },
        {
          "name": "stdout",
          "output_type": "stream",
          "text": [
            "                   all      0.835          1\n"
          ]
        },
        {
          "name": "stderr",
          "output_type": "stream",
          "text": [
            "\n"
          ]
        },
        {
          "name": "stdout",
          "output_type": "stream",
          "text": [
            "\n",
            "      Epoch    GPU_mem       loss  Instances       Size\n"
          ]
        },
        {
          "name": "stderr",
          "output_type": "stream",
          "text": [
            "     91/100     0.367G     0.3455          8         64: 100%|██████████| 564/564 [00:43<00:00, 13.07it/s]\n",
            "               classes   top1_acc   top5_acc: 100%|██████████| 170/170 [00:14<00:00, 11.96it/s]"
          ]
        },
        {
          "name": "stdout",
          "output_type": "stream",
          "text": [
            "                   all      0.835          1\n"
          ]
        },
        {
          "name": "stderr",
          "output_type": "stream",
          "text": [
            "\n"
          ]
        },
        {
          "name": "stdout",
          "output_type": "stream",
          "text": [
            "\n",
            "      Epoch    GPU_mem       loss  Instances       Size\n"
          ]
        },
        {
          "name": "stderr",
          "output_type": "stream",
          "text": [
            "     92/100     0.365G     0.3266          8         64: 100%|██████████| 564/564 [00:43<00:00, 12.93it/s]\n",
            "               classes   top1_acc   top5_acc: 100%|██████████| 170/170 [00:14<00:00, 11.97it/s]"
          ]
        },
        {
          "name": "stdout",
          "output_type": "stream",
          "text": [
            "                   all      0.835          1\n"
          ]
        },
        {
          "name": "stderr",
          "output_type": "stream",
          "text": [
            "\n"
          ]
        },
        {
          "name": "stdout",
          "output_type": "stream",
          "text": [
            "\n",
            "      Epoch    GPU_mem       loss  Instances       Size\n"
          ]
        },
        {
          "name": "stderr",
          "output_type": "stream",
          "text": [
            "     93/100     0.365G     0.3315          8         64: 100%|██████████| 564/564 [00:41<00:00, 13.46it/s]\n",
            "               classes   top1_acc   top5_acc: 100%|██████████| 170/170 [00:14<00:00, 12.08it/s]"
          ]
        },
        {
          "name": "stdout",
          "output_type": "stream",
          "text": [
            "                   all      0.835          1\n"
          ]
        },
        {
          "name": "stderr",
          "output_type": "stream",
          "text": [
            "\n"
          ]
        },
        {
          "name": "stdout",
          "output_type": "stream",
          "text": [
            "\n",
            "      Epoch    GPU_mem       loss  Instances       Size\n"
          ]
        },
        {
          "name": "stderr",
          "output_type": "stream",
          "text": [
            "     94/100     0.365G     0.3366          8         64: 100%|██████████| 564/564 [00:42<00:00, 13.15it/s]\n",
            "               classes   top1_acc   top5_acc: 100%|██████████| 170/170 [00:14<00:00, 12.00it/s]"
          ]
        },
        {
          "name": "stdout",
          "output_type": "stream",
          "text": [
            "                   all      0.836          1\n"
          ]
        },
        {
          "name": "stderr",
          "output_type": "stream",
          "text": [
            "\n"
          ]
        },
        {
          "name": "stdout",
          "output_type": "stream",
          "text": [
            "\n",
            "      Epoch    GPU_mem       loss  Instances       Size\n"
          ]
        },
        {
          "name": "stderr",
          "output_type": "stream",
          "text": [
            "     95/100     0.365G     0.3222          8         64: 100%|██████████| 564/564 [00:43<00:00, 13.03it/s]\n",
            "               classes   top1_acc   top5_acc: 100%|██████████| 170/170 [00:14<00:00, 11.75it/s]"
          ]
        },
        {
          "name": "stdout",
          "output_type": "stream",
          "text": [
            "                   all      0.834          1\n"
          ]
        },
        {
          "name": "stderr",
          "output_type": "stream",
          "text": [
            "\n"
          ]
        },
        {
          "name": "stdout",
          "output_type": "stream",
          "text": [
            "\n",
            "      Epoch    GPU_mem       loss  Instances       Size\n"
          ]
        },
        {
          "name": "stderr",
          "output_type": "stream",
          "text": [
            "     96/100     0.365G     0.3125          8         64: 100%|██████████| 564/564 [00:44<00:00, 12.71it/s]\n",
            "               classes   top1_acc   top5_acc: 100%|██████████| 170/170 [00:14<00:00, 11.89it/s]"
          ]
        },
        {
          "name": "stdout",
          "output_type": "stream",
          "text": [
            "                   all      0.834          1\n"
          ]
        },
        {
          "name": "stderr",
          "output_type": "stream",
          "text": [
            "\n"
          ]
        },
        {
          "name": "stdout",
          "output_type": "stream",
          "text": [
            "\n",
            "      Epoch    GPU_mem       loss  Instances       Size\n"
          ]
        },
        {
          "name": "stderr",
          "output_type": "stream",
          "text": [
            "     97/100     0.365G     0.3197          8         64: 100%|██████████| 564/564 [00:42<00:00, 13.17it/s]\n",
            "               classes   top1_acc   top5_acc: 100%|██████████| 170/170 [00:14<00:00, 12.09it/s]"
          ]
        },
        {
          "name": "stdout",
          "output_type": "stream",
          "text": [
            "                   all      0.833          1\n"
          ]
        },
        {
          "name": "stderr",
          "output_type": "stream",
          "text": [
            "\n"
          ]
        },
        {
          "name": "stdout",
          "output_type": "stream",
          "text": [
            "\n",
            "      Epoch    GPU_mem       loss  Instances       Size\n"
          ]
        },
        {
          "name": "stderr",
          "output_type": "stream",
          "text": [
            "     98/100     0.365G     0.3147          8         64: 100%|██████████| 564/564 [00:42<00:00, 13.39it/s]\n",
            "               classes   top1_acc   top5_acc: 100%|██████████| 170/170 [00:13<00:00, 12.15it/s]"
          ]
        },
        {
          "name": "stdout",
          "output_type": "stream",
          "text": [
            "                   all      0.833          1\n"
          ]
        },
        {
          "name": "stderr",
          "output_type": "stream",
          "text": [
            "\n"
          ]
        },
        {
          "name": "stdout",
          "output_type": "stream",
          "text": [
            "\n",
            "      Epoch    GPU_mem       loss  Instances       Size\n"
          ]
        },
        {
          "name": "stderr",
          "output_type": "stream",
          "text": [
            "     99/100     0.365G      0.318          8         64: 100%|██████████| 564/564 [00:42<00:00, 13.24it/s]\n",
            "               classes   top1_acc   top5_acc: 100%|██████████| 170/170 [00:13<00:00, 12.16it/s]\n"
          ]
        },
        {
          "name": "stdout",
          "output_type": "stream",
          "text": [
            "                   all      0.833          1\n",
            "\n",
            "      Epoch    GPU_mem       loss  Instances       Size\n"
          ]
        },
        {
          "name": "stderr",
          "output_type": "stream",
          "text": [
            "    100/100     0.365G     0.3033          8         64: 100%|██████████| 564/564 [00:42<00:00, 13.24it/s]\n",
            "               classes   top1_acc   top5_acc: 100%|██████████| 170/170 [00:14<00:00, 11.99it/s]"
          ]
        },
        {
          "name": "stdout",
          "output_type": "stream",
          "text": [
            "                   all      0.833          1\n"
          ]
        },
        {
          "name": "stderr",
          "output_type": "stream",
          "text": [
            "\n"
          ]
        },
        {
          "name": "stdout",
          "output_type": "stream",
          "text": [
            "\n",
            "100 epochs completed in 1.556 hours.\n",
            "Optimizer stripped from runs/classify/train/weights/last.pt, 3.0MB\n",
            "Optimizer stripped from runs/classify/train/weights/best.pt, 3.0MB\n",
            "\n",
            "Validating runs/classify/train/weights/best.pt...\n",
            "Ultralytics YOLOv8.1.12 🚀 Python-3.10.12 torch-2.1.0+cu121 CUDA:0 (Tesla T4, 15102MiB)\n",
            "YOLOv8n-cls summary (fused): 73 layers, 1441285 parameters, 0 gradients, 3.3 GFLOPs\n",
            "\u001b[34m\u001b[1mtrain:\u001b[0m /content/data_str/train... found 9018 images in 5 classes ✅ \n",
            "\u001b[34m\u001b[1mval:\u001b[0m /content/data_str/val... found 5412 images in 5 classes ✅ \n",
            "\u001b[34m\u001b[1mtest:\u001b[0m /content/data_str/test... found 3608 images in 5 classes ✅ \n"
          ]
        },
        {
          "name": "stderr",
          "output_type": "stream",
          "text": [
            "               classes   top1_acc   top5_acc: 100%|██████████| 170/170 [00:13<00:00, 12.23it/s]\n"
          ]
        },
        {
          "name": "stdout",
          "output_type": "stream",
          "text": [
            "                   all       0.84          1\n",
            "Speed: 0.0ms preprocess, 0.3ms inference, 0.0ms loss, 0.0ms postprocess per image\n",
            "Results saved to \u001b[1mruns/classify/train\u001b[0m\n",
            "Results saved to \u001b[1mruns/classify/train\u001b[0m\n"
          ]
        }
      ],
      "source": [
        "from ultralytics import YOLO\n",
        "\n",
        "\n",
        "# Load a model\n",
        "model = YOLO(\"yolov8n-cls.pt\")  # load a pretained model\n",
        "\n",
        "# Use the model\n",
        "results = model.train(data='/content/data_str', epochs=100, imgsz=64)  # train the model\n"
      ]
    },
    {
      "cell_type": "code",
      "execution_count": null,
      "metadata": {
        "id": "dZt7FiKD9NVR"
      },
      "outputs": [],
      "source": [
        "!scp -r /content/runs '/content/gdrive/MyDrive/CV Course/code files/ImageClassificationYOLOv8'"
      ]
    },
    {
      "cell_type": "markdown",
      "metadata": {
        "id": "uPUVvvG0l7AI"
      },
      "source": [
        "### 4. Visualization of Training Metrics\n",
        "\n",
        "#### Loss vs. Epochs\n",
        "- **Training Loss:** Indicates the model's performance on the training dataset.\n",
        "- **Validation Loss:** Measures the model's generalization ability on unseen data.\n",
        "\n",
        "#### Validation Accuracy vs. Epochs\n",
        "- The accuracy metric evaluates the percentage of correctly classified images in the validation set.\n",
        "\n",
        "#### Key Observations:\n",
        "- Gradual reduction in training and validation loss.\n",
        "- Increasing validation accuracy demonstrates improved model performance and generalization.\n"
      ]
    },
    {
      "cell_type": "code",
      "execution_count": null,
      "metadata": {
        "colab": {
          "base_uri": "https://localhost:8080/",
          "height": 927
        },
        "id": "LZuxM5l7bNJm",
        "outputId": "7a5e42c0-e4e8-4b7b-edaa-2aad1589949e"
      },
      "outputs": [
        {
          "data": {
            "image/png": "[encoded data removed]",
            "text/plain": [
              "<Figure size 640x480 with 1 Axes>"
            ]
          },
          "metadata": {},
          "output_type": "display_data"
        },
        {
          "data": {
            "image/png": "[encoded data removed]",
            "text/plain": [
              "<Figure size 640x480 with 1 Axes>"
            ]
          },
          "metadata": {},
          "output_type": "display_data"
        }
      ],
      "source": [
        "import os\n",
        "import pandas as pd\n",
        "import matplotlib.pyplot as plt\n",
        "import numpy as np\n",
        "\n",
        "\n",
        "results_path = '/content/runs/classify/train/results.csv'\n",
        "\n",
        "results = pd.read_csv(results_path)\n",
        "\n",
        "plt.figure()\n",
        "plt.plot(results['                  epoch'], results['             train/loss'], label='train loss')\n",
        "plt.plot(results['                  epoch'], results['               val/loss'], label='val loss', c='red')\n",
        "plt.grid()\n",
        "plt.title('Loss vs epochs')\n",
        "plt.ylabel('loss')\n",
        "plt.xlabel('epochs')\n",
        "plt.legend()\n",
        "\n",
        "\n",
        "plt.figure()\n",
        "plt.plot(results['                  epoch'], results['  metrics/accuracy_top1'] * 100)\n",
        "plt.grid()\n",
        "plt.title('Validation accuracy vs epochs')\n",
        "plt.ylabel('accuracy (%)')\n",
        "plt.xlabel('epochs')\n",
        "\n",
        "plt.show()"
      ]
    },
    {
      "cell_type": "markdown",
      "metadata": {
        "id": "crRvcRT6mCaO"
      },
      "source": [
        "# Test"
      ]
    },
    {
      "cell_type": "code",
      "execution_count": null,
      "metadata": {
        "id": "arBTPgJen25D"
      },
      "outputs": [],
      "source": [
        "from google.colab.patches import cv2_imshow"
      ]
    },
    {
      "cell_type": "code",
      "execution_count": null,
      "metadata": {
        "colab": {
          "base_uri": "https://localhost:8080/",
          "height": 425
        },
        "id": "JtCEnphfmn5v",
        "outputId": "44c91067-5bfe-4e84-ff5f-f5974b44e8bf"
      },
      "outputs": [
        {
          "name": "stdout",
          "output_type": "stream",
          "text": [
            "\n",
            "image 1/1 /content/data/snowy/0839.jpg: 64x64 snowy 0.89, cloudy 0.05, rainy 0.05, sunny 0.01, foggy 0.00, 4.8ms\n",
            "Speed: 9.1ms preprocess, 4.8ms inference, 0.1ms postprocess per image at shape (1, 3, 64, 64)\n",
            "{0: 'cloudy', 1: 'foggy', 2: 'rainy', 3: 'snowy', 4: 'sunny'}\n",
            "[0.054984141141176224, 0.003298361087217927, 0.045652277767658234, 0.8864243030548096, 0.009640859439969063]\n",
            "snowy\n"
          ]
        },
        {
          "data": {
            "image/jpeg": "[encoded data removed]",
            "text/plain": [
              "<IPython.core.display.Image object>"
            ]
          },
          "execution_count": 11,
          "metadata": {},
          "output_type": "execute_result"
        }
      ],
      "source": [
        "model = YOLO('/content/runs/classify/train/weights/best.pt')  # load a custom model\n",
        "\n",
        "results = model('/content/data/snowy/0839.jpg')  # predict on an image\n",
        "\n",
        "names_dict = results[0].names\n",
        "\n",
        "probs = results[0].probs.data.tolist()\n",
        "\n",
        "print(names_dict)\n",
        "print(probs)\n",
        "\n",
        "print(names_dict[np.argmax(probs)])\n",
        "from IPython.display import Image\n",
        "Image('/content/data/snowy/0839.jpg')"
      ]
    },
    {
      "cell_type": "markdown",
      "metadata": {},
      "source": [
        "### 5. Model Evaluation\n",
        "\n",
        "#### Test Predictions\n",
        "The trained model was tested on unseen images from the testing set. It predicted weather conditions with probabilities for each class. The final prediction was based on the class with the highest confidence score.\n",
        "\n",
        "#### Results:\n",
        "- **Class Labels:** Snowy, Rainy, Foggy.\n",
        "- **Confidence Scores:** The model outputs a confidence score for each class, providing insights into its decision-making."
      ]
    },
    {
      "cell_type": "code",
      "execution_count": null,
      "metadata": {
        "colab": {
          "base_uri": "https://localhost:8080/",
          "height": 385
        },
        "id": "ynBgUuxQoRYq",
        "outputId": "5f7ad0c8-b629-4dd4-8b54-3d57eae5f28a"
      },
      "outputs": [
        {
          "name": "stdout",
          "output_type": "stream",
          "text": [
            "\n",
            "image 1/1 /content/data_str/test/rainy/1144.jpg: 64x64 rainy 0.87, sunny 0.08, cloudy 0.04, foggy 0.00, snowy 0.00, 24.0ms\n",
            "Speed: 6.1ms preprocess, 24.0ms inference, 0.2ms postprocess per image at shape (1, 3, 64, 64)\n",
            "{0: 'cloudy', 1: 'foggy', 2: 'rainy', 3: 'snowy', 4: 'sunny'}\n",
            "[0.04083548113703728, 0.004878714215010405, 0.8679616451263428, 0.001623822725377977, 0.0847003310918808]\n",
            "rainy\n"
          ]
        },
        {
          "data": {
            "image/jpeg": "[encoded data removed]",
            "text/plain": [
              "<IPython.core.display.Image object>"
            ]
          },
          "execution_count": 13,
          "metadata": {},
          "output_type": "execute_result"
        }
      ],
      "source": [
        "results = model('/content/data_str/test/rainy/1144.jpg')  # predict on an image\n",
        "\n",
        "names_dict = results[0].names\n",
        "\n",
        "probs = results[0].probs.data.tolist()\n",
        "\n",
        "print(names_dict)\n",
        "print(probs)\n",
        "\n",
        "print(names_dict[np.argmax(probs)])\n",
        "from IPython.display import Image\n",
        "Image('/content/data_str/test/rainy/1144.jpg')"
      ]
    },
    {
      "cell_type": "code",
      "execution_count": null,
      "metadata": {
        "colab": {
          "base_uri": "https://localhost:8080/",
          "height": 625
        },
        "id": "NbQa75O-baYt",
        "outputId": "4766a3bf-638f-4367-8859-abee2439cee5"
      },
      "outputs": [
        {
          "name": "stdout",
          "output_type": "stream",
          "text": [
            "\n",
            "image 1/1 /content/data_str/test/foggy/171.jpg: 64x64 foggy 1.00, rainy 0.00, cloudy 0.00, snowy 0.00, sunny 0.00, 5.4ms\n",
            "Speed: 5.6ms preprocess, 5.4ms inference, 0.1ms postprocess per image at shape (1, 3, 64, 64)\n",
            "{0: 'cloudy', 1: 'foggy', 2: 'rainy', 3: 'snowy', 4: 'sunny'}\n",
            "[3.981585905421525e-06, 0.99998939037323, 5.035313279222464e-06, 1.597600316927128e-06, 1.3372147833479175e-08]\n",
            "foggy\n"
          ]
        },
        {
          "data": {
            "image/jpeg": "[encoded data removed]",
            "text/plain": [
              "<IPython.core.display.Image object>"
            ]
          },
          "execution_count": 14,
          "metadata": {},
          "output_type": "execute_result"
        }
      ],
      "source": [
        "\n",
        "\n",
        "\n",
        "results = model('/content/data_str/test/foggy/171.jpg')  # predict on an image\n",
        "\n",
        "names_dict = results[0].names\n",
        "\n",
        "probs = results[0].probs.data.tolist()\n",
        "\n",
        "print(names_dict)\n",
        "print(probs)\n",
        "\n",
        "print(names_dict[np.argmax(probs)])\n",
        "from IPython.display import Image\n",
        "Image('/content/data_str/test/foggy/171.jpg')"
      ]
    },
    {
      "cell_type": "markdown",
      "metadata": {},
      "source": [
        "### 6. Conclusion\n",
        "\n",
        "#### Summary\n",
        "This project demonstrates the application of YOLOv8 in image classification tasks, specifically for weather condition recognition. The model achieved high accuracy and was able to generalize well to unseen data.\n",
        "\n",
        "#### Key Learnings\n",
        "1. **Dataset Preparation:** Proper organization and splitting significantly impact model performance.\n",
        "2. **YOLOv8 Efficiency:** YOLOv8’s lightweight architecture makes it suitable for resource-constrained environments.\n",
        "3. **Metrics Monitoring:** Visualizing training metrics provides valuable insights for diagnosing and optimizing model performance.\n",
        "\n",
        "#### Future Work\n",
        "1. Expand the dataset to include additional weather conditions (e.g., sunny, cloudy).\n",
        "2. Explore higher-resolution images to improve model accuracy.\n",
        "3. Optimize the model for deployment on edge devices for real-time weather classification.\n"
      ]
    }
  ],
  "metadata": {
    "accelerator": "GPU",
    "colab": {
      "gpuType": "T4",
      "provenance": []
    },
    "kernelspec": {
      "display_name": "Python 3",
      "name": "python3"
    },
    "language_info": {
      "name": "python",
      "version": "3.10.13"
    }
  },
  "nbformat": 4,
  "nbformat_minor": 0
}
